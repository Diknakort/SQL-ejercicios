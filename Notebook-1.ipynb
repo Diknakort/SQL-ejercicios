{
    "metadata": {
        "kernelspec": {
            "name": "SQL",
            "display_name": "SQL",
            "language": "sql"
        },
        "language_info": {
            "name": "sql",
            "version": ""
        }
    },
    "nbformat_minor": 2,
    "nbformat": 4,
    "cells": [
        {
            "cell_type": "markdown",
            "source": [
                "1\\. seleccionar los productos cuyo nombre (Name) tenga cinco caracteres\n",
                "\n",
                "Usando LIKE"
            ],
            "metadata": {
                "azdata_cell_guid": "49a3de41-935a-4fec-8625-ff751f762097"
            },
            "attachments": {}
        },
        {
            "cell_type": "code",
            "source": [
                "SELECT        Name\r\n",
                "FROM          Production.Product\r\n",
                "WHERE        name like '____';\r\n",
                "\r\n",
                "\r\n",
                ""
            ],
            "metadata": {
                "azdata_cell_guid": "86a70723-b09a-4bcd-a9e0-51740bdde351",
                "language": "sql",
                "tags": []
            },
            "outputs": [
                {
                    "output_type": "display_data",
                    "data": {
                        "text/html": "(1 row affected)"
                    },
                    "metadata": {}
                },
                {
                    "output_type": "display_data",
                    "data": {
                        "text/html": "Total execution time: 00:00:00.003"
                    },
                    "metadata": {}
                },
                {
                    "output_type": "execute_result",
                    "execution_count": 16,
                    "data": {
                        "application/vnd.dataresource+json": {
                            "schema": {
                                "fields": [
                                    {
                                        "name": "Name"
                                    }
                                ]
                            },
                            "data": [
                                {
                                    "Name": "Stem"
                                }
                            ]
                        },
                        "text/html": "<table><tr><th>Name</th></tr><tr><td>Stem</td></tr></table>"
                    },
                    "metadata": {}
                }
            ],
            "execution_count": 16
        },
        {
            "cell_type": "code",
            "source": [
                ""
            ],
            "metadata": {
                "language": "sql",
                "azdata_cell_guid": "2c2e5a4f-0b99-473f-ba8f-268a7c010143"
            },
            "outputs": [],
            "execution_count": null
        },
        {
            "cell_type": "markdown",
            "source": [
                "2\\. seleccionar los productos cuyo color sea Rojo (Red)"
            ],
            "metadata": {
                "azdata_cell_guid": "d7f18ccd-17e5-41c8-9be0-e0cedfb6157c"
            },
            "attachments": {}
        },
        {
            "cell_type": "code",
            "source": [
                "SELECT        Name, Color\r\n",
                "FROM          Production.Product\r\n",
                "WHERE        LEN(Name)=5"
            ],
            "metadata": {
                "azdata_cell_guid": "c4ae439e-3e39-499f-b82c-f0b620d44404",
                "language": "sql",
                "tags": []
            },
            "outputs": [
                {
                    "output_type": "display_data",
                    "data": {
                        "text/html": "(2 rows affected)"
                    },
                    "metadata": {}
                },
                {
                    "output_type": "display_data",
                    "data": {
                        "text/html": "Total execution time: 00:00:00.004"
                    },
                    "metadata": {}
                },
                {
                    "output_type": "execute_result",
                    "execution_count": 25,
                    "data": {
                        "application/vnd.dataresource+json": {
                            "schema": {
                                "fields": [
                                    {
                                        "name": "Name"
                                    },
                                    {
                                        "name": "Color"
                                    }
                                ]
                            },
                            "data": [
                                {
                                    "Name": "Blade",
                                    "Color": "NULL"
                                },
                                {
                                    "Name": "Chain",
                                    "Color": "Silver"
                                }
                            ]
                        },
                        "text/html": "<table><tr><th>Name</th><th>Color</th></tr><tr><td>Blade</td><td>NULL</td></tr><tr><td>Chain</td><td>Silver</td></tr></table>"
                    },
                    "metadata": {}
                }
            ],
            "execution_count": 25
        },
        {
            "cell_type": "markdown",
            "source": [
                "3\\. seleccionar los productos cuyo color sea Azul (Blue) y ordenados por Name"
            ],
            "metadata": {
                "language": "sql",
                "azdata_cell_guid": "a9bc6792-fd04-454a-b1b9-c5417dba4ff5"
            },
            "attachments": {}
        },
        {
            "cell_type": "code",
            "source": [
                "SELECT        Name, Color\r\n",
                "FROM          Production.Product\r\n",
                "WHERE        color = 'blue'\r\n",
                "ORDER BY Name"
            ],
            "metadata": {
                "language": "sql",
                "azdata_cell_guid": "5ae3cc80-0d66-420d-885d-7ed8acd26364",
                "tags": []
            },
            "outputs": [
                {
                    "output_type": "display_data",
                    "data": {
                        "text/html": "(26 rows affected)"
                    },
                    "metadata": {}
                },
                {
                    "output_type": "display_data",
                    "data": {
                        "text/html": "Total execution time: 00:00:00.011"
                    },
                    "metadata": {}
                },
                {
                    "output_type": "execute_result",
                    "execution_count": 20,
                    "data": {
                        "application/vnd.dataresource+json": {
                            "schema": {
                                "fields": [
                                    {
                                        "name": "Name"
                                    },
                                    {
                                        "name": "Color"
                                    }
                                ]
                            },
                            "data": [
                                {
                                    "Name": "Classic Vest, L",
                                    "Color": "Blue"
                                },
                                {
                                    "Name": "Classic Vest, M",
                                    "Color": "Blue"
                                },
                                {
                                    "Name": "Classic Vest, S",
                                    "Color": "Blue"
                                },
                                {
                                    "Name": "HL Touring Frame - Blue, 46",
                                    "Color": "Blue"
                                },
                                {
                                    "Name": "HL Touring Frame - Blue, 50",
                                    "Color": "Blue"
                                },
                                {
                                    "Name": "HL Touring Frame - Blue, 54",
                                    "Color": "Blue"
                                },
                                {
                                    "Name": "HL Touring Frame - Blue, 60",
                                    "Color": "Blue"
                                },
                                {
                                    "Name": "LL Touring Frame - Blue, 44",
                                    "Color": "Blue"
                                },
                                {
                                    "Name": "LL Touring Frame - Blue, 50",
                                    "Color": "Blue"
                                },
                                {
                                    "Name": "LL Touring Frame - Blue, 54",
                                    "Color": "Blue"
                                },
                                {
                                    "Name": "LL Touring Frame - Blue, 58",
                                    "Color": "Blue"
                                },
                                {
                                    "Name": "LL Touring Frame - Blue, 62",
                                    "Color": "Blue"
                                },
                                {
                                    "Name": "Sport-100 Helmet, Blue",
                                    "Color": "Blue"
                                },
                                {
                                    "Name": "Touring-1000 Blue, 46",
                                    "Color": "Blue"
                                },
                                {
                                    "Name": "Touring-1000 Blue, 50",
                                    "Color": "Blue"
                                },
                                {
                                    "Name": "Touring-1000 Blue, 54",
                                    "Color": "Blue"
                                },
                                {
                                    "Name": "Touring-1000 Blue, 60",
                                    "Color": "Blue"
                                },
                                {
                                    "Name": "Touring-2000 Blue, 46",
                                    "Color": "Blue"
                                },
                                {
                                    "Name": "Touring-2000 Blue, 50",
                                    "Color": "Blue"
                                },
                                {
                                    "Name": "Touring-2000 Blue, 54",
                                    "Color": "Blue"
                                },
                                {
                                    "Name": "Touring-2000 Blue, 60",
                                    "Color": "Blue"
                                },
                                {
                                    "Name": "Touring-3000 Blue, 44",
                                    "Color": "Blue"
                                },
                                {
                                    "Name": "Touring-3000 Blue, 50",
                                    "Color": "Blue"
                                },
                                {
                                    "Name": "Touring-3000 Blue, 54",
                                    "Color": "Blue"
                                },
                                {
                                    "Name": "Touring-3000 Blue, 58",
                                    "Color": "Blue"
                                },
                                {
                                    "Name": "Touring-3000 Blue, 62",
                                    "Color": "Blue"
                                }
                            ]
                        },
                        "text/html": "<table><tr><th>Name</th><th>Color</th></tr><tr><td>Classic Vest, L</td><td>Blue</td></tr><tr><td>Classic Vest, M</td><td>Blue</td></tr><tr><td>Classic Vest, S</td><td>Blue</td></tr><tr><td>HL Touring Frame - Blue, 46</td><td>Blue</td></tr><tr><td>HL Touring Frame - Blue, 50</td><td>Blue</td></tr><tr><td>HL Touring Frame - Blue, 54</td><td>Blue</td></tr><tr><td>HL Touring Frame - Blue, 60</td><td>Blue</td></tr><tr><td>LL Touring Frame - Blue, 44</td><td>Blue</td></tr><tr><td>LL Touring Frame - Blue, 50</td><td>Blue</td></tr><tr><td>LL Touring Frame - Blue, 54</td><td>Blue</td></tr><tr><td>LL Touring Frame - Blue, 58</td><td>Blue</td></tr><tr><td>LL Touring Frame - Blue, 62</td><td>Blue</td></tr><tr><td>Sport-100 Helmet, Blue</td><td>Blue</td></tr><tr><td>Touring-1000 Blue, 46</td><td>Blue</td></tr><tr><td>Touring-1000 Blue, 50</td><td>Blue</td></tr><tr><td>Touring-1000 Blue, 54</td><td>Blue</td></tr><tr><td>Touring-1000 Blue, 60</td><td>Blue</td></tr><tr><td>Touring-2000 Blue, 46</td><td>Blue</td></tr><tr><td>Touring-2000 Blue, 50</td><td>Blue</td></tr><tr><td>Touring-2000 Blue, 54</td><td>Blue</td></tr><tr><td>Touring-2000 Blue, 60</td><td>Blue</td></tr><tr><td>Touring-3000 Blue, 44</td><td>Blue</td></tr><tr><td>Touring-3000 Blue, 50</td><td>Blue</td></tr><tr><td>Touring-3000 Blue, 54</td><td>Blue</td></tr><tr><td>Touring-3000 Blue, 58</td><td>Blue</td></tr><tr><td>Touring-3000 Blue, 62</td><td>Blue</td></tr></table>"
                    },
                    "metadata": {}
                }
            ],
            "execution_count": 20
        },
        {
            "cell_type": "markdown",
            "source": [
                "4\\. seleccionar los productos cuyo color sea Azul o Rojo"
            ],
            "metadata": {
                "language": "sql",
                "azdata_cell_guid": "cf42e04f-a2c1-402f-a67f-9b8caf41b074"
            },
            "attachments": {}
        },
        {
            "cell_type": "code",
            "source": [
                "SELECT        Name, Color\r\n",
                "FROM          Production.Product\r\n",
                "WHERE        color = 'blue' or color = 'red'"
            ],
            "metadata": {
                "language": "sql",
                "azdata_cell_guid": "231856a5-5d89-4236-8124-e9d8b281cad6"
            },
            "outputs": [
                {
                    "output_type": "display_data",
                    "data": {
                        "text/html": "(64 rows affected)"
                    },
                    "metadata": {}
                },
                {
                    "output_type": "display_data",
                    "data": {
                        "text/html": "Total execution time: 00:00:00.018"
                    },
                    "metadata": {}
                },
                {
                    "output_type": "execute_result",
                    "execution_count": 21,
                    "data": {
                        "application/vnd.dataresource+json": {
                            "schema": {
                                "fields": [
                                    {
                                        "name": "Name"
                                    },
                                    {
                                        "name": "Color"
                                    }
                                ]
                            },
                            "data": [
                                {
                                    "Name": "HL Road Frame - Red, 58",
                                    "Color": "Red"
                                },
                                {
                                    "Name": "Sport-100 Helmet, Red",
                                    "Color": "Red"
                                },
                                {
                                    "Name": "Sport-100 Helmet, Blue",
                                    "Color": "Blue"
                                },
                                {
                                    "Name": "HL Road Frame - Red, 62",
                                    "Color": "Red"
                                },
                                {
                                    "Name": "HL Road Frame - Red, 44",
                                    "Color": "Red"
                                },
                                {
                                    "Name": "HL Road Frame - Red, 48",
                                    "Color": "Red"
                                },
                                {
                                    "Name": "HL Road Frame - Red, 52",
                                    "Color": "Red"
                                },
                                {
                                    "Name": "HL Road Frame - Red, 56",
                                    "Color": "Red"
                                },
                                {
                                    "Name": "LL Road Frame - Red, 44",
                                    "Color": "Red"
                                },
                                {
                                    "Name": "LL Road Frame - Red, 48",
                                    "Color": "Red"
                                },
                                {
                                    "Name": "LL Road Frame - Red, 52",
                                    "Color": "Red"
                                },
                                {
                                    "Name": "LL Road Frame - Red, 58",
                                    "Color": "Red"
                                },
                                {
                                    "Name": "LL Road Frame - Red, 60",
                                    "Color": "Red"
                                },
                                {
                                    "Name": "LL Road Frame - Red, 62",
                                    "Color": "Red"
                                },
                                {
                                    "Name": "ML Road Frame - Red, 44",
                                    "Color": "Red"
                                },
                                {
                                    "Name": "ML Road Frame - Red, 48",
                                    "Color": "Red"
                                },
                                {
                                    "Name": "ML Road Frame - Red, 52",
                                    "Color": "Red"
                                },
                                {
                                    "Name": "ML Road Frame - Red, 58",
                                    "Color": "Red"
                                },
                                {
                                    "Name": "ML Road Frame - Red, 60",
                                    "Color": "Red"
                                },
                                {
                                    "Name": "Road-150 Red, 62",
                                    "Color": "Red"
                                },
                                {
                                    "Name": "Road-150 Red, 44",
                                    "Color": "Red"
                                },
                                {
                                    "Name": "Road-150 Red, 48",
                                    "Color": "Red"
                                },
                                {
                                    "Name": "Road-150 Red, 52",
                                    "Color": "Red"
                                },
                                {
                                    "Name": "Road-150 Red, 56",
                                    "Color": "Red"
                                },
                                {
                                    "Name": "Road-450 Red, 58",
                                    "Color": "Red"
                                },
                                {
                                    "Name": "Road-450 Red, 60",
                                    "Color": "Red"
                                },
                                {
                                    "Name": "Road-450 Red, 44",
                                    "Color": "Red"
                                },
                                {
                                    "Name": "Road-450 Red, 48",
                                    "Color": "Red"
                                },
                                {
                                    "Name": "Road-450 Red, 52",
                                    "Color": "Red"
                                },
                                {
                                    "Name": "Road-650 Red, 58",
                                    "Color": "Red"
                                },
                                {
                                    "Name": "Road-650 Red, 60",
                                    "Color": "Red"
                                },
                                {
                                    "Name": "Road-650 Red, 62",
                                    "Color": "Red"
                                },
                                {
                                    "Name": "Road-650 Red, 44",
                                    "Color": "Red"
                                },
                                {
                                    "Name": "Road-650 Red, 48",
                                    "Color": "Red"
                                },
                                {
                                    "Name": "Road-650 Red, 52",
                                    "Color": "Red"
                                },
                                {
                                    "Name": "Road-250 Red, 44",
                                    "Color": "Red"
                                },
                                {
                                    "Name": "Road-250 Red, 48",
                                    "Color": "Red"
                                },
                                {
                                    "Name": "Road-250 Red, 52",
                                    "Color": "Red"
                                },
                                {
                                    "Name": "Road-250 Red, 58",
                                    "Color": "Red"
                                },
                                {
                                    "Name": "Classic Vest, S",
                                    "Color": "Blue"
                                },
                                {
                                    "Name": "Classic Vest, M",
                                    "Color": "Blue"
                                },
                                {
                                    "Name": "Classic Vest, L",
                                    "Color": "Blue"
                                },
                                {
                                    "Name": "HL Touring Frame - Blue, 46",
                                    "Color": "Blue"
                                },
                                {
                                    "Name": "HL Touring Frame - Blue, 50",
                                    "Color": "Blue"
                                },
                                {
                                    "Name": "HL Touring Frame - Blue, 54",
                                    "Color": "Blue"
                                },
                                {
                                    "Name": "HL Touring Frame - Blue, 60",
                                    "Color": "Blue"
                                },
                                {
                                    "Name": "LL Touring Frame - Blue, 50",
                                    "Color": "Blue"
                                },
                                {
                                    "Name": "LL Touring Frame - Blue, 54",
                                    "Color": "Blue"
                                },
                                {
                                    "Name": "LL Touring Frame - Blue, 58",
                                    "Color": "Blue"
                                },
                                {
                                    "Name": "LL Touring Frame - Blue, 62",
                                    "Color": "Blue"
                                },
                                {
                                    "Name": "LL Touring Frame - Blue, 44",
                                    "Color": "Blue"
                                },
                                {
                                    "Name": "Touring-2000 Blue, 60",
                                    "Color": "Blue"
                                },
                                {
                                    "Name": "Touring-3000 Blue, 54",
                                    "Color": "Blue"
                                },
                                {
                                    "Name": "Touring-3000 Blue, 58",
                                    "Color": "Blue"
                                },
                                {
                                    "Name": "Touring-3000 Blue, 62",
                                    "Color": "Blue"
                                },
                                {
                                    "Name": "Touring-1000 Blue, 46",
                                    "Color": "Blue"
                                },
                                {
                                    "Name": "Touring-1000 Blue, 50",
                                    "Color": "Blue"
                                },
                                {
                                    "Name": "Touring-1000 Blue, 54",
                                    "Color": "Blue"
                                },
                                {
                                    "Name": "Touring-1000 Blue, 60",
                                    "Color": "Blue"
                                },
                                {
                                    "Name": "Touring-2000 Blue, 46",
                                    "Color": "Blue"
                                },
                                {
                                    "Name": "Touring-2000 Blue, 50",
                                    "Color": "Blue"
                                },
                                {
                                    "Name": "Touring-2000 Blue, 54",
                                    "Color": "Blue"
                                },
                                {
                                    "Name": "Touring-3000 Blue, 44",
                                    "Color": "Blue"
                                },
                                {
                                    "Name": "Touring-3000 Blue, 50",
                                    "Color": "Blue"
                                }
                            ]
                        },
                        "text/html": "<table><tr><th>Name</th><th>Color</th></tr><tr><td>HL Road Frame - Red, 58</td><td>Red</td></tr><tr><td>Sport-100 Helmet, Red</td><td>Red</td></tr><tr><td>Sport-100 Helmet, Blue</td><td>Blue</td></tr><tr><td>HL Road Frame - Red, 62</td><td>Red</td></tr><tr><td>HL Road Frame - Red, 44</td><td>Red</td></tr><tr><td>HL Road Frame - Red, 48</td><td>Red</td></tr><tr><td>HL Road Frame - Red, 52</td><td>Red</td></tr><tr><td>HL Road Frame - Red, 56</td><td>Red</td></tr><tr><td>LL Road Frame - Red, 44</td><td>Red</td></tr><tr><td>LL Road Frame - Red, 48</td><td>Red</td></tr><tr><td>LL Road Frame - Red, 52</td><td>Red</td></tr><tr><td>LL Road Frame - Red, 58</td><td>Red</td></tr><tr><td>LL Road Frame - Red, 60</td><td>Red</td></tr><tr><td>LL Road Frame - Red, 62</td><td>Red</td></tr><tr><td>ML Road Frame - Red, 44</td><td>Red</td></tr><tr><td>ML Road Frame - Red, 48</td><td>Red</td></tr><tr><td>ML Road Frame - Red, 52</td><td>Red</td></tr><tr><td>ML Road Frame - Red, 58</td><td>Red</td></tr><tr><td>ML Road Frame - Red, 60</td><td>Red</td></tr><tr><td>Road-150 Red, 62</td><td>Red</td></tr><tr><td>Road-150 Red, 44</td><td>Red</td></tr><tr><td>Road-150 Red, 48</td><td>Red</td></tr><tr><td>Road-150 Red, 52</td><td>Red</td></tr><tr><td>Road-150 Red, 56</td><td>Red</td></tr><tr><td>Road-450 Red, 58</td><td>Red</td></tr><tr><td>Road-450 Red, 60</td><td>Red</td></tr><tr><td>Road-450 Red, 44</td><td>Red</td></tr><tr><td>Road-450 Red, 48</td><td>Red</td></tr><tr><td>Road-450 Red, 52</td><td>Red</td></tr><tr><td>Road-650 Red, 58</td><td>Red</td></tr><tr><td>Road-650 Red, 60</td><td>Red</td></tr><tr><td>Road-650 Red, 62</td><td>Red</td></tr><tr><td>Road-650 Red, 44</td><td>Red</td></tr><tr><td>Road-650 Red, 48</td><td>Red</td></tr><tr><td>Road-650 Red, 52</td><td>Red</td></tr><tr><td>Road-250 Red, 44</td><td>Red</td></tr><tr><td>Road-250 Red, 48</td><td>Red</td></tr><tr><td>Road-250 Red, 52</td><td>Red</td></tr><tr><td>Road-250 Red, 58</td><td>Red</td></tr><tr><td>Classic Vest, S</td><td>Blue</td></tr><tr><td>Classic Vest, M</td><td>Blue</td></tr><tr><td>Classic Vest, L</td><td>Blue</td></tr><tr><td>HL Touring Frame - Blue, 46</td><td>Blue</td></tr><tr><td>HL Touring Frame - Blue, 50</td><td>Blue</td></tr><tr><td>HL Touring Frame - Blue, 54</td><td>Blue</td></tr><tr><td>HL Touring Frame - Blue, 60</td><td>Blue</td></tr><tr><td>LL Touring Frame - Blue, 50</td><td>Blue</td></tr><tr><td>LL Touring Frame - Blue, 54</td><td>Blue</td></tr><tr><td>LL Touring Frame - Blue, 58</td><td>Blue</td></tr><tr><td>LL Touring Frame - Blue, 62</td><td>Blue</td></tr><tr><td>LL Touring Frame - Blue, 44</td><td>Blue</td></tr><tr><td>Touring-2000 Blue, 60</td><td>Blue</td></tr><tr><td>Touring-3000 Blue, 54</td><td>Blue</td></tr><tr><td>Touring-3000 Blue, 58</td><td>Blue</td></tr><tr><td>Touring-3000 Blue, 62</td><td>Blue</td></tr><tr><td>Touring-1000 Blue, 46</td><td>Blue</td></tr><tr><td>Touring-1000 Blue, 50</td><td>Blue</td></tr><tr><td>Touring-1000 Blue, 54</td><td>Blue</td></tr><tr><td>Touring-1000 Blue, 60</td><td>Blue</td></tr><tr><td>Touring-2000 Blue, 46</td><td>Blue</td></tr><tr><td>Touring-2000 Blue, 50</td><td>Blue</td></tr><tr><td>Touring-2000 Blue, 54</td><td>Blue</td></tr><tr><td>Touring-3000 Blue, 44</td><td>Blue</td></tr><tr><td>Touring-3000 Blue, 50</td><td>Blue</td></tr></table>"
                    },
                    "metadata": {}
                }
            ],
            "execution_count": 21
        },
        {
            "cell_type": "markdown",
            "source": [
                "5\\. seleccionar los productos cuyo nombre (Name) tenga nueve caracteres y sean color \n",
                "\n",
                "plata (Silver)"
            ],
            "metadata": {
                "language": "sql",
                "azdata_cell_guid": "5c104dd4-e100-489c-b383-a7ea9626fde8"
            },
            "attachments": {}
        },
        {
            "cell_type": "code",
            "source": [
                "SELECT        Name, Color\r\n",
                "FROM          Production.Product\r\n",
                "WHERE        color = 'silver'and name LIKE '_________'"
            ],
            "metadata": {
                "language": "sql",
                "azdata_cell_guid": "ccf5b93c-f781-4ffe-8170-9d08066b83fd"
            },
            "outputs": [
                {
                    "output_type": "display_data",
                    "data": {
                        "text/html": "(2 rows affected)"
                    },
                    "metadata": {}
                },
                {
                    "output_type": "display_data",
                    "data": {
                        "text/html": "Total execution time: 00:00:00.004"
                    },
                    "metadata": {}
                },
                {
                    "output_type": "execute_result",
                    "execution_count": 23,
                    "data": {
                        "application/vnd.dataresource+json": {
                            "schema": {
                                "fields": [
                                    {
                                        "name": "Name"
                                    },
                                    {
                                        "name": "Color"
                                    }
                                ]
                            },
                            "data": [
                                {
                                    "Name": "Freewheel",
                                    "Color": "Silver"
                                },
                                {
                                    "Name": "Lock Ring",
                                    "Color": "Silver"
                                }
                            ]
                        },
                        "text/html": "<table><tr><th>Name</th><th>Color</th></tr><tr><td>Freewheel</td><td>Silver</td></tr><tr><td>Lock Ring</td><td>Silver</td></tr></table>"
                    },
                    "metadata": {}
                }
            ],
            "execution_count": 23
        },
        {
            "cell_type": "markdown",
            "source": [
                "6\\. seleccionar los productos cuyo color sea Negro o Plata y tenga 11 caracteres."
            ],
            "metadata": {
                "language": "sql",
                "azdata_cell_guid": "0bf82a7d-f9e5-4739-ae4d-7061f1f1cf17"
            },
            "attachments": {}
        },
        {
            "cell_type": "code",
            "source": [
                "SELECT        Name, Color\r\n",
                "FROM          Production.Product\r\n",
                "WHERE        (color = 'silver' or color = 'black') and LEN(Name)=11"
            ],
            "metadata": {
                "language": "sql",
                "azdata_cell_guid": "ac034f07-3953-45aa-bedf-44867a9e6a12"
            },
            "outputs": [
                {
                    "output_type": "display_data",
                    "data": {
                        "text/html": "(7 rows affected)"
                    },
                    "metadata": {}
                },
                {
                    "output_type": "display_data",
                    "data": {
                        "text/html": "Total execution time: 00:00:00.006"
                    },
                    "metadata": {}
                },
                {
                    "output_type": "execute_result",
                    "execution_count": 37,
                    "data": {
                        "application/vnd.dataresource+json": {
                            "schema": {
                                "fields": [
                                    {
                                        "name": "Name"
                                    },
                                    {
                                        "name": "Color"
                                    }
                                ]
                            },
                            "data": [
                                {
                                    "Name": "LL Crankarm",
                                    "Color": "Black"
                                },
                                {
                                    "Name": "ML Crankarm",
                                    "Color": "Black"
                                },
                                {
                                    "Name": "HL Crankarm",
                                    "Color": "Black"
                                },
                                {
                                    "Name": "Rear Brakes",
                                    "Color": "Silver"
                                },
                                {
                                    "Name": "LL Crankset",
                                    "Color": "Black"
                                },
                                {
                                    "Name": "ML Crankset",
                                    "Color": "Black"
                                },
                                {
                                    "Name": "HL Crankset",
                                    "Color": "Black"
                                }
                            ]
                        },
                        "text/html": "<table><tr><th>Name</th><th>Color</th></tr><tr><td>LL Crankarm</td><td>Black</td></tr><tr><td>ML Crankarm</td><td>Black</td></tr><tr><td>HL Crankarm</td><td>Black</td></tr><tr><td>Rear Brakes</td><td>Silver</td></tr><tr><td>LL Crankset</td><td>Black</td></tr><tr><td>ML Crankset</td><td>Black</td></tr><tr><td>HL Crankset</td><td>Black</td></tr></table>"
                    },
                    "metadata": {}
                }
            ],
            "execution_count": 37
        },
        {
            "cell_type": "markdown",
            "source": [
                "**7**. seleccionar todos los productos cuya SellStartDate sea 2008-04-30"
            ],
            "metadata": {
                "language": "sql",
                "azdata_cell_guid": "84cbc1b3-8040-458b-bb6d-e58cdeb2afd3"
            },
            "attachments": {}
        },
        {
            "cell_type": "code",
            "source": [
                "SELECT        Name, Color, SellStartDate\r\n",
                "FROM          Production.Product\r\n",
                "WHERE        SellStartDate = '2008/04/30'"
            ],
            "metadata": {
                "language": "sql",
                "azdata_cell_guid": "0db302e8-b29c-4bae-b746-7d7398d44f19"
            },
            "outputs": [
                {
                    "output_type": "display_data",
                    "data": {
                        "text/html": "(211 rows affected)"
                    },
                    "metadata": {}
                },
                {
                    "output_type": "display_data",
                    "data": {
                        "text/html": "Total execution time: 00:00:00.045"
                    },
                    "metadata": {}
                },
                {
                    "output_type": "execute_result",
                    "execution_count": 31,
                    "data": {
                        "application/vnd.dataresource+json": {
                            "schema": {
                                "fields": [
                                    {
                                        "name": "Name"
                                    },
                                    {
                                        "name": "Color"
                                    },
                                    {
                                        "name": "SellStartDate"
                                    }
                                ]
                            },
                            "data": [
                                {
                                    "Name": "Adjustable Race",
                                    "Color": "NULL",
                                    "SellStartDate": "2008-04-30 00:00:00.000"
                                },
                                {
                                    "Name": "Bearing Ball",
                                    "Color": "NULL",
                                    "SellStartDate": "2008-04-30 00:00:00.000"
                                },
                                {
                                    "Name": "BB Ball Bearing",
                                    "Color": "NULL",
                                    "SellStartDate": "2008-04-30 00:00:00.000"
                                },
                                {
                                    "Name": "Headset Ball Bearings",
                                    "Color": "NULL",
                                    "SellStartDate": "2008-04-30 00:00:00.000"
                                },
                                {
                                    "Name": "Blade",
                                    "Color": "NULL",
                                    "SellStartDate": "2008-04-30 00:00:00.000"
                                },
                                {
                                    "Name": "LL Crankarm",
                                    "Color": "Black",
                                    "SellStartDate": "2008-04-30 00:00:00.000"
                                },
                                {
                                    "Name": "ML Crankarm",
                                    "Color": "Black",
                                    "SellStartDate": "2008-04-30 00:00:00.000"
                                },
                                {
                                    "Name": "HL Crankarm",
                                    "Color": "Black",
                                    "SellStartDate": "2008-04-30 00:00:00.000"
                                },
                                {
                                    "Name": "Chainring Bolts",
                                    "Color": "Silver",
                                    "SellStartDate": "2008-04-30 00:00:00.000"
                                },
                                {
                                    "Name": "Chainring Nut",
                                    "Color": "Silver",
                                    "SellStartDate": "2008-04-30 00:00:00.000"
                                },
                                {
                                    "Name": "Chainring",
                                    "Color": "Black",
                                    "SellStartDate": "2008-04-30 00:00:00.000"
                                },
                                {
                                    "Name": "Crown Race",
                                    "Color": "NULL",
                                    "SellStartDate": "2008-04-30 00:00:00.000"
                                },
                                {
                                    "Name": "Chain Stays",
                                    "Color": "NULL",
                                    "SellStartDate": "2008-04-30 00:00:00.000"
                                },
                                {
                                    "Name": "Decal 1",
                                    "Color": "NULL",
                                    "SellStartDate": "2008-04-30 00:00:00.000"
                                },
                                {
                                    "Name": "Decal 2",
                                    "Color": "NULL",
                                    "SellStartDate": "2008-04-30 00:00:00.000"
                                },
                                {
                                    "Name": "Down Tube",
                                    "Color": "NULL",
                                    "SellStartDate": "2008-04-30 00:00:00.000"
                                },
                                {
                                    "Name": "Mountain End Caps",
                                    "Color": "NULL",
                                    "SellStartDate": "2008-04-30 00:00:00.000"
                                },
                                {
                                    "Name": "Road End Caps",
                                    "Color": "NULL",
                                    "SellStartDate": "2008-04-30 00:00:00.000"
                                },
                                {
                                    "Name": "Touring End Caps",
                                    "Color": "NULL",
                                    "SellStartDate": "2008-04-30 00:00:00.000"
                                },
                                {
                                    "Name": "Fork End",
                                    "Color": "NULL",
                                    "SellStartDate": "2008-04-30 00:00:00.000"
                                },
                                {
                                    "Name": "Freewheel",
                                    "Color": "Silver",
                                    "SellStartDate": "2008-04-30 00:00:00.000"
                                },
                                {
                                    "Name": "Flat Washer 1",
                                    "Color": "NULL",
                                    "SellStartDate": "2008-04-30 00:00:00.000"
                                },
                                {
                                    "Name": "Flat Washer 6",
                                    "Color": "NULL",
                                    "SellStartDate": "2008-04-30 00:00:00.000"
                                },
                                {
                                    "Name": "Flat Washer 2",
                                    "Color": "NULL",
                                    "SellStartDate": "2008-04-30 00:00:00.000"
                                },
                                {
                                    "Name": "Flat Washer 9",
                                    "Color": "NULL",
                                    "SellStartDate": "2008-04-30 00:00:00.000"
                                },
                                {
                                    "Name": "Flat Washer 4",
                                    "Color": "NULL",
                                    "SellStartDate": "2008-04-30 00:00:00.000"
                                },
                                {
                                    "Name": "Flat Washer 3",
                                    "Color": "NULL",
                                    "SellStartDate": "2008-04-30 00:00:00.000"
                                },
                                {
                                    "Name": "Flat Washer 8",
                                    "Color": "NULL",
                                    "SellStartDate": "2008-04-30 00:00:00.000"
                                },
                                {
                                    "Name": "Flat Washer 5",
                                    "Color": "NULL",
                                    "SellStartDate": "2008-04-30 00:00:00.000"
                                },
                                {
                                    "Name": "Flat Washer 7",
                                    "Color": "NULL",
                                    "SellStartDate": "2008-04-30 00:00:00.000"
                                },
                                {
                                    "Name": "Fork Crown",
                                    "Color": "NULL",
                                    "SellStartDate": "2008-04-30 00:00:00.000"
                                },
                                {
                                    "Name": "Front Derailleur Cage",
                                    "Color": "Silver",
                                    "SellStartDate": "2008-04-30 00:00:00.000"
                                },
                                {
                                    "Name": "Front Derailleur Linkage",
                                    "Color": "Silver",
                                    "SellStartDate": "2008-04-30 00:00:00.000"
                                },
                                {
                                    "Name": "Guide Pulley",
                                    "Color": "NULL",
                                    "SellStartDate": "2008-04-30 00:00:00.000"
                                },
                                {
                                    "Name": "LL Grip Tape",
                                    "Color": "NULL",
                                    "SellStartDate": "2008-04-30 00:00:00.000"
                                },
                                {
                                    "Name": "ML Grip Tape",
                                    "Color": "NULL",
                                    "SellStartDate": "2008-04-30 00:00:00.000"
                                },
                                {
                                    "Name": "HL Grip Tape",
                                    "Color": "NULL",
                                    "SellStartDate": "2008-04-30 00:00:00.000"
                                },
                                {
                                    "Name": "Thin-Jam Hex Nut 9",
                                    "Color": "NULL",
                                    "SellStartDate": "2008-04-30 00:00:00.000"
                                },
                                {
                                    "Name": "Thin-Jam Hex Nut 10",
                                    "Color": "NULL",
                                    "SellStartDate": "2008-04-30 00:00:00.000"
                                },
                                {
                                    "Name": "Thin-Jam Hex Nut 1",
                                    "Color": "NULL",
                                    "SellStartDate": "2008-04-30 00:00:00.000"
                                },
                                {
                                    "Name": "Thin-Jam Hex Nut 2",
                                    "Color": "NULL",
                                    "SellStartDate": "2008-04-30 00:00:00.000"
                                },
                                {
                                    "Name": "Thin-Jam Hex Nut 15",
                                    "Color": "NULL",
                                    "SellStartDate": "2008-04-30 00:00:00.000"
                                },
                                {
                                    "Name": "Thin-Jam Hex Nut 16",
                                    "Color": "NULL",
                                    "SellStartDate": "2008-04-30 00:00:00.000"
                                },
                                {
                                    "Name": "Thin-Jam Hex Nut 5",
                                    "Color": "NULL",
                                    "SellStartDate": "2008-04-30 00:00:00.000"
                                },
                                {
                                    "Name": "Thin-Jam Hex Nut 6",
                                    "Color": "NULL",
                                    "SellStartDate": "2008-04-30 00:00:00.000"
                                },
                                {
                                    "Name": "Thin-Jam Hex Nut 3",
                                    "Color": "NULL",
                                    "SellStartDate": "2008-04-30 00:00:00.000"
                                },
                                {
                                    "Name": "Thin-Jam Hex Nut 4",
                                    "Color": "NULL",
                                    "SellStartDate": "2008-04-30 00:00:00.000"
                                },
                                {
                                    "Name": "Thin-Jam Hex Nut 13",
                                    "Color": "NULL",
                                    "SellStartDate": "2008-04-30 00:00:00.000"
                                },
                                {
                                    "Name": "Thin-Jam Hex Nut 14",
                                    "Color": "NULL",
                                    "SellStartDate": "2008-04-30 00:00:00.000"
                                },
                                {
                                    "Name": "Thin-Jam Hex Nut 7",
                                    "Color": "NULL",
                                    "SellStartDate": "2008-04-30 00:00:00.000"
                                },
                                {
                                    "Name": "Thin-Jam Hex Nut 8",
                                    "Color": "NULL",
                                    "SellStartDate": "2008-04-30 00:00:00.000"
                                },
                                {
                                    "Name": "Thin-Jam Hex Nut 12",
                                    "Color": "NULL",
                                    "SellStartDate": "2008-04-30 00:00:00.000"
                                },
                                {
                                    "Name": "Thin-Jam Hex Nut 11",
                                    "Color": "NULL",
                                    "SellStartDate": "2008-04-30 00:00:00.000"
                                },
                                {
                                    "Name": "Hex Nut 5",
                                    "Color": "NULL",
                                    "SellStartDate": "2008-04-30 00:00:00.000"
                                },
                                {
                                    "Name": "Hex Nut 6",
                                    "Color": "NULL",
                                    "SellStartDate": "2008-04-30 00:00:00.000"
                                },
                                {
                                    "Name": "Hex Nut 16",
                                    "Color": "NULL",
                                    "SellStartDate": "2008-04-30 00:00:00.000"
                                },
                                {
                                    "Name": "Hex Nut 17",
                                    "Color": "NULL",
                                    "SellStartDate": "2008-04-30 00:00:00.000"
                                },
                                {
                                    "Name": "Hex Nut 7",
                                    "Color": "NULL",
                                    "SellStartDate": "2008-04-30 00:00:00.000"
                                },
                                {
                                    "Name": "Hex Nut 8",
                                    "Color": "NULL",
                                    "SellStartDate": "2008-04-30 00:00:00.000"
                                },
                                {
                                    "Name": "Hex Nut 9",
                                    "Color": "NULL",
                                    "SellStartDate": "2008-04-30 00:00:00.000"
                                },
                                {
                                    "Name": "Hex Nut 22",
                                    "Color": "NULL",
                                    "SellStartDate": "2008-04-30 00:00:00.000"
                                },
                                {
                                    "Name": "Hex Nut 23",
                                    "Color": "NULL",
                                    "SellStartDate": "2008-04-30 00:00:00.000"
                                },
                                {
                                    "Name": "Hex Nut 12",
                                    "Color": "NULL",
                                    "SellStartDate": "2008-04-30 00:00:00.000"
                                },
                                {
                                    "Name": "Hex Nut 13",
                                    "Color": "NULL",
                                    "SellStartDate": "2008-04-30 00:00:00.000"
                                },
                                {
                                    "Name": "Hex Nut 1",
                                    "Color": "NULL",
                                    "SellStartDate": "2008-04-30 00:00:00.000"
                                },
                                {
                                    "Name": "Hex Nut 10",
                                    "Color": "NULL",
                                    "SellStartDate": "2008-04-30 00:00:00.000"
                                },
                                {
                                    "Name": "Hex Nut 11",
                                    "Color": "NULL",
                                    "SellStartDate": "2008-04-30 00:00:00.000"
                                },
                                {
                                    "Name": "Hex Nut 2",
                                    "Color": "NULL",
                                    "SellStartDate": "2008-04-30 00:00:00.000"
                                },
                                {
                                    "Name": "Hex Nut 20",
                                    "Color": "NULL",
                                    "SellStartDate": "2008-04-30 00:00:00.000"
                                },
                                {
                                    "Name": "Hex Nut 21",
                                    "Color": "NULL",
                                    "SellStartDate": "2008-04-30 00:00:00.000"
                                },
                                {
                                    "Name": "Hex Nut 3",
                                    "Color": "NULL",
                                    "SellStartDate": "2008-04-30 00:00:00.000"
                                },
                                {
                                    "Name": "Hex Nut 14",
                                    "Color": "NULL",
                                    "SellStartDate": "2008-04-30 00:00:00.000"
                                },
                                {
                                    "Name": "Hex Nut 15",
                                    "Color": "NULL",
                                    "SellStartDate": "2008-04-30 00:00:00.000"
                                },
                                {
                                    "Name": "Hex Nut 4",
                                    "Color": "NULL",
                                    "SellStartDate": "2008-04-30 00:00:00.000"
                                },
                                {
                                    "Name": "Hex Nut 18",
                                    "Color": "NULL",
                                    "SellStartDate": "2008-04-30 00:00:00.000"
                                },
                                {
                                    "Name": "Hex Nut 19",
                                    "Color": "NULL",
                                    "SellStartDate": "2008-04-30 00:00:00.000"
                                },
                                {
                                    "Name": "Handlebar Tube",
                                    "Color": "NULL",
                                    "SellStartDate": "2008-04-30 00:00:00.000"
                                },
                                {
                                    "Name": "Head Tube",
                                    "Color": "NULL",
                                    "SellStartDate": "2008-04-30 00:00:00.000"
                                },
                                {
                                    "Name": "LL Hub",
                                    "Color": "NULL",
                                    "SellStartDate": "2008-04-30 00:00:00.000"
                                },
                                {
                                    "Name": "HL Hub",
                                    "Color": "NULL",
                                    "SellStartDate": "2008-04-30 00:00:00.000"
                                },
                                {
                                    "Name": "Keyed Washer",
                                    "Color": "NULL",
                                    "SellStartDate": "2008-04-30 00:00:00.000"
                                },
                                {
                                    "Name": "External Lock Washer 3",
                                    "Color": "NULL",
                                    "SellStartDate": "2008-04-30 00:00:00.000"
                                },
                                {
                                    "Name": "External Lock Washer 4",
                                    "Color": "NULL",
                                    "SellStartDate": "2008-04-30 00:00:00.000"
                                },
                                {
                                    "Name": "External Lock Washer 9",
                                    "Color": "NULL",
                                    "SellStartDate": "2008-04-30 00:00:00.000"
                                },
                                {
                                    "Name": "External Lock Washer 5",
                                    "Color": "NULL",
                                    "SellStartDate": "2008-04-30 00:00:00.000"
                                },
                                {
                                    "Name": "External Lock Washer 7",
                                    "Color": "NULL",
                                    "SellStartDate": "2008-04-30 00:00:00.000"
                                },
                                {
                                    "Name": "External Lock Washer 6",
                                    "Color": "NULL",
                                    "SellStartDate": "2008-04-30 00:00:00.000"
                                },
                                {
                                    "Name": "External Lock Washer 1",
                                    "Color": "NULL",
                                    "SellStartDate": "2008-04-30 00:00:00.000"
                                },
                                {
                                    "Name": "External Lock Washer 8",
                                    "Color": "NULL",
                                    "SellStartDate": "2008-04-30 00:00:00.000"
                                },
                                {
                                    "Name": "External Lock Washer 2",
                                    "Color": "NULL",
                                    "SellStartDate": "2008-04-30 00:00:00.000"
                                },
                                {
                                    "Name": "Internal Lock Washer 3",
                                    "Color": "NULL",
                                    "SellStartDate": "2008-04-30 00:00:00.000"
                                },
                                {
                                    "Name": "Internal Lock Washer 4",
                                    "Color": "NULL",
                                    "SellStartDate": "2008-04-30 00:00:00.000"
                                },
                                {
                                    "Name": "Internal Lock Washer 9",
                                    "Color": "NULL",
                                    "SellStartDate": "2008-04-30 00:00:00.000"
                                },
                                {
                                    "Name": "Internal Lock Washer 5",
                                    "Color": "NULL",
                                    "SellStartDate": "2008-04-30 00:00:00.000"
                                },
                                {
                                    "Name": "Internal Lock Washer 7",
                                    "Color": "NULL",
                                    "SellStartDate": "2008-04-30 00:00:00.000"
                                },
                                {
                                    "Name": "Internal Lock Washer 6",
                                    "Color": "NULL",
                                    "SellStartDate": "2008-04-30 00:00:00.000"
                                },
                                {
                                    "Name": "Internal Lock Washer 10",
                                    "Color": "NULL",
                                    "SellStartDate": "2008-04-30 00:00:00.000"
                                },
                                {
                                    "Name": "Internal Lock Washer 1",
                                    "Color": "NULL",
                                    "SellStartDate": "2008-04-30 00:00:00.000"
                                },
                                {
                                    "Name": "Internal Lock Washer 8",
                                    "Color": "NULL",
                                    "SellStartDate": "2008-04-30 00:00:00.000"
                                },
                                {
                                    "Name": "Internal Lock Washer 2",
                                    "Color": "NULL",
                                    "SellStartDate": "2008-04-30 00:00:00.000"
                                },
                                {
                                    "Name": "Thin-Jam Lock Nut 9",
                                    "Color": "NULL",
                                    "SellStartDate": "2008-04-30 00:00:00.000"
                                },
                                {
                                    "Name": "Thin-Jam Lock Nut 10",
                                    "Color": "NULL",
                                    "SellStartDate": "2008-04-30 00:00:00.000"
                                },
                                {
                                    "Name": "Thin-Jam Lock Nut 1",
                                    "Color": "NULL",
                                    "SellStartDate": "2008-04-30 00:00:00.000"
                                },
                                {
                                    "Name": "Thin-Jam Lock Nut 2",
                                    "Color": "NULL",
                                    "SellStartDate": "2008-04-30 00:00:00.000"
                                },
                                {
                                    "Name": "Thin-Jam Lock Nut 15",
                                    "Color": "NULL",
                                    "SellStartDate": "2008-04-30 00:00:00.000"
                                },
                                {
                                    "Name": "Thin-Jam Lock Nut 16",
                                    "Color": "NULL",
                                    "SellStartDate": "2008-04-30 00:00:00.000"
                                },
                                {
                                    "Name": "Thin-Jam Lock Nut 5",
                                    "Color": "NULL",
                                    "SellStartDate": "2008-04-30 00:00:00.000"
                                },
                                {
                                    "Name": "Thin-Jam Lock Nut 6",
                                    "Color": "NULL",
                                    "SellStartDate": "2008-04-30 00:00:00.000"
                                },
                                {
                                    "Name": "Thin-Jam Lock Nut 3",
                                    "Color": "NULL",
                                    "SellStartDate": "2008-04-30 00:00:00.000"
                                },
                                {
                                    "Name": "Thin-Jam Lock Nut 4",
                                    "Color": "NULL",
                                    "SellStartDate": "2008-04-30 00:00:00.000"
                                },
                                {
                                    "Name": "Thin-Jam Lock Nut 13",
                                    "Color": "NULL",
                                    "SellStartDate": "2008-04-30 00:00:00.000"
                                },
                                {
                                    "Name": "Thin-Jam Lock Nut 14",
                                    "Color": "NULL",
                                    "SellStartDate": "2008-04-30 00:00:00.000"
                                },
                                {
                                    "Name": "Thin-Jam Lock Nut 7",
                                    "Color": "NULL",
                                    "SellStartDate": "2008-04-30 00:00:00.000"
                                },
                                {
                                    "Name": "Thin-Jam Lock Nut 8",
                                    "Color": "NULL",
                                    "SellStartDate": "2008-04-30 00:00:00.000"
                                },
                                {
                                    "Name": "Thin-Jam Lock Nut 12",
                                    "Color": "NULL",
                                    "SellStartDate": "2008-04-30 00:00:00.000"
                                },
                                {
                                    "Name": "Thin-Jam Lock Nut 11",
                                    "Color": "NULL",
                                    "SellStartDate": "2008-04-30 00:00:00.000"
                                },
                                {
                                    "Name": "Lock Nut 5",
                                    "Color": "NULL",
                                    "SellStartDate": "2008-04-30 00:00:00.000"
                                },
                                {
                                    "Name": "Lock Nut 6",
                                    "Color": "NULL",
                                    "SellStartDate": "2008-04-30 00:00:00.000"
                                },
                                {
                                    "Name": "Lock Nut 16",
                                    "Color": "NULL",
                                    "SellStartDate": "2008-04-30 00:00:00.000"
                                },
                                {
                                    "Name": "Lock Nut 17",
                                    "Color": "NULL",
                                    "SellStartDate": "2008-04-30 00:00:00.000"
                                },
                                {
                                    "Name": "Lock Nut 7",
                                    "Color": "NULL",
                                    "SellStartDate": "2008-04-30 00:00:00.000"
                                },
                                {
                                    "Name": "Lock Nut 8",
                                    "Color": "NULL",
                                    "SellStartDate": "2008-04-30 00:00:00.000"
                                },
                                {
                                    "Name": "Lock Nut 9",
                                    "Color": "NULL",
                                    "SellStartDate": "2008-04-30 00:00:00.000"
                                },
                                {
                                    "Name": "Lock Nut 22",
                                    "Color": "NULL",
                                    "SellStartDate": "2008-04-30 00:00:00.000"
                                },
                                {
                                    "Name": "Lock Nut 23",
                                    "Color": "NULL",
                                    "SellStartDate": "2008-04-30 00:00:00.000"
                                },
                                {
                                    "Name": "Lock Nut 12",
                                    "Color": "NULL",
                                    "SellStartDate": "2008-04-30 00:00:00.000"
                                },
                                {
                                    "Name": "Lock Nut 13",
                                    "Color": "NULL",
                                    "SellStartDate": "2008-04-30 00:00:00.000"
                                },
                                {
                                    "Name": "Lock Nut 1",
                                    "Color": "NULL",
                                    "SellStartDate": "2008-04-30 00:00:00.000"
                                },
                                {
                                    "Name": "Lock Nut 10",
                                    "Color": "NULL",
                                    "SellStartDate": "2008-04-30 00:00:00.000"
                                },
                                {
                                    "Name": "Lock Nut 11",
                                    "Color": "NULL",
                                    "SellStartDate": "2008-04-30 00:00:00.000"
                                },
                                {
                                    "Name": "Lock Nut 2",
                                    "Color": "NULL",
                                    "SellStartDate": "2008-04-30 00:00:00.000"
                                },
                                {
                                    "Name": "Lock Nut 20",
                                    "Color": "NULL",
                                    "SellStartDate": "2008-04-30 00:00:00.000"
                                },
                                {
                                    "Name": "Lock Nut 21",
                                    "Color": "NULL",
                                    "SellStartDate": "2008-04-30 00:00:00.000"
                                },
                                {
                                    "Name": "Lock Nut 3",
                                    "Color": "NULL",
                                    "SellStartDate": "2008-04-30 00:00:00.000"
                                },
                                {
                                    "Name": "Lock Nut 14",
                                    "Color": "NULL",
                                    "SellStartDate": "2008-04-30 00:00:00.000"
                                },
                                {
                                    "Name": "Lock Nut 15",
                                    "Color": "NULL",
                                    "SellStartDate": "2008-04-30 00:00:00.000"
                                },
                                {
                                    "Name": "Lock Nut 4",
                                    "Color": "NULL",
                                    "SellStartDate": "2008-04-30 00:00:00.000"
                                },
                                {
                                    "Name": "Lock Nut 19",
                                    "Color": "NULL",
                                    "SellStartDate": "2008-04-30 00:00:00.000"
                                },
                                {
                                    "Name": "Lock Nut 18",
                                    "Color": "NULL",
                                    "SellStartDate": "2008-04-30 00:00:00.000"
                                },
                                {
                                    "Name": "Lock Ring",
                                    "Color": "Silver",
                                    "SellStartDate": "2008-04-30 00:00:00.000"
                                },
                                {
                                    "Name": "Lower Head Race",
                                    "Color": "NULL",
                                    "SellStartDate": "2008-04-30 00:00:00.000"
                                },
                                {
                                    "Name": "Lock Washer 4",
                                    "Color": "NULL",
                                    "SellStartDate": "2008-04-30 00:00:00.000"
                                },
                                {
                                    "Name": "Lock Washer 5",
                                    "Color": "NULL",
                                    "SellStartDate": "2008-04-30 00:00:00.000"
                                },
                                {
                                    "Name": "Lock Washer 10",
                                    "Color": "NULL",
                                    "SellStartDate": "2008-04-30 00:00:00.000"
                                },
                                {
                                    "Name": "Lock Washer 6",
                                    "Color": "NULL",
                                    "SellStartDate": "2008-04-30 00:00:00.000"
                                },
                                {
                                    "Name": "Lock Washer 13",
                                    "Color": "NULL",
                                    "SellStartDate": "2008-04-30 00:00:00.000"
                                },
                                {
                                    "Name": "Lock Washer 8",
                                    "Color": "NULL",
                                    "SellStartDate": "2008-04-30 00:00:00.000"
                                },
                                {
                                    "Name": "Lock Washer 1",
                                    "Color": "NULL",
                                    "SellStartDate": "2008-04-30 00:00:00.000"
                                },
                                {
                                    "Name": "Lock Washer 7",
                                    "Color": "NULL",
                                    "SellStartDate": "2008-04-30 00:00:00.000"
                                },
                                {
                                    "Name": "Lock Washer 12",
                                    "Color": "NULL",
                                    "SellStartDate": "2008-04-30 00:00:00.000"
                                },
                                {
                                    "Name": "Lock Washer 2",
                                    "Color": "NULL",
                                    "SellStartDate": "2008-04-30 00:00:00.000"
                                },
                                {
                                    "Name": "Lock Washer 9",
                                    "Color": "NULL",
                                    "SellStartDate": "2008-04-30 00:00:00.000"
                                },
                                {
                                    "Name": "Lock Washer 3",
                                    "Color": "NULL",
                                    "SellStartDate": "2008-04-30 00:00:00.000"
                                },
                                {
                                    "Name": "Lock Washer 11",
                                    "Color": "NULL",
                                    "SellStartDate": "2008-04-30 00:00:00.000"
                                },
                                {
                                    "Name": "Metal Angle",
                                    "Color": "NULL",
                                    "SellStartDate": "2008-04-30 00:00:00.000"
                                },
                                {
                                    "Name": "Metal Bar 1",
                                    "Color": "NULL",
                                    "SellStartDate": "2008-04-30 00:00:00.000"
                                },
                                {
                                    "Name": "Metal Bar 2",
                                    "Color": "NULL",
                                    "SellStartDate": "2008-04-30 00:00:00.000"
                                },
                                {
                                    "Name": "Metal Plate 2",
                                    "Color": "NULL",
                                    "SellStartDate": "2008-04-30 00:00:00.000"
                                },
                                {
                                    "Name": "Metal Plate 1",
                                    "Color": "NULL",
                                    "SellStartDate": "2008-04-30 00:00:00.000"
                                },
                                {
                                    "Name": "Metal Plate 3",
                                    "Color": "NULL",
                                    "SellStartDate": "2008-04-30 00:00:00.000"
                                },
                                {
                                    "Name": "Metal Sheet 2",
                                    "Color": "NULL",
                                    "SellStartDate": "2008-04-30 00:00:00.000"
                                },
                                {
                                    "Name": "Metal Sheet 3",
                                    "Color": "NULL",
                                    "SellStartDate": "2008-04-30 00:00:00.000"
                                },
                                {
                                    "Name": "Metal Sheet 7",
                                    "Color": "NULL",
                                    "SellStartDate": "2008-04-30 00:00:00.000"
                                },
                                {
                                    "Name": "Metal Sheet 4",
                                    "Color": "NULL",
                                    "SellStartDate": "2008-04-30 00:00:00.000"
                                },
                                {
                                    "Name": "Metal Sheet 5",
                                    "Color": "NULL",
                                    "SellStartDate": "2008-04-30 00:00:00.000"
                                },
                                {
                                    "Name": "Metal Sheet 6",
                                    "Color": "NULL",
                                    "SellStartDate": "2008-04-30 00:00:00.000"
                                },
                                {
                                    "Name": "Metal Sheet 1",
                                    "Color": "NULL",
                                    "SellStartDate": "2008-04-30 00:00:00.000"
                                },
                                {
                                    "Name": "Metal Tread Plate",
                                    "Color": "NULL",
                                    "SellStartDate": "2008-04-30 00:00:00.000"
                                },
                                {
                                    "Name": "LL Nipple",
                                    "Color": "NULL",
                                    "SellStartDate": "2008-04-30 00:00:00.000"
                                },
                                {
                                    "Name": "HL Nipple",
                                    "Color": "NULL",
                                    "SellStartDate": "2008-04-30 00:00:00.000"
                                },
                                {
                                    "Name": "Paint - Black",
                                    "Color": "NULL",
                                    "SellStartDate": "2008-04-30 00:00:00.000"
                                },
                                {
                                    "Name": "Paint - Red",
                                    "Color": "NULL",
                                    "SellStartDate": "2008-04-30 00:00:00.000"
                                },
                                {
                                    "Name": "Paint - Silver",
                                    "Color": "NULL",
                                    "SellStartDate": "2008-04-30 00:00:00.000"
                                },
                                {
                                    "Name": "Paint - Blue",
                                    "Color": "NULL",
                                    "SellStartDate": "2008-04-30 00:00:00.000"
                                },
                                {
                                    "Name": "Paint - Yellow",
                                    "Color": "NULL",
                                    "SellStartDate": "2008-04-30 00:00:00.000"
                                },
                                {
                                    "Name": "Pinch Bolt",
                                    "Color": "NULL",
                                    "SellStartDate": "2008-04-30 00:00:00.000"
                                },
                                {
                                    "Name": "Cup-Shaped Race",
                                    "Color": "NULL",
                                    "SellStartDate": "2008-04-30 00:00:00.000"
                                },
                                {
                                    "Name": "Cone-Shaped Race",
                                    "Color": "NULL",
                                    "SellStartDate": "2008-04-30 00:00:00.000"
                                },
                                {
                                    "Name": "Reflector",
                                    "Color": "NULL",
                                    "SellStartDate": "2008-04-30 00:00:00.000"
                                },
                                {
                                    "Name": "LL Mountain Rim",
                                    "Color": "NULL",
                                    "SellStartDate": "2008-04-30 00:00:00.000"
                                },
                                {
                                    "Name": "ML Mountain Rim",
                                    "Color": "NULL",
                                    "SellStartDate": "2008-04-30 00:00:00.000"
                                },
                                {
                                    "Name": "HL Mountain Rim",
                                    "Color": "NULL",
                                    "SellStartDate": "2008-04-30 00:00:00.000"
                                },
                                {
                                    "Name": "LL Road Rim",
                                    "Color": "NULL",
                                    "SellStartDate": "2008-04-30 00:00:00.000"
                                },
                                {
                                    "Name": "ML Road Rim",
                                    "Color": "NULL",
                                    "SellStartDate": "2008-04-30 00:00:00.000"
                                },
                                {
                                    "Name": "HL Road Rim",
                                    "Color": "NULL",
                                    "SellStartDate": "2008-04-30 00:00:00.000"
                                },
                                {
                                    "Name": "Touring Rim",
                                    "Color": "NULL",
                                    "SellStartDate": "2008-04-30 00:00:00.000"
                                },
                                {
                                    "Name": "LL Mountain Seat Assembly",
                                    "Color": "NULL",
                                    "SellStartDate": "2008-04-30 00:00:00.000"
                                },
                                {
                                    "Name": "ML Mountain Seat Assembly",
                                    "Color": "NULL",
                                    "SellStartDate": "2008-04-30 00:00:00.000"
                                },
                                {
                                    "Name": "HL Mountain Seat Assembly",
                                    "Color": "NULL",
                                    "SellStartDate": "2008-04-30 00:00:00.000"
                                },
                                {
                                    "Name": "LL Road Seat Assembly",
                                    "Color": "NULL",
                                    "SellStartDate": "2008-04-30 00:00:00.000"
                                },
                                {
                                    "Name": "ML Road Seat Assembly",
                                    "Color": "NULL",
                                    "SellStartDate": "2008-04-30 00:00:00.000"
                                },
                                {
                                    "Name": "HL Road Seat Assembly",
                                    "Color": "NULL",
                                    "SellStartDate": "2008-04-30 00:00:00.000"
                                },
                                {
                                    "Name": "LL Touring Seat Assembly",
                                    "Color": "NULL",
                                    "SellStartDate": "2008-04-30 00:00:00.000"
                                },
                                {
                                    "Name": "ML Touring Seat Assembly",
                                    "Color": "NULL",
                                    "SellStartDate": "2008-04-30 00:00:00.000"
                                },
                                {
                                    "Name": "HL Touring Seat Assembly",
                                    "Color": "NULL",
                                    "SellStartDate": "2008-04-30 00:00:00.000"
                                },
                                {
                                    "Name": "LL Spindle/Axle",
                                    "Color": "NULL",
                                    "SellStartDate": "2008-04-30 00:00:00.000"
                                },
                                {
                                    "Name": "HL Spindle/Axle",
                                    "Color": "NULL",
                                    "SellStartDate": "2008-04-30 00:00:00.000"
                                },
                                {
                                    "Name": "LL Shell",
                                    "Color": "NULL",
                                    "SellStartDate": "2008-04-30 00:00:00.000"
                                },
                                {
                                    "Name": "HL Shell",
                                    "Color": "NULL",
                                    "SellStartDate": "2008-04-30 00:00:00.000"
                                },
                                {
                                    "Name": "Spokes",
                                    "Color": "NULL",
                                    "SellStartDate": "2008-04-30 00:00:00.000"
                                },
                                {
                                    "Name": "Seat Lug",
                                    "Color": "NULL",
                                    "SellStartDate": "2008-04-30 00:00:00.000"
                                },
                                {
                                    "Name": "Stem",
                                    "Color": "NULL",
                                    "SellStartDate": "2008-04-30 00:00:00.000"
                                },
                                {
                                    "Name": "Seat Post",
                                    "Color": "NULL",
                                    "SellStartDate": "2008-04-30 00:00:00.000"
                                },
                                {
                                    "Name": "Steerer",
                                    "Color": "NULL",
                                    "SellStartDate": "2008-04-30 00:00:00.000"
                                },
                                {
                                    "Name": "Seat Stays",
                                    "Color": "NULL",
                                    "SellStartDate": "2008-04-30 00:00:00.000"
                                },
                                {
                                    "Name": "Seat Tube",
                                    "Color": "NULL",
                                    "SellStartDate": "2008-04-30 00:00:00.000"
                                },
                                {
                                    "Name": "Top Tube",
                                    "Color": "NULL",
                                    "SellStartDate": "2008-04-30 00:00:00.000"
                                },
                                {
                                    "Name": "Tension Pulley",
                                    "Color": "NULL",
                                    "SellStartDate": "2008-04-30 00:00:00.000"
                                },
                                {
                                    "Name": "Rear Derailleur Cage",
                                    "Color": "Silver",
                                    "SellStartDate": "2008-04-30 00:00:00.000"
                                },
                                {
                                    "Name": "HL Road Frame - Black, 58",
                                    "Color": "Black",
                                    "SellStartDate": "2008-04-30 00:00:00.000"
                                },
                                {
                                    "Name": "HL Road Frame - Red, 58",
                                    "Color": "Red",
                                    "SellStartDate": "2008-04-30 00:00:00.000"
                                }
                            ]
                        },
                        "text/html": "<table><tr><th>Name</th><th>Color</th><th>SellStartDate</th></tr><tr><td>Adjustable Race</td><td>NULL</td><td>2008-04-30 00:00:00.000</td></tr><tr><td>Bearing Ball</td><td>NULL</td><td>2008-04-30 00:00:00.000</td></tr><tr><td>BB Ball Bearing</td><td>NULL</td><td>2008-04-30 00:00:00.000</td></tr><tr><td>Headset Ball Bearings</td><td>NULL</td><td>2008-04-30 00:00:00.000</td></tr><tr><td>Blade</td><td>NULL</td><td>2008-04-30 00:00:00.000</td></tr><tr><td>LL Crankarm</td><td>Black</td><td>2008-04-30 00:00:00.000</td></tr><tr><td>ML Crankarm</td><td>Black</td><td>2008-04-30 00:00:00.000</td></tr><tr><td>HL Crankarm</td><td>Black</td><td>2008-04-30 00:00:00.000</td></tr><tr><td>Chainring Bolts</td><td>Silver</td><td>2008-04-30 00:00:00.000</td></tr><tr><td>Chainring Nut</td><td>Silver</td><td>2008-04-30 00:00:00.000</td></tr><tr><td>Chainring</td><td>Black</td><td>2008-04-30 00:00:00.000</td></tr><tr><td>Crown Race</td><td>NULL</td><td>2008-04-30 00:00:00.000</td></tr><tr><td>Chain Stays</td><td>NULL</td><td>2008-04-30 00:00:00.000</td></tr><tr><td>Decal 1</td><td>NULL</td><td>2008-04-30 00:00:00.000</td></tr><tr><td>Decal 2</td><td>NULL</td><td>2008-04-30 00:00:00.000</td></tr><tr><td>Down Tube</td><td>NULL</td><td>2008-04-30 00:00:00.000</td></tr><tr><td>Mountain End Caps</td><td>NULL</td><td>2008-04-30 00:00:00.000</td></tr><tr><td>Road End Caps</td><td>NULL</td><td>2008-04-30 00:00:00.000</td></tr><tr><td>Touring End Caps</td><td>NULL</td><td>2008-04-30 00:00:00.000</td></tr><tr><td>Fork End</td><td>NULL</td><td>2008-04-30 00:00:00.000</td></tr><tr><td>Freewheel</td><td>Silver</td><td>2008-04-30 00:00:00.000</td></tr><tr><td>Flat Washer 1</td><td>NULL</td><td>2008-04-30 00:00:00.000</td></tr><tr><td>Flat Washer 6</td><td>NULL</td><td>2008-04-30 00:00:00.000</td></tr><tr><td>Flat Washer 2</td><td>NULL</td><td>2008-04-30 00:00:00.000</td></tr><tr><td>Flat Washer 9</td><td>NULL</td><td>2008-04-30 00:00:00.000</td></tr><tr><td>Flat Washer 4</td><td>NULL</td><td>2008-04-30 00:00:00.000</td></tr><tr><td>Flat Washer 3</td><td>NULL</td><td>2008-04-30 00:00:00.000</td></tr><tr><td>Flat Washer 8</td><td>NULL</td><td>2008-04-30 00:00:00.000</td></tr><tr><td>Flat Washer 5</td><td>NULL</td><td>2008-04-30 00:00:00.000</td></tr><tr><td>Flat Washer 7</td><td>NULL</td><td>2008-04-30 00:00:00.000</td></tr><tr><td>Fork Crown</td><td>NULL</td><td>2008-04-30 00:00:00.000</td></tr><tr><td>Front Derailleur Cage</td><td>Silver</td><td>2008-04-30 00:00:00.000</td></tr><tr><td>Front Derailleur Linkage</td><td>Silver</td><td>2008-04-30 00:00:00.000</td></tr><tr><td>Guide Pulley</td><td>NULL</td><td>2008-04-30 00:00:00.000</td></tr><tr><td>LL Grip Tape</td><td>NULL</td><td>2008-04-30 00:00:00.000</td></tr><tr><td>ML Grip Tape</td><td>NULL</td><td>2008-04-30 00:00:00.000</td></tr><tr><td>HL Grip Tape</td><td>NULL</td><td>2008-04-30 00:00:00.000</td></tr><tr><td>Thin-Jam Hex Nut 9</td><td>NULL</td><td>2008-04-30 00:00:00.000</td></tr><tr><td>Thin-Jam Hex Nut 10</td><td>NULL</td><td>2008-04-30 00:00:00.000</td></tr><tr><td>Thin-Jam Hex Nut 1</td><td>NULL</td><td>2008-04-30 00:00:00.000</td></tr><tr><td>Thin-Jam Hex Nut 2</td><td>NULL</td><td>2008-04-30 00:00:00.000</td></tr><tr><td>Thin-Jam Hex Nut 15</td><td>NULL</td><td>2008-04-30 00:00:00.000</td></tr><tr><td>Thin-Jam Hex Nut 16</td><td>NULL</td><td>2008-04-30 00:00:00.000</td></tr><tr><td>Thin-Jam Hex Nut 5</td><td>NULL</td><td>2008-04-30 00:00:00.000</td></tr><tr><td>Thin-Jam Hex Nut 6</td><td>NULL</td><td>2008-04-30 00:00:00.000</td></tr><tr><td>Thin-Jam Hex Nut 3</td><td>NULL</td><td>2008-04-30 00:00:00.000</td></tr><tr><td>Thin-Jam Hex Nut 4</td><td>NULL</td><td>2008-04-30 00:00:00.000</td></tr><tr><td>Thin-Jam Hex Nut 13</td><td>NULL</td><td>2008-04-30 00:00:00.000</td></tr><tr><td>Thin-Jam Hex Nut 14</td><td>NULL</td><td>2008-04-30 00:00:00.000</td></tr><tr><td>Thin-Jam Hex Nut 7</td><td>NULL</td><td>2008-04-30 00:00:00.000</td></tr><tr><td>Thin-Jam Hex Nut 8</td><td>NULL</td><td>2008-04-30 00:00:00.000</td></tr><tr><td>Thin-Jam Hex Nut 12</td><td>NULL</td><td>2008-04-30 00:00:00.000</td></tr><tr><td>Thin-Jam Hex Nut 11</td><td>NULL</td><td>2008-04-30 00:00:00.000</td></tr><tr><td>Hex Nut 5</td><td>NULL</td><td>2008-04-30 00:00:00.000</td></tr><tr><td>Hex Nut 6</td><td>NULL</td><td>2008-04-30 00:00:00.000</td></tr><tr><td>Hex Nut 16</td><td>NULL</td><td>2008-04-30 00:00:00.000</td></tr><tr><td>Hex Nut 17</td><td>NULL</td><td>2008-04-30 00:00:00.000</td></tr><tr><td>Hex Nut 7</td><td>NULL</td><td>2008-04-30 00:00:00.000</td></tr><tr><td>Hex Nut 8</td><td>NULL</td><td>2008-04-30 00:00:00.000</td></tr><tr><td>Hex Nut 9</td><td>NULL</td><td>2008-04-30 00:00:00.000</td></tr><tr><td>Hex Nut 22</td><td>NULL</td><td>2008-04-30 00:00:00.000</td></tr><tr><td>Hex Nut 23</td><td>NULL</td><td>2008-04-30 00:00:00.000</td></tr><tr><td>Hex Nut 12</td><td>NULL</td><td>2008-04-30 00:00:00.000</td></tr><tr><td>Hex Nut 13</td><td>NULL</td><td>2008-04-30 00:00:00.000</td></tr><tr><td>Hex Nut 1</td><td>NULL</td><td>2008-04-30 00:00:00.000</td></tr><tr><td>Hex Nut 10</td><td>NULL</td><td>2008-04-30 00:00:00.000</td></tr><tr><td>Hex Nut 11</td><td>NULL</td><td>2008-04-30 00:00:00.000</td></tr><tr><td>Hex Nut 2</td><td>NULL</td><td>2008-04-30 00:00:00.000</td></tr><tr><td>Hex Nut 20</td><td>NULL</td><td>2008-04-30 00:00:00.000</td></tr><tr><td>Hex Nut 21</td><td>NULL</td><td>2008-04-30 00:00:00.000</td></tr><tr><td>Hex Nut 3</td><td>NULL</td><td>2008-04-30 00:00:00.000</td></tr><tr><td>Hex Nut 14</td><td>NULL</td><td>2008-04-30 00:00:00.000</td></tr><tr><td>Hex Nut 15</td><td>NULL</td><td>2008-04-30 00:00:00.000</td></tr><tr><td>Hex Nut 4</td><td>NULL</td><td>2008-04-30 00:00:00.000</td></tr><tr><td>Hex Nut 18</td><td>NULL</td><td>2008-04-30 00:00:00.000</td></tr><tr><td>Hex Nut 19</td><td>NULL</td><td>2008-04-30 00:00:00.000</td></tr><tr><td>Handlebar Tube</td><td>NULL</td><td>2008-04-30 00:00:00.000</td></tr><tr><td>Head Tube</td><td>NULL</td><td>2008-04-30 00:00:00.000</td></tr><tr><td>LL Hub</td><td>NULL</td><td>2008-04-30 00:00:00.000</td></tr><tr><td>HL Hub</td><td>NULL</td><td>2008-04-30 00:00:00.000</td></tr><tr><td>Keyed Washer</td><td>NULL</td><td>2008-04-30 00:00:00.000</td></tr><tr><td>External Lock Washer 3</td><td>NULL</td><td>2008-04-30 00:00:00.000</td></tr><tr><td>External Lock Washer 4</td><td>NULL</td><td>2008-04-30 00:00:00.000</td></tr><tr><td>External Lock Washer 9</td><td>NULL</td><td>2008-04-30 00:00:00.000</td></tr><tr><td>External Lock Washer 5</td><td>NULL</td><td>2008-04-30 00:00:00.000</td></tr><tr><td>External Lock Washer 7</td><td>NULL</td><td>2008-04-30 00:00:00.000</td></tr><tr><td>External Lock Washer 6</td><td>NULL</td><td>2008-04-30 00:00:00.000</td></tr><tr><td>External Lock Washer 1</td><td>NULL</td><td>2008-04-30 00:00:00.000</td></tr><tr><td>External Lock Washer 8</td><td>NULL</td><td>2008-04-30 00:00:00.000</td></tr><tr><td>External Lock Washer 2</td><td>NULL</td><td>2008-04-30 00:00:00.000</td></tr><tr><td>Internal Lock Washer 3</td><td>NULL</td><td>2008-04-30 00:00:00.000</td></tr><tr><td>Internal Lock Washer 4</td><td>NULL</td><td>2008-04-30 00:00:00.000</td></tr><tr><td>Internal Lock Washer 9</td><td>NULL</td><td>2008-04-30 00:00:00.000</td></tr><tr><td>Internal Lock Washer 5</td><td>NULL</td><td>2008-04-30 00:00:00.000</td></tr><tr><td>Internal Lock Washer 7</td><td>NULL</td><td>2008-04-30 00:00:00.000</td></tr><tr><td>Internal Lock Washer 6</td><td>NULL</td><td>2008-04-30 00:00:00.000</td></tr><tr><td>Internal Lock Washer 10</td><td>NULL</td><td>2008-04-30 00:00:00.000</td></tr><tr><td>Internal Lock Washer 1</td><td>NULL</td><td>2008-04-30 00:00:00.000</td></tr><tr><td>Internal Lock Washer 8</td><td>NULL</td><td>2008-04-30 00:00:00.000</td></tr><tr><td>Internal Lock Washer 2</td><td>NULL</td><td>2008-04-30 00:00:00.000</td></tr><tr><td>Thin-Jam Lock Nut 9</td><td>NULL</td><td>2008-04-30 00:00:00.000</td></tr><tr><td>Thin-Jam Lock Nut 10</td><td>NULL</td><td>2008-04-30 00:00:00.000</td></tr><tr><td>Thin-Jam Lock Nut 1</td><td>NULL</td><td>2008-04-30 00:00:00.000</td></tr><tr><td>Thin-Jam Lock Nut 2</td><td>NULL</td><td>2008-04-30 00:00:00.000</td></tr><tr><td>Thin-Jam Lock Nut 15</td><td>NULL</td><td>2008-04-30 00:00:00.000</td></tr><tr><td>Thin-Jam Lock Nut 16</td><td>NULL</td><td>2008-04-30 00:00:00.000</td></tr><tr><td>Thin-Jam Lock Nut 5</td><td>NULL</td><td>2008-04-30 00:00:00.000</td></tr><tr><td>Thin-Jam Lock Nut 6</td><td>NULL</td><td>2008-04-30 00:00:00.000</td></tr><tr><td>Thin-Jam Lock Nut 3</td><td>NULL</td><td>2008-04-30 00:00:00.000</td></tr><tr><td>Thin-Jam Lock Nut 4</td><td>NULL</td><td>2008-04-30 00:00:00.000</td></tr><tr><td>Thin-Jam Lock Nut 13</td><td>NULL</td><td>2008-04-30 00:00:00.000</td></tr><tr><td>Thin-Jam Lock Nut 14</td><td>NULL</td><td>2008-04-30 00:00:00.000</td></tr><tr><td>Thin-Jam Lock Nut 7</td><td>NULL</td><td>2008-04-30 00:00:00.000</td></tr><tr><td>Thin-Jam Lock Nut 8</td><td>NULL</td><td>2008-04-30 00:00:00.000</td></tr><tr><td>Thin-Jam Lock Nut 12</td><td>NULL</td><td>2008-04-30 00:00:00.000</td></tr><tr><td>Thin-Jam Lock Nut 11</td><td>NULL</td><td>2008-04-30 00:00:00.000</td></tr><tr><td>Lock Nut 5</td><td>NULL</td><td>2008-04-30 00:00:00.000</td></tr><tr><td>Lock Nut 6</td><td>NULL</td><td>2008-04-30 00:00:00.000</td></tr><tr><td>Lock Nut 16</td><td>NULL</td><td>2008-04-30 00:00:00.000</td></tr><tr><td>Lock Nut 17</td><td>NULL</td><td>2008-04-30 00:00:00.000</td></tr><tr><td>Lock Nut 7</td><td>NULL</td><td>2008-04-30 00:00:00.000</td></tr><tr><td>Lock Nut 8</td><td>NULL</td><td>2008-04-30 00:00:00.000</td></tr><tr><td>Lock Nut 9</td><td>NULL</td><td>2008-04-30 00:00:00.000</td></tr><tr><td>Lock Nut 22</td><td>NULL</td><td>2008-04-30 00:00:00.000</td></tr><tr><td>Lock Nut 23</td><td>NULL</td><td>2008-04-30 00:00:00.000</td></tr><tr><td>Lock Nut 12</td><td>NULL</td><td>2008-04-30 00:00:00.000</td></tr><tr><td>Lock Nut 13</td><td>NULL</td><td>2008-04-30 00:00:00.000</td></tr><tr><td>Lock Nut 1</td><td>NULL</td><td>2008-04-30 00:00:00.000</td></tr><tr><td>Lock Nut 10</td><td>NULL</td><td>2008-04-30 00:00:00.000</td></tr><tr><td>Lock Nut 11</td><td>NULL</td><td>2008-04-30 00:00:00.000</td></tr><tr><td>Lock Nut 2</td><td>NULL</td><td>2008-04-30 00:00:00.000</td></tr><tr><td>Lock Nut 20</td><td>NULL</td><td>2008-04-30 00:00:00.000</td></tr><tr><td>Lock Nut 21</td><td>NULL</td><td>2008-04-30 00:00:00.000</td></tr><tr><td>Lock Nut 3</td><td>NULL</td><td>2008-04-30 00:00:00.000</td></tr><tr><td>Lock Nut 14</td><td>NULL</td><td>2008-04-30 00:00:00.000</td></tr><tr><td>Lock Nut 15</td><td>NULL</td><td>2008-04-30 00:00:00.000</td></tr><tr><td>Lock Nut 4</td><td>NULL</td><td>2008-04-30 00:00:00.000</td></tr><tr><td>Lock Nut 19</td><td>NULL</td><td>2008-04-30 00:00:00.000</td></tr><tr><td>Lock Nut 18</td><td>NULL</td><td>2008-04-30 00:00:00.000</td></tr><tr><td>Lock Ring</td><td>Silver</td><td>2008-04-30 00:00:00.000</td></tr><tr><td>Lower Head Race</td><td>NULL</td><td>2008-04-30 00:00:00.000</td></tr><tr><td>Lock Washer 4</td><td>NULL</td><td>2008-04-30 00:00:00.000</td></tr><tr><td>Lock Washer 5</td><td>NULL</td><td>2008-04-30 00:00:00.000</td></tr><tr><td>Lock Washer 10</td><td>NULL</td><td>2008-04-30 00:00:00.000</td></tr><tr><td>Lock Washer 6</td><td>NULL</td><td>2008-04-30 00:00:00.000</td></tr><tr><td>Lock Washer 13</td><td>NULL</td><td>2008-04-30 00:00:00.000</td></tr><tr><td>Lock Washer 8</td><td>NULL</td><td>2008-04-30 00:00:00.000</td></tr><tr><td>Lock Washer 1</td><td>NULL</td><td>2008-04-30 00:00:00.000</td></tr><tr><td>Lock Washer 7</td><td>NULL</td><td>2008-04-30 00:00:00.000</td></tr><tr><td>Lock Washer 12</td><td>NULL</td><td>2008-04-30 00:00:00.000</td></tr><tr><td>Lock Washer 2</td><td>NULL</td><td>2008-04-30 00:00:00.000</td></tr><tr><td>Lock Washer 9</td><td>NULL</td><td>2008-04-30 00:00:00.000</td></tr><tr><td>Lock Washer 3</td><td>NULL</td><td>2008-04-30 00:00:00.000</td></tr><tr><td>Lock Washer 11</td><td>NULL</td><td>2008-04-30 00:00:00.000</td></tr><tr><td>Metal Angle</td><td>NULL</td><td>2008-04-30 00:00:00.000</td></tr><tr><td>Metal Bar 1</td><td>NULL</td><td>2008-04-30 00:00:00.000</td></tr><tr><td>Metal Bar 2</td><td>NULL</td><td>2008-04-30 00:00:00.000</td></tr><tr><td>Metal Plate 2</td><td>NULL</td><td>2008-04-30 00:00:00.000</td></tr><tr><td>Metal Plate 1</td><td>NULL</td><td>2008-04-30 00:00:00.000</td></tr><tr><td>Metal Plate 3</td><td>NULL</td><td>2008-04-30 00:00:00.000</td></tr><tr><td>Metal Sheet 2</td><td>NULL</td><td>2008-04-30 00:00:00.000</td></tr><tr><td>Metal Sheet 3</td><td>NULL</td><td>2008-04-30 00:00:00.000</td></tr><tr><td>Metal Sheet 7</td><td>NULL</td><td>2008-04-30 00:00:00.000</td></tr><tr><td>Metal Sheet 4</td><td>NULL</td><td>2008-04-30 00:00:00.000</td></tr><tr><td>Metal Sheet 5</td><td>NULL</td><td>2008-04-30 00:00:00.000</td></tr><tr><td>Metal Sheet 6</td><td>NULL</td><td>2008-04-30 00:00:00.000</td></tr><tr><td>Metal Sheet 1</td><td>NULL</td><td>2008-04-30 00:00:00.000</td></tr><tr><td>Metal Tread Plate</td><td>NULL</td><td>2008-04-30 00:00:00.000</td></tr><tr><td>LL Nipple</td><td>NULL</td><td>2008-04-30 00:00:00.000</td></tr><tr><td>HL Nipple</td><td>NULL</td><td>2008-04-30 00:00:00.000</td></tr><tr><td>Paint - Black</td><td>NULL</td><td>2008-04-30 00:00:00.000</td></tr><tr><td>Paint - Red</td><td>NULL</td><td>2008-04-30 00:00:00.000</td></tr><tr><td>Paint - Silver</td><td>NULL</td><td>2008-04-30 00:00:00.000</td></tr><tr><td>Paint - Blue</td><td>NULL</td><td>2008-04-30 00:00:00.000</td></tr><tr><td>Paint - Yellow</td><td>NULL</td><td>2008-04-30 00:00:00.000</td></tr><tr><td>Pinch Bolt</td><td>NULL</td><td>2008-04-30 00:00:00.000</td></tr><tr><td>Cup-Shaped Race</td><td>NULL</td><td>2008-04-30 00:00:00.000</td></tr><tr><td>Cone-Shaped Race</td><td>NULL</td><td>2008-04-30 00:00:00.000</td></tr><tr><td>Reflector</td><td>NULL</td><td>2008-04-30 00:00:00.000</td></tr><tr><td>LL Mountain Rim</td><td>NULL</td><td>2008-04-30 00:00:00.000</td></tr><tr><td>ML Mountain Rim</td><td>NULL</td><td>2008-04-30 00:00:00.000</td></tr><tr><td>HL Mountain Rim</td><td>NULL</td><td>2008-04-30 00:00:00.000</td></tr><tr><td>LL Road Rim</td><td>NULL</td><td>2008-04-30 00:00:00.000</td></tr><tr><td>ML Road Rim</td><td>NULL</td><td>2008-04-30 00:00:00.000</td></tr><tr><td>HL Road Rim</td><td>NULL</td><td>2008-04-30 00:00:00.000</td></tr><tr><td>Touring Rim</td><td>NULL</td><td>2008-04-30 00:00:00.000</td></tr><tr><td>LL Mountain Seat Assembly</td><td>NULL</td><td>2008-04-30 00:00:00.000</td></tr><tr><td>ML Mountain Seat Assembly</td><td>NULL</td><td>2008-04-30 00:00:00.000</td></tr><tr><td>HL Mountain Seat Assembly</td><td>NULL</td><td>2008-04-30 00:00:00.000</td></tr><tr><td>LL Road Seat Assembly</td><td>NULL</td><td>2008-04-30 00:00:00.000</td></tr><tr><td>ML Road Seat Assembly</td><td>NULL</td><td>2008-04-30 00:00:00.000</td></tr><tr><td>HL Road Seat Assembly</td><td>NULL</td><td>2008-04-30 00:00:00.000</td></tr><tr><td>LL Touring Seat Assembly</td><td>NULL</td><td>2008-04-30 00:00:00.000</td></tr><tr><td>ML Touring Seat Assembly</td><td>NULL</td><td>2008-04-30 00:00:00.000</td></tr><tr><td>HL Touring Seat Assembly</td><td>NULL</td><td>2008-04-30 00:00:00.000</td></tr><tr><td>LL Spindle/Axle</td><td>NULL</td><td>2008-04-30 00:00:00.000</td></tr><tr><td>HL Spindle/Axle</td><td>NULL</td><td>2008-04-30 00:00:00.000</td></tr><tr><td>LL Shell</td><td>NULL</td><td>2008-04-30 00:00:00.000</td></tr><tr><td>HL Shell</td><td>NULL</td><td>2008-04-30 00:00:00.000</td></tr><tr><td>Spokes</td><td>NULL</td><td>2008-04-30 00:00:00.000</td></tr><tr><td>Seat Lug</td><td>NULL</td><td>2008-04-30 00:00:00.000</td></tr><tr><td>Stem</td><td>NULL</td><td>2008-04-30 00:00:00.000</td></tr><tr><td>Seat Post</td><td>NULL</td><td>2008-04-30 00:00:00.000</td></tr><tr><td>Steerer</td><td>NULL</td><td>2008-04-30 00:00:00.000</td></tr><tr><td>Seat Stays</td><td>NULL</td><td>2008-04-30 00:00:00.000</td></tr><tr><td>Seat Tube</td><td>NULL</td><td>2008-04-30 00:00:00.000</td></tr><tr><td>Top Tube</td><td>NULL</td><td>2008-04-30 00:00:00.000</td></tr><tr><td>Tension Pulley</td><td>NULL</td><td>2008-04-30 00:00:00.000</td></tr><tr><td>Rear Derailleur Cage</td><td>Silver</td><td>2008-04-30 00:00:00.000</td></tr><tr><td>HL Road Frame - Black, 58</td><td>Black</td><td>2008-04-30 00:00:00.000</td></tr><tr><td>HL Road Frame - Red, 58</td><td>Red</td><td>2008-04-30 00:00:00.000</td></tr></table>"
                    },
                    "metadata": {}
                }
            ],
            "execution_count": 31
        },
        {
            "cell_type": "markdown",
            "source": [
                "**8**. seleccionar todos los productos cuyo SellStartDate sea del año 2008"
            ],
            "metadata": {
                "language": "sql",
                "azdata_cell_guid": "a97f6e6d-cc27-471c-bed1-572ee82e0d8f"
            },
            "attachments": {}
        },
        {
            "cell_type": "code",
            "source": [
                "SELECT        Name, Color, SellStartDate\r\n",
                "FROM          Production.Product\r\n",
                "WHERE         year(SellStartDate)= 2008"
            ],
            "metadata": {
                "language": "sql",
                "azdata_cell_guid": "1be2e132-417d-4b65-9fe8-751a1944a561",
                "tags": []
            },
            "outputs": [
                {
                    "output_type": "display_data",
                    "data": {
                        "text/html": "(211 rows affected)"
                    },
                    "metadata": {}
                },
                {
                    "output_type": "display_data",
                    "data": {
                        "text/html": "Total execution time: 00:00:00.043"
                    },
                    "metadata": {}
                },
                {
                    "output_type": "execute_result",
                    "execution_count": 41,
                    "data": {
                        "application/vnd.dataresource+json": {
                            "schema": {
                                "fields": [
                                    {
                                        "name": "Name"
                                    },
                                    {
                                        "name": "Color"
                                    },
                                    {
                                        "name": "SellStartDate"
                                    }
                                ]
                            },
                            "data": [
                                {
                                    "Name": "Adjustable Race",
                                    "Color": "NULL",
                                    "SellStartDate": "2008-04-30 00:00:00.000"
                                },
                                {
                                    "Name": "Bearing Ball",
                                    "Color": "NULL",
                                    "SellStartDate": "2008-04-30 00:00:00.000"
                                },
                                {
                                    "Name": "BB Ball Bearing",
                                    "Color": "NULL",
                                    "SellStartDate": "2008-04-30 00:00:00.000"
                                },
                                {
                                    "Name": "Headset Ball Bearings",
                                    "Color": "NULL",
                                    "SellStartDate": "2008-04-30 00:00:00.000"
                                },
                                {
                                    "Name": "Blade",
                                    "Color": "NULL",
                                    "SellStartDate": "2008-04-30 00:00:00.000"
                                },
                                {
                                    "Name": "LL Crankarm",
                                    "Color": "Black",
                                    "SellStartDate": "2008-04-30 00:00:00.000"
                                },
                                {
                                    "Name": "ML Crankarm",
                                    "Color": "Black",
                                    "SellStartDate": "2008-04-30 00:00:00.000"
                                },
                                {
                                    "Name": "HL Crankarm",
                                    "Color": "Black",
                                    "SellStartDate": "2008-04-30 00:00:00.000"
                                },
                                {
                                    "Name": "Chainring Bolts",
                                    "Color": "Silver",
                                    "SellStartDate": "2008-04-30 00:00:00.000"
                                },
                                {
                                    "Name": "Chainring Nut",
                                    "Color": "Silver",
                                    "SellStartDate": "2008-04-30 00:00:00.000"
                                },
                                {
                                    "Name": "Chainring",
                                    "Color": "Black",
                                    "SellStartDate": "2008-04-30 00:00:00.000"
                                },
                                {
                                    "Name": "Crown Race",
                                    "Color": "NULL",
                                    "SellStartDate": "2008-04-30 00:00:00.000"
                                },
                                {
                                    "Name": "Chain Stays",
                                    "Color": "NULL",
                                    "SellStartDate": "2008-04-30 00:00:00.000"
                                },
                                {
                                    "Name": "Decal 1",
                                    "Color": "NULL",
                                    "SellStartDate": "2008-04-30 00:00:00.000"
                                },
                                {
                                    "Name": "Decal 2",
                                    "Color": "NULL",
                                    "SellStartDate": "2008-04-30 00:00:00.000"
                                },
                                {
                                    "Name": "Down Tube",
                                    "Color": "NULL",
                                    "SellStartDate": "2008-04-30 00:00:00.000"
                                },
                                {
                                    "Name": "Mountain End Caps",
                                    "Color": "NULL",
                                    "SellStartDate": "2008-04-30 00:00:00.000"
                                },
                                {
                                    "Name": "Road End Caps",
                                    "Color": "NULL",
                                    "SellStartDate": "2008-04-30 00:00:00.000"
                                },
                                {
                                    "Name": "Touring End Caps",
                                    "Color": "NULL",
                                    "SellStartDate": "2008-04-30 00:00:00.000"
                                },
                                {
                                    "Name": "Fork End",
                                    "Color": "NULL",
                                    "SellStartDate": "2008-04-30 00:00:00.000"
                                },
                                {
                                    "Name": "Freewheel",
                                    "Color": "Silver",
                                    "SellStartDate": "2008-04-30 00:00:00.000"
                                },
                                {
                                    "Name": "Flat Washer 1",
                                    "Color": "NULL",
                                    "SellStartDate": "2008-04-30 00:00:00.000"
                                },
                                {
                                    "Name": "Flat Washer 6",
                                    "Color": "NULL",
                                    "SellStartDate": "2008-04-30 00:00:00.000"
                                },
                                {
                                    "Name": "Flat Washer 2",
                                    "Color": "NULL",
                                    "SellStartDate": "2008-04-30 00:00:00.000"
                                },
                                {
                                    "Name": "Flat Washer 9",
                                    "Color": "NULL",
                                    "SellStartDate": "2008-04-30 00:00:00.000"
                                },
                                {
                                    "Name": "Flat Washer 4",
                                    "Color": "NULL",
                                    "SellStartDate": "2008-04-30 00:00:00.000"
                                },
                                {
                                    "Name": "Flat Washer 3",
                                    "Color": "NULL",
                                    "SellStartDate": "2008-04-30 00:00:00.000"
                                },
                                {
                                    "Name": "Flat Washer 8",
                                    "Color": "NULL",
                                    "SellStartDate": "2008-04-30 00:00:00.000"
                                },
                                {
                                    "Name": "Flat Washer 5",
                                    "Color": "NULL",
                                    "SellStartDate": "2008-04-30 00:00:00.000"
                                },
                                {
                                    "Name": "Flat Washer 7",
                                    "Color": "NULL",
                                    "SellStartDate": "2008-04-30 00:00:00.000"
                                },
                                {
                                    "Name": "Fork Crown",
                                    "Color": "NULL",
                                    "SellStartDate": "2008-04-30 00:00:00.000"
                                },
                                {
                                    "Name": "Front Derailleur Cage",
                                    "Color": "Silver",
                                    "SellStartDate": "2008-04-30 00:00:00.000"
                                },
                                {
                                    "Name": "Front Derailleur Linkage",
                                    "Color": "Silver",
                                    "SellStartDate": "2008-04-30 00:00:00.000"
                                },
                                {
                                    "Name": "Guide Pulley",
                                    "Color": "NULL",
                                    "SellStartDate": "2008-04-30 00:00:00.000"
                                },
                                {
                                    "Name": "LL Grip Tape",
                                    "Color": "NULL",
                                    "SellStartDate": "2008-04-30 00:00:00.000"
                                },
                                {
                                    "Name": "ML Grip Tape",
                                    "Color": "NULL",
                                    "SellStartDate": "2008-04-30 00:00:00.000"
                                },
                                {
                                    "Name": "HL Grip Tape",
                                    "Color": "NULL",
                                    "SellStartDate": "2008-04-30 00:00:00.000"
                                },
                                {
                                    "Name": "Thin-Jam Hex Nut 9",
                                    "Color": "NULL",
                                    "SellStartDate": "2008-04-30 00:00:00.000"
                                },
                                {
                                    "Name": "Thin-Jam Hex Nut 10",
                                    "Color": "NULL",
                                    "SellStartDate": "2008-04-30 00:00:00.000"
                                },
                                {
                                    "Name": "Thin-Jam Hex Nut 1",
                                    "Color": "NULL",
                                    "SellStartDate": "2008-04-30 00:00:00.000"
                                },
                                {
                                    "Name": "Thin-Jam Hex Nut 2",
                                    "Color": "NULL",
                                    "SellStartDate": "2008-04-30 00:00:00.000"
                                },
                                {
                                    "Name": "Thin-Jam Hex Nut 15",
                                    "Color": "NULL",
                                    "SellStartDate": "2008-04-30 00:00:00.000"
                                },
                                {
                                    "Name": "Thin-Jam Hex Nut 16",
                                    "Color": "NULL",
                                    "SellStartDate": "2008-04-30 00:00:00.000"
                                },
                                {
                                    "Name": "Thin-Jam Hex Nut 5",
                                    "Color": "NULL",
                                    "SellStartDate": "2008-04-30 00:00:00.000"
                                },
                                {
                                    "Name": "Thin-Jam Hex Nut 6",
                                    "Color": "NULL",
                                    "SellStartDate": "2008-04-30 00:00:00.000"
                                },
                                {
                                    "Name": "Thin-Jam Hex Nut 3",
                                    "Color": "NULL",
                                    "SellStartDate": "2008-04-30 00:00:00.000"
                                },
                                {
                                    "Name": "Thin-Jam Hex Nut 4",
                                    "Color": "NULL",
                                    "SellStartDate": "2008-04-30 00:00:00.000"
                                },
                                {
                                    "Name": "Thin-Jam Hex Nut 13",
                                    "Color": "NULL",
                                    "SellStartDate": "2008-04-30 00:00:00.000"
                                },
                                {
                                    "Name": "Thin-Jam Hex Nut 14",
                                    "Color": "NULL",
                                    "SellStartDate": "2008-04-30 00:00:00.000"
                                },
                                {
                                    "Name": "Thin-Jam Hex Nut 7",
                                    "Color": "NULL",
                                    "SellStartDate": "2008-04-30 00:00:00.000"
                                },
                                {
                                    "Name": "Thin-Jam Hex Nut 8",
                                    "Color": "NULL",
                                    "SellStartDate": "2008-04-30 00:00:00.000"
                                },
                                {
                                    "Name": "Thin-Jam Hex Nut 12",
                                    "Color": "NULL",
                                    "SellStartDate": "2008-04-30 00:00:00.000"
                                },
                                {
                                    "Name": "Thin-Jam Hex Nut 11",
                                    "Color": "NULL",
                                    "SellStartDate": "2008-04-30 00:00:00.000"
                                },
                                {
                                    "Name": "Hex Nut 5",
                                    "Color": "NULL",
                                    "SellStartDate": "2008-04-30 00:00:00.000"
                                },
                                {
                                    "Name": "Hex Nut 6",
                                    "Color": "NULL",
                                    "SellStartDate": "2008-04-30 00:00:00.000"
                                },
                                {
                                    "Name": "Hex Nut 16",
                                    "Color": "NULL",
                                    "SellStartDate": "2008-04-30 00:00:00.000"
                                },
                                {
                                    "Name": "Hex Nut 17",
                                    "Color": "NULL",
                                    "SellStartDate": "2008-04-30 00:00:00.000"
                                },
                                {
                                    "Name": "Hex Nut 7",
                                    "Color": "NULL",
                                    "SellStartDate": "2008-04-30 00:00:00.000"
                                },
                                {
                                    "Name": "Hex Nut 8",
                                    "Color": "NULL",
                                    "SellStartDate": "2008-04-30 00:00:00.000"
                                },
                                {
                                    "Name": "Hex Nut 9",
                                    "Color": "NULL",
                                    "SellStartDate": "2008-04-30 00:00:00.000"
                                },
                                {
                                    "Name": "Hex Nut 22",
                                    "Color": "NULL",
                                    "SellStartDate": "2008-04-30 00:00:00.000"
                                },
                                {
                                    "Name": "Hex Nut 23",
                                    "Color": "NULL",
                                    "SellStartDate": "2008-04-30 00:00:00.000"
                                },
                                {
                                    "Name": "Hex Nut 12",
                                    "Color": "NULL",
                                    "SellStartDate": "2008-04-30 00:00:00.000"
                                },
                                {
                                    "Name": "Hex Nut 13",
                                    "Color": "NULL",
                                    "SellStartDate": "2008-04-30 00:00:00.000"
                                },
                                {
                                    "Name": "Hex Nut 1",
                                    "Color": "NULL",
                                    "SellStartDate": "2008-04-30 00:00:00.000"
                                },
                                {
                                    "Name": "Hex Nut 10",
                                    "Color": "NULL",
                                    "SellStartDate": "2008-04-30 00:00:00.000"
                                },
                                {
                                    "Name": "Hex Nut 11",
                                    "Color": "NULL",
                                    "SellStartDate": "2008-04-30 00:00:00.000"
                                },
                                {
                                    "Name": "Hex Nut 2",
                                    "Color": "NULL",
                                    "SellStartDate": "2008-04-30 00:00:00.000"
                                },
                                {
                                    "Name": "Hex Nut 20",
                                    "Color": "NULL",
                                    "SellStartDate": "2008-04-30 00:00:00.000"
                                },
                                {
                                    "Name": "Hex Nut 21",
                                    "Color": "NULL",
                                    "SellStartDate": "2008-04-30 00:00:00.000"
                                },
                                {
                                    "Name": "Hex Nut 3",
                                    "Color": "NULL",
                                    "SellStartDate": "2008-04-30 00:00:00.000"
                                },
                                {
                                    "Name": "Hex Nut 14",
                                    "Color": "NULL",
                                    "SellStartDate": "2008-04-30 00:00:00.000"
                                },
                                {
                                    "Name": "Hex Nut 15",
                                    "Color": "NULL",
                                    "SellStartDate": "2008-04-30 00:00:00.000"
                                },
                                {
                                    "Name": "Hex Nut 4",
                                    "Color": "NULL",
                                    "SellStartDate": "2008-04-30 00:00:00.000"
                                },
                                {
                                    "Name": "Hex Nut 18",
                                    "Color": "NULL",
                                    "SellStartDate": "2008-04-30 00:00:00.000"
                                },
                                {
                                    "Name": "Hex Nut 19",
                                    "Color": "NULL",
                                    "SellStartDate": "2008-04-30 00:00:00.000"
                                },
                                {
                                    "Name": "Handlebar Tube",
                                    "Color": "NULL",
                                    "SellStartDate": "2008-04-30 00:00:00.000"
                                },
                                {
                                    "Name": "Head Tube",
                                    "Color": "NULL",
                                    "SellStartDate": "2008-04-30 00:00:00.000"
                                },
                                {
                                    "Name": "LL Hub",
                                    "Color": "NULL",
                                    "SellStartDate": "2008-04-30 00:00:00.000"
                                },
                                {
                                    "Name": "HL Hub",
                                    "Color": "NULL",
                                    "SellStartDate": "2008-04-30 00:00:00.000"
                                },
                                {
                                    "Name": "Keyed Washer",
                                    "Color": "NULL",
                                    "SellStartDate": "2008-04-30 00:00:00.000"
                                },
                                {
                                    "Name": "External Lock Washer 3",
                                    "Color": "NULL",
                                    "SellStartDate": "2008-04-30 00:00:00.000"
                                },
                                {
                                    "Name": "External Lock Washer 4",
                                    "Color": "NULL",
                                    "SellStartDate": "2008-04-30 00:00:00.000"
                                },
                                {
                                    "Name": "External Lock Washer 9",
                                    "Color": "NULL",
                                    "SellStartDate": "2008-04-30 00:00:00.000"
                                },
                                {
                                    "Name": "External Lock Washer 5",
                                    "Color": "NULL",
                                    "SellStartDate": "2008-04-30 00:00:00.000"
                                },
                                {
                                    "Name": "External Lock Washer 7",
                                    "Color": "NULL",
                                    "SellStartDate": "2008-04-30 00:00:00.000"
                                },
                                {
                                    "Name": "External Lock Washer 6",
                                    "Color": "NULL",
                                    "SellStartDate": "2008-04-30 00:00:00.000"
                                },
                                {
                                    "Name": "External Lock Washer 1",
                                    "Color": "NULL",
                                    "SellStartDate": "2008-04-30 00:00:00.000"
                                },
                                {
                                    "Name": "External Lock Washer 8",
                                    "Color": "NULL",
                                    "SellStartDate": "2008-04-30 00:00:00.000"
                                },
                                {
                                    "Name": "External Lock Washer 2",
                                    "Color": "NULL",
                                    "SellStartDate": "2008-04-30 00:00:00.000"
                                },
                                {
                                    "Name": "Internal Lock Washer 3",
                                    "Color": "NULL",
                                    "SellStartDate": "2008-04-30 00:00:00.000"
                                },
                                {
                                    "Name": "Internal Lock Washer 4",
                                    "Color": "NULL",
                                    "SellStartDate": "2008-04-30 00:00:00.000"
                                },
                                {
                                    "Name": "Internal Lock Washer 9",
                                    "Color": "NULL",
                                    "SellStartDate": "2008-04-30 00:00:00.000"
                                },
                                {
                                    "Name": "Internal Lock Washer 5",
                                    "Color": "NULL",
                                    "SellStartDate": "2008-04-30 00:00:00.000"
                                },
                                {
                                    "Name": "Internal Lock Washer 7",
                                    "Color": "NULL",
                                    "SellStartDate": "2008-04-30 00:00:00.000"
                                },
                                {
                                    "Name": "Internal Lock Washer 6",
                                    "Color": "NULL",
                                    "SellStartDate": "2008-04-30 00:00:00.000"
                                },
                                {
                                    "Name": "Internal Lock Washer 10",
                                    "Color": "NULL",
                                    "SellStartDate": "2008-04-30 00:00:00.000"
                                },
                                {
                                    "Name": "Internal Lock Washer 1",
                                    "Color": "NULL",
                                    "SellStartDate": "2008-04-30 00:00:00.000"
                                },
                                {
                                    "Name": "Internal Lock Washer 8",
                                    "Color": "NULL",
                                    "SellStartDate": "2008-04-30 00:00:00.000"
                                },
                                {
                                    "Name": "Internal Lock Washer 2",
                                    "Color": "NULL",
                                    "SellStartDate": "2008-04-30 00:00:00.000"
                                },
                                {
                                    "Name": "Thin-Jam Lock Nut 9",
                                    "Color": "NULL",
                                    "SellStartDate": "2008-04-30 00:00:00.000"
                                },
                                {
                                    "Name": "Thin-Jam Lock Nut 10",
                                    "Color": "NULL",
                                    "SellStartDate": "2008-04-30 00:00:00.000"
                                },
                                {
                                    "Name": "Thin-Jam Lock Nut 1",
                                    "Color": "NULL",
                                    "SellStartDate": "2008-04-30 00:00:00.000"
                                },
                                {
                                    "Name": "Thin-Jam Lock Nut 2",
                                    "Color": "NULL",
                                    "SellStartDate": "2008-04-30 00:00:00.000"
                                },
                                {
                                    "Name": "Thin-Jam Lock Nut 15",
                                    "Color": "NULL",
                                    "SellStartDate": "2008-04-30 00:00:00.000"
                                },
                                {
                                    "Name": "Thin-Jam Lock Nut 16",
                                    "Color": "NULL",
                                    "SellStartDate": "2008-04-30 00:00:00.000"
                                },
                                {
                                    "Name": "Thin-Jam Lock Nut 5",
                                    "Color": "NULL",
                                    "SellStartDate": "2008-04-30 00:00:00.000"
                                },
                                {
                                    "Name": "Thin-Jam Lock Nut 6",
                                    "Color": "NULL",
                                    "SellStartDate": "2008-04-30 00:00:00.000"
                                },
                                {
                                    "Name": "Thin-Jam Lock Nut 3",
                                    "Color": "NULL",
                                    "SellStartDate": "2008-04-30 00:00:00.000"
                                },
                                {
                                    "Name": "Thin-Jam Lock Nut 4",
                                    "Color": "NULL",
                                    "SellStartDate": "2008-04-30 00:00:00.000"
                                },
                                {
                                    "Name": "Thin-Jam Lock Nut 13",
                                    "Color": "NULL",
                                    "SellStartDate": "2008-04-30 00:00:00.000"
                                },
                                {
                                    "Name": "Thin-Jam Lock Nut 14",
                                    "Color": "NULL",
                                    "SellStartDate": "2008-04-30 00:00:00.000"
                                },
                                {
                                    "Name": "Thin-Jam Lock Nut 7",
                                    "Color": "NULL",
                                    "SellStartDate": "2008-04-30 00:00:00.000"
                                },
                                {
                                    "Name": "Thin-Jam Lock Nut 8",
                                    "Color": "NULL",
                                    "SellStartDate": "2008-04-30 00:00:00.000"
                                },
                                {
                                    "Name": "Thin-Jam Lock Nut 12",
                                    "Color": "NULL",
                                    "SellStartDate": "2008-04-30 00:00:00.000"
                                },
                                {
                                    "Name": "Thin-Jam Lock Nut 11",
                                    "Color": "NULL",
                                    "SellStartDate": "2008-04-30 00:00:00.000"
                                },
                                {
                                    "Name": "Lock Nut 5",
                                    "Color": "NULL",
                                    "SellStartDate": "2008-04-30 00:00:00.000"
                                },
                                {
                                    "Name": "Lock Nut 6",
                                    "Color": "NULL",
                                    "SellStartDate": "2008-04-30 00:00:00.000"
                                },
                                {
                                    "Name": "Lock Nut 16",
                                    "Color": "NULL",
                                    "SellStartDate": "2008-04-30 00:00:00.000"
                                },
                                {
                                    "Name": "Lock Nut 17",
                                    "Color": "NULL",
                                    "SellStartDate": "2008-04-30 00:00:00.000"
                                },
                                {
                                    "Name": "Lock Nut 7",
                                    "Color": "NULL",
                                    "SellStartDate": "2008-04-30 00:00:00.000"
                                },
                                {
                                    "Name": "Lock Nut 8",
                                    "Color": "NULL",
                                    "SellStartDate": "2008-04-30 00:00:00.000"
                                },
                                {
                                    "Name": "Lock Nut 9",
                                    "Color": "NULL",
                                    "SellStartDate": "2008-04-30 00:00:00.000"
                                },
                                {
                                    "Name": "Lock Nut 22",
                                    "Color": "NULL",
                                    "SellStartDate": "2008-04-30 00:00:00.000"
                                },
                                {
                                    "Name": "Lock Nut 23",
                                    "Color": "NULL",
                                    "SellStartDate": "2008-04-30 00:00:00.000"
                                },
                                {
                                    "Name": "Lock Nut 12",
                                    "Color": "NULL",
                                    "SellStartDate": "2008-04-30 00:00:00.000"
                                },
                                {
                                    "Name": "Lock Nut 13",
                                    "Color": "NULL",
                                    "SellStartDate": "2008-04-30 00:00:00.000"
                                },
                                {
                                    "Name": "Lock Nut 1",
                                    "Color": "NULL",
                                    "SellStartDate": "2008-04-30 00:00:00.000"
                                },
                                {
                                    "Name": "Lock Nut 10",
                                    "Color": "NULL",
                                    "SellStartDate": "2008-04-30 00:00:00.000"
                                },
                                {
                                    "Name": "Lock Nut 11",
                                    "Color": "NULL",
                                    "SellStartDate": "2008-04-30 00:00:00.000"
                                },
                                {
                                    "Name": "Lock Nut 2",
                                    "Color": "NULL",
                                    "SellStartDate": "2008-04-30 00:00:00.000"
                                },
                                {
                                    "Name": "Lock Nut 20",
                                    "Color": "NULL",
                                    "SellStartDate": "2008-04-30 00:00:00.000"
                                },
                                {
                                    "Name": "Lock Nut 21",
                                    "Color": "NULL",
                                    "SellStartDate": "2008-04-30 00:00:00.000"
                                },
                                {
                                    "Name": "Lock Nut 3",
                                    "Color": "NULL",
                                    "SellStartDate": "2008-04-30 00:00:00.000"
                                },
                                {
                                    "Name": "Lock Nut 14",
                                    "Color": "NULL",
                                    "SellStartDate": "2008-04-30 00:00:00.000"
                                },
                                {
                                    "Name": "Lock Nut 15",
                                    "Color": "NULL",
                                    "SellStartDate": "2008-04-30 00:00:00.000"
                                },
                                {
                                    "Name": "Lock Nut 4",
                                    "Color": "NULL",
                                    "SellStartDate": "2008-04-30 00:00:00.000"
                                },
                                {
                                    "Name": "Lock Nut 19",
                                    "Color": "NULL",
                                    "SellStartDate": "2008-04-30 00:00:00.000"
                                },
                                {
                                    "Name": "Lock Nut 18",
                                    "Color": "NULL",
                                    "SellStartDate": "2008-04-30 00:00:00.000"
                                },
                                {
                                    "Name": "Lock Ring",
                                    "Color": "Silver",
                                    "SellStartDate": "2008-04-30 00:00:00.000"
                                },
                                {
                                    "Name": "Lower Head Race",
                                    "Color": "NULL",
                                    "SellStartDate": "2008-04-30 00:00:00.000"
                                },
                                {
                                    "Name": "Lock Washer 4",
                                    "Color": "NULL",
                                    "SellStartDate": "2008-04-30 00:00:00.000"
                                },
                                {
                                    "Name": "Lock Washer 5",
                                    "Color": "NULL",
                                    "SellStartDate": "2008-04-30 00:00:00.000"
                                },
                                {
                                    "Name": "Lock Washer 10",
                                    "Color": "NULL",
                                    "SellStartDate": "2008-04-30 00:00:00.000"
                                },
                                {
                                    "Name": "Lock Washer 6",
                                    "Color": "NULL",
                                    "SellStartDate": "2008-04-30 00:00:00.000"
                                },
                                {
                                    "Name": "Lock Washer 13",
                                    "Color": "NULL",
                                    "SellStartDate": "2008-04-30 00:00:00.000"
                                },
                                {
                                    "Name": "Lock Washer 8",
                                    "Color": "NULL",
                                    "SellStartDate": "2008-04-30 00:00:00.000"
                                },
                                {
                                    "Name": "Lock Washer 1",
                                    "Color": "NULL",
                                    "SellStartDate": "2008-04-30 00:00:00.000"
                                },
                                {
                                    "Name": "Lock Washer 7",
                                    "Color": "NULL",
                                    "SellStartDate": "2008-04-30 00:00:00.000"
                                },
                                {
                                    "Name": "Lock Washer 12",
                                    "Color": "NULL",
                                    "SellStartDate": "2008-04-30 00:00:00.000"
                                },
                                {
                                    "Name": "Lock Washer 2",
                                    "Color": "NULL",
                                    "SellStartDate": "2008-04-30 00:00:00.000"
                                },
                                {
                                    "Name": "Lock Washer 9",
                                    "Color": "NULL",
                                    "SellStartDate": "2008-04-30 00:00:00.000"
                                },
                                {
                                    "Name": "Lock Washer 3",
                                    "Color": "NULL",
                                    "SellStartDate": "2008-04-30 00:00:00.000"
                                },
                                {
                                    "Name": "Lock Washer 11",
                                    "Color": "NULL",
                                    "SellStartDate": "2008-04-30 00:00:00.000"
                                },
                                {
                                    "Name": "Metal Angle",
                                    "Color": "NULL",
                                    "SellStartDate": "2008-04-30 00:00:00.000"
                                },
                                {
                                    "Name": "Metal Bar 1",
                                    "Color": "NULL",
                                    "SellStartDate": "2008-04-30 00:00:00.000"
                                },
                                {
                                    "Name": "Metal Bar 2",
                                    "Color": "NULL",
                                    "SellStartDate": "2008-04-30 00:00:00.000"
                                },
                                {
                                    "Name": "Metal Plate 2",
                                    "Color": "NULL",
                                    "SellStartDate": "2008-04-30 00:00:00.000"
                                },
                                {
                                    "Name": "Metal Plate 1",
                                    "Color": "NULL",
                                    "SellStartDate": "2008-04-30 00:00:00.000"
                                },
                                {
                                    "Name": "Metal Plate 3",
                                    "Color": "NULL",
                                    "SellStartDate": "2008-04-30 00:00:00.000"
                                },
                                {
                                    "Name": "Metal Sheet 2",
                                    "Color": "NULL",
                                    "SellStartDate": "2008-04-30 00:00:00.000"
                                },
                                {
                                    "Name": "Metal Sheet 3",
                                    "Color": "NULL",
                                    "SellStartDate": "2008-04-30 00:00:00.000"
                                },
                                {
                                    "Name": "Metal Sheet 7",
                                    "Color": "NULL",
                                    "SellStartDate": "2008-04-30 00:00:00.000"
                                },
                                {
                                    "Name": "Metal Sheet 4",
                                    "Color": "NULL",
                                    "SellStartDate": "2008-04-30 00:00:00.000"
                                },
                                {
                                    "Name": "Metal Sheet 5",
                                    "Color": "NULL",
                                    "SellStartDate": "2008-04-30 00:00:00.000"
                                },
                                {
                                    "Name": "Metal Sheet 6",
                                    "Color": "NULL",
                                    "SellStartDate": "2008-04-30 00:00:00.000"
                                },
                                {
                                    "Name": "Metal Sheet 1",
                                    "Color": "NULL",
                                    "SellStartDate": "2008-04-30 00:00:00.000"
                                },
                                {
                                    "Name": "Metal Tread Plate",
                                    "Color": "NULL",
                                    "SellStartDate": "2008-04-30 00:00:00.000"
                                },
                                {
                                    "Name": "LL Nipple",
                                    "Color": "NULL",
                                    "SellStartDate": "2008-04-30 00:00:00.000"
                                },
                                {
                                    "Name": "HL Nipple",
                                    "Color": "NULL",
                                    "SellStartDate": "2008-04-30 00:00:00.000"
                                },
                                {
                                    "Name": "Paint - Black",
                                    "Color": "NULL",
                                    "SellStartDate": "2008-04-30 00:00:00.000"
                                },
                                {
                                    "Name": "Paint - Red",
                                    "Color": "NULL",
                                    "SellStartDate": "2008-04-30 00:00:00.000"
                                },
                                {
                                    "Name": "Paint - Silver",
                                    "Color": "NULL",
                                    "SellStartDate": "2008-04-30 00:00:00.000"
                                },
                                {
                                    "Name": "Paint - Blue",
                                    "Color": "NULL",
                                    "SellStartDate": "2008-04-30 00:00:00.000"
                                },
                                {
                                    "Name": "Paint - Yellow",
                                    "Color": "NULL",
                                    "SellStartDate": "2008-04-30 00:00:00.000"
                                },
                                {
                                    "Name": "Pinch Bolt",
                                    "Color": "NULL",
                                    "SellStartDate": "2008-04-30 00:00:00.000"
                                },
                                {
                                    "Name": "Cup-Shaped Race",
                                    "Color": "NULL",
                                    "SellStartDate": "2008-04-30 00:00:00.000"
                                },
                                {
                                    "Name": "Cone-Shaped Race",
                                    "Color": "NULL",
                                    "SellStartDate": "2008-04-30 00:00:00.000"
                                },
                                {
                                    "Name": "Reflector",
                                    "Color": "NULL",
                                    "SellStartDate": "2008-04-30 00:00:00.000"
                                },
                                {
                                    "Name": "LL Mountain Rim",
                                    "Color": "NULL",
                                    "SellStartDate": "2008-04-30 00:00:00.000"
                                },
                                {
                                    "Name": "ML Mountain Rim",
                                    "Color": "NULL",
                                    "SellStartDate": "2008-04-30 00:00:00.000"
                                },
                                {
                                    "Name": "HL Mountain Rim",
                                    "Color": "NULL",
                                    "SellStartDate": "2008-04-30 00:00:00.000"
                                },
                                {
                                    "Name": "LL Road Rim",
                                    "Color": "NULL",
                                    "SellStartDate": "2008-04-30 00:00:00.000"
                                },
                                {
                                    "Name": "ML Road Rim",
                                    "Color": "NULL",
                                    "SellStartDate": "2008-04-30 00:00:00.000"
                                },
                                {
                                    "Name": "HL Road Rim",
                                    "Color": "NULL",
                                    "SellStartDate": "2008-04-30 00:00:00.000"
                                },
                                {
                                    "Name": "Touring Rim",
                                    "Color": "NULL",
                                    "SellStartDate": "2008-04-30 00:00:00.000"
                                },
                                {
                                    "Name": "LL Mountain Seat Assembly",
                                    "Color": "NULL",
                                    "SellStartDate": "2008-04-30 00:00:00.000"
                                },
                                {
                                    "Name": "ML Mountain Seat Assembly",
                                    "Color": "NULL",
                                    "SellStartDate": "2008-04-30 00:00:00.000"
                                },
                                {
                                    "Name": "HL Mountain Seat Assembly",
                                    "Color": "NULL",
                                    "SellStartDate": "2008-04-30 00:00:00.000"
                                },
                                {
                                    "Name": "LL Road Seat Assembly",
                                    "Color": "NULL",
                                    "SellStartDate": "2008-04-30 00:00:00.000"
                                },
                                {
                                    "Name": "ML Road Seat Assembly",
                                    "Color": "NULL",
                                    "SellStartDate": "2008-04-30 00:00:00.000"
                                },
                                {
                                    "Name": "HL Road Seat Assembly",
                                    "Color": "NULL",
                                    "SellStartDate": "2008-04-30 00:00:00.000"
                                },
                                {
                                    "Name": "LL Touring Seat Assembly",
                                    "Color": "NULL",
                                    "SellStartDate": "2008-04-30 00:00:00.000"
                                },
                                {
                                    "Name": "ML Touring Seat Assembly",
                                    "Color": "NULL",
                                    "SellStartDate": "2008-04-30 00:00:00.000"
                                },
                                {
                                    "Name": "HL Touring Seat Assembly",
                                    "Color": "NULL",
                                    "SellStartDate": "2008-04-30 00:00:00.000"
                                },
                                {
                                    "Name": "LL Spindle/Axle",
                                    "Color": "NULL",
                                    "SellStartDate": "2008-04-30 00:00:00.000"
                                },
                                {
                                    "Name": "HL Spindle/Axle",
                                    "Color": "NULL",
                                    "SellStartDate": "2008-04-30 00:00:00.000"
                                },
                                {
                                    "Name": "LL Shell",
                                    "Color": "NULL",
                                    "SellStartDate": "2008-04-30 00:00:00.000"
                                },
                                {
                                    "Name": "HL Shell",
                                    "Color": "NULL",
                                    "SellStartDate": "2008-04-30 00:00:00.000"
                                },
                                {
                                    "Name": "Spokes",
                                    "Color": "NULL",
                                    "SellStartDate": "2008-04-30 00:00:00.000"
                                },
                                {
                                    "Name": "Seat Lug",
                                    "Color": "NULL",
                                    "SellStartDate": "2008-04-30 00:00:00.000"
                                },
                                {
                                    "Name": "Stem",
                                    "Color": "NULL",
                                    "SellStartDate": "2008-04-30 00:00:00.000"
                                },
                                {
                                    "Name": "Seat Post",
                                    "Color": "NULL",
                                    "SellStartDate": "2008-04-30 00:00:00.000"
                                },
                                {
                                    "Name": "Steerer",
                                    "Color": "NULL",
                                    "SellStartDate": "2008-04-30 00:00:00.000"
                                },
                                {
                                    "Name": "Seat Stays",
                                    "Color": "NULL",
                                    "SellStartDate": "2008-04-30 00:00:00.000"
                                },
                                {
                                    "Name": "Seat Tube",
                                    "Color": "NULL",
                                    "SellStartDate": "2008-04-30 00:00:00.000"
                                },
                                {
                                    "Name": "Top Tube",
                                    "Color": "NULL",
                                    "SellStartDate": "2008-04-30 00:00:00.000"
                                },
                                {
                                    "Name": "Tension Pulley",
                                    "Color": "NULL",
                                    "SellStartDate": "2008-04-30 00:00:00.000"
                                },
                                {
                                    "Name": "Rear Derailleur Cage",
                                    "Color": "Silver",
                                    "SellStartDate": "2008-04-30 00:00:00.000"
                                },
                                {
                                    "Name": "HL Road Frame - Black, 58",
                                    "Color": "Black",
                                    "SellStartDate": "2008-04-30 00:00:00.000"
                                },
                                {
                                    "Name": "HL Road Frame - Red, 58",
                                    "Color": "Red",
                                    "SellStartDate": "2008-04-30 00:00:00.000"
                                }
                            ]
                        },
                        "text/html": "<table><tr><th>Name</th><th>Color</th><th>SellStartDate</th></tr><tr><td>Adjustable Race</td><td>NULL</td><td>2008-04-30 00:00:00.000</td></tr><tr><td>Bearing Ball</td><td>NULL</td><td>2008-04-30 00:00:00.000</td></tr><tr><td>BB Ball Bearing</td><td>NULL</td><td>2008-04-30 00:00:00.000</td></tr><tr><td>Headset Ball Bearings</td><td>NULL</td><td>2008-04-30 00:00:00.000</td></tr><tr><td>Blade</td><td>NULL</td><td>2008-04-30 00:00:00.000</td></tr><tr><td>LL Crankarm</td><td>Black</td><td>2008-04-30 00:00:00.000</td></tr><tr><td>ML Crankarm</td><td>Black</td><td>2008-04-30 00:00:00.000</td></tr><tr><td>HL Crankarm</td><td>Black</td><td>2008-04-30 00:00:00.000</td></tr><tr><td>Chainring Bolts</td><td>Silver</td><td>2008-04-30 00:00:00.000</td></tr><tr><td>Chainring Nut</td><td>Silver</td><td>2008-04-30 00:00:00.000</td></tr><tr><td>Chainring</td><td>Black</td><td>2008-04-30 00:00:00.000</td></tr><tr><td>Crown Race</td><td>NULL</td><td>2008-04-30 00:00:00.000</td></tr><tr><td>Chain Stays</td><td>NULL</td><td>2008-04-30 00:00:00.000</td></tr><tr><td>Decal 1</td><td>NULL</td><td>2008-04-30 00:00:00.000</td></tr><tr><td>Decal 2</td><td>NULL</td><td>2008-04-30 00:00:00.000</td></tr><tr><td>Down Tube</td><td>NULL</td><td>2008-04-30 00:00:00.000</td></tr><tr><td>Mountain End Caps</td><td>NULL</td><td>2008-04-30 00:00:00.000</td></tr><tr><td>Road End Caps</td><td>NULL</td><td>2008-04-30 00:00:00.000</td></tr><tr><td>Touring End Caps</td><td>NULL</td><td>2008-04-30 00:00:00.000</td></tr><tr><td>Fork End</td><td>NULL</td><td>2008-04-30 00:00:00.000</td></tr><tr><td>Freewheel</td><td>Silver</td><td>2008-04-30 00:00:00.000</td></tr><tr><td>Flat Washer 1</td><td>NULL</td><td>2008-04-30 00:00:00.000</td></tr><tr><td>Flat Washer 6</td><td>NULL</td><td>2008-04-30 00:00:00.000</td></tr><tr><td>Flat Washer 2</td><td>NULL</td><td>2008-04-30 00:00:00.000</td></tr><tr><td>Flat Washer 9</td><td>NULL</td><td>2008-04-30 00:00:00.000</td></tr><tr><td>Flat Washer 4</td><td>NULL</td><td>2008-04-30 00:00:00.000</td></tr><tr><td>Flat Washer 3</td><td>NULL</td><td>2008-04-30 00:00:00.000</td></tr><tr><td>Flat Washer 8</td><td>NULL</td><td>2008-04-30 00:00:00.000</td></tr><tr><td>Flat Washer 5</td><td>NULL</td><td>2008-04-30 00:00:00.000</td></tr><tr><td>Flat Washer 7</td><td>NULL</td><td>2008-04-30 00:00:00.000</td></tr><tr><td>Fork Crown</td><td>NULL</td><td>2008-04-30 00:00:00.000</td></tr><tr><td>Front Derailleur Cage</td><td>Silver</td><td>2008-04-30 00:00:00.000</td></tr><tr><td>Front Derailleur Linkage</td><td>Silver</td><td>2008-04-30 00:00:00.000</td></tr><tr><td>Guide Pulley</td><td>NULL</td><td>2008-04-30 00:00:00.000</td></tr><tr><td>LL Grip Tape</td><td>NULL</td><td>2008-04-30 00:00:00.000</td></tr><tr><td>ML Grip Tape</td><td>NULL</td><td>2008-04-30 00:00:00.000</td></tr><tr><td>HL Grip Tape</td><td>NULL</td><td>2008-04-30 00:00:00.000</td></tr><tr><td>Thin-Jam Hex Nut 9</td><td>NULL</td><td>2008-04-30 00:00:00.000</td></tr><tr><td>Thin-Jam Hex Nut 10</td><td>NULL</td><td>2008-04-30 00:00:00.000</td></tr><tr><td>Thin-Jam Hex Nut 1</td><td>NULL</td><td>2008-04-30 00:00:00.000</td></tr><tr><td>Thin-Jam Hex Nut 2</td><td>NULL</td><td>2008-04-30 00:00:00.000</td></tr><tr><td>Thin-Jam Hex Nut 15</td><td>NULL</td><td>2008-04-30 00:00:00.000</td></tr><tr><td>Thin-Jam Hex Nut 16</td><td>NULL</td><td>2008-04-30 00:00:00.000</td></tr><tr><td>Thin-Jam Hex Nut 5</td><td>NULL</td><td>2008-04-30 00:00:00.000</td></tr><tr><td>Thin-Jam Hex Nut 6</td><td>NULL</td><td>2008-04-30 00:00:00.000</td></tr><tr><td>Thin-Jam Hex Nut 3</td><td>NULL</td><td>2008-04-30 00:00:00.000</td></tr><tr><td>Thin-Jam Hex Nut 4</td><td>NULL</td><td>2008-04-30 00:00:00.000</td></tr><tr><td>Thin-Jam Hex Nut 13</td><td>NULL</td><td>2008-04-30 00:00:00.000</td></tr><tr><td>Thin-Jam Hex Nut 14</td><td>NULL</td><td>2008-04-30 00:00:00.000</td></tr><tr><td>Thin-Jam Hex Nut 7</td><td>NULL</td><td>2008-04-30 00:00:00.000</td></tr><tr><td>Thin-Jam Hex Nut 8</td><td>NULL</td><td>2008-04-30 00:00:00.000</td></tr><tr><td>Thin-Jam Hex Nut 12</td><td>NULL</td><td>2008-04-30 00:00:00.000</td></tr><tr><td>Thin-Jam Hex Nut 11</td><td>NULL</td><td>2008-04-30 00:00:00.000</td></tr><tr><td>Hex Nut 5</td><td>NULL</td><td>2008-04-30 00:00:00.000</td></tr><tr><td>Hex Nut 6</td><td>NULL</td><td>2008-04-30 00:00:00.000</td></tr><tr><td>Hex Nut 16</td><td>NULL</td><td>2008-04-30 00:00:00.000</td></tr><tr><td>Hex Nut 17</td><td>NULL</td><td>2008-04-30 00:00:00.000</td></tr><tr><td>Hex Nut 7</td><td>NULL</td><td>2008-04-30 00:00:00.000</td></tr><tr><td>Hex Nut 8</td><td>NULL</td><td>2008-04-30 00:00:00.000</td></tr><tr><td>Hex Nut 9</td><td>NULL</td><td>2008-04-30 00:00:00.000</td></tr><tr><td>Hex Nut 22</td><td>NULL</td><td>2008-04-30 00:00:00.000</td></tr><tr><td>Hex Nut 23</td><td>NULL</td><td>2008-04-30 00:00:00.000</td></tr><tr><td>Hex Nut 12</td><td>NULL</td><td>2008-04-30 00:00:00.000</td></tr><tr><td>Hex Nut 13</td><td>NULL</td><td>2008-04-30 00:00:00.000</td></tr><tr><td>Hex Nut 1</td><td>NULL</td><td>2008-04-30 00:00:00.000</td></tr><tr><td>Hex Nut 10</td><td>NULL</td><td>2008-04-30 00:00:00.000</td></tr><tr><td>Hex Nut 11</td><td>NULL</td><td>2008-04-30 00:00:00.000</td></tr><tr><td>Hex Nut 2</td><td>NULL</td><td>2008-04-30 00:00:00.000</td></tr><tr><td>Hex Nut 20</td><td>NULL</td><td>2008-04-30 00:00:00.000</td></tr><tr><td>Hex Nut 21</td><td>NULL</td><td>2008-04-30 00:00:00.000</td></tr><tr><td>Hex Nut 3</td><td>NULL</td><td>2008-04-30 00:00:00.000</td></tr><tr><td>Hex Nut 14</td><td>NULL</td><td>2008-04-30 00:00:00.000</td></tr><tr><td>Hex Nut 15</td><td>NULL</td><td>2008-04-30 00:00:00.000</td></tr><tr><td>Hex Nut 4</td><td>NULL</td><td>2008-04-30 00:00:00.000</td></tr><tr><td>Hex Nut 18</td><td>NULL</td><td>2008-04-30 00:00:00.000</td></tr><tr><td>Hex Nut 19</td><td>NULL</td><td>2008-04-30 00:00:00.000</td></tr><tr><td>Handlebar Tube</td><td>NULL</td><td>2008-04-30 00:00:00.000</td></tr><tr><td>Head Tube</td><td>NULL</td><td>2008-04-30 00:00:00.000</td></tr><tr><td>LL Hub</td><td>NULL</td><td>2008-04-30 00:00:00.000</td></tr><tr><td>HL Hub</td><td>NULL</td><td>2008-04-30 00:00:00.000</td></tr><tr><td>Keyed Washer</td><td>NULL</td><td>2008-04-30 00:00:00.000</td></tr><tr><td>External Lock Washer 3</td><td>NULL</td><td>2008-04-30 00:00:00.000</td></tr><tr><td>External Lock Washer 4</td><td>NULL</td><td>2008-04-30 00:00:00.000</td></tr><tr><td>External Lock Washer 9</td><td>NULL</td><td>2008-04-30 00:00:00.000</td></tr><tr><td>External Lock Washer 5</td><td>NULL</td><td>2008-04-30 00:00:00.000</td></tr><tr><td>External Lock Washer 7</td><td>NULL</td><td>2008-04-30 00:00:00.000</td></tr><tr><td>External Lock Washer 6</td><td>NULL</td><td>2008-04-30 00:00:00.000</td></tr><tr><td>External Lock Washer 1</td><td>NULL</td><td>2008-04-30 00:00:00.000</td></tr><tr><td>External Lock Washer 8</td><td>NULL</td><td>2008-04-30 00:00:00.000</td></tr><tr><td>External Lock Washer 2</td><td>NULL</td><td>2008-04-30 00:00:00.000</td></tr><tr><td>Internal Lock Washer 3</td><td>NULL</td><td>2008-04-30 00:00:00.000</td></tr><tr><td>Internal Lock Washer 4</td><td>NULL</td><td>2008-04-30 00:00:00.000</td></tr><tr><td>Internal Lock Washer 9</td><td>NULL</td><td>2008-04-30 00:00:00.000</td></tr><tr><td>Internal Lock Washer 5</td><td>NULL</td><td>2008-04-30 00:00:00.000</td></tr><tr><td>Internal Lock Washer 7</td><td>NULL</td><td>2008-04-30 00:00:00.000</td></tr><tr><td>Internal Lock Washer 6</td><td>NULL</td><td>2008-04-30 00:00:00.000</td></tr><tr><td>Internal Lock Washer 10</td><td>NULL</td><td>2008-04-30 00:00:00.000</td></tr><tr><td>Internal Lock Washer 1</td><td>NULL</td><td>2008-04-30 00:00:00.000</td></tr><tr><td>Internal Lock Washer 8</td><td>NULL</td><td>2008-04-30 00:00:00.000</td></tr><tr><td>Internal Lock Washer 2</td><td>NULL</td><td>2008-04-30 00:00:00.000</td></tr><tr><td>Thin-Jam Lock Nut 9</td><td>NULL</td><td>2008-04-30 00:00:00.000</td></tr><tr><td>Thin-Jam Lock Nut 10</td><td>NULL</td><td>2008-04-30 00:00:00.000</td></tr><tr><td>Thin-Jam Lock Nut 1</td><td>NULL</td><td>2008-04-30 00:00:00.000</td></tr><tr><td>Thin-Jam Lock Nut 2</td><td>NULL</td><td>2008-04-30 00:00:00.000</td></tr><tr><td>Thin-Jam Lock Nut 15</td><td>NULL</td><td>2008-04-30 00:00:00.000</td></tr><tr><td>Thin-Jam Lock Nut 16</td><td>NULL</td><td>2008-04-30 00:00:00.000</td></tr><tr><td>Thin-Jam Lock Nut 5</td><td>NULL</td><td>2008-04-30 00:00:00.000</td></tr><tr><td>Thin-Jam Lock Nut 6</td><td>NULL</td><td>2008-04-30 00:00:00.000</td></tr><tr><td>Thin-Jam Lock Nut 3</td><td>NULL</td><td>2008-04-30 00:00:00.000</td></tr><tr><td>Thin-Jam Lock Nut 4</td><td>NULL</td><td>2008-04-30 00:00:00.000</td></tr><tr><td>Thin-Jam Lock Nut 13</td><td>NULL</td><td>2008-04-30 00:00:00.000</td></tr><tr><td>Thin-Jam Lock Nut 14</td><td>NULL</td><td>2008-04-30 00:00:00.000</td></tr><tr><td>Thin-Jam Lock Nut 7</td><td>NULL</td><td>2008-04-30 00:00:00.000</td></tr><tr><td>Thin-Jam Lock Nut 8</td><td>NULL</td><td>2008-04-30 00:00:00.000</td></tr><tr><td>Thin-Jam Lock Nut 12</td><td>NULL</td><td>2008-04-30 00:00:00.000</td></tr><tr><td>Thin-Jam Lock Nut 11</td><td>NULL</td><td>2008-04-30 00:00:00.000</td></tr><tr><td>Lock Nut 5</td><td>NULL</td><td>2008-04-30 00:00:00.000</td></tr><tr><td>Lock Nut 6</td><td>NULL</td><td>2008-04-30 00:00:00.000</td></tr><tr><td>Lock Nut 16</td><td>NULL</td><td>2008-04-30 00:00:00.000</td></tr><tr><td>Lock Nut 17</td><td>NULL</td><td>2008-04-30 00:00:00.000</td></tr><tr><td>Lock Nut 7</td><td>NULL</td><td>2008-04-30 00:00:00.000</td></tr><tr><td>Lock Nut 8</td><td>NULL</td><td>2008-04-30 00:00:00.000</td></tr><tr><td>Lock Nut 9</td><td>NULL</td><td>2008-04-30 00:00:00.000</td></tr><tr><td>Lock Nut 22</td><td>NULL</td><td>2008-04-30 00:00:00.000</td></tr><tr><td>Lock Nut 23</td><td>NULL</td><td>2008-04-30 00:00:00.000</td></tr><tr><td>Lock Nut 12</td><td>NULL</td><td>2008-04-30 00:00:00.000</td></tr><tr><td>Lock Nut 13</td><td>NULL</td><td>2008-04-30 00:00:00.000</td></tr><tr><td>Lock Nut 1</td><td>NULL</td><td>2008-04-30 00:00:00.000</td></tr><tr><td>Lock Nut 10</td><td>NULL</td><td>2008-04-30 00:00:00.000</td></tr><tr><td>Lock Nut 11</td><td>NULL</td><td>2008-04-30 00:00:00.000</td></tr><tr><td>Lock Nut 2</td><td>NULL</td><td>2008-04-30 00:00:00.000</td></tr><tr><td>Lock Nut 20</td><td>NULL</td><td>2008-04-30 00:00:00.000</td></tr><tr><td>Lock Nut 21</td><td>NULL</td><td>2008-04-30 00:00:00.000</td></tr><tr><td>Lock Nut 3</td><td>NULL</td><td>2008-04-30 00:00:00.000</td></tr><tr><td>Lock Nut 14</td><td>NULL</td><td>2008-04-30 00:00:00.000</td></tr><tr><td>Lock Nut 15</td><td>NULL</td><td>2008-04-30 00:00:00.000</td></tr><tr><td>Lock Nut 4</td><td>NULL</td><td>2008-04-30 00:00:00.000</td></tr><tr><td>Lock Nut 19</td><td>NULL</td><td>2008-04-30 00:00:00.000</td></tr><tr><td>Lock Nut 18</td><td>NULL</td><td>2008-04-30 00:00:00.000</td></tr><tr><td>Lock Ring</td><td>Silver</td><td>2008-04-30 00:00:00.000</td></tr><tr><td>Lower Head Race</td><td>NULL</td><td>2008-04-30 00:00:00.000</td></tr><tr><td>Lock Washer 4</td><td>NULL</td><td>2008-04-30 00:00:00.000</td></tr><tr><td>Lock Washer 5</td><td>NULL</td><td>2008-04-30 00:00:00.000</td></tr><tr><td>Lock Washer 10</td><td>NULL</td><td>2008-04-30 00:00:00.000</td></tr><tr><td>Lock Washer 6</td><td>NULL</td><td>2008-04-30 00:00:00.000</td></tr><tr><td>Lock Washer 13</td><td>NULL</td><td>2008-04-30 00:00:00.000</td></tr><tr><td>Lock Washer 8</td><td>NULL</td><td>2008-04-30 00:00:00.000</td></tr><tr><td>Lock Washer 1</td><td>NULL</td><td>2008-04-30 00:00:00.000</td></tr><tr><td>Lock Washer 7</td><td>NULL</td><td>2008-04-30 00:00:00.000</td></tr><tr><td>Lock Washer 12</td><td>NULL</td><td>2008-04-30 00:00:00.000</td></tr><tr><td>Lock Washer 2</td><td>NULL</td><td>2008-04-30 00:00:00.000</td></tr><tr><td>Lock Washer 9</td><td>NULL</td><td>2008-04-30 00:00:00.000</td></tr><tr><td>Lock Washer 3</td><td>NULL</td><td>2008-04-30 00:00:00.000</td></tr><tr><td>Lock Washer 11</td><td>NULL</td><td>2008-04-30 00:00:00.000</td></tr><tr><td>Metal Angle</td><td>NULL</td><td>2008-04-30 00:00:00.000</td></tr><tr><td>Metal Bar 1</td><td>NULL</td><td>2008-04-30 00:00:00.000</td></tr><tr><td>Metal Bar 2</td><td>NULL</td><td>2008-04-30 00:00:00.000</td></tr><tr><td>Metal Plate 2</td><td>NULL</td><td>2008-04-30 00:00:00.000</td></tr><tr><td>Metal Plate 1</td><td>NULL</td><td>2008-04-30 00:00:00.000</td></tr><tr><td>Metal Plate 3</td><td>NULL</td><td>2008-04-30 00:00:00.000</td></tr><tr><td>Metal Sheet 2</td><td>NULL</td><td>2008-04-30 00:00:00.000</td></tr><tr><td>Metal Sheet 3</td><td>NULL</td><td>2008-04-30 00:00:00.000</td></tr><tr><td>Metal Sheet 7</td><td>NULL</td><td>2008-04-30 00:00:00.000</td></tr><tr><td>Metal Sheet 4</td><td>NULL</td><td>2008-04-30 00:00:00.000</td></tr><tr><td>Metal Sheet 5</td><td>NULL</td><td>2008-04-30 00:00:00.000</td></tr><tr><td>Metal Sheet 6</td><td>NULL</td><td>2008-04-30 00:00:00.000</td></tr><tr><td>Metal Sheet 1</td><td>NULL</td><td>2008-04-30 00:00:00.000</td></tr><tr><td>Metal Tread Plate</td><td>NULL</td><td>2008-04-30 00:00:00.000</td></tr><tr><td>LL Nipple</td><td>NULL</td><td>2008-04-30 00:00:00.000</td></tr><tr><td>HL Nipple</td><td>NULL</td><td>2008-04-30 00:00:00.000</td></tr><tr><td>Paint - Black</td><td>NULL</td><td>2008-04-30 00:00:00.000</td></tr><tr><td>Paint - Red</td><td>NULL</td><td>2008-04-30 00:00:00.000</td></tr><tr><td>Paint - Silver</td><td>NULL</td><td>2008-04-30 00:00:00.000</td></tr><tr><td>Paint - Blue</td><td>NULL</td><td>2008-04-30 00:00:00.000</td></tr><tr><td>Paint - Yellow</td><td>NULL</td><td>2008-04-30 00:00:00.000</td></tr><tr><td>Pinch Bolt</td><td>NULL</td><td>2008-04-30 00:00:00.000</td></tr><tr><td>Cup-Shaped Race</td><td>NULL</td><td>2008-04-30 00:00:00.000</td></tr><tr><td>Cone-Shaped Race</td><td>NULL</td><td>2008-04-30 00:00:00.000</td></tr><tr><td>Reflector</td><td>NULL</td><td>2008-04-30 00:00:00.000</td></tr><tr><td>LL Mountain Rim</td><td>NULL</td><td>2008-04-30 00:00:00.000</td></tr><tr><td>ML Mountain Rim</td><td>NULL</td><td>2008-04-30 00:00:00.000</td></tr><tr><td>HL Mountain Rim</td><td>NULL</td><td>2008-04-30 00:00:00.000</td></tr><tr><td>LL Road Rim</td><td>NULL</td><td>2008-04-30 00:00:00.000</td></tr><tr><td>ML Road Rim</td><td>NULL</td><td>2008-04-30 00:00:00.000</td></tr><tr><td>HL Road Rim</td><td>NULL</td><td>2008-04-30 00:00:00.000</td></tr><tr><td>Touring Rim</td><td>NULL</td><td>2008-04-30 00:00:00.000</td></tr><tr><td>LL Mountain Seat Assembly</td><td>NULL</td><td>2008-04-30 00:00:00.000</td></tr><tr><td>ML Mountain Seat Assembly</td><td>NULL</td><td>2008-04-30 00:00:00.000</td></tr><tr><td>HL Mountain Seat Assembly</td><td>NULL</td><td>2008-04-30 00:00:00.000</td></tr><tr><td>LL Road Seat Assembly</td><td>NULL</td><td>2008-04-30 00:00:00.000</td></tr><tr><td>ML Road Seat Assembly</td><td>NULL</td><td>2008-04-30 00:00:00.000</td></tr><tr><td>HL Road Seat Assembly</td><td>NULL</td><td>2008-04-30 00:00:00.000</td></tr><tr><td>LL Touring Seat Assembly</td><td>NULL</td><td>2008-04-30 00:00:00.000</td></tr><tr><td>ML Touring Seat Assembly</td><td>NULL</td><td>2008-04-30 00:00:00.000</td></tr><tr><td>HL Touring Seat Assembly</td><td>NULL</td><td>2008-04-30 00:00:00.000</td></tr><tr><td>LL Spindle/Axle</td><td>NULL</td><td>2008-04-30 00:00:00.000</td></tr><tr><td>HL Spindle/Axle</td><td>NULL</td><td>2008-04-30 00:00:00.000</td></tr><tr><td>LL Shell</td><td>NULL</td><td>2008-04-30 00:00:00.000</td></tr><tr><td>HL Shell</td><td>NULL</td><td>2008-04-30 00:00:00.000</td></tr><tr><td>Spokes</td><td>NULL</td><td>2008-04-30 00:00:00.000</td></tr><tr><td>Seat Lug</td><td>NULL</td><td>2008-04-30 00:00:00.000</td></tr><tr><td>Stem</td><td>NULL</td><td>2008-04-30 00:00:00.000</td></tr><tr><td>Seat Post</td><td>NULL</td><td>2008-04-30 00:00:00.000</td></tr><tr><td>Steerer</td><td>NULL</td><td>2008-04-30 00:00:00.000</td></tr><tr><td>Seat Stays</td><td>NULL</td><td>2008-04-30 00:00:00.000</td></tr><tr><td>Seat Tube</td><td>NULL</td><td>2008-04-30 00:00:00.000</td></tr><tr><td>Top Tube</td><td>NULL</td><td>2008-04-30 00:00:00.000</td></tr><tr><td>Tension Pulley</td><td>NULL</td><td>2008-04-30 00:00:00.000</td></tr><tr><td>Rear Derailleur Cage</td><td>Silver</td><td>2008-04-30 00:00:00.000</td></tr><tr><td>HL Road Frame - Black, 58</td><td>Black</td><td>2008-04-30 00:00:00.000</td></tr><tr><td>HL Road Frame - Red, 58</td><td>Red</td><td>2008-04-30 00:00:00.000</td></tr></table>"
                    },
                    "metadata": {}
                }
            ],
            "execution_count": 41
        },
        {
            "cell_type": "markdown",
            "source": [
                "**9\\.** seleccionar todos los productos cuyo SellStartDate sea de Abril."
            ],
            "metadata": {
                "language": "sql",
                "azdata_cell_guid": "b3291720-678f-4e96-9e20-82e70586ec14"
            },
            "attachments": {}
        },
        {
            "cell_type": "code",
            "source": [
                "SELECT        Name\r\n",
                "FROM          Production.Product\r\n",
                "WHERE         month(SellStartDate)= 04"
            ],
            "metadata": {
                "language": "sql",
                "azdata_cell_guid": "9adfb5ec-3569-4ea3-aef5-8df29abdafb9"
            },
            "outputs": [
                {
                    "output_type": "display_data",
                    "data": {
                        "text/html": "(211 rows affected)"
                    },
                    "metadata": {}
                },
                {
                    "output_type": "display_data",
                    "data": {
                        "text/html": "Total execution time: 00:00:00.055"
                    },
                    "metadata": {}
                },
                {
                    "output_type": "execute_result",
                    "execution_count": 43,
                    "data": {
                        "application/vnd.dataresource+json": {
                            "schema": {
                                "fields": [
                                    {
                                        "name": "Name"
                                    }
                                ]
                            },
                            "data": [
                                {
                                    "Name": "Adjustable Race"
                                },
                                {
                                    "Name": "Bearing Ball"
                                },
                                {
                                    "Name": "BB Ball Bearing"
                                },
                                {
                                    "Name": "Headset Ball Bearings"
                                },
                                {
                                    "Name": "Blade"
                                },
                                {
                                    "Name": "LL Crankarm"
                                },
                                {
                                    "Name": "ML Crankarm"
                                },
                                {
                                    "Name": "HL Crankarm"
                                },
                                {
                                    "Name": "Chainring Bolts"
                                },
                                {
                                    "Name": "Chainring Nut"
                                },
                                {
                                    "Name": "Chainring"
                                },
                                {
                                    "Name": "Crown Race"
                                },
                                {
                                    "Name": "Chain Stays"
                                },
                                {
                                    "Name": "Decal 1"
                                },
                                {
                                    "Name": "Decal 2"
                                },
                                {
                                    "Name": "Down Tube"
                                },
                                {
                                    "Name": "Mountain End Caps"
                                },
                                {
                                    "Name": "Road End Caps"
                                },
                                {
                                    "Name": "Touring End Caps"
                                },
                                {
                                    "Name": "Fork End"
                                },
                                {
                                    "Name": "Freewheel"
                                },
                                {
                                    "Name": "Flat Washer 1"
                                },
                                {
                                    "Name": "Flat Washer 6"
                                },
                                {
                                    "Name": "Flat Washer 2"
                                },
                                {
                                    "Name": "Flat Washer 9"
                                },
                                {
                                    "Name": "Flat Washer 4"
                                },
                                {
                                    "Name": "Flat Washer 3"
                                },
                                {
                                    "Name": "Flat Washer 8"
                                },
                                {
                                    "Name": "Flat Washer 5"
                                },
                                {
                                    "Name": "Flat Washer 7"
                                },
                                {
                                    "Name": "Fork Crown"
                                },
                                {
                                    "Name": "Front Derailleur Cage"
                                },
                                {
                                    "Name": "Front Derailleur Linkage"
                                },
                                {
                                    "Name": "Guide Pulley"
                                },
                                {
                                    "Name": "LL Grip Tape"
                                },
                                {
                                    "Name": "ML Grip Tape"
                                },
                                {
                                    "Name": "HL Grip Tape"
                                },
                                {
                                    "Name": "Thin-Jam Hex Nut 9"
                                },
                                {
                                    "Name": "Thin-Jam Hex Nut 10"
                                },
                                {
                                    "Name": "Thin-Jam Hex Nut 1"
                                },
                                {
                                    "Name": "Thin-Jam Hex Nut 2"
                                },
                                {
                                    "Name": "Thin-Jam Hex Nut 15"
                                },
                                {
                                    "Name": "Thin-Jam Hex Nut 16"
                                },
                                {
                                    "Name": "Thin-Jam Hex Nut 5"
                                },
                                {
                                    "Name": "Thin-Jam Hex Nut 6"
                                },
                                {
                                    "Name": "Thin-Jam Hex Nut 3"
                                },
                                {
                                    "Name": "Thin-Jam Hex Nut 4"
                                },
                                {
                                    "Name": "Thin-Jam Hex Nut 13"
                                },
                                {
                                    "Name": "Thin-Jam Hex Nut 14"
                                },
                                {
                                    "Name": "Thin-Jam Hex Nut 7"
                                },
                                {
                                    "Name": "Thin-Jam Hex Nut 8"
                                },
                                {
                                    "Name": "Thin-Jam Hex Nut 12"
                                },
                                {
                                    "Name": "Thin-Jam Hex Nut 11"
                                },
                                {
                                    "Name": "Hex Nut 5"
                                },
                                {
                                    "Name": "Hex Nut 6"
                                },
                                {
                                    "Name": "Hex Nut 16"
                                },
                                {
                                    "Name": "Hex Nut 17"
                                },
                                {
                                    "Name": "Hex Nut 7"
                                },
                                {
                                    "Name": "Hex Nut 8"
                                },
                                {
                                    "Name": "Hex Nut 9"
                                },
                                {
                                    "Name": "Hex Nut 22"
                                },
                                {
                                    "Name": "Hex Nut 23"
                                },
                                {
                                    "Name": "Hex Nut 12"
                                },
                                {
                                    "Name": "Hex Nut 13"
                                },
                                {
                                    "Name": "Hex Nut 1"
                                },
                                {
                                    "Name": "Hex Nut 10"
                                },
                                {
                                    "Name": "Hex Nut 11"
                                },
                                {
                                    "Name": "Hex Nut 2"
                                },
                                {
                                    "Name": "Hex Nut 20"
                                },
                                {
                                    "Name": "Hex Nut 21"
                                },
                                {
                                    "Name": "Hex Nut 3"
                                },
                                {
                                    "Name": "Hex Nut 14"
                                },
                                {
                                    "Name": "Hex Nut 15"
                                },
                                {
                                    "Name": "Hex Nut 4"
                                },
                                {
                                    "Name": "Hex Nut 18"
                                },
                                {
                                    "Name": "Hex Nut 19"
                                },
                                {
                                    "Name": "Handlebar Tube"
                                },
                                {
                                    "Name": "Head Tube"
                                },
                                {
                                    "Name": "LL Hub"
                                },
                                {
                                    "Name": "HL Hub"
                                },
                                {
                                    "Name": "Keyed Washer"
                                },
                                {
                                    "Name": "External Lock Washer 3"
                                },
                                {
                                    "Name": "External Lock Washer 4"
                                },
                                {
                                    "Name": "External Lock Washer 9"
                                },
                                {
                                    "Name": "External Lock Washer 5"
                                },
                                {
                                    "Name": "External Lock Washer 7"
                                },
                                {
                                    "Name": "External Lock Washer 6"
                                },
                                {
                                    "Name": "External Lock Washer 1"
                                },
                                {
                                    "Name": "External Lock Washer 8"
                                },
                                {
                                    "Name": "External Lock Washer 2"
                                },
                                {
                                    "Name": "Internal Lock Washer 3"
                                },
                                {
                                    "Name": "Internal Lock Washer 4"
                                },
                                {
                                    "Name": "Internal Lock Washer 9"
                                },
                                {
                                    "Name": "Internal Lock Washer 5"
                                },
                                {
                                    "Name": "Internal Lock Washer 7"
                                },
                                {
                                    "Name": "Internal Lock Washer 6"
                                },
                                {
                                    "Name": "Internal Lock Washer 10"
                                },
                                {
                                    "Name": "Internal Lock Washer 1"
                                },
                                {
                                    "Name": "Internal Lock Washer 8"
                                },
                                {
                                    "Name": "Internal Lock Washer 2"
                                },
                                {
                                    "Name": "Thin-Jam Lock Nut 9"
                                },
                                {
                                    "Name": "Thin-Jam Lock Nut 10"
                                },
                                {
                                    "Name": "Thin-Jam Lock Nut 1"
                                },
                                {
                                    "Name": "Thin-Jam Lock Nut 2"
                                },
                                {
                                    "Name": "Thin-Jam Lock Nut 15"
                                },
                                {
                                    "Name": "Thin-Jam Lock Nut 16"
                                },
                                {
                                    "Name": "Thin-Jam Lock Nut 5"
                                },
                                {
                                    "Name": "Thin-Jam Lock Nut 6"
                                },
                                {
                                    "Name": "Thin-Jam Lock Nut 3"
                                },
                                {
                                    "Name": "Thin-Jam Lock Nut 4"
                                },
                                {
                                    "Name": "Thin-Jam Lock Nut 13"
                                },
                                {
                                    "Name": "Thin-Jam Lock Nut 14"
                                },
                                {
                                    "Name": "Thin-Jam Lock Nut 7"
                                },
                                {
                                    "Name": "Thin-Jam Lock Nut 8"
                                },
                                {
                                    "Name": "Thin-Jam Lock Nut 12"
                                },
                                {
                                    "Name": "Thin-Jam Lock Nut 11"
                                },
                                {
                                    "Name": "Lock Nut 5"
                                },
                                {
                                    "Name": "Lock Nut 6"
                                },
                                {
                                    "Name": "Lock Nut 16"
                                },
                                {
                                    "Name": "Lock Nut 17"
                                },
                                {
                                    "Name": "Lock Nut 7"
                                },
                                {
                                    "Name": "Lock Nut 8"
                                },
                                {
                                    "Name": "Lock Nut 9"
                                },
                                {
                                    "Name": "Lock Nut 22"
                                },
                                {
                                    "Name": "Lock Nut 23"
                                },
                                {
                                    "Name": "Lock Nut 12"
                                },
                                {
                                    "Name": "Lock Nut 13"
                                },
                                {
                                    "Name": "Lock Nut 1"
                                },
                                {
                                    "Name": "Lock Nut 10"
                                },
                                {
                                    "Name": "Lock Nut 11"
                                },
                                {
                                    "Name": "Lock Nut 2"
                                },
                                {
                                    "Name": "Lock Nut 20"
                                },
                                {
                                    "Name": "Lock Nut 21"
                                },
                                {
                                    "Name": "Lock Nut 3"
                                },
                                {
                                    "Name": "Lock Nut 14"
                                },
                                {
                                    "Name": "Lock Nut 15"
                                },
                                {
                                    "Name": "Lock Nut 4"
                                },
                                {
                                    "Name": "Lock Nut 19"
                                },
                                {
                                    "Name": "Lock Nut 18"
                                },
                                {
                                    "Name": "Lock Ring"
                                },
                                {
                                    "Name": "Lower Head Race"
                                },
                                {
                                    "Name": "Lock Washer 4"
                                },
                                {
                                    "Name": "Lock Washer 5"
                                },
                                {
                                    "Name": "Lock Washer 10"
                                },
                                {
                                    "Name": "Lock Washer 6"
                                },
                                {
                                    "Name": "Lock Washer 13"
                                },
                                {
                                    "Name": "Lock Washer 8"
                                },
                                {
                                    "Name": "Lock Washer 1"
                                },
                                {
                                    "Name": "Lock Washer 7"
                                },
                                {
                                    "Name": "Lock Washer 12"
                                },
                                {
                                    "Name": "Lock Washer 2"
                                },
                                {
                                    "Name": "Lock Washer 9"
                                },
                                {
                                    "Name": "Lock Washer 3"
                                },
                                {
                                    "Name": "Lock Washer 11"
                                },
                                {
                                    "Name": "Metal Angle"
                                },
                                {
                                    "Name": "Metal Bar 1"
                                },
                                {
                                    "Name": "Metal Bar 2"
                                },
                                {
                                    "Name": "Metal Plate 2"
                                },
                                {
                                    "Name": "Metal Plate 1"
                                },
                                {
                                    "Name": "Metal Plate 3"
                                },
                                {
                                    "Name": "Metal Sheet 2"
                                },
                                {
                                    "Name": "Metal Sheet 3"
                                },
                                {
                                    "Name": "Metal Sheet 7"
                                },
                                {
                                    "Name": "Metal Sheet 4"
                                },
                                {
                                    "Name": "Metal Sheet 5"
                                },
                                {
                                    "Name": "Metal Sheet 6"
                                },
                                {
                                    "Name": "Metal Sheet 1"
                                },
                                {
                                    "Name": "Metal Tread Plate"
                                },
                                {
                                    "Name": "LL Nipple"
                                },
                                {
                                    "Name": "HL Nipple"
                                },
                                {
                                    "Name": "Paint - Black"
                                },
                                {
                                    "Name": "Paint - Red"
                                },
                                {
                                    "Name": "Paint - Silver"
                                },
                                {
                                    "Name": "Paint - Blue"
                                },
                                {
                                    "Name": "Paint - Yellow"
                                },
                                {
                                    "Name": "Pinch Bolt"
                                },
                                {
                                    "Name": "Cup-Shaped Race"
                                },
                                {
                                    "Name": "Cone-Shaped Race"
                                },
                                {
                                    "Name": "Reflector"
                                },
                                {
                                    "Name": "LL Mountain Rim"
                                },
                                {
                                    "Name": "ML Mountain Rim"
                                },
                                {
                                    "Name": "HL Mountain Rim"
                                },
                                {
                                    "Name": "LL Road Rim"
                                },
                                {
                                    "Name": "ML Road Rim"
                                },
                                {
                                    "Name": "HL Road Rim"
                                },
                                {
                                    "Name": "Touring Rim"
                                },
                                {
                                    "Name": "LL Mountain Seat Assembly"
                                },
                                {
                                    "Name": "ML Mountain Seat Assembly"
                                },
                                {
                                    "Name": "HL Mountain Seat Assembly"
                                },
                                {
                                    "Name": "LL Road Seat Assembly"
                                },
                                {
                                    "Name": "ML Road Seat Assembly"
                                },
                                {
                                    "Name": "HL Road Seat Assembly"
                                },
                                {
                                    "Name": "LL Touring Seat Assembly"
                                },
                                {
                                    "Name": "ML Touring Seat Assembly"
                                },
                                {
                                    "Name": "HL Touring Seat Assembly"
                                },
                                {
                                    "Name": "LL Spindle/Axle"
                                },
                                {
                                    "Name": "HL Spindle/Axle"
                                },
                                {
                                    "Name": "LL Shell"
                                },
                                {
                                    "Name": "HL Shell"
                                },
                                {
                                    "Name": "Spokes"
                                },
                                {
                                    "Name": "Seat Lug"
                                },
                                {
                                    "Name": "Stem"
                                },
                                {
                                    "Name": "Seat Post"
                                },
                                {
                                    "Name": "Steerer"
                                },
                                {
                                    "Name": "Seat Stays"
                                },
                                {
                                    "Name": "Seat Tube"
                                },
                                {
                                    "Name": "Top Tube"
                                },
                                {
                                    "Name": "Tension Pulley"
                                },
                                {
                                    "Name": "Rear Derailleur Cage"
                                },
                                {
                                    "Name": "HL Road Frame - Black, 58"
                                },
                                {
                                    "Name": "HL Road Frame - Red, 58"
                                }
                            ]
                        },
                        "text/html": "<table><tr><th>Name</th></tr><tr><td>Adjustable Race</td></tr><tr><td>Bearing Ball</td></tr><tr><td>BB Ball Bearing</td></tr><tr><td>Headset Ball Bearings</td></tr><tr><td>Blade</td></tr><tr><td>LL Crankarm</td></tr><tr><td>ML Crankarm</td></tr><tr><td>HL Crankarm</td></tr><tr><td>Chainring Bolts</td></tr><tr><td>Chainring Nut</td></tr><tr><td>Chainring</td></tr><tr><td>Crown Race</td></tr><tr><td>Chain Stays</td></tr><tr><td>Decal 1</td></tr><tr><td>Decal 2</td></tr><tr><td>Down Tube</td></tr><tr><td>Mountain End Caps</td></tr><tr><td>Road End Caps</td></tr><tr><td>Touring End Caps</td></tr><tr><td>Fork End</td></tr><tr><td>Freewheel</td></tr><tr><td>Flat Washer 1</td></tr><tr><td>Flat Washer 6</td></tr><tr><td>Flat Washer 2</td></tr><tr><td>Flat Washer 9</td></tr><tr><td>Flat Washer 4</td></tr><tr><td>Flat Washer 3</td></tr><tr><td>Flat Washer 8</td></tr><tr><td>Flat Washer 5</td></tr><tr><td>Flat Washer 7</td></tr><tr><td>Fork Crown</td></tr><tr><td>Front Derailleur Cage</td></tr><tr><td>Front Derailleur Linkage</td></tr><tr><td>Guide Pulley</td></tr><tr><td>LL Grip Tape</td></tr><tr><td>ML Grip Tape</td></tr><tr><td>HL Grip Tape</td></tr><tr><td>Thin-Jam Hex Nut 9</td></tr><tr><td>Thin-Jam Hex Nut 10</td></tr><tr><td>Thin-Jam Hex Nut 1</td></tr><tr><td>Thin-Jam Hex Nut 2</td></tr><tr><td>Thin-Jam Hex Nut 15</td></tr><tr><td>Thin-Jam Hex Nut 16</td></tr><tr><td>Thin-Jam Hex Nut 5</td></tr><tr><td>Thin-Jam Hex Nut 6</td></tr><tr><td>Thin-Jam Hex Nut 3</td></tr><tr><td>Thin-Jam Hex Nut 4</td></tr><tr><td>Thin-Jam Hex Nut 13</td></tr><tr><td>Thin-Jam Hex Nut 14</td></tr><tr><td>Thin-Jam Hex Nut 7</td></tr><tr><td>Thin-Jam Hex Nut 8</td></tr><tr><td>Thin-Jam Hex Nut 12</td></tr><tr><td>Thin-Jam Hex Nut 11</td></tr><tr><td>Hex Nut 5</td></tr><tr><td>Hex Nut 6</td></tr><tr><td>Hex Nut 16</td></tr><tr><td>Hex Nut 17</td></tr><tr><td>Hex Nut 7</td></tr><tr><td>Hex Nut 8</td></tr><tr><td>Hex Nut 9</td></tr><tr><td>Hex Nut 22</td></tr><tr><td>Hex Nut 23</td></tr><tr><td>Hex Nut 12</td></tr><tr><td>Hex Nut 13</td></tr><tr><td>Hex Nut 1</td></tr><tr><td>Hex Nut 10</td></tr><tr><td>Hex Nut 11</td></tr><tr><td>Hex Nut 2</td></tr><tr><td>Hex Nut 20</td></tr><tr><td>Hex Nut 21</td></tr><tr><td>Hex Nut 3</td></tr><tr><td>Hex Nut 14</td></tr><tr><td>Hex Nut 15</td></tr><tr><td>Hex Nut 4</td></tr><tr><td>Hex Nut 18</td></tr><tr><td>Hex Nut 19</td></tr><tr><td>Handlebar Tube</td></tr><tr><td>Head Tube</td></tr><tr><td>LL Hub</td></tr><tr><td>HL Hub</td></tr><tr><td>Keyed Washer</td></tr><tr><td>External Lock Washer 3</td></tr><tr><td>External Lock Washer 4</td></tr><tr><td>External Lock Washer 9</td></tr><tr><td>External Lock Washer 5</td></tr><tr><td>External Lock Washer 7</td></tr><tr><td>External Lock Washer 6</td></tr><tr><td>External Lock Washer 1</td></tr><tr><td>External Lock Washer 8</td></tr><tr><td>External Lock Washer 2</td></tr><tr><td>Internal Lock Washer 3</td></tr><tr><td>Internal Lock Washer 4</td></tr><tr><td>Internal Lock Washer 9</td></tr><tr><td>Internal Lock Washer 5</td></tr><tr><td>Internal Lock Washer 7</td></tr><tr><td>Internal Lock Washer 6</td></tr><tr><td>Internal Lock Washer 10</td></tr><tr><td>Internal Lock Washer 1</td></tr><tr><td>Internal Lock Washer 8</td></tr><tr><td>Internal Lock Washer 2</td></tr><tr><td>Thin-Jam Lock Nut 9</td></tr><tr><td>Thin-Jam Lock Nut 10</td></tr><tr><td>Thin-Jam Lock Nut 1</td></tr><tr><td>Thin-Jam Lock Nut 2</td></tr><tr><td>Thin-Jam Lock Nut 15</td></tr><tr><td>Thin-Jam Lock Nut 16</td></tr><tr><td>Thin-Jam Lock Nut 5</td></tr><tr><td>Thin-Jam Lock Nut 6</td></tr><tr><td>Thin-Jam Lock Nut 3</td></tr><tr><td>Thin-Jam Lock Nut 4</td></tr><tr><td>Thin-Jam Lock Nut 13</td></tr><tr><td>Thin-Jam Lock Nut 14</td></tr><tr><td>Thin-Jam Lock Nut 7</td></tr><tr><td>Thin-Jam Lock Nut 8</td></tr><tr><td>Thin-Jam Lock Nut 12</td></tr><tr><td>Thin-Jam Lock Nut 11</td></tr><tr><td>Lock Nut 5</td></tr><tr><td>Lock Nut 6</td></tr><tr><td>Lock Nut 16</td></tr><tr><td>Lock Nut 17</td></tr><tr><td>Lock Nut 7</td></tr><tr><td>Lock Nut 8</td></tr><tr><td>Lock Nut 9</td></tr><tr><td>Lock Nut 22</td></tr><tr><td>Lock Nut 23</td></tr><tr><td>Lock Nut 12</td></tr><tr><td>Lock Nut 13</td></tr><tr><td>Lock Nut 1</td></tr><tr><td>Lock Nut 10</td></tr><tr><td>Lock Nut 11</td></tr><tr><td>Lock Nut 2</td></tr><tr><td>Lock Nut 20</td></tr><tr><td>Lock Nut 21</td></tr><tr><td>Lock Nut 3</td></tr><tr><td>Lock Nut 14</td></tr><tr><td>Lock Nut 15</td></tr><tr><td>Lock Nut 4</td></tr><tr><td>Lock Nut 19</td></tr><tr><td>Lock Nut 18</td></tr><tr><td>Lock Ring</td></tr><tr><td>Lower Head Race</td></tr><tr><td>Lock Washer 4</td></tr><tr><td>Lock Washer 5</td></tr><tr><td>Lock Washer 10</td></tr><tr><td>Lock Washer 6</td></tr><tr><td>Lock Washer 13</td></tr><tr><td>Lock Washer 8</td></tr><tr><td>Lock Washer 1</td></tr><tr><td>Lock Washer 7</td></tr><tr><td>Lock Washer 12</td></tr><tr><td>Lock Washer 2</td></tr><tr><td>Lock Washer 9</td></tr><tr><td>Lock Washer 3</td></tr><tr><td>Lock Washer 11</td></tr><tr><td>Metal Angle</td></tr><tr><td>Metal Bar 1</td></tr><tr><td>Metal Bar 2</td></tr><tr><td>Metal Plate 2</td></tr><tr><td>Metal Plate 1</td></tr><tr><td>Metal Plate 3</td></tr><tr><td>Metal Sheet 2</td></tr><tr><td>Metal Sheet 3</td></tr><tr><td>Metal Sheet 7</td></tr><tr><td>Metal Sheet 4</td></tr><tr><td>Metal Sheet 5</td></tr><tr><td>Metal Sheet 6</td></tr><tr><td>Metal Sheet 1</td></tr><tr><td>Metal Tread Plate</td></tr><tr><td>LL Nipple</td></tr><tr><td>HL Nipple</td></tr><tr><td>Paint - Black</td></tr><tr><td>Paint - Red</td></tr><tr><td>Paint - Silver</td></tr><tr><td>Paint - Blue</td></tr><tr><td>Paint - Yellow</td></tr><tr><td>Pinch Bolt</td></tr><tr><td>Cup-Shaped Race</td></tr><tr><td>Cone-Shaped Race</td></tr><tr><td>Reflector</td></tr><tr><td>LL Mountain Rim</td></tr><tr><td>ML Mountain Rim</td></tr><tr><td>HL Mountain Rim</td></tr><tr><td>LL Road Rim</td></tr><tr><td>ML Road Rim</td></tr><tr><td>HL Road Rim</td></tr><tr><td>Touring Rim</td></tr><tr><td>LL Mountain Seat Assembly</td></tr><tr><td>ML Mountain Seat Assembly</td></tr><tr><td>HL Mountain Seat Assembly</td></tr><tr><td>LL Road Seat Assembly</td></tr><tr><td>ML Road Seat Assembly</td></tr><tr><td>HL Road Seat Assembly</td></tr><tr><td>LL Touring Seat Assembly</td></tr><tr><td>ML Touring Seat Assembly</td></tr><tr><td>HL Touring Seat Assembly</td></tr><tr><td>LL Spindle/Axle</td></tr><tr><td>HL Spindle/Axle</td></tr><tr><td>LL Shell</td></tr><tr><td>HL Shell</td></tr><tr><td>Spokes</td></tr><tr><td>Seat Lug</td></tr><tr><td>Stem</td></tr><tr><td>Seat Post</td></tr><tr><td>Steerer</td></tr><tr><td>Seat Stays</td></tr><tr><td>Seat Tube</td></tr><tr><td>Top Tube</td></tr><tr><td>Tension Pulley</td></tr><tr><td>Rear Derailleur Cage</td></tr><tr><td>HL Road Frame - Black, 58</td></tr><tr><td>HL Road Frame - Red, 58</td></tr></table>"
                    },
                    "metadata": {}
                }
            ],
            "execution_count": 43
        },
        {
            "cell_type": "markdown",
            "source": [
                "10\\. seleccionar todos los productos que comienzan por a"
            ],
            "metadata": {
                "language": "sql",
                "azdata_cell_guid": "80b6e96c-91a5-45cb-bf55-ff4f50517684"
            },
            "attachments": {}
        },
        {
            "cell_type": "code",
            "source": [
                "SELECT        Name\r\n",
                "FROM          Production.Product\r\n",
                "WHERE         LEFT(Name,1)= 'a'"
            ],
            "metadata": {
                "language": "sql",
                "azdata_cell_guid": "7b3405b6-acce-4180-a1e0-80797b7003d6"
            },
            "outputs": [
                {
                    "output_type": "display_data",
                    "data": {
                        "text/html": "(3 rows affected)"
                    },
                    "metadata": {}
                },
                {
                    "output_type": "display_data",
                    "data": {
                        "text/html": "Total execution time: 00:00:00.017"
                    },
                    "metadata": {}
                },
                {
                    "output_type": "execute_result",
                    "execution_count": 44,
                    "data": {
                        "application/vnd.dataresource+json": {
                            "schema": {
                                "fields": [
                                    {
                                        "name": "Name"
                                    }
                                ]
                            },
                            "data": [
                                {
                                    "Name": "Adjustable Race"
                                },
                                {
                                    "Name": "All-Purpose Bike Stand"
                                },
                                {
                                    "Name": "AWC Logo Cap"
                                }
                            ]
                        },
                        "text/html": "<table><tr><th>Name</th></tr><tr><td>Adjustable Race</td></tr><tr><td>All-Purpose Bike Stand</td></tr><tr><td>AWC Logo Cap</td></tr></table>"
                    },
                    "metadata": {}
                }
            ],
            "execution_count": 44
        },
        {
            "cell_type": "markdown",
            "source": [
                "11\\. seleccionar todos los productos que terminan con g"
            ],
            "metadata": {
                "language": "sql",
                "azdata_cell_guid": "562de77b-a48e-43a8-9038-27dc6813c4af"
            },
            "attachments": {}
        },
        {
            "cell_type": "code",
            "source": [
                "SELECT        Name\r\n",
                "FROM          Production.Product\r\n",
                "WHERE         RIGHT(Name,1)= 'g'"
            ],
            "metadata": {
                "language": "sql",
                "azdata_cell_guid": "ede9461e-b22c-4100-a818-1a68026cfa0d"
            },
            "outputs": [
                {
                    "output_type": "display_data",
                    "data": {
                        "text/html": "(4 rows affected)"
                    },
                    "metadata": {}
                },
                {
                    "output_type": "display_data",
                    "data": {
                        "text/html": "Total execution time: 00:00:00.004"
                    },
                    "metadata": {}
                },
                {
                    "output_type": "execute_result",
                    "execution_count": 45,
                    "data": {
                        "application/vnd.dataresource+json": {
                            "schema": {
                                "fields": [
                                    {
                                        "name": "Name"
                                    }
                                ]
                            },
                            "data": [
                                {
                                    "Name": "BB Ball Bearing"
                                },
                                {
                                    "Name": "Chainring"
                                },
                                {
                                    "Name": "Lock Ring"
                                },
                                {
                                    "Name": "Seat Lug"
                                }
                            ]
                        },
                        "text/html": "<table><tr><th>Name</th></tr><tr><td>BB Ball Bearing</td></tr><tr><td>Chainring</td></tr><tr><td>Lock Ring</td></tr><tr><td>Seat Lug</td></tr></table>"
                    },
                    "metadata": {}
                }
            ],
            "execution_count": 45
        },
        {
            "cell_type": "markdown",
            "source": [
                "12\\. seleccionar todos los productos que comienzan por C y terminan por g"
            ],
            "metadata": {
                "language": "sql",
                "azdata_cell_guid": "db632517-abc4-45cf-834f-8557db272193"
            },
            "attachments": {}
        },
        {
            "cell_type": "code",
            "source": [
                "SELECT        Name\r\n",
                "FROM          Production.Product\r\n",
                "WHERE         RIGHT(Name,1)= 'g' and LEFT(Name,1)= 'c'"
            ],
            "metadata": {
                "language": "sql",
                "azdata_cell_guid": "23a9f565-f8b2-47ca-b3ee-fdcc7ca7c0ed"
            },
            "outputs": [
                {
                    "output_type": "display_data",
                    "data": {
                        "text/html": "(1 row affected)"
                    },
                    "metadata": {}
                },
                {
                    "output_type": "display_data",
                    "data": {
                        "text/html": "Total execution time: 00:00:00.004"
                    },
                    "metadata": {}
                },
                {
                    "output_type": "execute_result",
                    "execution_count": 46,
                    "data": {
                        "application/vnd.dataresource+json": {
                            "schema": {
                                "fields": [
                                    {
                                        "name": "Name"
                                    }
                                ]
                            },
                            "data": [
                                {
                                    "Name": "Chainring"
                                }
                            ]
                        },
                        "text/html": "<table><tr><th>Name</th></tr><tr><td>Chainring</td></tr></table>"
                    },
                    "metadata": {}
                }
            ],
            "execution_count": 46
        },
        {
            "cell_type": "markdown",
            "source": [
                "**13**. seleccionar todos los productos que contengan una a"
            ],
            "metadata": {
                "language": "sql",
                "azdata_cell_guid": "81bd1fb6-75be-4664-8192-309f9180d7d5"
            },
            "attachments": {}
        },
        {
            "cell_type": "code",
            "source": [
                "SELECT        Name\r\n",
                "FROM          Production.Product\r\n",
                "WHERE         CHARINDEX('a',Name)>0\r\n",
                "WHERE"
            ],
            "metadata": {
                "language": "sql",
                "azdata_cell_guid": "1aa22048-aa64-4ff3-ba37-ab4aa9cf6a1b"
            },
            "outputs": [
                {
                    "output_type": "display_data",
                    "data": {
                        "text/html": "(390 rows affected)"
                    },
                    "metadata": {}
                },
                {
                    "output_type": "display_data",
                    "data": {
                        "text/html": "Total execution time: 00:00:00.073"
                    },
                    "metadata": {}
                },
                {
                    "output_type": "execute_result",
                    "execution_count": 50,
                    "data": {
                        "application/vnd.dataresource+json": {
                            "schema": {
                                "fields": [
                                    {
                                        "name": "Name"
                                    }
                                ]
                            },
                            "data": [
                                {
                                    "Name": "Adjustable Race"
                                },
                                {
                                    "Name": "All-Purpose Bike Stand"
                                },
                                {
                                    "Name": "AWC Logo Cap"
                                },
                                {
                                    "Name": "BB Ball Bearing"
                                },
                                {
                                    "Name": "Bearing Ball"
                                },
                                {
                                    "Name": "Bike Wash - Dissolver"
                                },
                                {
                                    "Name": "Blade"
                                },
                                {
                                    "Name": "Cable Lock"
                                },
                                {
                                    "Name": "Chain"
                                },
                                {
                                    "Name": "Chain Stays"
                                },
                                {
                                    "Name": "Chainring"
                                },
                                {
                                    "Name": "Chainring Bolts"
                                },
                                {
                                    "Name": "Chainring Nut"
                                },
                                {
                                    "Name": "Classic Vest, L"
                                },
                                {
                                    "Name": "Classic Vest, M"
                                },
                                {
                                    "Name": "Classic Vest, S"
                                },
                                {
                                    "Name": "Cone-Shaped Race"
                                },
                                {
                                    "Name": "Crown Race"
                                },
                                {
                                    "Name": "Cup-Shaped Race"
                                },
                                {
                                    "Name": "Decal 1"
                                },
                                {
                                    "Name": "Decal 2"
                                },
                                {
                                    "Name": "External Lock Washer 1"
                                },
                                {
                                    "Name": "External Lock Washer 2"
                                },
                                {
                                    "Name": "External Lock Washer 3"
                                },
                                {
                                    "Name": "External Lock Washer 4"
                                },
                                {
                                    "Name": "External Lock Washer 5"
                                },
                                {
                                    "Name": "External Lock Washer 6"
                                },
                                {
                                    "Name": "External Lock Washer 7"
                                },
                                {
                                    "Name": "External Lock Washer 8"
                                },
                                {
                                    "Name": "External Lock Washer 9"
                                },
                                {
                                    "Name": "Fender Set - Mountain"
                                },
                                {
                                    "Name": "Flat Washer 1"
                                },
                                {
                                    "Name": "Flat Washer 2"
                                },
                                {
                                    "Name": "Flat Washer 3"
                                },
                                {
                                    "Name": "Flat Washer 4"
                                },
                                {
                                    "Name": "Flat Washer 5"
                                },
                                {
                                    "Name": "Flat Washer 6"
                                },
                                {
                                    "Name": "Flat Washer 7"
                                },
                                {
                                    "Name": "Flat Washer 8"
                                },
                                {
                                    "Name": "Flat Washer 9"
                                },
                                {
                                    "Name": "Front Brakes"
                                },
                                {
                                    "Name": "Front Derailleur"
                                },
                                {
                                    "Name": "Front Derailleur Cage"
                                },
                                {
                                    "Name": "Front Derailleur Linkage"
                                },
                                {
                                    "Name": "Half-Finger Gloves, L"
                                },
                                {
                                    "Name": "Half-Finger Gloves, M"
                                },
                                {
                                    "Name": "Half-Finger Gloves, S"
                                },
                                {
                                    "Name": "Handlebar Tube"
                                },
                                {
                                    "Name": "Head Tube"
                                },
                                {
                                    "Name": "Headlights - Dual-Beam"
                                },
                                {
                                    "Name": "Headlights - Weatherproof"
                                },
                                {
                                    "Name": "Headset Ball Bearings"
                                },
                                {
                                    "Name": "Hitch Rack - 4-Bike"
                                },
                                {
                                    "Name": "HL Bottom Bracket"
                                },
                                {
                                    "Name": "HL Crankarm"
                                },
                                {
                                    "Name": "HL Crankset"
                                },
                                {
                                    "Name": "HL Grip Tape"
                                },
                                {
                                    "Name": "HL Headset"
                                },
                                {
                                    "Name": "HL Mountain Frame - Black, 38"
                                },
                                {
                                    "Name": "HL Mountain Frame - Black, 42"
                                },
                                {
                                    "Name": "HL Mountain Frame - Black, 44"
                                },
                                {
                                    "Name": "HL Mountain Frame - Black, 46"
                                },
                                {
                                    "Name": "HL Mountain Frame - Black, 48"
                                },
                                {
                                    "Name": "HL Mountain Frame - Silver, 38"
                                },
                                {
                                    "Name": "HL Mountain Frame - Silver, 42"
                                },
                                {
                                    "Name": "HL Mountain Frame - Silver, 44"
                                },
                                {
                                    "Name": "HL Mountain Frame - Silver, 46"
                                },
                                {
                                    "Name": "HL Mountain Frame - Silver, 48"
                                },
                                {
                                    "Name": "HL Mountain Front Wheel"
                                },
                                {
                                    "Name": "HL Mountain Handlebars"
                                },
                                {
                                    "Name": "HL Mountain Pedal"
                                },
                                {
                                    "Name": "HL Mountain Rear Wheel"
                                },
                                {
                                    "Name": "HL Mountain Rim"
                                },
                                {
                                    "Name": "HL Mountain Seat Assembly"
                                },
                                {
                                    "Name": "HL Mountain Seat/Saddle"
                                },
                                {
                                    "Name": "HL Mountain Tire"
                                },
                                {
                                    "Name": "HL Road Frame - Black, 44"
                                },
                                {
                                    "Name": "HL Road Frame - Black, 48"
                                },
                                {
                                    "Name": "HL Road Frame - Black, 52"
                                },
                                {
                                    "Name": "HL Road Frame - Black, 58"
                                },
                                {
                                    "Name": "HL Road Frame - Black, 62"
                                },
                                {
                                    "Name": "HL Road Frame - Red, 44"
                                },
                                {
                                    "Name": "HL Road Frame - Red, 48"
                                },
                                {
                                    "Name": "HL Road Frame - Red, 52"
                                },
                                {
                                    "Name": "HL Road Frame - Red, 56"
                                },
                                {
                                    "Name": "HL Road Frame - Red, 58"
                                },
                                {
                                    "Name": "HL Road Frame - Red, 62"
                                },
                                {
                                    "Name": "HL Road Front Wheel"
                                },
                                {
                                    "Name": "HL Road Handlebars"
                                },
                                {
                                    "Name": "HL Road Pedal"
                                },
                                {
                                    "Name": "HL Road Rear Wheel"
                                },
                                {
                                    "Name": "HL Road Rim"
                                },
                                {
                                    "Name": "HL Road Seat Assembly"
                                },
                                {
                                    "Name": "HL Road Seat/Saddle"
                                },
                                {
                                    "Name": "HL Road Tire"
                                },
                                {
                                    "Name": "HL Spindle/Axle"
                                },
                                {
                                    "Name": "HL Touring Frame - Blue, 46"
                                },
                                {
                                    "Name": "HL Touring Frame - Blue, 50"
                                },
                                {
                                    "Name": "HL Touring Frame - Blue, 54"
                                },
                                {
                                    "Name": "HL Touring Frame - Blue, 60"
                                },
                                {
                                    "Name": "HL Touring Frame - Yellow, 46"
                                },
                                {
                                    "Name": "HL Touring Frame - Yellow, 50"
                                },
                                {
                                    "Name": "HL Touring Frame - Yellow, 54"
                                },
                                {
                                    "Name": "HL Touring Frame - Yellow, 60"
                                },
                                {
                                    "Name": "HL Touring Handlebars"
                                },
                                {
                                    "Name": "HL Touring Seat Assembly"
                                },
                                {
                                    "Name": "HL Touring Seat/Saddle"
                                },
                                {
                                    "Name": "Hydration Pack - 70 oz."
                                },
                                {
                                    "Name": "Internal Lock Washer 1"
                                },
                                {
                                    "Name": "Internal Lock Washer 10"
                                },
                                {
                                    "Name": "Internal Lock Washer 2"
                                },
                                {
                                    "Name": "Internal Lock Washer 3"
                                },
                                {
                                    "Name": "Internal Lock Washer 4"
                                },
                                {
                                    "Name": "Internal Lock Washer 5"
                                },
                                {
                                    "Name": "Internal Lock Washer 6"
                                },
                                {
                                    "Name": "Internal Lock Washer 7"
                                },
                                {
                                    "Name": "Internal Lock Washer 8"
                                },
                                {
                                    "Name": "Internal Lock Washer 9"
                                },
                                {
                                    "Name": "Keyed Washer"
                                },
                                {
                                    "Name": "LL Bottom Bracket"
                                },
                                {
                                    "Name": "LL Crankarm"
                                },
                                {
                                    "Name": "LL Crankset"
                                },
                                {
                                    "Name": "LL Grip Tape"
                                },
                                {
                                    "Name": "LL Headset"
                                },
                                {
                                    "Name": "LL Mountain Frame - Black, 40"
                                },
                                {
                                    "Name": "LL Mountain Frame - Black, 42"
                                },
                                {
                                    "Name": "LL Mountain Frame - Black, 44"
                                },
                                {
                                    "Name": "LL Mountain Frame - Black, 48"
                                },
                                {
                                    "Name": "LL Mountain Frame - Black, 52"
                                },
                                {
                                    "Name": "LL Mountain Frame - Silver, 40"
                                },
                                {
                                    "Name": "LL Mountain Frame - Silver, 42"
                                },
                                {
                                    "Name": "LL Mountain Frame - Silver, 44"
                                },
                                {
                                    "Name": "LL Mountain Frame - Silver, 48"
                                },
                                {
                                    "Name": "LL Mountain Frame - Silver, 52"
                                },
                                {
                                    "Name": "LL Mountain Front Wheel"
                                },
                                {
                                    "Name": "LL Mountain Handlebars"
                                },
                                {
                                    "Name": "LL Mountain Pedal"
                                },
                                {
                                    "Name": "LL Mountain Rear Wheel"
                                },
                                {
                                    "Name": "LL Mountain Rim"
                                },
                                {
                                    "Name": "LL Mountain Seat Assembly"
                                },
                                {
                                    "Name": "LL Mountain Seat/Saddle"
                                },
                                {
                                    "Name": "LL Mountain Tire"
                                },
                                {
                                    "Name": "LL Road Frame - Black, 44"
                                },
                                {
                                    "Name": "LL Road Frame - Black, 48"
                                },
                                {
                                    "Name": "LL Road Frame - Black, 52"
                                },
                                {
                                    "Name": "LL Road Frame - Black, 58"
                                },
                                {
                                    "Name": "LL Road Frame - Black, 60"
                                },
                                {
                                    "Name": "LL Road Frame - Black, 62"
                                },
                                {
                                    "Name": "LL Road Frame - Red, 44"
                                },
                                {
                                    "Name": "LL Road Frame - Red, 48"
                                },
                                {
                                    "Name": "LL Road Frame - Red, 52"
                                },
                                {
                                    "Name": "LL Road Frame - Red, 58"
                                },
                                {
                                    "Name": "LL Road Frame - Red, 60"
                                },
                                {
                                    "Name": "LL Road Frame - Red, 62"
                                },
                                {
                                    "Name": "LL Road Front Wheel"
                                },
                                {
                                    "Name": "LL Road Handlebars"
                                },
                                {
                                    "Name": "LL Road Pedal"
                                },
                                {
                                    "Name": "LL Road Rear Wheel"
                                },
                                {
                                    "Name": "LL Road Rim"
                                },
                                {
                                    "Name": "LL Road Seat Assembly"
                                },
                                {
                                    "Name": "LL Road Seat/Saddle"
                                },
                                {
                                    "Name": "LL Road Tire"
                                },
                                {
                                    "Name": "LL Spindle/Axle"
                                },
                                {
                                    "Name": "LL Touring Frame - Blue, 44"
                                },
                                {
                                    "Name": "LL Touring Frame - Blue, 50"
                                },
                                {
                                    "Name": "LL Touring Frame - Blue, 54"
                                },
                                {
                                    "Name": "LL Touring Frame - Blue, 58"
                                },
                                {
                                    "Name": "LL Touring Frame - Blue, 62"
                                },
                                {
                                    "Name": "LL Touring Frame - Yellow, 44"
                                },
                                {
                                    "Name": "LL Touring Frame - Yellow, 50"
                                },
                                {
                                    "Name": "LL Touring Frame - Yellow, 54"
                                },
                                {
                                    "Name": "LL Touring Frame - Yellow, 58"
                                },
                                {
                                    "Name": "LL Touring Frame - Yellow, 62"
                                },
                                {
                                    "Name": "LL Touring Handlebars"
                                },
                                {
                                    "Name": "LL Touring Seat Assembly"
                                },
                                {
                                    "Name": "LL Touring Seat/Saddle"
                                },
                                {
                                    "Name": "Lock Washer 1"
                                },
                                {
                                    "Name": "Lock Washer 10"
                                },
                                {
                                    "Name": "Lock Washer 11"
                                },
                                {
                                    "Name": "Lock Washer 12"
                                },
                                {
                                    "Name": "Lock Washer 13"
                                },
                                {
                                    "Name": "Lock Washer 2"
                                },
                                {
                                    "Name": "Lock Washer 3"
                                },
                                {
                                    "Name": "Lock Washer 4"
                                },
                                {
                                    "Name": "Lock Washer 5"
                                },
                                {
                                    "Name": "Lock Washer 6"
                                },
                                {
                                    "Name": "Lock Washer 7"
                                },
                                {
                                    "Name": "Lock Washer 8"
                                },
                                {
                                    "Name": "Lock Washer 9"
                                },
                                {
                                    "Name": "Lower Head Race"
                                },
                                {
                                    "Name": "Metal Angle"
                                },
                                {
                                    "Name": "Metal Bar 1"
                                },
                                {
                                    "Name": "Metal Bar 2"
                                },
                                {
                                    "Name": "Metal Plate 1"
                                },
                                {
                                    "Name": "Metal Plate 2"
                                },
                                {
                                    "Name": "Metal Plate 3"
                                },
                                {
                                    "Name": "Metal Sheet 1"
                                },
                                {
                                    "Name": "Metal Sheet 2"
                                },
                                {
                                    "Name": "Metal Sheet 3"
                                },
                                {
                                    "Name": "Metal Sheet 4"
                                },
                                {
                                    "Name": "Metal Sheet 5"
                                },
                                {
                                    "Name": "Metal Sheet 6"
                                },
                                {
                                    "Name": "Metal Sheet 7"
                                },
                                {
                                    "Name": "Metal Tread Plate"
                                },
                                {
                                    "Name": "ML Bottom Bracket"
                                },
                                {
                                    "Name": "ML Crankarm"
                                },
                                {
                                    "Name": "ML Crankset"
                                },
                                {
                                    "Name": "ML Grip Tape"
                                },
                                {
                                    "Name": "ML Headset"
                                },
                                {
                                    "Name": "ML Mountain Frame - Black, 38"
                                },
                                {
                                    "Name": "ML Mountain Frame - Black, 40"
                                },
                                {
                                    "Name": "ML Mountain Frame - Black, 44"
                                },
                                {
                                    "Name": "ML Mountain Frame - Black, 48"
                                },
                                {
                                    "Name": "ML Mountain Frame-W - Silver, 38"
                                },
                                {
                                    "Name": "ML Mountain Frame-W - Silver, 40"
                                },
                                {
                                    "Name": "ML Mountain Frame-W - Silver, 42"
                                },
                                {
                                    "Name": "ML Mountain Frame-W - Silver, 46"
                                },
                                {
                                    "Name": "ML Mountain Front Wheel"
                                },
                                {
                                    "Name": "ML Mountain Handlebars"
                                },
                                {
                                    "Name": "ML Mountain Pedal"
                                },
                                {
                                    "Name": "ML Mountain Rear Wheel"
                                },
                                {
                                    "Name": "ML Mountain Rim"
                                },
                                {
                                    "Name": "ML Mountain Seat Assembly"
                                },
                                {
                                    "Name": "ML Mountain Seat/Saddle"
                                },
                                {
                                    "Name": "ML Mountain Tire"
                                },
                                {
                                    "Name": "ML Road Frame - Red, 44"
                                },
                                {
                                    "Name": "ML Road Frame - Red, 48"
                                },
                                {
                                    "Name": "ML Road Frame - Red, 52"
                                },
                                {
                                    "Name": "ML Road Frame - Red, 58"
                                },
                                {
                                    "Name": "ML Road Frame - Red, 60"
                                },
                                {
                                    "Name": "ML Road Frame-W - Yellow, 38"
                                },
                                {
                                    "Name": "ML Road Frame-W - Yellow, 40"
                                },
                                {
                                    "Name": "ML Road Frame-W - Yellow, 42"
                                },
                                {
                                    "Name": "ML Road Frame-W - Yellow, 44"
                                },
                                {
                                    "Name": "ML Road Frame-W - Yellow, 48"
                                },
                                {
                                    "Name": "ML Road Front Wheel"
                                },
                                {
                                    "Name": "ML Road Handlebars"
                                },
                                {
                                    "Name": "ML Road Pedal"
                                },
                                {
                                    "Name": "ML Road Rear Wheel"
                                },
                                {
                                    "Name": "ML Road Rim"
                                },
                                {
                                    "Name": "ML Road Seat Assembly"
                                },
                                {
                                    "Name": "ML Road Seat/Saddle"
                                },
                                {
                                    "Name": "ML Road Tire"
                                },
                                {
                                    "Name": "ML Touring Seat Assembly"
                                },
                                {
                                    "Name": "ML Touring Seat/Saddle"
                                },
                                {
                                    "Name": "Mountain Bike Socks, L"
                                },
                                {
                                    "Name": "Mountain Bike Socks, M"
                                },
                                {
                                    "Name": "Mountain Bottle Cage"
                                },
                                {
                                    "Name": "Mountain End Caps"
                                },
                                {
                                    "Name": "Mountain Pump"
                                },
                                {
                                    "Name": "Mountain Tire Tube"
                                },
                                {
                                    "Name": "Mountain-100 Black, 38"
                                },
                                {
                                    "Name": "Mountain-100 Black, 42"
                                },
                                {
                                    "Name": "Mountain-100 Black, 44"
                                },
                                {
                                    "Name": "Mountain-100 Black, 48"
                                },
                                {
                                    "Name": "Mountain-100 Silver, 38"
                                },
                                {
                                    "Name": "Mountain-100 Silver, 42"
                                },
                                {
                                    "Name": "Mountain-100 Silver, 44"
                                },
                                {
                                    "Name": "Mountain-100 Silver, 48"
                                },
                                {
                                    "Name": "Mountain-200 Black, 38"
                                },
                                {
                                    "Name": "Mountain-200 Black, 42"
                                },
                                {
                                    "Name": "Mountain-200 Black, 46"
                                },
                                {
                                    "Name": "Mountain-200 Silver, 38"
                                },
                                {
                                    "Name": "Mountain-200 Silver, 42"
                                },
                                {
                                    "Name": "Mountain-200 Silver, 46"
                                },
                                {
                                    "Name": "Mountain-300 Black, 38"
                                },
                                {
                                    "Name": "Mountain-300 Black, 40"
                                },
                                {
                                    "Name": "Mountain-300 Black, 44"
                                },
                                {
                                    "Name": "Mountain-300 Black, 48"
                                },
                                {
                                    "Name": "Mountain-400-W Silver, 38"
                                },
                                {
                                    "Name": "Mountain-400-W Silver, 40"
                                },
                                {
                                    "Name": "Mountain-400-W Silver, 42"
                                },
                                {
                                    "Name": "Mountain-400-W Silver, 46"
                                },
                                {
                                    "Name": "Mountain-500 Black, 40"
                                },
                                {
                                    "Name": "Mountain-500 Black, 42"
                                },
                                {
                                    "Name": "Mountain-500 Black, 44"
                                },
                                {
                                    "Name": "Mountain-500 Black, 48"
                                },
                                {
                                    "Name": "Mountain-500 Black, 52"
                                },
                                {
                                    "Name": "Mountain-500 Silver, 40"
                                },
                                {
                                    "Name": "Mountain-500 Silver, 42"
                                },
                                {
                                    "Name": "Mountain-500 Silver, 44"
                                },
                                {
                                    "Name": "Mountain-500 Silver, 48"
                                },
                                {
                                    "Name": "Mountain-500 Silver, 52"
                                },
                                {
                                    "Name": "Paint - Black"
                                },
                                {
                                    "Name": "Paint - Blue"
                                },
                                {
                                    "Name": "Paint - Red"
                                },
                                {
                                    "Name": "Paint - Silver"
                                },
                                {
                                    "Name": "Paint - Yellow"
                                },
                                {
                                    "Name": "Patch Kit/8 Patches"
                                },
                                {
                                    "Name": "Racing Socks, L"
                                },
                                {
                                    "Name": "Racing Socks, M"
                                },
                                {
                                    "Name": "Rear Brakes"
                                },
                                {
                                    "Name": "Rear Derailleur"
                                },
                                {
                                    "Name": "Rear Derailleur Cage"
                                },
                                {
                                    "Name": "Road Bottle Cage"
                                },
                                {
                                    "Name": "Road End Caps"
                                },
                                {
                                    "Name": "Road Tire Tube"
                                },
                                {
                                    "Name": "Road-150 Red, 44"
                                },
                                {
                                    "Name": "Road-150 Red, 48"
                                },
                                {
                                    "Name": "Road-150 Red, 52"
                                },
                                {
                                    "Name": "Road-150 Red, 56"
                                },
                                {
                                    "Name": "Road-150 Red, 62"
                                },
                                {
                                    "Name": "Road-250 Black, 44"
                                },
                                {
                                    "Name": "Road-250 Black, 48"
                                },
                                {
                                    "Name": "Road-250 Black, 52"
                                },
                                {
                                    "Name": "Road-250 Black, 58"
                                },
                                {
                                    "Name": "Road-250 Red, 44"
                                },
                                {
                                    "Name": "Road-250 Red, 48"
                                },
                                {
                                    "Name": "Road-250 Red, 52"
                                },
                                {
                                    "Name": "Road-250 Red, 58"
                                },
                                {
                                    "Name": "Road-350-W Yellow, 40"
                                },
                                {
                                    "Name": "Road-350-W Yellow, 42"
                                },
                                {
                                    "Name": "Road-350-W Yellow, 44"
                                },
                                {
                                    "Name": "Road-350-W Yellow, 48"
                                },
                                {
                                    "Name": "Road-450 Red, 44"
                                },
                                {
                                    "Name": "Road-450 Red, 48"
                                },
                                {
                                    "Name": "Road-450 Red, 52"
                                },
                                {
                                    "Name": "Road-450 Red, 58"
                                },
                                {
                                    "Name": "Road-450 Red, 60"
                                },
                                {
                                    "Name": "Road-550-W Yellow, 38"
                                },
                                {
                                    "Name": "Road-550-W Yellow, 40"
                                },
                                {
                                    "Name": "Road-550-W Yellow, 42"
                                },
                                {
                                    "Name": "Road-550-W Yellow, 44"
                                },
                                {
                                    "Name": "Road-550-W Yellow, 48"
                                },
                                {
                                    "Name": "Road-650 Black, 44"
                                },
                                {
                                    "Name": "Road-650 Black, 48"
                                },
                                {
                                    "Name": "Road-650 Black, 52"
                                },
                                {
                                    "Name": "Road-650 Black, 58"
                                },
                                {
                                    "Name": "Road-650 Black, 60"
                                },
                                {
                                    "Name": "Road-650 Black, 62"
                                },
                                {
                                    "Name": "Road-650 Red, 44"
                                },
                                {
                                    "Name": "Road-650 Red, 48"
                                },
                                {
                                    "Name": "Road-650 Red, 52"
                                },
                                {
                                    "Name": "Road-650 Red, 58"
                                },
                                {
                                    "Name": "Road-650 Red, 60"
                                },
                                {
                                    "Name": "Road-650 Red, 62"
                                },
                                {
                                    "Name": "Road-750 Black, 44"
                                },
                                {
                                    "Name": "Road-750 Black, 48"
                                },
                                {
                                    "Name": "Road-750 Black, 52"
                                },
                                {
                                    "Name": "Road-750 Black, 58"
                                },
                                {
                                    "Name": "Seat Lug"
                                },
                                {
                                    "Name": "Seat Post"
                                },
                                {
                                    "Name": "Seat Stays"
                                },
                                {
                                    "Name": "Seat Tube"
                                },
                                {
                                    "Name": "Short-Sleeve Classic Jersey, L"
                                },
                                {
                                    "Name": "Short-Sleeve Classic Jersey, M"
                                },
                                {
                                    "Name": "Short-Sleeve Classic Jersey, S"
                                },
                                {
                                    "Name": "Short-Sleeve Classic Jersey, XL"
                                },
                                {
                                    "Name": "Sport-100 Helmet, Black"
                                },
                                {
                                    "Name": "Taillights - Battery-Powered"
                                },
                                {
                                    "Name": "Thin-Jam Hex Nut 1"
                                },
                                {
                                    "Name": "Thin-Jam Hex Nut 10"
                                },
                                {
                                    "Name": "Thin-Jam Hex Nut 11"
                                },
                                {
                                    "Name": "Thin-Jam Hex Nut 12"
                                },
                                {
                                    "Name": "Thin-Jam Hex Nut 13"
                                },
                                {
                                    "Name": "Thin-Jam Hex Nut 14"
                                },
                                {
                                    "Name": "Thin-Jam Hex Nut 15"
                                },
                                {
                                    "Name": "Thin-Jam Hex Nut 16"
                                },
                                {
                                    "Name": "Thin-Jam Hex Nut 2"
                                },
                                {
                                    "Name": "Thin-Jam Hex Nut 3"
                                },
                                {
                                    "Name": "Thin-Jam Hex Nut 4"
                                },
                                {
                                    "Name": "Thin-Jam Hex Nut 5"
                                },
                                {
                                    "Name": "Thin-Jam Hex Nut 6"
                                },
                                {
                                    "Name": "Thin-Jam Hex Nut 7"
                                },
                                {
                                    "Name": "Thin-Jam Hex Nut 8"
                                },
                                {
                                    "Name": "Thin-Jam Hex Nut 9"
                                },
                                {
                                    "Name": "Thin-Jam Lock Nut 1"
                                },
                                {
                                    "Name": "Thin-Jam Lock Nut 10"
                                },
                                {
                                    "Name": "Thin-Jam Lock Nut 11"
                                },
                                {
                                    "Name": "Thin-Jam Lock Nut 12"
                                },
                                {
                                    "Name": "Thin-Jam Lock Nut 13"
                                },
                                {
                                    "Name": "Thin-Jam Lock Nut 14"
                                },
                                {
                                    "Name": "Thin-Jam Lock Nut 15"
                                },
                                {
                                    "Name": "Thin-Jam Lock Nut 16"
                                },
                                {
                                    "Name": "Thin-Jam Lock Nut 2"
                                },
                                {
                                    "Name": "Thin-Jam Lock Nut 3"
                                },
                                {
                                    "Name": "Thin-Jam Lock Nut 4"
                                },
                                {
                                    "Name": "Thin-Jam Lock Nut 5"
                                },
                                {
                                    "Name": "Thin-Jam Lock Nut 6"
                                },
                                {
                                    "Name": "Thin-Jam Lock Nut 7"
                                },
                                {
                                    "Name": "Thin-Jam Lock Nut 8"
                                },
                                {
                                    "Name": "Thin-Jam Lock Nut 9"
                                },
                                {
                                    "Name": "Touring End Caps"
                                },
                                {
                                    "Name": "Touring Pedal"
                                },
                                {
                                    "Name": "Touring Rear Wheel"
                                },
                                {
                                    "Name": "Touring-Panniers, Large"
                                },
                                {
                                    "Name": "Water Bottle - 30 oz."
                                },
                                {
                                    "Name": "Women's Mountain Shorts, L"
                                },
                                {
                                    "Name": "Women's Mountain Shorts, M"
                                },
                                {
                                    "Name": "Women's Mountain Shorts, S"
                                }
                            ]
                        },
                        "text/html": "<table><tr><th>Name</th></tr><tr><td>Adjustable Race</td></tr><tr><td>All-Purpose Bike Stand</td></tr><tr><td>AWC Logo Cap</td></tr><tr><td>BB Ball Bearing</td></tr><tr><td>Bearing Ball</td></tr><tr><td>Bike Wash - Dissolver</td></tr><tr><td>Blade</td></tr><tr><td>Cable Lock</td></tr><tr><td>Chain</td></tr><tr><td>Chain Stays</td></tr><tr><td>Chainring</td></tr><tr><td>Chainring Bolts</td></tr><tr><td>Chainring Nut</td></tr><tr><td>Classic Vest, L</td></tr><tr><td>Classic Vest, M</td></tr><tr><td>Classic Vest, S</td></tr><tr><td>Cone-Shaped Race</td></tr><tr><td>Crown Race</td></tr><tr><td>Cup-Shaped Race</td></tr><tr><td>Decal 1</td></tr><tr><td>Decal 2</td></tr><tr><td>External Lock Washer 1</td></tr><tr><td>External Lock Washer 2</td></tr><tr><td>External Lock Washer 3</td></tr><tr><td>External Lock Washer 4</td></tr><tr><td>External Lock Washer 5</td></tr><tr><td>External Lock Washer 6</td></tr><tr><td>External Lock Washer 7</td></tr><tr><td>External Lock Washer 8</td></tr><tr><td>External Lock Washer 9</td></tr><tr><td>Fender Set - Mountain</td></tr><tr><td>Flat Washer 1</td></tr><tr><td>Flat Washer 2</td></tr><tr><td>Flat Washer 3</td></tr><tr><td>Flat Washer 4</td></tr><tr><td>Flat Washer 5</td></tr><tr><td>Flat Washer 6</td></tr><tr><td>Flat Washer 7</td></tr><tr><td>Flat Washer 8</td></tr><tr><td>Flat Washer 9</td></tr><tr><td>Front Brakes</td></tr><tr><td>Front Derailleur</td></tr><tr><td>Front Derailleur Cage</td></tr><tr><td>Front Derailleur Linkage</td></tr><tr><td>Half-Finger Gloves, L</td></tr><tr><td>Half-Finger Gloves, M</td></tr><tr><td>Half-Finger Gloves, S</td></tr><tr><td>Handlebar Tube</td></tr><tr><td>Head Tube</td></tr><tr><td>Headlights - Dual-Beam</td></tr><tr><td>Headlights - Weatherproof</td></tr><tr><td>Headset Ball Bearings</td></tr><tr><td>Hitch Rack - 4-Bike</td></tr><tr><td>HL Bottom Bracket</td></tr><tr><td>HL Crankarm</td></tr><tr><td>HL Crankset</td></tr><tr><td>HL Grip Tape</td></tr><tr><td>HL Headset</td></tr><tr><td>HL Mountain Frame - Black, 38</td></tr><tr><td>HL Mountain Frame - Black, 42</td></tr><tr><td>HL Mountain Frame - Black, 44</td></tr><tr><td>HL Mountain Frame - Black, 46</td></tr><tr><td>HL Mountain Frame - Black, 48</td></tr><tr><td>HL Mountain Frame - Silver, 38</td></tr><tr><td>HL Mountain Frame - Silver, 42</td></tr><tr><td>HL Mountain Frame - Silver, 44</td></tr><tr><td>HL Mountain Frame - Silver, 46</td></tr><tr><td>HL Mountain Frame - Silver, 48</td></tr><tr><td>HL Mountain Front Wheel</td></tr><tr><td>HL Mountain Handlebars</td></tr><tr><td>HL Mountain Pedal</td></tr><tr><td>HL Mountain Rear Wheel</td></tr><tr><td>HL Mountain Rim</td></tr><tr><td>HL Mountain Seat Assembly</td></tr><tr><td>HL Mountain Seat/Saddle</td></tr><tr><td>HL Mountain Tire</td></tr><tr><td>HL Road Frame - Black, 44</td></tr><tr><td>HL Road Frame - Black, 48</td></tr><tr><td>HL Road Frame - Black, 52</td></tr><tr><td>HL Road Frame - Black, 58</td></tr><tr><td>HL Road Frame - Black, 62</td></tr><tr><td>HL Road Frame - Red, 44</td></tr><tr><td>HL Road Frame - Red, 48</td></tr><tr><td>HL Road Frame - Red, 52</td></tr><tr><td>HL Road Frame - Red, 56</td></tr><tr><td>HL Road Frame - Red, 58</td></tr><tr><td>HL Road Frame - Red, 62</td></tr><tr><td>HL Road Front Wheel</td></tr><tr><td>HL Road Handlebars</td></tr><tr><td>HL Road Pedal</td></tr><tr><td>HL Road Rear Wheel</td></tr><tr><td>HL Road Rim</td></tr><tr><td>HL Road Seat Assembly</td></tr><tr><td>HL Road Seat/Saddle</td></tr><tr><td>HL Road Tire</td></tr><tr><td>HL Spindle/Axle</td></tr><tr><td>HL Touring Frame - Blue, 46</td></tr><tr><td>HL Touring Frame - Blue, 50</td></tr><tr><td>HL Touring Frame - Blue, 54</td></tr><tr><td>HL Touring Frame - Blue, 60</td></tr><tr><td>HL Touring Frame - Yellow, 46</td></tr><tr><td>HL Touring Frame - Yellow, 50</td></tr><tr><td>HL Touring Frame - Yellow, 54</td></tr><tr><td>HL Touring Frame - Yellow, 60</td></tr><tr><td>HL Touring Handlebars</td></tr><tr><td>HL Touring Seat Assembly</td></tr><tr><td>HL Touring Seat/Saddle</td></tr><tr><td>Hydration Pack - 70 oz.</td></tr><tr><td>Internal Lock Washer 1</td></tr><tr><td>Internal Lock Washer 10</td></tr><tr><td>Internal Lock Washer 2</td></tr><tr><td>Internal Lock Washer 3</td></tr><tr><td>Internal Lock Washer 4</td></tr><tr><td>Internal Lock Washer 5</td></tr><tr><td>Internal Lock Washer 6</td></tr><tr><td>Internal Lock Washer 7</td></tr><tr><td>Internal Lock Washer 8</td></tr><tr><td>Internal Lock Washer 9</td></tr><tr><td>Keyed Washer</td></tr><tr><td>LL Bottom Bracket</td></tr><tr><td>LL Crankarm</td></tr><tr><td>LL Crankset</td></tr><tr><td>LL Grip Tape</td></tr><tr><td>LL Headset</td></tr><tr><td>LL Mountain Frame - Black, 40</td></tr><tr><td>LL Mountain Frame - Black, 42</td></tr><tr><td>LL Mountain Frame - Black, 44</td></tr><tr><td>LL Mountain Frame - Black, 48</td></tr><tr><td>LL Mountain Frame - Black, 52</td></tr><tr><td>LL Mountain Frame - Silver, 40</td></tr><tr><td>LL Mountain Frame - Silver, 42</td></tr><tr><td>LL Mountain Frame - Silver, 44</td></tr><tr><td>LL Mountain Frame - Silver, 48</td></tr><tr><td>LL Mountain Frame - Silver, 52</td></tr><tr><td>LL Mountain Front Wheel</td></tr><tr><td>LL Mountain Handlebars</td></tr><tr><td>LL Mountain Pedal</td></tr><tr><td>LL Mountain Rear Wheel</td></tr><tr><td>LL Mountain Rim</td></tr><tr><td>LL Mountain Seat Assembly</td></tr><tr><td>LL Mountain Seat/Saddle</td></tr><tr><td>LL Mountain Tire</td></tr><tr><td>LL Road Frame - Black, 44</td></tr><tr><td>LL Road Frame - Black, 48</td></tr><tr><td>LL Road Frame - Black, 52</td></tr><tr><td>LL Road Frame - Black, 58</td></tr><tr><td>LL Road Frame - Black, 60</td></tr><tr><td>LL Road Frame - Black, 62</td></tr><tr><td>LL Road Frame - Red, 44</td></tr><tr><td>LL Road Frame - Red, 48</td></tr><tr><td>LL Road Frame - Red, 52</td></tr><tr><td>LL Road Frame - Red, 58</td></tr><tr><td>LL Road Frame - Red, 60</td></tr><tr><td>LL Road Frame - Red, 62</td></tr><tr><td>LL Road Front Wheel</td></tr><tr><td>LL Road Handlebars</td></tr><tr><td>LL Road Pedal</td></tr><tr><td>LL Road Rear Wheel</td></tr><tr><td>LL Road Rim</td></tr><tr><td>LL Road Seat Assembly</td></tr><tr><td>LL Road Seat/Saddle</td></tr><tr><td>LL Road Tire</td></tr><tr><td>LL Spindle/Axle</td></tr><tr><td>LL Touring Frame - Blue, 44</td></tr><tr><td>LL Touring Frame - Blue, 50</td></tr><tr><td>LL Touring Frame - Blue, 54</td></tr><tr><td>LL Touring Frame - Blue, 58</td></tr><tr><td>LL Touring Frame - Blue, 62</td></tr><tr><td>LL Touring Frame - Yellow, 44</td></tr><tr><td>LL Touring Frame - Yellow, 50</td></tr><tr><td>LL Touring Frame - Yellow, 54</td></tr><tr><td>LL Touring Frame - Yellow, 58</td></tr><tr><td>LL Touring Frame - Yellow, 62</td></tr><tr><td>LL Touring Handlebars</td></tr><tr><td>LL Touring Seat Assembly</td></tr><tr><td>LL Touring Seat/Saddle</td></tr><tr><td>Lock Washer 1</td></tr><tr><td>Lock Washer 10</td></tr><tr><td>Lock Washer 11</td></tr><tr><td>Lock Washer 12</td></tr><tr><td>Lock Washer 13</td></tr><tr><td>Lock Washer 2</td></tr><tr><td>Lock Washer 3</td></tr><tr><td>Lock Washer 4</td></tr><tr><td>Lock Washer 5</td></tr><tr><td>Lock Washer 6</td></tr><tr><td>Lock Washer 7</td></tr><tr><td>Lock Washer 8</td></tr><tr><td>Lock Washer 9</td></tr><tr><td>Lower Head Race</td></tr><tr><td>Metal Angle</td></tr><tr><td>Metal Bar 1</td></tr><tr><td>Metal Bar 2</td></tr><tr><td>Metal Plate 1</td></tr><tr><td>Metal Plate 2</td></tr><tr><td>Metal Plate 3</td></tr><tr><td>Metal Sheet 1</td></tr><tr><td>Metal Sheet 2</td></tr><tr><td>Metal Sheet 3</td></tr><tr><td>Metal Sheet 4</td></tr><tr><td>Metal Sheet 5</td></tr><tr><td>Metal Sheet 6</td></tr><tr><td>Metal Sheet 7</td></tr><tr><td>Metal Tread Plate</td></tr><tr><td>ML Bottom Bracket</td></tr><tr><td>ML Crankarm</td></tr><tr><td>ML Crankset</td></tr><tr><td>ML Grip Tape</td></tr><tr><td>ML Headset</td></tr><tr><td>ML Mountain Frame - Black, 38</td></tr><tr><td>ML Mountain Frame - Black, 40</td></tr><tr><td>ML Mountain Frame - Black, 44</td></tr><tr><td>ML Mountain Frame - Black, 48</td></tr><tr><td>ML Mountain Frame-W - Silver, 38</td></tr><tr><td>ML Mountain Frame-W - Silver, 40</td></tr><tr><td>ML Mountain Frame-W - Silver, 42</td></tr><tr><td>ML Mountain Frame-W - Silver, 46</td></tr><tr><td>ML Mountain Front Wheel</td></tr><tr><td>ML Mountain Handlebars</td></tr><tr><td>ML Mountain Pedal</td></tr><tr><td>ML Mountain Rear Wheel</td></tr><tr><td>ML Mountain Rim</td></tr><tr><td>ML Mountain Seat Assembly</td></tr><tr><td>ML Mountain Seat/Saddle</td></tr><tr><td>ML Mountain Tire</td></tr><tr><td>ML Road Frame - Red, 44</td></tr><tr><td>ML Road Frame - Red, 48</td></tr><tr><td>ML Road Frame - Red, 52</td></tr><tr><td>ML Road Frame - Red, 58</td></tr><tr><td>ML Road Frame - Red, 60</td></tr><tr><td>ML Road Frame-W - Yellow, 38</td></tr><tr><td>ML Road Frame-W - Yellow, 40</td></tr><tr><td>ML Road Frame-W - Yellow, 42</td></tr><tr><td>ML Road Frame-W - Yellow, 44</td></tr><tr><td>ML Road Frame-W - Yellow, 48</td></tr><tr><td>ML Road Front Wheel</td></tr><tr><td>ML Road Handlebars</td></tr><tr><td>ML Road Pedal</td></tr><tr><td>ML Road Rear Wheel</td></tr><tr><td>ML Road Rim</td></tr><tr><td>ML Road Seat Assembly</td></tr><tr><td>ML Road Seat/Saddle</td></tr><tr><td>ML Road Tire</td></tr><tr><td>ML Touring Seat Assembly</td></tr><tr><td>ML Touring Seat/Saddle</td></tr><tr><td>Mountain Bike Socks, L</td></tr><tr><td>Mountain Bike Socks, M</td></tr><tr><td>Mountain Bottle Cage</td></tr><tr><td>Mountain End Caps</td></tr><tr><td>Mountain Pump</td></tr><tr><td>Mountain Tire Tube</td></tr><tr><td>Mountain-100 Black, 38</td></tr><tr><td>Mountain-100 Black, 42</td></tr><tr><td>Mountain-100 Black, 44</td></tr><tr><td>Mountain-100 Black, 48</td></tr><tr><td>Mountain-100 Silver, 38</td></tr><tr><td>Mountain-100 Silver, 42</td></tr><tr><td>Mountain-100 Silver, 44</td></tr><tr><td>Mountain-100 Silver, 48</td></tr><tr><td>Mountain-200 Black, 38</td></tr><tr><td>Mountain-200 Black, 42</td></tr><tr><td>Mountain-200 Black, 46</td></tr><tr><td>Mountain-200 Silver, 38</td></tr><tr><td>Mountain-200 Silver, 42</td></tr><tr><td>Mountain-200 Silver, 46</td></tr><tr><td>Mountain-300 Black, 38</td></tr><tr><td>Mountain-300 Black, 40</td></tr><tr><td>Mountain-300 Black, 44</td></tr><tr><td>Mountain-300 Black, 48</td></tr><tr><td>Mountain-400-W Silver, 38</td></tr><tr><td>Mountain-400-W Silver, 40</td></tr><tr><td>Mountain-400-W Silver, 42</td></tr><tr><td>Mountain-400-W Silver, 46</td></tr><tr><td>Mountain-500 Black, 40</td></tr><tr><td>Mountain-500 Black, 42</td></tr><tr><td>Mountain-500 Black, 44</td></tr><tr><td>Mountain-500 Black, 48</td></tr><tr><td>Mountain-500 Black, 52</td></tr><tr><td>Mountain-500 Silver, 40</td></tr><tr><td>Mountain-500 Silver, 42</td></tr><tr><td>Mountain-500 Silver, 44</td></tr><tr><td>Mountain-500 Silver, 48</td></tr><tr><td>Mountain-500 Silver, 52</td></tr><tr><td>Paint - Black</td></tr><tr><td>Paint - Blue</td></tr><tr><td>Paint - Red</td></tr><tr><td>Paint - Silver</td></tr><tr><td>Paint - Yellow</td></tr><tr><td>Patch Kit/8 Patches</td></tr><tr><td>Racing Socks, L</td></tr><tr><td>Racing Socks, M</td></tr><tr><td>Rear Brakes</td></tr><tr><td>Rear Derailleur</td></tr><tr><td>Rear Derailleur Cage</td></tr><tr><td>Road Bottle Cage</td></tr><tr><td>Road End Caps</td></tr><tr><td>Road Tire Tube</td></tr><tr><td>Road-150 Red, 44</td></tr><tr><td>Road-150 Red, 48</td></tr><tr><td>Road-150 Red, 52</td></tr><tr><td>Road-150 Red, 56</td></tr><tr><td>Road-150 Red, 62</td></tr><tr><td>Road-250 Black, 44</td></tr><tr><td>Road-250 Black, 48</td></tr><tr><td>Road-250 Black, 52</td></tr><tr><td>Road-250 Black, 58</td></tr><tr><td>Road-250 Red, 44</td></tr><tr><td>Road-250 Red, 48</td></tr><tr><td>Road-250 Red, 52</td></tr><tr><td>Road-250 Red, 58</td></tr><tr><td>Road-350-W Yellow, 40</td></tr><tr><td>Road-350-W Yellow, 42</td></tr><tr><td>Road-350-W Yellow, 44</td></tr><tr><td>Road-350-W Yellow, 48</td></tr><tr><td>Road-450 Red, 44</td></tr><tr><td>Road-450 Red, 48</td></tr><tr><td>Road-450 Red, 52</td></tr><tr><td>Road-450 Red, 58</td></tr><tr><td>Road-450 Red, 60</td></tr><tr><td>Road-550-W Yellow, 38</td></tr><tr><td>Road-550-W Yellow, 40</td></tr><tr><td>Road-550-W Yellow, 42</td></tr><tr><td>Road-550-W Yellow, 44</td></tr><tr><td>Road-550-W Yellow, 48</td></tr><tr><td>Road-650 Black, 44</td></tr><tr><td>Road-650 Black, 48</td></tr><tr><td>Road-650 Black, 52</td></tr><tr><td>Road-650 Black, 58</td></tr><tr><td>Road-650 Black, 60</td></tr><tr><td>Road-650 Black, 62</td></tr><tr><td>Road-650 Red, 44</td></tr><tr><td>Road-650 Red, 48</td></tr><tr><td>Road-650 Red, 52</td></tr><tr><td>Road-650 Red, 58</td></tr><tr><td>Road-650 Red, 60</td></tr><tr><td>Road-650 Red, 62</td></tr><tr><td>Road-750 Black, 44</td></tr><tr><td>Road-750 Black, 48</td></tr><tr><td>Road-750 Black, 52</td></tr><tr><td>Road-750 Black, 58</td></tr><tr><td>Seat Lug</td></tr><tr><td>Seat Post</td></tr><tr><td>Seat Stays</td></tr><tr><td>Seat Tube</td></tr><tr><td>Short-Sleeve Classic Jersey, L</td></tr><tr><td>Short-Sleeve Classic Jersey, M</td></tr><tr><td>Short-Sleeve Classic Jersey, S</td></tr><tr><td>Short-Sleeve Classic Jersey, XL</td></tr><tr><td>Sport-100 Helmet, Black</td></tr><tr><td>Taillights - Battery-Powered</td></tr><tr><td>Thin-Jam Hex Nut 1</td></tr><tr><td>Thin-Jam Hex Nut 10</td></tr><tr><td>Thin-Jam Hex Nut 11</td></tr><tr><td>Thin-Jam Hex Nut 12</td></tr><tr><td>Thin-Jam Hex Nut 13</td></tr><tr><td>Thin-Jam Hex Nut 14</td></tr><tr><td>Thin-Jam Hex Nut 15</td></tr><tr><td>Thin-Jam Hex Nut 16</td></tr><tr><td>Thin-Jam Hex Nut 2</td></tr><tr><td>Thin-Jam Hex Nut 3</td></tr><tr><td>Thin-Jam Hex Nut 4</td></tr><tr><td>Thin-Jam Hex Nut 5</td></tr><tr><td>Thin-Jam Hex Nut 6</td></tr><tr><td>Thin-Jam Hex Nut 7</td></tr><tr><td>Thin-Jam Hex Nut 8</td></tr><tr><td>Thin-Jam Hex Nut 9</td></tr><tr><td>Thin-Jam Lock Nut 1</td></tr><tr><td>Thin-Jam Lock Nut 10</td></tr><tr><td>Thin-Jam Lock Nut 11</td></tr><tr><td>Thin-Jam Lock Nut 12</td></tr><tr><td>Thin-Jam Lock Nut 13</td></tr><tr><td>Thin-Jam Lock Nut 14</td></tr><tr><td>Thin-Jam Lock Nut 15</td></tr><tr><td>Thin-Jam Lock Nut 16</td></tr><tr><td>Thin-Jam Lock Nut 2</td></tr><tr><td>Thin-Jam Lock Nut 3</td></tr><tr><td>Thin-Jam Lock Nut 4</td></tr><tr><td>Thin-Jam Lock Nut 5</td></tr><tr><td>Thin-Jam Lock Nut 6</td></tr><tr><td>Thin-Jam Lock Nut 7</td></tr><tr><td>Thin-Jam Lock Nut 8</td></tr><tr><td>Thin-Jam Lock Nut 9</td></tr><tr><td>Touring End Caps</td></tr><tr><td>Touring Pedal</td></tr><tr><td>Touring Rear Wheel</td></tr><tr><td>Touring-Panniers, Large</td></tr><tr><td>Water Bottle - 30 oz.</td></tr><tr><td>Women&#39;s Mountain Shorts, L</td></tr><tr><td>Women&#39;s Mountain Shorts, M</td></tr><tr><td>Women&#39;s Mountain Shorts, S</td></tr></table>"
                    },
                    "metadata": {}
                }
            ],
            "execution_count": 50
        },
        {
            "cell_type": "markdown",
            "source": [
                "**14**. seleccionar todos los productos cuya SellstartDate sea del año 2008 y comiencen por \n",
                "\n",
                "C, terminan por g y son de color Plata (Silver)"
            ],
            "metadata": {
                "language": "sql",
                "azdata_cell_guid": "b9b888d6-45b5-45a2-9e32-cd9c2b1b5130"
            },
            "attachments": {}
        },
        {
            "cell_type": "code",
            "source": [
                "SELECT        Name, color\r\n",
                "FROM          Production.Product\r\n",
                "WHERE         LEFT(Name,1)='c' and year(SellStartDate)= 2008 and color='silver' AND RIGHT(Name,1)='g'"
            ],
            "metadata": {
                "language": "sql",
                "azdata_cell_guid": "b5ee9dfa-6f94-4803-8714-6c10d91ff77a"
            },
            "outputs": [
                {
                    "output_type": "display_data",
                    "data": {
                        "text/html": "(0 rows affected)"
                    },
                    "metadata": {}
                },
                {
                    "output_type": "display_data",
                    "data": {
                        "text/html": "Total execution time: 00:00:00.001"
                    },
                    "metadata": {}
                },
                {
                    "output_type": "execute_result",
                    "execution_count": 60,
                    "data": {
                        "application/vnd.dataresource+json": {
                            "schema": {
                                "fields": [
                                    {
                                        "name": "Name"
                                    },
                                    {
                                        "name": "color"
                                    }
                                ]
                            },
                            "data": []
                        },
                        "text/html": "<table><tr><th>Name</th><th>color</th></tr></table>"
                    },
                    "metadata": {}
                }
            ],
            "execution_count": 60
        },
        {
            "cell_type": "markdown",
            "source": [
                "15\\. seleccionar todos los productos y cuyo peso Weight esté entre 15 y 20."
            ],
            "metadata": {
                "language": "sql",
                "azdata_cell_guid": "63a4400d-3ec8-43e4-bbaf-95dd5a91a334"
            },
            "attachments": {}
        },
        {
            "cell_type": "code",
            "source": [
                "SELECT        Name\r\n",
                "FROM          Production.Product\r\n",
                "WHERE         Weight > 14 and Weight < 21"
            ],
            "metadata": {
                "language": "sql",
                "azdata_cell_guid": "5386e882-6508-4158-a979-1854fe2f363d"
            },
            "outputs": [
                {
                    "output_type": "display_data",
                    "data": {
                        "text/html": "(46 rows affected)"
                    },
                    "metadata": {}
                },
                {
                    "output_type": "display_data",
                    "data": {
                        "text/html": "Total execution time: 00:00:00.017"
                    },
                    "metadata": {}
                },
                {
                    "output_type": "execute_result",
                    "execution_count": 52,
                    "data": {
                        "application/vnd.dataresource+json": {
                            "schema": {
                                "fields": [
                                    {
                                        "name": "Name"
                                    }
                                ]
                            },
                            "data": [
                                {
                                    "Name": "Road-150 Red, 62"
                                },
                                {
                                    "Name": "Road-150 Red, 48"
                                },
                                {
                                    "Name": "Road-150 Red, 52"
                                },
                                {
                                    "Name": "Road-150 Red, 56"
                                },
                                {
                                    "Name": "Road-450 Red, 58"
                                },
                                {
                                    "Name": "Road-450 Red, 60"
                                },
                                {
                                    "Name": "Road-450 Red, 44"
                                },
                                {
                                    "Name": "Road-450 Red, 48"
                                },
                                {
                                    "Name": "Road-450 Red, 52"
                                },
                                {
                                    "Name": "Road-650 Red, 58"
                                },
                                {
                                    "Name": "Road-650 Red, 60"
                                },
                                {
                                    "Name": "Road-650 Red, 62"
                                },
                                {
                                    "Name": "Road-650 Red, 44"
                                },
                                {
                                    "Name": "Road-650 Red, 48"
                                },
                                {
                                    "Name": "Road-650 Red, 52"
                                },
                                {
                                    "Name": "Road-650 Black, 58"
                                },
                                {
                                    "Name": "Road-650 Black, 60"
                                },
                                {
                                    "Name": "Road-650 Black, 62"
                                },
                                {
                                    "Name": "Road-650 Black, 44"
                                },
                                {
                                    "Name": "Road-650 Black, 48"
                                },
                                {
                                    "Name": "Road-650 Black, 52"
                                },
                                {
                                    "Name": "Mountain-100 Silver, 38"
                                },
                                {
                                    "Name": "Mountain-100 Silver, 42"
                                },
                                {
                                    "Name": "Mountain-100 Black, 38"
                                },
                                {
                                    "Name": "Mountain-100 Black, 42"
                                },
                                {
                                    "Name": "Road-250 Red, 44"
                                },
                                {
                                    "Name": "Road-250 Red, 48"
                                },
                                {
                                    "Name": "Road-250 Red, 52"
                                },
                                {
                                    "Name": "Road-250 Red, 58"
                                },
                                {
                                    "Name": "Road-250 Black, 44"
                                },
                                {
                                    "Name": "Road-250 Black, 48"
                                },
                                {
                                    "Name": "Road-250 Black, 52"
                                },
                                {
                                    "Name": "Road-250 Black, 58"
                                },
                                {
                                    "Name": "Road-550-W Yellow, 38"
                                },
                                {
                                    "Name": "Road-550-W Yellow, 40"
                                },
                                {
                                    "Name": "Road-550-W Yellow, 42"
                                },
                                {
                                    "Name": "Road-550-W Yellow, 44"
                                },
                                {
                                    "Name": "Road-550-W Yellow, 48"
                                },
                                {
                                    "Name": "Road-350-W Yellow, 40"
                                },
                                {
                                    "Name": "Road-350-W Yellow, 42"
                                },
                                {
                                    "Name": "Road-350-W Yellow, 44"
                                },
                                {
                                    "Name": "Road-350-W Yellow, 48"
                                },
                                {
                                    "Name": "Road-750 Black, 58"
                                },
                                {
                                    "Name": "Road-750 Black, 44"
                                },
                                {
                                    "Name": "Road-750 Black, 48"
                                },
                                {
                                    "Name": "Road-750 Black, 52"
                                }
                            ]
                        },
                        "text/html": "<table><tr><th>Name</th></tr><tr><td>Road-150 Red, 62</td></tr><tr><td>Road-150 Red, 48</td></tr><tr><td>Road-150 Red, 52</td></tr><tr><td>Road-150 Red, 56</td></tr><tr><td>Road-450 Red, 58</td></tr><tr><td>Road-450 Red, 60</td></tr><tr><td>Road-450 Red, 44</td></tr><tr><td>Road-450 Red, 48</td></tr><tr><td>Road-450 Red, 52</td></tr><tr><td>Road-650 Red, 58</td></tr><tr><td>Road-650 Red, 60</td></tr><tr><td>Road-650 Red, 62</td></tr><tr><td>Road-650 Red, 44</td></tr><tr><td>Road-650 Red, 48</td></tr><tr><td>Road-650 Red, 52</td></tr><tr><td>Road-650 Black, 58</td></tr><tr><td>Road-650 Black, 60</td></tr><tr><td>Road-650 Black, 62</td></tr><tr><td>Road-650 Black, 44</td></tr><tr><td>Road-650 Black, 48</td></tr><tr><td>Road-650 Black, 52</td></tr><tr><td>Mountain-100 Silver, 38</td></tr><tr><td>Mountain-100 Silver, 42</td></tr><tr><td>Mountain-100 Black, 38</td></tr><tr><td>Mountain-100 Black, 42</td></tr><tr><td>Road-250 Red, 44</td></tr><tr><td>Road-250 Red, 48</td></tr><tr><td>Road-250 Red, 52</td></tr><tr><td>Road-250 Red, 58</td></tr><tr><td>Road-250 Black, 44</td></tr><tr><td>Road-250 Black, 48</td></tr><tr><td>Road-250 Black, 52</td></tr><tr><td>Road-250 Black, 58</td></tr><tr><td>Road-550-W Yellow, 38</td></tr><tr><td>Road-550-W Yellow, 40</td></tr><tr><td>Road-550-W Yellow, 42</td></tr><tr><td>Road-550-W Yellow, 44</td></tr><tr><td>Road-550-W Yellow, 48</td></tr><tr><td>Road-350-W Yellow, 40</td></tr><tr><td>Road-350-W Yellow, 42</td></tr><tr><td>Road-350-W Yellow, 44</td></tr><tr><td>Road-350-W Yellow, 48</td></tr><tr><td>Road-750 Black, 58</td></tr><tr><td>Road-750 Black, 44</td></tr><tr><td>Road-750 Black, 48</td></tr><tr><td>Road-750 Black, 52</td></tr></table>"
                    },
                    "metadata": {}
                }
            ],
            "execution_count": 52
        },
        {
            "cell_type": "markdown",
            "source": [
                "16\\. seleccionar todos los productos cuyo peso Weight esté entre 15 y 20 y su Size es 42,44 \n",
                "\n",
                "o 46."
            ],
            "metadata": {
                "language": "sql",
                "azdata_cell_guid": "29813f94-f886-46b3-a54a-674afad4e37f"
            },
            "attachments": {}
        },
        {
            "cell_type": "code",
            "source": [
                "SELECT        Name, Weight, [Size]\r\n",
                "FROM          Production.Product\r\n",
                "WHERE         (Weight > 14 and Weight < 21) and (size= 42 or size=44 or size = 46)"
            ],
            "metadata": {
                "language": "sql",
                "azdata_cell_guid": "6c8dc7ab-1738-4e84-b2b6-8ccd6d07c72f"
            },
            "outputs": [
                {
                    "output_type": "display_data",
                    "data": {
                        "text/html": "(12 rows affected)"
                    },
                    "metadata": {}
                },
                {
                    "output_type": "display_data",
                    "data": {
                        "text/html": "Total execution time: 00:00:00.009"
                    },
                    "metadata": {}
                },
                {
                    "output_type": "execute_result",
                    "metadata": {},
                    "execution_count": 10,
                    "data": {
                        "application/vnd.dataresource+json": {
                            "schema": {
                                "fields": [
                                    {
                                        "name": "Name"
                                    },
                                    {
                                        "name": "Weight"
                                    },
                                    {
                                        "name": "Size"
                                    }
                                ]
                            },
                            "data": [
                                {
                                    "Name": "Road-450 Red, 44",
                                    "Weight": "16.77",
                                    "Size": "44"
                                },
                                {
                                    "Name": "Road-650 Red, 44",
                                    "Weight": "18.77",
                                    "Size": "44"
                                },
                                {
                                    "Name": "Road-650 Black, 44",
                                    "Weight": "18.77",
                                    "Size": "44"
                                },
                                {
                                    "Name": "Mountain-100 Silver, 42",
                                    "Weight": "20.77",
                                    "Size": "42"
                                },
                                {
                                    "Name": "Mountain-100 Black, 42",
                                    "Weight": "20.77",
                                    "Size": "42"
                                },
                                {
                                    "Name": "Road-250 Red, 44",
                                    "Weight": "14.77",
                                    "Size": "44"
                                },
                                {
                                    "Name": "Road-250 Black, 44",
                                    "Weight": "14.77",
                                    "Size": "44"
                                },
                                {
                                    "Name": "Road-550-W Yellow, 42",
                                    "Weight": "18.13",
                                    "Size": "42"
                                },
                                {
                                    "Name": "Road-550-W Yellow, 44",
                                    "Weight": "18.42",
                                    "Size": "44"
                                },
                                {
                                    "Name": "Road-350-W Yellow, 42",
                                    "Weight": "15.77",
                                    "Size": "42"
                                },
                                {
                                    "Name": "Road-350-W Yellow, 44",
                                    "Weight": "16.13",
                                    "Size": "44"
                                },
                                {
                                    "Name": "Road-750 Black, 44",
                                    "Weight": "19.77",
                                    "Size": "44"
                                }
                            ]
                        },
                        "text/html": [
                            "<table>",
                            "<tr><th>Name</th><th>Weight</th><th>Size</th></tr>",
                            "<tr><td>Road-450 Red, 44</td><td>16.77</td><td>44</td></tr>",
                            "<tr><td>Road-650 Red, 44</td><td>18.77</td><td>44</td></tr>",
                            "<tr><td>Road-650 Black, 44</td><td>18.77</td><td>44</td></tr>",
                            "<tr><td>Mountain-100 Silver, 42</td><td>20.77</td><td>42</td></tr>",
                            "<tr><td>Mountain-100 Black, 42</td><td>20.77</td><td>42</td></tr>",
                            "<tr><td>Road-250 Red, 44</td><td>14.77</td><td>44</td></tr>",
                            "<tr><td>Road-250 Black, 44</td><td>14.77</td><td>44</td></tr>",
                            "<tr><td>Road-550-W Yellow, 42</td><td>18.13</td><td>42</td></tr>",
                            "<tr><td>Road-550-W Yellow, 44</td><td>18.42</td><td>44</td></tr>",
                            "<tr><td>Road-350-W Yellow, 42</td><td>15.77</td><td>42</td></tr>",
                            "<tr><td>Road-350-W Yellow, 44</td><td>16.13</td><td>44</td></tr>",
                            "<tr><td>Road-750 Black, 44</td><td>19.77</td><td>44</td></tr>",
                            "</table>"
                        ]
                    }
                }
            ],
            "execution_count": 10
        },
        {
            "cell_type": "markdown",
            "source": [
                "17\\. seleccionar todos los productos cuyo SellStartDate esté entre 2008-04-30 y una \n",
                "\n",
                "semana después"
            ],
            "metadata": {
                "language": "sql",
                "azdata_cell_guid": "60ae8828-b724-4192-a294-7e3bc7542fd3"
            },
            "attachments": {}
        },
        {
            "cell_type": "code",
            "source": [
                "SELECT        Name, SellStartDate\r\n",
                "FROM          Production.Product\r\n",
                "WHERE         SellStartDate BETWEEN '2008-04-30' AND '2008-05-07' --DATEADD(WEEK, 1, '2008-04-30')"
            ],
            "metadata": {
                "language": "sql",
                "azdata_cell_guid": "871a986c-5a14-4540-bf0b-ea45c7b7c206",
                "tags": []
            },
            "outputs": [
                {
                    "output_type": "display_data",
                    "data": {
                        "text/html": "(211 rows affected)"
                    },
                    "metadata": {}
                },
                {
                    "output_type": "display_data",
                    "data": {
                        "text/html": "Total execution time: 00:00:00.043"
                    },
                    "metadata": {}
                },
                {
                    "output_type": "execute_result",
                    "metadata": {},
                    "execution_count": 5,
                    "data": {
                        "application/vnd.dataresource+json": {
                            "schema": {
                                "fields": [
                                    {
                                        "name": "Name"
                                    },
                                    {
                                        "name": "SellStartDate"
                                    }
                                ]
                            },
                            "data": [
                                {
                                    "Name": "Adjustable Race",
                                    "SellStartDate": "2008-04-30 00:00:00.000"
                                },
                                {
                                    "Name": "Bearing Ball",
                                    "SellStartDate": "2008-04-30 00:00:00.000"
                                },
                                {
                                    "Name": "BB Ball Bearing",
                                    "SellStartDate": "2008-04-30 00:00:00.000"
                                },
                                {
                                    "Name": "Headset Ball Bearings",
                                    "SellStartDate": "2008-04-30 00:00:00.000"
                                },
                                {
                                    "Name": "Blade",
                                    "SellStartDate": "2008-04-30 00:00:00.000"
                                },
                                {
                                    "Name": "LL Crankarm",
                                    "SellStartDate": "2008-04-30 00:00:00.000"
                                },
                                {
                                    "Name": "ML Crankarm",
                                    "SellStartDate": "2008-04-30 00:00:00.000"
                                },
                                {
                                    "Name": "HL Crankarm",
                                    "SellStartDate": "2008-04-30 00:00:00.000"
                                },
                                {
                                    "Name": "Chainring Bolts",
                                    "SellStartDate": "2008-04-30 00:00:00.000"
                                },
                                {
                                    "Name": "Chainring Nut",
                                    "SellStartDate": "2008-04-30 00:00:00.000"
                                },
                                {
                                    "Name": "Chainring",
                                    "SellStartDate": "2008-04-30 00:00:00.000"
                                },
                                {
                                    "Name": "Crown Race",
                                    "SellStartDate": "2008-04-30 00:00:00.000"
                                },
                                {
                                    "Name": "Chain Stays",
                                    "SellStartDate": "2008-04-30 00:00:00.000"
                                },
                                {
                                    "Name": "Decal 1",
                                    "SellStartDate": "2008-04-30 00:00:00.000"
                                },
                                {
                                    "Name": "Decal 2",
                                    "SellStartDate": "2008-04-30 00:00:00.000"
                                },
                                {
                                    "Name": "Down Tube",
                                    "SellStartDate": "2008-04-30 00:00:00.000"
                                },
                                {
                                    "Name": "Mountain End Caps",
                                    "SellStartDate": "2008-04-30 00:00:00.000"
                                },
                                {
                                    "Name": "Road End Caps",
                                    "SellStartDate": "2008-04-30 00:00:00.000"
                                },
                                {
                                    "Name": "Touring End Caps",
                                    "SellStartDate": "2008-04-30 00:00:00.000"
                                },
                                {
                                    "Name": "Fork End",
                                    "SellStartDate": "2008-04-30 00:00:00.000"
                                },
                                {
                                    "Name": "Freewheel",
                                    "SellStartDate": "2008-04-30 00:00:00.000"
                                },
                                {
                                    "Name": "Flat Washer 1",
                                    "SellStartDate": "2008-04-30 00:00:00.000"
                                },
                                {
                                    "Name": "Flat Washer 6",
                                    "SellStartDate": "2008-04-30 00:00:00.000"
                                },
                                {
                                    "Name": "Flat Washer 2",
                                    "SellStartDate": "2008-04-30 00:00:00.000"
                                },
                                {
                                    "Name": "Flat Washer 9",
                                    "SellStartDate": "2008-04-30 00:00:00.000"
                                },
                                {
                                    "Name": "Flat Washer 4",
                                    "SellStartDate": "2008-04-30 00:00:00.000"
                                },
                                {
                                    "Name": "Flat Washer 3",
                                    "SellStartDate": "2008-04-30 00:00:00.000"
                                },
                                {
                                    "Name": "Flat Washer 8",
                                    "SellStartDate": "2008-04-30 00:00:00.000"
                                },
                                {
                                    "Name": "Flat Washer 5",
                                    "SellStartDate": "2008-04-30 00:00:00.000"
                                },
                                {
                                    "Name": "Flat Washer 7",
                                    "SellStartDate": "2008-04-30 00:00:00.000"
                                },
                                {
                                    "Name": "Fork Crown",
                                    "SellStartDate": "2008-04-30 00:00:00.000"
                                },
                                {
                                    "Name": "Front Derailleur Cage",
                                    "SellStartDate": "2008-04-30 00:00:00.000"
                                },
                                {
                                    "Name": "Front Derailleur Linkage",
                                    "SellStartDate": "2008-04-30 00:00:00.000"
                                },
                                {
                                    "Name": "Guide Pulley",
                                    "SellStartDate": "2008-04-30 00:00:00.000"
                                },
                                {
                                    "Name": "LL Grip Tape",
                                    "SellStartDate": "2008-04-30 00:00:00.000"
                                },
                                {
                                    "Name": "ML Grip Tape",
                                    "SellStartDate": "2008-04-30 00:00:00.000"
                                },
                                {
                                    "Name": "HL Grip Tape",
                                    "SellStartDate": "2008-04-30 00:00:00.000"
                                },
                                {
                                    "Name": "Thin-Jam Hex Nut 9",
                                    "SellStartDate": "2008-04-30 00:00:00.000"
                                },
                                {
                                    "Name": "Thin-Jam Hex Nut 10",
                                    "SellStartDate": "2008-04-30 00:00:00.000"
                                },
                                {
                                    "Name": "Thin-Jam Hex Nut 1",
                                    "SellStartDate": "2008-04-30 00:00:00.000"
                                },
                                {
                                    "Name": "Thin-Jam Hex Nut 2",
                                    "SellStartDate": "2008-04-30 00:00:00.000"
                                },
                                {
                                    "Name": "Thin-Jam Hex Nut 15",
                                    "SellStartDate": "2008-04-30 00:00:00.000"
                                },
                                {
                                    "Name": "Thin-Jam Hex Nut 16",
                                    "SellStartDate": "2008-04-30 00:00:00.000"
                                },
                                {
                                    "Name": "Thin-Jam Hex Nut 5",
                                    "SellStartDate": "2008-04-30 00:00:00.000"
                                },
                                {
                                    "Name": "Thin-Jam Hex Nut 6",
                                    "SellStartDate": "2008-04-30 00:00:00.000"
                                },
                                {
                                    "Name": "Thin-Jam Hex Nut 3",
                                    "SellStartDate": "2008-04-30 00:00:00.000"
                                },
                                {
                                    "Name": "Thin-Jam Hex Nut 4",
                                    "SellStartDate": "2008-04-30 00:00:00.000"
                                },
                                {
                                    "Name": "Thin-Jam Hex Nut 13",
                                    "SellStartDate": "2008-04-30 00:00:00.000"
                                },
                                {
                                    "Name": "Thin-Jam Hex Nut 14",
                                    "SellStartDate": "2008-04-30 00:00:00.000"
                                },
                                {
                                    "Name": "Thin-Jam Hex Nut 7",
                                    "SellStartDate": "2008-04-30 00:00:00.000"
                                },
                                {
                                    "Name": "Thin-Jam Hex Nut 8",
                                    "SellStartDate": "2008-04-30 00:00:00.000"
                                },
                                {
                                    "Name": "Thin-Jam Hex Nut 12",
                                    "SellStartDate": "2008-04-30 00:00:00.000"
                                },
                                {
                                    "Name": "Thin-Jam Hex Nut 11",
                                    "SellStartDate": "2008-04-30 00:00:00.000"
                                },
                                {
                                    "Name": "Hex Nut 5",
                                    "SellStartDate": "2008-04-30 00:00:00.000"
                                },
                                {
                                    "Name": "Hex Nut 6",
                                    "SellStartDate": "2008-04-30 00:00:00.000"
                                },
                                {
                                    "Name": "Hex Nut 16",
                                    "SellStartDate": "2008-04-30 00:00:00.000"
                                },
                                {
                                    "Name": "Hex Nut 17",
                                    "SellStartDate": "2008-04-30 00:00:00.000"
                                },
                                {
                                    "Name": "Hex Nut 7",
                                    "SellStartDate": "2008-04-30 00:00:00.000"
                                },
                                {
                                    "Name": "Hex Nut 8",
                                    "SellStartDate": "2008-04-30 00:00:00.000"
                                },
                                {
                                    "Name": "Hex Nut 9",
                                    "SellStartDate": "2008-04-30 00:00:00.000"
                                },
                                {
                                    "Name": "Hex Nut 22",
                                    "SellStartDate": "2008-04-30 00:00:00.000"
                                },
                                {
                                    "Name": "Hex Nut 23",
                                    "SellStartDate": "2008-04-30 00:00:00.000"
                                },
                                {
                                    "Name": "Hex Nut 12",
                                    "SellStartDate": "2008-04-30 00:00:00.000"
                                },
                                {
                                    "Name": "Hex Nut 13",
                                    "SellStartDate": "2008-04-30 00:00:00.000"
                                },
                                {
                                    "Name": "Hex Nut 1",
                                    "SellStartDate": "2008-04-30 00:00:00.000"
                                },
                                {
                                    "Name": "Hex Nut 10",
                                    "SellStartDate": "2008-04-30 00:00:00.000"
                                },
                                {
                                    "Name": "Hex Nut 11",
                                    "SellStartDate": "2008-04-30 00:00:00.000"
                                },
                                {
                                    "Name": "Hex Nut 2",
                                    "SellStartDate": "2008-04-30 00:00:00.000"
                                },
                                {
                                    "Name": "Hex Nut 20",
                                    "SellStartDate": "2008-04-30 00:00:00.000"
                                },
                                {
                                    "Name": "Hex Nut 21",
                                    "SellStartDate": "2008-04-30 00:00:00.000"
                                },
                                {
                                    "Name": "Hex Nut 3",
                                    "SellStartDate": "2008-04-30 00:00:00.000"
                                },
                                {
                                    "Name": "Hex Nut 14",
                                    "SellStartDate": "2008-04-30 00:00:00.000"
                                },
                                {
                                    "Name": "Hex Nut 15",
                                    "SellStartDate": "2008-04-30 00:00:00.000"
                                },
                                {
                                    "Name": "Hex Nut 4",
                                    "SellStartDate": "2008-04-30 00:00:00.000"
                                },
                                {
                                    "Name": "Hex Nut 18",
                                    "SellStartDate": "2008-04-30 00:00:00.000"
                                },
                                {
                                    "Name": "Hex Nut 19",
                                    "SellStartDate": "2008-04-30 00:00:00.000"
                                },
                                {
                                    "Name": "Handlebar Tube",
                                    "SellStartDate": "2008-04-30 00:00:00.000"
                                },
                                {
                                    "Name": "Head Tube",
                                    "SellStartDate": "2008-04-30 00:00:00.000"
                                },
                                {
                                    "Name": "LL Hub",
                                    "SellStartDate": "2008-04-30 00:00:00.000"
                                },
                                {
                                    "Name": "HL Hub",
                                    "SellStartDate": "2008-04-30 00:00:00.000"
                                },
                                {
                                    "Name": "Keyed Washer",
                                    "SellStartDate": "2008-04-30 00:00:00.000"
                                },
                                {
                                    "Name": "External Lock Washer 3",
                                    "SellStartDate": "2008-04-30 00:00:00.000"
                                },
                                {
                                    "Name": "External Lock Washer 4",
                                    "SellStartDate": "2008-04-30 00:00:00.000"
                                },
                                {
                                    "Name": "External Lock Washer 9",
                                    "SellStartDate": "2008-04-30 00:00:00.000"
                                },
                                {
                                    "Name": "External Lock Washer 5",
                                    "SellStartDate": "2008-04-30 00:00:00.000"
                                },
                                {
                                    "Name": "External Lock Washer 7",
                                    "SellStartDate": "2008-04-30 00:00:00.000"
                                },
                                {
                                    "Name": "External Lock Washer 6",
                                    "SellStartDate": "2008-04-30 00:00:00.000"
                                },
                                {
                                    "Name": "External Lock Washer 1",
                                    "SellStartDate": "2008-04-30 00:00:00.000"
                                },
                                {
                                    "Name": "External Lock Washer 8",
                                    "SellStartDate": "2008-04-30 00:00:00.000"
                                },
                                {
                                    "Name": "External Lock Washer 2",
                                    "SellStartDate": "2008-04-30 00:00:00.000"
                                },
                                {
                                    "Name": "Internal Lock Washer 3",
                                    "SellStartDate": "2008-04-30 00:00:00.000"
                                },
                                {
                                    "Name": "Internal Lock Washer 4",
                                    "SellStartDate": "2008-04-30 00:00:00.000"
                                },
                                {
                                    "Name": "Internal Lock Washer 9",
                                    "SellStartDate": "2008-04-30 00:00:00.000"
                                },
                                {
                                    "Name": "Internal Lock Washer 5",
                                    "SellStartDate": "2008-04-30 00:00:00.000"
                                },
                                {
                                    "Name": "Internal Lock Washer 7",
                                    "SellStartDate": "2008-04-30 00:00:00.000"
                                },
                                {
                                    "Name": "Internal Lock Washer 6",
                                    "SellStartDate": "2008-04-30 00:00:00.000"
                                },
                                {
                                    "Name": "Internal Lock Washer 10",
                                    "SellStartDate": "2008-04-30 00:00:00.000"
                                },
                                {
                                    "Name": "Internal Lock Washer 1",
                                    "SellStartDate": "2008-04-30 00:00:00.000"
                                },
                                {
                                    "Name": "Internal Lock Washer 8",
                                    "SellStartDate": "2008-04-30 00:00:00.000"
                                },
                                {
                                    "Name": "Internal Lock Washer 2",
                                    "SellStartDate": "2008-04-30 00:00:00.000"
                                },
                                {
                                    "Name": "Thin-Jam Lock Nut 9",
                                    "SellStartDate": "2008-04-30 00:00:00.000"
                                },
                                {
                                    "Name": "Thin-Jam Lock Nut 10",
                                    "SellStartDate": "2008-04-30 00:00:00.000"
                                },
                                {
                                    "Name": "Thin-Jam Lock Nut 1",
                                    "SellStartDate": "2008-04-30 00:00:00.000"
                                },
                                {
                                    "Name": "Thin-Jam Lock Nut 2",
                                    "SellStartDate": "2008-04-30 00:00:00.000"
                                },
                                {
                                    "Name": "Thin-Jam Lock Nut 15",
                                    "SellStartDate": "2008-04-30 00:00:00.000"
                                },
                                {
                                    "Name": "Thin-Jam Lock Nut 16",
                                    "SellStartDate": "2008-04-30 00:00:00.000"
                                },
                                {
                                    "Name": "Thin-Jam Lock Nut 5",
                                    "SellStartDate": "2008-04-30 00:00:00.000"
                                },
                                {
                                    "Name": "Thin-Jam Lock Nut 6",
                                    "SellStartDate": "2008-04-30 00:00:00.000"
                                },
                                {
                                    "Name": "Thin-Jam Lock Nut 3",
                                    "SellStartDate": "2008-04-30 00:00:00.000"
                                },
                                {
                                    "Name": "Thin-Jam Lock Nut 4",
                                    "SellStartDate": "2008-04-30 00:00:00.000"
                                },
                                {
                                    "Name": "Thin-Jam Lock Nut 13",
                                    "SellStartDate": "2008-04-30 00:00:00.000"
                                },
                                {
                                    "Name": "Thin-Jam Lock Nut 14",
                                    "SellStartDate": "2008-04-30 00:00:00.000"
                                },
                                {
                                    "Name": "Thin-Jam Lock Nut 7",
                                    "SellStartDate": "2008-04-30 00:00:00.000"
                                },
                                {
                                    "Name": "Thin-Jam Lock Nut 8",
                                    "SellStartDate": "2008-04-30 00:00:00.000"
                                },
                                {
                                    "Name": "Thin-Jam Lock Nut 12",
                                    "SellStartDate": "2008-04-30 00:00:00.000"
                                },
                                {
                                    "Name": "Thin-Jam Lock Nut 11",
                                    "SellStartDate": "2008-04-30 00:00:00.000"
                                },
                                {
                                    "Name": "Lock Nut 5",
                                    "SellStartDate": "2008-04-30 00:00:00.000"
                                },
                                {
                                    "Name": "Lock Nut 6",
                                    "SellStartDate": "2008-04-30 00:00:00.000"
                                },
                                {
                                    "Name": "Lock Nut 16",
                                    "SellStartDate": "2008-04-30 00:00:00.000"
                                },
                                {
                                    "Name": "Lock Nut 17",
                                    "SellStartDate": "2008-04-30 00:00:00.000"
                                },
                                {
                                    "Name": "Lock Nut 7",
                                    "SellStartDate": "2008-04-30 00:00:00.000"
                                },
                                {
                                    "Name": "Lock Nut 8",
                                    "SellStartDate": "2008-04-30 00:00:00.000"
                                },
                                {
                                    "Name": "Lock Nut 9",
                                    "SellStartDate": "2008-04-30 00:00:00.000"
                                },
                                {
                                    "Name": "Lock Nut 22",
                                    "SellStartDate": "2008-04-30 00:00:00.000"
                                },
                                {
                                    "Name": "Lock Nut 23",
                                    "SellStartDate": "2008-04-30 00:00:00.000"
                                },
                                {
                                    "Name": "Lock Nut 12",
                                    "SellStartDate": "2008-04-30 00:00:00.000"
                                },
                                {
                                    "Name": "Lock Nut 13",
                                    "SellStartDate": "2008-04-30 00:00:00.000"
                                },
                                {
                                    "Name": "Lock Nut 1",
                                    "SellStartDate": "2008-04-30 00:00:00.000"
                                },
                                {
                                    "Name": "Lock Nut 10",
                                    "SellStartDate": "2008-04-30 00:00:00.000"
                                },
                                {
                                    "Name": "Lock Nut 11",
                                    "SellStartDate": "2008-04-30 00:00:00.000"
                                },
                                {
                                    "Name": "Lock Nut 2",
                                    "SellStartDate": "2008-04-30 00:00:00.000"
                                },
                                {
                                    "Name": "Lock Nut 20",
                                    "SellStartDate": "2008-04-30 00:00:00.000"
                                },
                                {
                                    "Name": "Lock Nut 21",
                                    "SellStartDate": "2008-04-30 00:00:00.000"
                                },
                                {
                                    "Name": "Lock Nut 3",
                                    "SellStartDate": "2008-04-30 00:00:00.000"
                                },
                                {
                                    "Name": "Lock Nut 14",
                                    "SellStartDate": "2008-04-30 00:00:00.000"
                                },
                                {
                                    "Name": "Lock Nut 15",
                                    "SellStartDate": "2008-04-30 00:00:00.000"
                                },
                                {
                                    "Name": "Lock Nut 4",
                                    "SellStartDate": "2008-04-30 00:00:00.000"
                                },
                                {
                                    "Name": "Lock Nut 19",
                                    "SellStartDate": "2008-04-30 00:00:00.000"
                                },
                                {
                                    "Name": "Lock Nut 18",
                                    "SellStartDate": "2008-04-30 00:00:00.000"
                                },
                                {
                                    "Name": "Lock Ring",
                                    "SellStartDate": "2008-04-30 00:00:00.000"
                                },
                                {
                                    "Name": "Lower Head Race",
                                    "SellStartDate": "2008-04-30 00:00:00.000"
                                },
                                {
                                    "Name": "Lock Washer 4",
                                    "SellStartDate": "2008-04-30 00:00:00.000"
                                },
                                {
                                    "Name": "Lock Washer 5",
                                    "SellStartDate": "2008-04-30 00:00:00.000"
                                },
                                {
                                    "Name": "Lock Washer 10",
                                    "SellStartDate": "2008-04-30 00:00:00.000"
                                },
                                {
                                    "Name": "Lock Washer 6",
                                    "SellStartDate": "2008-04-30 00:00:00.000"
                                },
                                {
                                    "Name": "Lock Washer 13",
                                    "SellStartDate": "2008-04-30 00:00:00.000"
                                },
                                {
                                    "Name": "Lock Washer 8",
                                    "SellStartDate": "2008-04-30 00:00:00.000"
                                },
                                {
                                    "Name": "Lock Washer 1",
                                    "SellStartDate": "2008-04-30 00:00:00.000"
                                },
                                {
                                    "Name": "Lock Washer 7",
                                    "SellStartDate": "2008-04-30 00:00:00.000"
                                },
                                {
                                    "Name": "Lock Washer 12",
                                    "SellStartDate": "2008-04-30 00:00:00.000"
                                },
                                {
                                    "Name": "Lock Washer 2",
                                    "SellStartDate": "2008-04-30 00:00:00.000"
                                },
                                {
                                    "Name": "Lock Washer 9",
                                    "SellStartDate": "2008-04-30 00:00:00.000"
                                },
                                {
                                    "Name": "Lock Washer 3",
                                    "SellStartDate": "2008-04-30 00:00:00.000"
                                },
                                {
                                    "Name": "Lock Washer 11",
                                    "SellStartDate": "2008-04-30 00:00:00.000"
                                },
                                {
                                    "Name": "Metal Angle",
                                    "SellStartDate": "2008-04-30 00:00:00.000"
                                },
                                {
                                    "Name": "Metal Bar 1",
                                    "SellStartDate": "2008-04-30 00:00:00.000"
                                },
                                {
                                    "Name": "Metal Bar 2",
                                    "SellStartDate": "2008-04-30 00:00:00.000"
                                },
                                {
                                    "Name": "Metal Plate 2",
                                    "SellStartDate": "2008-04-30 00:00:00.000"
                                },
                                {
                                    "Name": "Metal Plate 1",
                                    "SellStartDate": "2008-04-30 00:00:00.000"
                                },
                                {
                                    "Name": "Metal Plate 3",
                                    "SellStartDate": "2008-04-30 00:00:00.000"
                                },
                                {
                                    "Name": "Metal Sheet 2",
                                    "SellStartDate": "2008-04-30 00:00:00.000"
                                },
                                {
                                    "Name": "Metal Sheet 3",
                                    "SellStartDate": "2008-04-30 00:00:00.000"
                                },
                                {
                                    "Name": "Metal Sheet 7",
                                    "SellStartDate": "2008-04-30 00:00:00.000"
                                },
                                {
                                    "Name": "Metal Sheet 4",
                                    "SellStartDate": "2008-04-30 00:00:00.000"
                                },
                                {
                                    "Name": "Metal Sheet 5",
                                    "SellStartDate": "2008-04-30 00:00:00.000"
                                },
                                {
                                    "Name": "Metal Sheet 6",
                                    "SellStartDate": "2008-04-30 00:00:00.000"
                                },
                                {
                                    "Name": "Metal Sheet 1",
                                    "SellStartDate": "2008-04-30 00:00:00.000"
                                },
                                {
                                    "Name": "Metal Tread Plate",
                                    "SellStartDate": "2008-04-30 00:00:00.000"
                                },
                                {
                                    "Name": "LL Nipple",
                                    "SellStartDate": "2008-04-30 00:00:00.000"
                                },
                                {
                                    "Name": "HL Nipple",
                                    "SellStartDate": "2008-04-30 00:00:00.000"
                                },
                                {
                                    "Name": "Paint - Black",
                                    "SellStartDate": "2008-04-30 00:00:00.000"
                                },
                                {
                                    "Name": "Paint - Red",
                                    "SellStartDate": "2008-04-30 00:00:00.000"
                                },
                                {
                                    "Name": "Paint - Silver",
                                    "SellStartDate": "2008-04-30 00:00:00.000"
                                },
                                {
                                    "Name": "Paint - Blue",
                                    "SellStartDate": "2008-04-30 00:00:00.000"
                                },
                                {
                                    "Name": "Paint - Yellow",
                                    "SellStartDate": "2008-04-30 00:00:00.000"
                                },
                                {
                                    "Name": "Pinch Bolt",
                                    "SellStartDate": "2008-04-30 00:00:00.000"
                                },
                                {
                                    "Name": "Cup-Shaped Race",
                                    "SellStartDate": "2008-04-30 00:00:00.000"
                                },
                                {
                                    "Name": "Cone-Shaped Race",
                                    "SellStartDate": "2008-04-30 00:00:00.000"
                                },
                                {
                                    "Name": "Reflector",
                                    "SellStartDate": "2008-04-30 00:00:00.000"
                                },
                                {
                                    "Name": "LL Mountain Rim",
                                    "SellStartDate": "2008-04-30 00:00:00.000"
                                },
                                {
                                    "Name": "ML Mountain Rim",
                                    "SellStartDate": "2008-04-30 00:00:00.000"
                                },
                                {
                                    "Name": "HL Mountain Rim",
                                    "SellStartDate": "2008-04-30 00:00:00.000"
                                },
                                {
                                    "Name": "LL Road Rim",
                                    "SellStartDate": "2008-04-30 00:00:00.000"
                                },
                                {
                                    "Name": "ML Road Rim",
                                    "SellStartDate": "2008-04-30 00:00:00.000"
                                },
                                {
                                    "Name": "HL Road Rim",
                                    "SellStartDate": "2008-04-30 00:00:00.000"
                                },
                                {
                                    "Name": "Touring Rim",
                                    "SellStartDate": "2008-04-30 00:00:00.000"
                                },
                                {
                                    "Name": "LL Mountain Seat Assembly",
                                    "SellStartDate": "2008-04-30 00:00:00.000"
                                },
                                {
                                    "Name": "ML Mountain Seat Assembly",
                                    "SellStartDate": "2008-04-30 00:00:00.000"
                                },
                                {
                                    "Name": "HL Mountain Seat Assembly",
                                    "SellStartDate": "2008-04-30 00:00:00.000"
                                },
                                {
                                    "Name": "LL Road Seat Assembly",
                                    "SellStartDate": "2008-04-30 00:00:00.000"
                                },
                                {
                                    "Name": "ML Road Seat Assembly",
                                    "SellStartDate": "2008-04-30 00:00:00.000"
                                },
                                {
                                    "Name": "HL Road Seat Assembly",
                                    "SellStartDate": "2008-04-30 00:00:00.000"
                                },
                                {
                                    "Name": "LL Touring Seat Assembly",
                                    "SellStartDate": "2008-04-30 00:00:00.000"
                                },
                                {
                                    "Name": "ML Touring Seat Assembly",
                                    "SellStartDate": "2008-04-30 00:00:00.000"
                                },
                                {
                                    "Name": "HL Touring Seat Assembly",
                                    "SellStartDate": "2008-04-30 00:00:00.000"
                                },
                                {
                                    "Name": "LL Spindle/Axle",
                                    "SellStartDate": "2008-04-30 00:00:00.000"
                                },
                                {
                                    "Name": "HL Spindle/Axle",
                                    "SellStartDate": "2008-04-30 00:00:00.000"
                                },
                                {
                                    "Name": "LL Shell",
                                    "SellStartDate": "2008-04-30 00:00:00.000"
                                },
                                {
                                    "Name": "HL Shell",
                                    "SellStartDate": "2008-04-30 00:00:00.000"
                                },
                                {
                                    "Name": "Spokes",
                                    "SellStartDate": "2008-04-30 00:00:00.000"
                                },
                                {
                                    "Name": "Seat Lug",
                                    "SellStartDate": "2008-04-30 00:00:00.000"
                                },
                                {
                                    "Name": "Stem",
                                    "SellStartDate": "2008-04-30 00:00:00.000"
                                },
                                {
                                    "Name": "Seat Post",
                                    "SellStartDate": "2008-04-30 00:00:00.000"
                                },
                                {
                                    "Name": "Steerer",
                                    "SellStartDate": "2008-04-30 00:00:00.000"
                                },
                                {
                                    "Name": "Seat Stays",
                                    "SellStartDate": "2008-04-30 00:00:00.000"
                                },
                                {
                                    "Name": "Seat Tube",
                                    "SellStartDate": "2008-04-30 00:00:00.000"
                                },
                                {
                                    "Name": "Top Tube",
                                    "SellStartDate": "2008-04-30 00:00:00.000"
                                },
                                {
                                    "Name": "Tension Pulley",
                                    "SellStartDate": "2008-04-30 00:00:00.000"
                                },
                                {
                                    "Name": "Rear Derailleur Cage",
                                    "SellStartDate": "2008-04-30 00:00:00.000"
                                },
                                {
                                    "Name": "HL Road Frame - Black, 58",
                                    "SellStartDate": "2008-04-30 00:00:00.000"
                                },
                                {
                                    "Name": "HL Road Frame - Red, 58",
                                    "SellStartDate": "2008-04-30 00:00:00.000"
                                }
                            ]
                        },
                        "text/html": [
                            "<table>",
                            "<tr><th>Name</th><th>SellStartDate</th></tr>",
                            "<tr><td>Adjustable Race</td><td>2008-04-30 00:00:00.000</td></tr>",
                            "<tr><td>Bearing Ball</td><td>2008-04-30 00:00:00.000</td></tr>",
                            "<tr><td>BB Ball Bearing</td><td>2008-04-30 00:00:00.000</td></tr>",
                            "<tr><td>Headset Ball Bearings</td><td>2008-04-30 00:00:00.000</td></tr>",
                            "<tr><td>Blade</td><td>2008-04-30 00:00:00.000</td></tr>",
                            "<tr><td>LL Crankarm</td><td>2008-04-30 00:00:00.000</td></tr>",
                            "<tr><td>ML Crankarm</td><td>2008-04-30 00:00:00.000</td></tr>",
                            "<tr><td>HL Crankarm</td><td>2008-04-30 00:00:00.000</td></tr>",
                            "<tr><td>Chainring Bolts</td><td>2008-04-30 00:00:00.000</td></tr>",
                            "<tr><td>Chainring Nut</td><td>2008-04-30 00:00:00.000</td></tr>",
                            "<tr><td>Chainring</td><td>2008-04-30 00:00:00.000</td></tr>",
                            "<tr><td>Crown Race</td><td>2008-04-30 00:00:00.000</td></tr>",
                            "<tr><td>Chain Stays</td><td>2008-04-30 00:00:00.000</td></tr>",
                            "<tr><td>Decal 1</td><td>2008-04-30 00:00:00.000</td></tr>",
                            "<tr><td>Decal 2</td><td>2008-04-30 00:00:00.000</td></tr>",
                            "<tr><td>Down Tube</td><td>2008-04-30 00:00:00.000</td></tr>",
                            "<tr><td>Mountain End Caps</td><td>2008-04-30 00:00:00.000</td></tr>",
                            "<tr><td>Road End Caps</td><td>2008-04-30 00:00:00.000</td></tr>",
                            "<tr><td>Touring End Caps</td><td>2008-04-30 00:00:00.000</td></tr>",
                            "<tr><td>Fork End</td><td>2008-04-30 00:00:00.000</td></tr>",
                            "<tr><td>Freewheel</td><td>2008-04-30 00:00:00.000</td></tr>",
                            "<tr><td>Flat Washer 1</td><td>2008-04-30 00:00:00.000</td></tr>",
                            "<tr><td>Flat Washer 6</td><td>2008-04-30 00:00:00.000</td></tr>",
                            "<tr><td>Flat Washer 2</td><td>2008-04-30 00:00:00.000</td></tr>",
                            "<tr><td>Flat Washer 9</td><td>2008-04-30 00:00:00.000</td></tr>",
                            "<tr><td>Flat Washer 4</td><td>2008-04-30 00:00:00.000</td></tr>",
                            "<tr><td>Flat Washer 3</td><td>2008-04-30 00:00:00.000</td></tr>",
                            "<tr><td>Flat Washer 8</td><td>2008-04-30 00:00:00.000</td></tr>",
                            "<tr><td>Flat Washer 5</td><td>2008-04-30 00:00:00.000</td></tr>",
                            "<tr><td>Flat Washer 7</td><td>2008-04-30 00:00:00.000</td></tr>",
                            "<tr><td>Fork Crown</td><td>2008-04-30 00:00:00.000</td></tr>",
                            "<tr><td>Front Derailleur Cage</td><td>2008-04-30 00:00:00.000</td></tr>",
                            "<tr><td>Front Derailleur Linkage</td><td>2008-04-30 00:00:00.000</td></tr>",
                            "<tr><td>Guide Pulley</td><td>2008-04-30 00:00:00.000</td></tr>",
                            "<tr><td>LL Grip Tape</td><td>2008-04-30 00:00:00.000</td></tr>",
                            "<tr><td>ML Grip Tape</td><td>2008-04-30 00:00:00.000</td></tr>",
                            "<tr><td>HL Grip Tape</td><td>2008-04-30 00:00:00.000</td></tr>",
                            "<tr><td>Thin-Jam Hex Nut 9</td><td>2008-04-30 00:00:00.000</td></tr>",
                            "<tr><td>Thin-Jam Hex Nut 10</td><td>2008-04-30 00:00:00.000</td></tr>",
                            "<tr><td>Thin-Jam Hex Nut 1</td><td>2008-04-30 00:00:00.000</td></tr>",
                            "<tr><td>Thin-Jam Hex Nut 2</td><td>2008-04-30 00:00:00.000</td></tr>",
                            "<tr><td>Thin-Jam Hex Nut 15</td><td>2008-04-30 00:00:00.000</td></tr>",
                            "<tr><td>Thin-Jam Hex Nut 16</td><td>2008-04-30 00:00:00.000</td></tr>",
                            "<tr><td>Thin-Jam Hex Nut 5</td><td>2008-04-30 00:00:00.000</td></tr>",
                            "<tr><td>Thin-Jam Hex Nut 6</td><td>2008-04-30 00:00:00.000</td></tr>",
                            "<tr><td>Thin-Jam Hex Nut 3</td><td>2008-04-30 00:00:00.000</td></tr>",
                            "<tr><td>Thin-Jam Hex Nut 4</td><td>2008-04-30 00:00:00.000</td></tr>",
                            "<tr><td>Thin-Jam Hex Nut 13</td><td>2008-04-30 00:00:00.000</td></tr>",
                            "<tr><td>Thin-Jam Hex Nut 14</td><td>2008-04-30 00:00:00.000</td></tr>",
                            "<tr><td>Thin-Jam Hex Nut 7</td><td>2008-04-30 00:00:00.000</td></tr>",
                            "<tr><td>Thin-Jam Hex Nut 8</td><td>2008-04-30 00:00:00.000</td></tr>",
                            "<tr><td>Thin-Jam Hex Nut 12</td><td>2008-04-30 00:00:00.000</td></tr>",
                            "<tr><td>Thin-Jam Hex Nut 11</td><td>2008-04-30 00:00:00.000</td></tr>",
                            "<tr><td>Hex Nut 5</td><td>2008-04-30 00:00:00.000</td></tr>",
                            "<tr><td>Hex Nut 6</td><td>2008-04-30 00:00:00.000</td></tr>",
                            "<tr><td>Hex Nut 16</td><td>2008-04-30 00:00:00.000</td></tr>",
                            "<tr><td>Hex Nut 17</td><td>2008-04-30 00:00:00.000</td></tr>",
                            "<tr><td>Hex Nut 7</td><td>2008-04-30 00:00:00.000</td></tr>",
                            "<tr><td>Hex Nut 8</td><td>2008-04-30 00:00:00.000</td></tr>",
                            "<tr><td>Hex Nut 9</td><td>2008-04-30 00:00:00.000</td></tr>",
                            "<tr><td>Hex Nut 22</td><td>2008-04-30 00:00:00.000</td></tr>",
                            "<tr><td>Hex Nut 23</td><td>2008-04-30 00:00:00.000</td></tr>",
                            "<tr><td>Hex Nut 12</td><td>2008-04-30 00:00:00.000</td></tr>",
                            "<tr><td>Hex Nut 13</td><td>2008-04-30 00:00:00.000</td></tr>",
                            "<tr><td>Hex Nut 1</td><td>2008-04-30 00:00:00.000</td></tr>",
                            "<tr><td>Hex Nut 10</td><td>2008-04-30 00:00:00.000</td></tr>",
                            "<tr><td>Hex Nut 11</td><td>2008-04-30 00:00:00.000</td></tr>",
                            "<tr><td>Hex Nut 2</td><td>2008-04-30 00:00:00.000</td></tr>",
                            "<tr><td>Hex Nut 20</td><td>2008-04-30 00:00:00.000</td></tr>",
                            "<tr><td>Hex Nut 21</td><td>2008-04-30 00:00:00.000</td></tr>",
                            "<tr><td>Hex Nut 3</td><td>2008-04-30 00:00:00.000</td></tr>",
                            "<tr><td>Hex Nut 14</td><td>2008-04-30 00:00:00.000</td></tr>",
                            "<tr><td>Hex Nut 15</td><td>2008-04-30 00:00:00.000</td></tr>",
                            "<tr><td>Hex Nut 4</td><td>2008-04-30 00:00:00.000</td></tr>",
                            "<tr><td>Hex Nut 18</td><td>2008-04-30 00:00:00.000</td></tr>",
                            "<tr><td>Hex Nut 19</td><td>2008-04-30 00:00:00.000</td></tr>",
                            "<tr><td>Handlebar Tube</td><td>2008-04-30 00:00:00.000</td></tr>",
                            "<tr><td>Head Tube</td><td>2008-04-30 00:00:00.000</td></tr>",
                            "<tr><td>LL Hub</td><td>2008-04-30 00:00:00.000</td></tr>",
                            "<tr><td>HL Hub</td><td>2008-04-30 00:00:00.000</td></tr>",
                            "<tr><td>Keyed Washer</td><td>2008-04-30 00:00:00.000</td></tr>",
                            "<tr><td>External Lock Washer 3</td><td>2008-04-30 00:00:00.000</td></tr>",
                            "<tr><td>External Lock Washer 4</td><td>2008-04-30 00:00:00.000</td></tr>",
                            "<tr><td>External Lock Washer 9</td><td>2008-04-30 00:00:00.000</td></tr>",
                            "<tr><td>External Lock Washer 5</td><td>2008-04-30 00:00:00.000</td></tr>",
                            "<tr><td>External Lock Washer 7</td><td>2008-04-30 00:00:00.000</td></tr>",
                            "<tr><td>External Lock Washer 6</td><td>2008-04-30 00:00:00.000</td></tr>",
                            "<tr><td>External Lock Washer 1</td><td>2008-04-30 00:00:00.000</td></tr>",
                            "<tr><td>External Lock Washer 8</td><td>2008-04-30 00:00:00.000</td></tr>",
                            "<tr><td>External Lock Washer 2</td><td>2008-04-30 00:00:00.000</td></tr>",
                            "<tr><td>Internal Lock Washer 3</td><td>2008-04-30 00:00:00.000</td></tr>",
                            "<tr><td>Internal Lock Washer 4</td><td>2008-04-30 00:00:00.000</td></tr>",
                            "<tr><td>Internal Lock Washer 9</td><td>2008-04-30 00:00:00.000</td></tr>",
                            "<tr><td>Internal Lock Washer 5</td><td>2008-04-30 00:00:00.000</td></tr>",
                            "<tr><td>Internal Lock Washer 7</td><td>2008-04-30 00:00:00.000</td></tr>",
                            "<tr><td>Internal Lock Washer 6</td><td>2008-04-30 00:00:00.000</td></tr>",
                            "<tr><td>Internal Lock Washer 10</td><td>2008-04-30 00:00:00.000</td></tr>",
                            "<tr><td>Internal Lock Washer 1</td><td>2008-04-30 00:00:00.000</td></tr>",
                            "<tr><td>Internal Lock Washer 8</td><td>2008-04-30 00:00:00.000</td></tr>",
                            "<tr><td>Internal Lock Washer 2</td><td>2008-04-30 00:00:00.000</td></tr>",
                            "<tr><td>Thin-Jam Lock Nut 9</td><td>2008-04-30 00:00:00.000</td></tr>",
                            "<tr><td>Thin-Jam Lock Nut 10</td><td>2008-04-30 00:00:00.000</td></tr>",
                            "<tr><td>Thin-Jam Lock Nut 1</td><td>2008-04-30 00:00:00.000</td></tr>",
                            "<tr><td>Thin-Jam Lock Nut 2</td><td>2008-04-30 00:00:00.000</td></tr>",
                            "<tr><td>Thin-Jam Lock Nut 15</td><td>2008-04-30 00:00:00.000</td></tr>",
                            "<tr><td>Thin-Jam Lock Nut 16</td><td>2008-04-30 00:00:00.000</td></tr>",
                            "<tr><td>Thin-Jam Lock Nut 5</td><td>2008-04-30 00:00:00.000</td></tr>",
                            "<tr><td>Thin-Jam Lock Nut 6</td><td>2008-04-30 00:00:00.000</td></tr>",
                            "<tr><td>Thin-Jam Lock Nut 3</td><td>2008-04-30 00:00:00.000</td></tr>",
                            "<tr><td>Thin-Jam Lock Nut 4</td><td>2008-04-30 00:00:00.000</td></tr>",
                            "<tr><td>Thin-Jam Lock Nut 13</td><td>2008-04-30 00:00:00.000</td></tr>",
                            "<tr><td>Thin-Jam Lock Nut 14</td><td>2008-04-30 00:00:00.000</td></tr>",
                            "<tr><td>Thin-Jam Lock Nut 7</td><td>2008-04-30 00:00:00.000</td></tr>",
                            "<tr><td>Thin-Jam Lock Nut 8</td><td>2008-04-30 00:00:00.000</td></tr>",
                            "<tr><td>Thin-Jam Lock Nut 12</td><td>2008-04-30 00:00:00.000</td></tr>",
                            "<tr><td>Thin-Jam Lock Nut 11</td><td>2008-04-30 00:00:00.000</td></tr>",
                            "<tr><td>Lock Nut 5</td><td>2008-04-30 00:00:00.000</td></tr>",
                            "<tr><td>Lock Nut 6</td><td>2008-04-30 00:00:00.000</td></tr>",
                            "<tr><td>Lock Nut 16</td><td>2008-04-30 00:00:00.000</td></tr>",
                            "<tr><td>Lock Nut 17</td><td>2008-04-30 00:00:00.000</td></tr>",
                            "<tr><td>Lock Nut 7</td><td>2008-04-30 00:00:00.000</td></tr>",
                            "<tr><td>Lock Nut 8</td><td>2008-04-30 00:00:00.000</td></tr>",
                            "<tr><td>Lock Nut 9</td><td>2008-04-30 00:00:00.000</td></tr>",
                            "<tr><td>Lock Nut 22</td><td>2008-04-30 00:00:00.000</td></tr>",
                            "<tr><td>Lock Nut 23</td><td>2008-04-30 00:00:00.000</td></tr>",
                            "<tr><td>Lock Nut 12</td><td>2008-04-30 00:00:00.000</td></tr>",
                            "<tr><td>Lock Nut 13</td><td>2008-04-30 00:00:00.000</td></tr>",
                            "<tr><td>Lock Nut 1</td><td>2008-04-30 00:00:00.000</td></tr>",
                            "<tr><td>Lock Nut 10</td><td>2008-04-30 00:00:00.000</td></tr>",
                            "<tr><td>Lock Nut 11</td><td>2008-04-30 00:00:00.000</td></tr>",
                            "<tr><td>Lock Nut 2</td><td>2008-04-30 00:00:00.000</td></tr>",
                            "<tr><td>Lock Nut 20</td><td>2008-04-30 00:00:00.000</td></tr>",
                            "<tr><td>Lock Nut 21</td><td>2008-04-30 00:00:00.000</td></tr>",
                            "<tr><td>Lock Nut 3</td><td>2008-04-30 00:00:00.000</td></tr>",
                            "<tr><td>Lock Nut 14</td><td>2008-04-30 00:00:00.000</td></tr>",
                            "<tr><td>Lock Nut 15</td><td>2008-04-30 00:00:00.000</td></tr>",
                            "<tr><td>Lock Nut 4</td><td>2008-04-30 00:00:00.000</td></tr>",
                            "<tr><td>Lock Nut 19</td><td>2008-04-30 00:00:00.000</td></tr>",
                            "<tr><td>Lock Nut 18</td><td>2008-04-30 00:00:00.000</td></tr>",
                            "<tr><td>Lock Ring</td><td>2008-04-30 00:00:00.000</td></tr>",
                            "<tr><td>Lower Head Race</td><td>2008-04-30 00:00:00.000</td></tr>",
                            "<tr><td>Lock Washer 4</td><td>2008-04-30 00:00:00.000</td></tr>",
                            "<tr><td>Lock Washer 5</td><td>2008-04-30 00:00:00.000</td></tr>",
                            "<tr><td>Lock Washer 10</td><td>2008-04-30 00:00:00.000</td></tr>",
                            "<tr><td>Lock Washer 6</td><td>2008-04-30 00:00:00.000</td></tr>",
                            "<tr><td>Lock Washer 13</td><td>2008-04-30 00:00:00.000</td></tr>",
                            "<tr><td>Lock Washer 8</td><td>2008-04-30 00:00:00.000</td></tr>",
                            "<tr><td>Lock Washer 1</td><td>2008-04-30 00:00:00.000</td></tr>",
                            "<tr><td>Lock Washer 7</td><td>2008-04-30 00:00:00.000</td></tr>",
                            "<tr><td>Lock Washer 12</td><td>2008-04-30 00:00:00.000</td></tr>",
                            "<tr><td>Lock Washer 2</td><td>2008-04-30 00:00:00.000</td></tr>",
                            "<tr><td>Lock Washer 9</td><td>2008-04-30 00:00:00.000</td></tr>",
                            "<tr><td>Lock Washer 3</td><td>2008-04-30 00:00:00.000</td></tr>",
                            "<tr><td>Lock Washer 11</td><td>2008-04-30 00:00:00.000</td></tr>",
                            "<tr><td>Metal Angle</td><td>2008-04-30 00:00:00.000</td></tr>",
                            "<tr><td>Metal Bar 1</td><td>2008-04-30 00:00:00.000</td></tr>",
                            "<tr><td>Metal Bar 2</td><td>2008-04-30 00:00:00.000</td></tr>",
                            "<tr><td>Metal Plate 2</td><td>2008-04-30 00:00:00.000</td></tr>",
                            "<tr><td>Metal Plate 1</td><td>2008-04-30 00:00:00.000</td></tr>",
                            "<tr><td>Metal Plate 3</td><td>2008-04-30 00:00:00.000</td></tr>",
                            "<tr><td>Metal Sheet 2</td><td>2008-04-30 00:00:00.000</td></tr>",
                            "<tr><td>Metal Sheet 3</td><td>2008-04-30 00:00:00.000</td></tr>",
                            "<tr><td>Metal Sheet 7</td><td>2008-04-30 00:00:00.000</td></tr>",
                            "<tr><td>Metal Sheet 4</td><td>2008-04-30 00:00:00.000</td></tr>",
                            "<tr><td>Metal Sheet 5</td><td>2008-04-30 00:00:00.000</td></tr>",
                            "<tr><td>Metal Sheet 6</td><td>2008-04-30 00:00:00.000</td></tr>",
                            "<tr><td>Metal Sheet 1</td><td>2008-04-30 00:00:00.000</td></tr>",
                            "<tr><td>Metal Tread Plate</td><td>2008-04-30 00:00:00.000</td></tr>",
                            "<tr><td>LL Nipple</td><td>2008-04-30 00:00:00.000</td></tr>",
                            "<tr><td>HL Nipple</td><td>2008-04-30 00:00:00.000</td></tr>",
                            "<tr><td>Paint - Black</td><td>2008-04-30 00:00:00.000</td></tr>",
                            "<tr><td>Paint - Red</td><td>2008-04-30 00:00:00.000</td></tr>",
                            "<tr><td>Paint - Silver</td><td>2008-04-30 00:00:00.000</td></tr>",
                            "<tr><td>Paint - Blue</td><td>2008-04-30 00:00:00.000</td></tr>",
                            "<tr><td>Paint - Yellow</td><td>2008-04-30 00:00:00.000</td></tr>",
                            "<tr><td>Pinch Bolt</td><td>2008-04-30 00:00:00.000</td></tr>",
                            "<tr><td>Cup-Shaped Race</td><td>2008-04-30 00:00:00.000</td></tr>",
                            "<tr><td>Cone-Shaped Race</td><td>2008-04-30 00:00:00.000</td></tr>",
                            "<tr><td>Reflector</td><td>2008-04-30 00:00:00.000</td></tr>",
                            "<tr><td>LL Mountain Rim</td><td>2008-04-30 00:00:00.000</td></tr>",
                            "<tr><td>ML Mountain Rim</td><td>2008-04-30 00:00:00.000</td></tr>",
                            "<tr><td>HL Mountain Rim</td><td>2008-04-30 00:00:00.000</td></tr>",
                            "<tr><td>LL Road Rim</td><td>2008-04-30 00:00:00.000</td></tr>",
                            "<tr><td>ML Road Rim</td><td>2008-04-30 00:00:00.000</td></tr>",
                            "<tr><td>HL Road Rim</td><td>2008-04-30 00:00:00.000</td></tr>",
                            "<tr><td>Touring Rim</td><td>2008-04-30 00:00:00.000</td></tr>",
                            "<tr><td>LL Mountain Seat Assembly</td><td>2008-04-30 00:00:00.000</td></tr>",
                            "<tr><td>ML Mountain Seat Assembly</td><td>2008-04-30 00:00:00.000</td></tr>",
                            "<tr><td>HL Mountain Seat Assembly</td><td>2008-04-30 00:00:00.000</td></tr>",
                            "<tr><td>LL Road Seat Assembly</td><td>2008-04-30 00:00:00.000</td></tr>",
                            "<tr><td>ML Road Seat Assembly</td><td>2008-04-30 00:00:00.000</td></tr>",
                            "<tr><td>HL Road Seat Assembly</td><td>2008-04-30 00:00:00.000</td></tr>",
                            "<tr><td>LL Touring Seat Assembly</td><td>2008-04-30 00:00:00.000</td></tr>",
                            "<tr><td>ML Touring Seat Assembly</td><td>2008-04-30 00:00:00.000</td></tr>",
                            "<tr><td>HL Touring Seat Assembly</td><td>2008-04-30 00:00:00.000</td></tr>",
                            "<tr><td>LL Spindle/Axle</td><td>2008-04-30 00:00:00.000</td></tr>",
                            "<tr><td>HL Spindle/Axle</td><td>2008-04-30 00:00:00.000</td></tr>",
                            "<tr><td>LL Shell</td><td>2008-04-30 00:00:00.000</td></tr>",
                            "<tr><td>HL Shell</td><td>2008-04-30 00:00:00.000</td></tr>",
                            "<tr><td>Spokes</td><td>2008-04-30 00:00:00.000</td></tr>",
                            "<tr><td>Seat Lug</td><td>2008-04-30 00:00:00.000</td></tr>",
                            "<tr><td>Stem</td><td>2008-04-30 00:00:00.000</td></tr>",
                            "<tr><td>Seat Post</td><td>2008-04-30 00:00:00.000</td></tr>",
                            "<tr><td>Steerer</td><td>2008-04-30 00:00:00.000</td></tr>",
                            "<tr><td>Seat Stays</td><td>2008-04-30 00:00:00.000</td></tr>",
                            "<tr><td>Seat Tube</td><td>2008-04-30 00:00:00.000</td></tr>",
                            "<tr><td>Top Tube</td><td>2008-04-30 00:00:00.000</td></tr>",
                            "<tr><td>Tension Pulley</td><td>2008-04-30 00:00:00.000</td></tr>",
                            "<tr><td>Rear Derailleur Cage</td><td>2008-04-30 00:00:00.000</td></tr>",
                            "<tr><td>HL Road Frame - Black, 58</td><td>2008-04-30 00:00:00.000</td></tr>",
                            "<tr><td>HL Road Frame - Red, 58</td><td>2008-04-30 00:00:00.000</td></tr>",
                            "</table>"
                        ]
                    }
                }
            ],
            "execution_count": 5
        },
        {
            "cell_type": "markdown",
            "source": [
                "**18.** lista con los productos ordenados por color que no sean color rojo"
            ],
            "metadata": {
                "language": "sql",
                "azdata_cell_guid": "f7e18e76-6a2c-4cb3-bac2-71c6ff3e5353"
            },
            "attachments": {}
        },
        {
            "cell_type": "code",
            "source": [
                "SELECT        Name, SellStartDate, Color\r\n",
                "FROM          Production.Product\r\n",
                "WHERE         Color != 'Red'\r\n",
                "ORDER BY Color"
            ],
            "metadata": {
                "language": "sql",
                "azdata_cell_guid": "05ed2e11-d187-4ba2-b516-8dc9cb5ad9b1"
            },
            "outputs": [
                {
                    "output_type": "display_data",
                    "data": {
                        "text/html": "(218 rows affected)"
                    },
                    "metadata": {}
                },
                {
                    "output_type": "display_data",
                    "data": {
                        "text/html": "Total execution time: 00:00:00.042"
                    },
                    "metadata": {}
                },
                {
                    "output_type": "execute_result",
                    "metadata": {},
                    "execution_count": 6,
                    "data": {
                        "application/vnd.dataresource+json": {
                            "schema": {
                                "fields": [
                                    {
                                        "name": "Name"
                                    },
                                    {
                                        "name": "SellStartDate"
                                    },
                                    {
                                        "name": "Color"
                                    }
                                ]
                            },
                            "data": [
                                {
                                    "Name": "LL Crankarm",
                                    "SellStartDate": "2008-04-30 00:00:00.000",
                                    "Color": "Black"
                                },
                                {
                                    "Name": "ML Crankarm",
                                    "SellStartDate": "2008-04-30 00:00:00.000",
                                    "Color": "Black"
                                },
                                {
                                    "Name": "HL Crankarm",
                                    "SellStartDate": "2008-04-30 00:00:00.000",
                                    "Color": "Black"
                                },
                                {
                                    "Name": "Chainring",
                                    "SellStartDate": "2008-04-30 00:00:00.000",
                                    "Color": "Black"
                                },
                                {
                                    "Name": "HL Road Frame - Black, 58",
                                    "SellStartDate": "2008-04-30 00:00:00.000",
                                    "Color": "Black"
                                },
                                {
                                    "Name": "Sport-100 Helmet, Black",
                                    "SellStartDate": "2011-05-31 00:00:00.000",
                                    "Color": "Black"
                                },
                                {
                                    "Name": "LL Road Frame - Black, 58",
                                    "SellStartDate": "2011-05-31 00:00:00.000",
                                    "Color": "Black"
                                },
                                {
                                    "Name": "LL Road Frame - Black, 60",
                                    "SellStartDate": "2011-05-31 00:00:00.000",
                                    "Color": "Black"
                                },
                                {
                                    "Name": "LL Road Frame - Black, 62",
                                    "SellStartDate": "2011-05-31 00:00:00.000",
                                    "Color": "Black"
                                },
                                {
                                    "Name": "LL Road Frame - Black, 44",
                                    "SellStartDate": "2011-05-31 00:00:00.000",
                                    "Color": "Black"
                                },
                                {
                                    "Name": "LL Road Frame - Black, 48",
                                    "SellStartDate": "2011-05-31 00:00:00.000",
                                    "Color": "Black"
                                },
                                {
                                    "Name": "LL Road Frame - Black, 52",
                                    "SellStartDate": "2011-05-31 00:00:00.000",
                                    "Color": "Black"
                                },
                                {
                                    "Name": "Road-650 Black, 58",
                                    "SellStartDate": "2011-05-31 00:00:00.000",
                                    "Color": "Black"
                                },
                                {
                                    "Name": "Road-650 Black, 60",
                                    "SellStartDate": "2011-05-31 00:00:00.000",
                                    "Color": "Black"
                                },
                                {
                                    "Name": "Road-650 Black, 62",
                                    "SellStartDate": "2011-05-31 00:00:00.000",
                                    "Color": "Black"
                                },
                                {
                                    "Name": "Road-650 Black, 44",
                                    "SellStartDate": "2011-05-31 00:00:00.000",
                                    "Color": "Black"
                                },
                                {
                                    "Name": "Road-650 Black, 48",
                                    "SellStartDate": "2011-05-31 00:00:00.000",
                                    "Color": "Black"
                                },
                                {
                                    "Name": "Road-650 Black, 52",
                                    "SellStartDate": "2011-05-31 00:00:00.000",
                                    "Color": "Black"
                                },
                                {
                                    "Name": "Mountain-200 Black, 38",
                                    "SellStartDate": "2012-05-30 00:00:00.000",
                                    "Color": "Black"
                                },
                                {
                                    "Name": "Mountain-200 Black, 42",
                                    "SellStartDate": "2012-05-30 00:00:00.000",
                                    "Color": "Black"
                                },
                                {
                                    "Name": "Mountain-200 Black, 46",
                                    "SellStartDate": "2012-05-30 00:00:00.000",
                                    "Color": "Black"
                                },
                                {
                                    "Name": "Mountain-300 Black, 38",
                                    "SellStartDate": "2012-05-30 00:00:00.000",
                                    "Color": "Black"
                                },
                                {
                                    "Name": "Mountain-300 Black, 40",
                                    "SellStartDate": "2012-05-30 00:00:00.000",
                                    "Color": "Black"
                                },
                                {
                                    "Name": "Mountain-300 Black, 44",
                                    "SellStartDate": "2012-05-30 00:00:00.000",
                                    "Color": "Black"
                                },
                                {
                                    "Name": "Mountain-300 Black, 48",
                                    "SellStartDate": "2012-05-30 00:00:00.000",
                                    "Color": "Black"
                                },
                                {
                                    "Name": "Road-250 Black, 44",
                                    "SellStartDate": "2012-05-30 00:00:00.000",
                                    "Color": "Black"
                                },
                                {
                                    "Name": "Road-250 Black, 48",
                                    "SellStartDate": "2012-05-30 00:00:00.000",
                                    "Color": "Black"
                                },
                                {
                                    "Name": "Road-250 Black, 52",
                                    "SellStartDate": "2012-05-30 00:00:00.000",
                                    "Color": "Black"
                                },
                                {
                                    "Name": "Road-250 Black, 58",
                                    "SellStartDate": "2012-05-30 00:00:00.000",
                                    "Color": "Black"
                                },
                                {
                                    "Name": "HL Mountain Frame - Black, 42",
                                    "SellStartDate": "2011-05-31 00:00:00.000",
                                    "Color": "Black"
                                },
                                {
                                    "Name": "HL Mountain Frame - Black, 44",
                                    "SellStartDate": "2011-05-31 00:00:00.000",
                                    "Color": "Black"
                                },
                                {
                                    "Name": "HL Mountain Frame - Black, 48",
                                    "SellStartDate": "2011-05-31 00:00:00.000",
                                    "Color": "Black"
                                },
                                {
                                    "Name": "HL Mountain Frame - Black, 46",
                                    "SellStartDate": "2011-05-31 00:00:00.000",
                                    "Color": "Black"
                                },
                                {
                                    "Name": "HL Mountain Frame - Black, 38",
                                    "SellStartDate": "2011-05-31 00:00:00.000",
                                    "Color": "Black"
                                },
                                {
                                    "Name": "Mountain-100 Black, 38",
                                    "SellStartDate": "2011-05-31 00:00:00.000",
                                    "Color": "Black"
                                },
                                {
                                    "Name": "Mountain-100 Black, 42",
                                    "SellStartDate": "2011-05-31 00:00:00.000",
                                    "Color": "Black"
                                },
                                {
                                    "Name": "Mountain-100 Black, 44",
                                    "SellStartDate": "2011-05-31 00:00:00.000",
                                    "Color": "Black"
                                },
                                {
                                    "Name": "Mountain-100 Black, 48",
                                    "SellStartDate": "2011-05-31 00:00:00.000",
                                    "Color": "Black"
                                },
                                {
                                    "Name": "ML Mountain Frame - Black, 38",
                                    "SellStartDate": "2012-05-30 00:00:00.000",
                                    "Color": "Black"
                                },
                                {
                                    "Name": "LL Mountain Front Wheel",
                                    "SellStartDate": "2012-05-30 00:00:00.000",
                                    "Color": "Black"
                                },
                                {
                                    "Name": "ML Mountain Front Wheel",
                                    "SellStartDate": "2012-05-30 00:00:00.000",
                                    "Color": "Black"
                                },
                                {
                                    "Name": "HL Mountain Front Wheel",
                                    "SellStartDate": "2012-05-30 00:00:00.000",
                                    "Color": "Black"
                                },
                                {
                                    "Name": "LL Road Front Wheel",
                                    "SellStartDate": "2012-05-30 00:00:00.000",
                                    "Color": "Black"
                                },
                                {
                                    "Name": "ML Road Front Wheel",
                                    "SellStartDate": "2012-05-30 00:00:00.000",
                                    "Color": "Black"
                                },
                                {
                                    "Name": "HL Road Front Wheel",
                                    "SellStartDate": "2012-05-30 00:00:00.000",
                                    "Color": "Black"
                                },
                                {
                                    "Name": "Touring Front Wheel",
                                    "SellStartDate": "2012-05-30 00:00:00.000",
                                    "Color": "Black"
                                },
                                {
                                    "Name": "LL Mountain Rear Wheel",
                                    "SellStartDate": "2012-05-30 00:00:00.000",
                                    "Color": "Black"
                                },
                                {
                                    "Name": "ML Mountain Rear Wheel",
                                    "SellStartDate": "2012-05-30 00:00:00.000",
                                    "Color": "Black"
                                },
                                {
                                    "Name": "HL Mountain Rear Wheel",
                                    "SellStartDate": "2012-05-30 00:00:00.000",
                                    "Color": "Black"
                                },
                                {
                                    "Name": "LL Road Rear Wheel",
                                    "SellStartDate": "2012-05-30 00:00:00.000",
                                    "Color": "Black"
                                },
                                {
                                    "Name": "ML Road Rear Wheel",
                                    "SellStartDate": "2012-05-30 00:00:00.000",
                                    "Color": "Black"
                                },
                                {
                                    "Name": "HL Road Rear Wheel",
                                    "SellStartDate": "2012-05-30 00:00:00.000",
                                    "Color": "Black"
                                },
                                {
                                    "Name": "Touring Rear Wheel",
                                    "SellStartDate": "2012-05-30 00:00:00.000",
                                    "Color": "Black"
                                },
                                {
                                    "Name": "ML Mountain Frame - Black, 40",
                                    "SellStartDate": "2012-05-30 00:00:00.000",
                                    "Color": "Black"
                                },
                                {
                                    "Name": "ML Mountain Frame - Black, 44",
                                    "SellStartDate": "2012-05-30 00:00:00.000",
                                    "Color": "Black"
                                },
                                {
                                    "Name": "ML Mountain Frame - Black, 48",
                                    "SellStartDate": "2012-05-30 00:00:00.000",
                                    "Color": "Black"
                                },
                                {
                                    "Name": "Men's Sports Shorts, M",
                                    "SellStartDate": "2012-05-30 00:00:00.000",
                                    "Color": "Black"
                                },
                                {
                                    "Name": "Men's Sports Shorts, L",
                                    "SellStartDate": "2012-05-30 00:00:00.000",
                                    "Color": "Black"
                                },
                                {
                                    "Name": "Men's Sports Shorts, XL",
                                    "SellStartDate": "2012-05-30 00:00:00.000",
                                    "Color": "Black"
                                },
                                {
                                    "Name": "Women's Tights, S",
                                    "SellStartDate": "2012-05-30 00:00:00.000",
                                    "Color": "Black"
                                },
                                {
                                    "Name": "Women's Tights, M",
                                    "SellStartDate": "2012-05-30 00:00:00.000",
                                    "Color": "Black"
                                },
                                {
                                    "Name": "Women's Tights, L",
                                    "SellStartDate": "2012-05-30 00:00:00.000",
                                    "Color": "Black"
                                },
                                {
                                    "Name": "Half-Finger Gloves, S",
                                    "SellStartDate": "2012-05-30 00:00:00.000",
                                    "Color": "Black"
                                },
                                {
                                    "Name": "Half-Finger Gloves, M",
                                    "SellStartDate": "2012-05-30 00:00:00.000",
                                    "Color": "Black"
                                },
                                {
                                    "Name": "Half-Finger Gloves, L",
                                    "SellStartDate": "2012-05-30 00:00:00.000",
                                    "Color": "Black"
                                },
                                {
                                    "Name": "Full-Finger Gloves, S",
                                    "SellStartDate": "2012-05-30 00:00:00.000",
                                    "Color": "Black"
                                },
                                {
                                    "Name": "Full-Finger Gloves, M",
                                    "SellStartDate": "2012-05-30 00:00:00.000",
                                    "Color": "Black"
                                },
                                {
                                    "Name": "Full-Finger Gloves, L",
                                    "SellStartDate": "2012-05-30 00:00:00.000",
                                    "Color": "Black"
                                },
                                {
                                    "Name": "HL Road Frame - Black, 62",
                                    "SellStartDate": "2012-05-30 00:00:00.000",
                                    "Color": "Black"
                                },
                                {
                                    "Name": "HL Road Frame - Black, 44",
                                    "SellStartDate": "2012-05-30 00:00:00.000",
                                    "Color": "Black"
                                },
                                {
                                    "Name": "HL Road Frame - Black, 48",
                                    "SellStartDate": "2012-05-30 00:00:00.000",
                                    "Color": "Black"
                                },
                                {
                                    "Name": "HL Road Frame - Black, 52",
                                    "SellStartDate": "2012-05-30 00:00:00.000",
                                    "Color": "Black"
                                },
                                {
                                    "Name": "Men's Sports Shorts, S",
                                    "SellStartDate": "2012-05-30 00:00:00.000",
                                    "Color": "Black"
                                },
                                {
                                    "Name": "Women's Mountain Shorts, S",
                                    "SellStartDate": "2013-05-30 00:00:00.000",
                                    "Color": "Black"
                                },
                                {
                                    "Name": "Women's Mountain Shorts, M",
                                    "SellStartDate": "2013-05-30 00:00:00.000",
                                    "Color": "Black"
                                },
                                {
                                    "Name": "Women's Mountain Shorts, L",
                                    "SellStartDate": "2013-05-30 00:00:00.000",
                                    "Color": "Black"
                                },
                                {
                                    "Name": "LL Mountain Frame - Black, 42",
                                    "SellStartDate": "2013-05-30 00:00:00.000",
                                    "Color": "Black"
                                },
                                {
                                    "Name": "LL Mountain Frame - Black, 44",
                                    "SellStartDate": "2013-05-30 00:00:00.000",
                                    "Color": "Black"
                                },
                                {
                                    "Name": "LL Mountain Frame - Black, 48",
                                    "SellStartDate": "2013-05-30 00:00:00.000",
                                    "Color": "Black"
                                },
                                {
                                    "Name": "LL Mountain Frame - Black, 52",
                                    "SellStartDate": "2013-05-30 00:00:00.000",
                                    "Color": "Black"
                                },
                                {
                                    "Name": "LL Mountain Frame - Black, 40",
                                    "SellStartDate": "2013-05-30 00:00:00.000",
                                    "Color": "Black"
                                },
                                {
                                    "Name": "LL Crankset",
                                    "SellStartDate": "2013-05-30 00:00:00.000",
                                    "Color": "Black"
                                },
                                {
                                    "Name": "ML Crankset",
                                    "SellStartDate": "2013-05-30 00:00:00.000",
                                    "Color": "Black"
                                },
                                {
                                    "Name": "HL Crankset",
                                    "SellStartDate": "2013-05-30 00:00:00.000",
                                    "Color": "Black"
                                },
                                {
                                    "Name": "Road-750 Black, 58",
                                    "SellStartDate": "2013-05-30 00:00:00.000",
                                    "Color": "Black"
                                },
                                {
                                    "Name": "Mountain-500 Black, 40",
                                    "SellStartDate": "2013-05-30 00:00:00.000",
                                    "Color": "Black"
                                },
                                {
                                    "Name": "Mountain-500 Black, 42",
                                    "SellStartDate": "2013-05-30 00:00:00.000",
                                    "Color": "Black"
                                },
                                {
                                    "Name": "Mountain-500 Black, 44",
                                    "SellStartDate": "2013-05-30 00:00:00.000",
                                    "Color": "Black"
                                },
                                {
                                    "Name": "Mountain-500 Black, 48",
                                    "SellStartDate": "2013-05-30 00:00:00.000",
                                    "Color": "Black"
                                },
                                {
                                    "Name": "Mountain-500 Black, 52",
                                    "SellStartDate": "2013-05-30 00:00:00.000",
                                    "Color": "Black"
                                },
                                {
                                    "Name": "Road-750 Black, 44",
                                    "SellStartDate": "2013-05-30 00:00:00.000",
                                    "Color": "Black"
                                },
                                {
                                    "Name": "Road-750 Black, 48",
                                    "SellStartDate": "2013-05-30 00:00:00.000",
                                    "Color": "Black"
                                },
                                {
                                    "Name": "Road-750 Black, 52",
                                    "SellStartDate": "2013-05-30 00:00:00.000",
                                    "Color": "Black"
                                },
                                {
                                    "Name": "Touring-3000 Blue, 44",
                                    "SellStartDate": "2013-05-30 00:00:00.000",
                                    "Color": "Blue"
                                },
                                {
                                    "Name": "Touring-3000 Blue, 50",
                                    "SellStartDate": "2013-05-30 00:00:00.000",
                                    "Color": "Blue"
                                },
                                {
                                    "Name": "Touring-2000 Blue, 60",
                                    "SellStartDate": "2013-05-30 00:00:00.000",
                                    "Color": "Blue"
                                },
                                {
                                    "Name": "HL Touring Frame - Blue, 46",
                                    "SellStartDate": "2013-05-30 00:00:00.000",
                                    "Color": "Blue"
                                },
                                {
                                    "Name": "HL Touring Frame - Blue, 50",
                                    "SellStartDate": "2013-05-30 00:00:00.000",
                                    "Color": "Blue"
                                },
                                {
                                    "Name": "HL Touring Frame - Blue, 54",
                                    "SellStartDate": "2013-05-30 00:00:00.000",
                                    "Color": "Blue"
                                },
                                {
                                    "Name": "HL Touring Frame - Blue, 60",
                                    "SellStartDate": "2013-05-30 00:00:00.000",
                                    "Color": "Blue"
                                },
                                {
                                    "Name": "Touring-3000 Blue, 54",
                                    "SellStartDate": "2013-05-30 00:00:00.000",
                                    "Color": "Blue"
                                },
                                {
                                    "Name": "Touring-3000 Blue, 58",
                                    "SellStartDate": "2013-05-30 00:00:00.000",
                                    "Color": "Blue"
                                },
                                {
                                    "Name": "Touring-3000 Blue, 62",
                                    "SellStartDate": "2013-05-30 00:00:00.000",
                                    "Color": "Blue"
                                },
                                {
                                    "Name": "Touring-1000 Blue, 46",
                                    "SellStartDate": "2013-05-30 00:00:00.000",
                                    "Color": "Blue"
                                },
                                {
                                    "Name": "Touring-1000 Blue, 50",
                                    "SellStartDate": "2013-05-30 00:00:00.000",
                                    "Color": "Blue"
                                },
                                {
                                    "Name": "Touring-1000 Blue, 54",
                                    "SellStartDate": "2013-05-30 00:00:00.000",
                                    "Color": "Blue"
                                },
                                {
                                    "Name": "Touring-1000 Blue, 60",
                                    "SellStartDate": "2013-05-30 00:00:00.000",
                                    "Color": "Blue"
                                },
                                {
                                    "Name": "Touring-2000 Blue, 46",
                                    "SellStartDate": "2013-05-30 00:00:00.000",
                                    "Color": "Blue"
                                },
                                {
                                    "Name": "Touring-2000 Blue, 50",
                                    "SellStartDate": "2013-05-30 00:00:00.000",
                                    "Color": "Blue"
                                },
                                {
                                    "Name": "Touring-2000 Blue, 54",
                                    "SellStartDate": "2013-05-30 00:00:00.000",
                                    "Color": "Blue"
                                },
                                {
                                    "Name": "LL Touring Frame - Blue, 44",
                                    "SellStartDate": "2013-05-30 00:00:00.000",
                                    "Color": "Blue"
                                },
                                {
                                    "Name": "LL Touring Frame - Blue, 50",
                                    "SellStartDate": "2013-05-30 00:00:00.000",
                                    "Color": "Blue"
                                },
                                {
                                    "Name": "LL Touring Frame - Blue, 54",
                                    "SellStartDate": "2013-05-30 00:00:00.000",
                                    "Color": "Blue"
                                },
                                {
                                    "Name": "LL Touring Frame - Blue, 58",
                                    "SellStartDate": "2013-05-30 00:00:00.000",
                                    "Color": "Blue"
                                },
                                {
                                    "Name": "LL Touring Frame - Blue, 62",
                                    "SellStartDate": "2013-05-30 00:00:00.000",
                                    "Color": "Blue"
                                },
                                {
                                    "Name": "Classic Vest, S",
                                    "SellStartDate": "2013-05-30 00:00:00.000",
                                    "Color": "Blue"
                                },
                                {
                                    "Name": "Classic Vest, M",
                                    "SellStartDate": "2013-05-30 00:00:00.000",
                                    "Color": "Blue"
                                },
                                {
                                    "Name": "Classic Vest, L",
                                    "SellStartDate": "2013-05-30 00:00:00.000",
                                    "Color": "Blue"
                                },
                                {
                                    "Name": "Sport-100 Helmet, Blue",
                                    "SellStartDate": "2011-05-31 00:00:00.000",
                                    "Color": "Blue"
                                },
                                {
                                    "Name": "Touring-Panniers, Large",
                                    "SellStartDate": "2012-05-30 00:00:00.000",
                                    "Color": "Grey"
                                },
                                {
                                    "Name": "Men's Bib-Shorts, S",
                                    "SellStartDate": "2012-05-30 00:00:00.000",
                                    "Color": "Multi"
                                },
                                {
                                    "Name": "Men's Bib-Shorts, M",
                                    "SellStartDate": "2012-05-30 00:00:00.000",
                                    "Color": "Multi"
                                },
                                {
                                    "Name": "Men's Bib-Shorts, L",
                                    "SellStartDate": "2012-05-30 00:00:00.000",
                                    "Color": "Multi"
                                },
                                {
                                    "Name": "AWC Logo Cap",
                                    "SellStartDate": "2011-05-31 00:00:00.000",
                                    "Color": "Multi"
                                },
                                {
                                    "Name": "Long-Sleeve Logo Jersey, S",
                                    "SellStartDate": "2011-05-31 00:00:00.000",
                                    "Color": "Multi"
                                },
                                {
                                    "Name": "Long-Sleeve Logo Jersey, M",
                                    "SellStartDate": "2011-05-31 00:00:00.000",
                                    "Color": "Multi"
                                },
                                {
                                    "Name": "Long-Sleeve Logo Jersey, L",
                                    "SellStartDate": "2011-05-31 00:00:00.000",
                                    "Color": "Multi"
                                },
                                {
                                    "Name": "Long-Sleeve Logo Jersey, XL",
                                    "SellStartDate": "2011-05-31 00:00:00.000",
                                    "Color": "Multi"
                                },
                                {
                                    "Name": "Freewheel",
                                    "SellStartDate": "2008-04-30 00:00:00.000",
                                    "Color": "Silver"
                                },
                                {
                                    "Name": "Front Derailleur Cage",
                                    "SellStartDate": "2008-04-30 00:00:00.000",
                                    "Color": "Silver"
                                },
                                {
                                    "Name": "Front Derailleur Linkage",
                                    "SellStartDate": "2008-04-30 00:00:00.000",
                                    "Color": "Silver"
                                },
                                {
                                    "Name": "Lock Ring",
                                    "SellStartDate": "2008-04-30 00:00:00.000",
                                    "Color": "Silver"
                                },
                                {
                                    "Name": "Rear Derailleur Cage",
                                    "SellStartDate": "2008-04-30 00:00:00.000",
                                    "Color": "Silver"
                                },
                                {
                                    "Name": "Chainring Bolts",
                                    "SellStartDate": "2008-04-30 00:00:00.000",
                                    "Color": "Silver"
                                },
                                {
                                    "Name": "Chainring Nut",
                                    "SellStartDate": "2008-04-30 00:00:00.000",
                                    "Color": "Silver"
                                },
                                {
                                    "Name": "Mountain-100 Silver, 38",
                                    "SellStartDate": "2011-05-31 00:00:00.000",
                                    "Color": "Silver"
                                },
                                {
                                    "Name": "Mountain-100 Silver, 42",
                                    "SellStartDate": "2011-05-31 00:00:00.000",
                                    "Color": "Silver"
                                },
                                {
                                    "Name": "Mountain-100 Silver, 44",
                                    "SellStartDate": "2011-05-31 00:00:00.000",
                                    "Color": "Silver"
                                },
                                {
                                    "Name": "Mountain-100 Silver, 48",
                                    "SellStartDate": "2011-05-31 00:00:00.000",
                                    "Color": "Silver"
                                },
                                {
                                    "Name": "HL Mountain Frame - Silver, 42",
                                    "SellStartDate": "2011-05-31 00:00:00.000",
                                    "Color": "Silver"
                                },
                                {
                                    "Name": "HL Mountain Frame - Silver, 44",
                                    "SellStartDate": "2011-05-31 00:00:00.000",
                                    "Color": "Silver"
                                },
                                {
                                    "Name": "HL Mountain Frame - Silver, 48",
                                    "SellStartDate": "2011-05-31 00:00:00.000",
                                    "Color": "Silver"
                                },
                                {
                                    "Name": "HL Mountain Frame - Silver, 46",
                                    "SellStartDate": "2011-05-31 00:00:00.000",
                                    "Color": "Silver"
                                },
                                {
                                    "Name": "Mountain-200 Silver, 38",
                                    "SellStartDate": "2012-05-30 00:00:00.000",
                                    "Color": "Silver"
                                },
                                {
                                    "Name": "Mountain-200 Silver, 42",
                                    "SellStartDate": "2012-05-30 00:00:00.000",
                                    "Color": "Silver"
                                },
                                {
                                    "Name": "Mountain-200 Silver, 46",
                                    "SellStartDate": "2012-05-30 00:00:00.000",
                                    "Color": "Silver"
                                },
                                {
                                    "Name": "HL Mountain Frame - Silver, 38",
                                    "SellStartDate": "2011-05-31 00:00:00.000",
                                    "Color": "Silver"
                                },
                                {
                                    "Name": "Hydration Pack - 70 oz.",
                                    "SellStartDate": "2013-05-30 00:00:00.000",
                                    "Color": "Silver"
                                },
                                {
                                    "Name": "ML Mountain Frame-W - Silver, 40",
                                    "SellStartDate": "2013-05-30 00:00:00.000",
                                    "Color": "Silver"
                                },
                                {
                                    "Name": "ML Mountain Frame-W - Silver, 42",
                                    "SellStartDate": "2013-05-30 00:00:00.000",
                                    "Color": "Silver"
                                },
                                {
                                    "Name": "ML Mountain Frame-W - Silver, 46",
                                    "SellStartDate": "2013-05-30 00:00:00.000",
                                    "Color": "Silver"
                                },
                                {
                                    "Name": "Rear Brakes",
                                    "SellStartDate": "2013-05-30 00:00:00.000",
                                    "Color": "Silver"
                                },
                                {
                                    "Name": "LL Mountain Frame - Silver, 42",
                                    "SellStartDate": "2013-05-30 00:00:00.000",
                                    "Color": "Silver"
                                },
                                {
                                    "Name": "LL Mountain Frame - Silver, 44",
                                    "SellStartDate": "2013-05-30 00:00:00.000",
                                    "Color": "Silver"
                                },
                                {
                                    "Name": "LL Mountain Frame - Silver, 48",
                                    "SellStartDate": "2013-05-30 00:00:00.000",
                                    "Color": "Silver"
                                },
                                {
                                    "Name": "LL Mountain Frame - Silver, 52",
                                    "SellStartDate": "2013-05-30 00:00:00.000",
                                    "Color": "Silver"
                                },
                                {
                                    "Name": "Rear Derailleur",
                                    "SellStartDate": "2013-05-30 00:00:00.000",
                                    "Color": "Silver"
                                },
                                {
                                    "Name": "LL Mountain Frame - Silver, 40",
                                    "SellStartDate": "2013-05-30 00:00:00.000",
                                    "Color": "Silver"
                                },
                                {
                                    "Name": "Front Derailleur",
                                    "SellStartDate": "2013-05-30 00:00:00.000",
                                    "Color": "Silver"
                                },
                                {
                                    "Name": "Front Brakes",
                                    "SellStartDate": "2013-05-30 00:00:00.000",
                                    "Color": "Silver"
                                },
                                {
                                    "Name": "Chain",
                                    "SellStartDate": "2013-05-30 00:00:00.000",
                                    "Color": "Silver"
                                },
                                {
                                    "Name": "Mountain-400-W Silver, 38",
                                    "SellStartDate": "2013-05-30 00:00:00.000",
                                    "Color": "Silver"
                                },
                                {
                                    "Name": "Mountain-400-W Silver, 40",
                                    "SellStartDate": "2013-05-30 00:00:00.000",
                                    "Color": "Silver"
                                },
                                {
                                    "Name": "Mountain-400-W Silver, 42",
                                    "SellStartDate": "2013-05-30 00:00:00.000",
                                    "Color": "Silver"
                                },
                                {
                                    "Name": "Mountain-400-W Silver, 46",
                                    "SellStartDate": "2013-05-30 00:00:00.000",
                                    "Color": "Silver"
                                },
                                {
                                    "Name": "Mountain-500 Silver, 40",
                                    "SellStartDate": "2013-05-30 00:00:00.000",
                                    "Color": "Silver"
                                },
                                {
                                    "Name": "Mountain-500 Silver, 42",
                                    "SellStartDate": "2013-05-30 00:00:00.000",
                                    "Color": "Silver"
                                },
                                {
                                    "Name": "Mountain-500 Silver, 44",
                                    "SellStartDate": "2013-05-30 00:00:00.000",
                                    "Color": "Silver"
                                },
                                {
                                    "Name": "Mountain-500 Silver, 48",
                                    "SellStartDate": "2013-05-30 00:00:00.000",
                                    "Color": "Silver"
                                },
                                {
                                    "Name": "Mountain-500 Silver, 52",
                                    "SellStartDate": "2013-05-30 00:00:00.000",
                                    "Color": "Silver"
                                },
                                {
                                    "Name": "ML Mountain Frame-W - Silver, 38",
                                    "SellStartDate": "2013-05-30 00:00:00.000",
                                    "Color": "Silver"
                                },
                                {
                                    "Name": "LL Mountain Pedal",
                                    "SellStartDate": "2013-05-30 00:00:00.000",
                                    "Color": "Silver/Black"
                                },
                                {
                                    "Name": "ML Mountain Pedal",
                                    "SellStartDate": "2013-05-30 00:00:00.000",
                                    "Color": "Silver/Black"
                                },
                                {
                                    "Name": "HL Mountain Pedal",
                                    "SellStartDate": "2013-05-30 00:00:00.000",
                                    "Color": "Silver/Black"
                                },
                                {
                                    "Name": "LL Road Pedal",
                                    "SellStartDate": "2013-05-30 00:00:00.000",
                                    "Color": "Silver/Black"
                                },
                                {
                                    "Name": "ML Road Pedal",
                                    "SellStartDate": "2013-05-30 00:00:00.000",
                                    "Color": "Silver/Black"
                                },
                                {
                                    "Name": "HL Road Pedal",
                                    "SellStartDate": "2013-05-30 00:00:00.000",
                                    "Color": "Silver/Black"
                                },
                                {
                                    "Name": "Touring Pedal",
                                    "SellStartDate": "2013-05-30 00:00:00.000",
                                    "Color": "Silver/Black"
                                },
                                {
                                    "Name": "Racing Socks, M",
                                    "SellStartDate": "2013-05-30 00:00:00.000",
                                    "Color": "White"
                                },
                                {
                                    "Name": "Racing Socks, L",
                                    "SellStartDate": "2013-05-30 00:00:00.000",
                                    "Color": "White"
                                },
                                {
                                    "Name": "Mountain Bike Socks, M",
                                    "SellStartDate": "2011-05-31 00:00:00.000",
                                    "Color": "White"
                                },
                                {
                                    "Name": "Mountain Bike Socks, L",
                                    "SellStartDate": "2011-05-31 00:00:00.000",
                                    "Color": "White"
                                },
                                {
                                    "Name": "ML Road Frame-W - Yellow, 38",
                                    "SellStartDate": "2012-05-30 00:00:00.000",
                                    "Color": "Yellow"
                                },
                                {
                                    "Name": "Road-550-W Yellow, 38",
                                    "SellStartDate": "2012-05-30 00:00:00.000",
                                    "Color": "Yellow"
                                },
                                {
                                    "Name": "Road-550-W Yellow, 40",
                                    "SellStartDate": "2012-05-30 00:00:00.000",
                                    "Color": "Yellow"
                                },
                                {
                                    "Name": "Road-550-W Yellow, 42",
                                    "SellStartDate": "2012-05-30 00:00:00.000",
                                    "Color": "Yellow"
                                },
                                {
                                    "Name": "Road-550-W Yellow, 44",
                                    "SellStartDate": "2012-05-30 00:00:00.000",
                                    "Color": "Yellow"
                                },
                                {
                                    "Name": "Road-550-W Yellow, 48",
                                    "SellStartDate": "2012-05-30 00:00:00.000",
                                    "Color": "Yellow"
                                },
                                {
                                    "Name": "ML Road Frame-W - Yellow, 40",
                                    "SellStartDate": "2012-05-30 00:00:00.000",
                                    "Color": "Yellow"
                                },
                                {
                                    "Name": "ML Road Frame-W - Yellow, 42",
                                    "SellStartDate": "2012-05-30 00:00:00.000",
                                    "Color": "Yellow"
                                },
                                {
                                    "Name": "ML Road Frame-W - Yellow, 44",
                                    "SellStartDate": "2012-05-30 00:00:00.000",
                                    "Color": "Yellow"
                                },
                                {
                                    "Name": "ML Road Frame-W - Yellow, 48",
                                    "SellStartDate": "2012-05-30 00:00:00.000",
                                    "Color": "Yellow"
                                },
                                {
                                    "Name": "Short-Sleeve Classic Jersey, S",
                                    "SellStartDate": "2013-05-30 00:00:00.000",
                                    "Color": "Yellow"
                                },
                                {
                                    "Name": "Short-Sleeve Classic Jersey, M",
                                    "SellStartDate": "2013-05-30 00:00:00.000",
                                    "Color": "Yellow"
                                },
                                {
                                    "Name": "Short-Sleeve Classic Jersey, L",
                                    "SellStartDate": "2013-05-30 00:00:00.000",
                                    "Color": "Yellow"
                                },
                                {
                                    "Name": "Short-Sleeve Classic Jersey, XL",
                                    "SellStartDate": "2013-05-30 00:00:00.000",
                                    "Color": "Yellow"
                                },
                                {
                                    "Name": "HL Touring Frame - Yellow, 60",
                                    "SellStartDate": "2013-05-30 00:00:00.000",
                                    "Color": "Yellow"
                                },
                                {
                                    "Name": "LL Touring Frame - Yellow, 62",
                                    "SellStartDate": "2013-05-30 00:00:00.000",
                                    "Color": "Yellow"
                                },
                                {
                                    "Name": "HL Touring Frame - Yellow, 46",
                                    "SellStartDate": "2013-05-30 00:00:00.000",
                                    "Color": "Yellow"
                                },
                                {
                                    "Name": "HL Touring Frame - Yellow, 50",
                                    "SellStartDate": "2013-05-30 00:00:00.000",
                                    "Color": "Yellow"
                                },
                                {
                                    "Name": "HL Touring Frame - Yellow, 54",
                                    "SellStartDate": "2013-05-30 00:00:00.000",
                                    "Color": "Yellow"
                                },
                                {
                                    "Name": "LL Touring Frame - Yellow, 44",
                                    "SellStartDate": "2013-05-30 00:00:00.000",
                                    "Color": "Yellow"
                                },
                                {
                                    "Name": "LL Touring Frame - Yellow, 50",
                                    "SellStartDate": "2013-05-30 00:00:00.000",
                                    "Color": "Yellow"
                                },
                                {
                                    "Name": "LL Touring Frame - Yellow, 54",
                                    "SellStartDate": "2013-05-30 00:00:00.000",
                                    "Color": "Yellow"
                                },
                                {
                                    "Name": "LL Touring Frame - Yellow, 58",
                                    "SellStartDate": "2013-05-30 00:00:00.000",
                                    "Color": "Yellow"
                                },
                                {
                                    "Name": "Touring-1000 Yellow, 46",
                                    "SellStartDate": "2013-05-30 00:00:00.000",
                                    "Color": "Yellow"
                                },
                                {
                                    "Name": "Touring-1000 Yellow, 50",
                                    "SellStartDate": "2013-05-30 00:00:00.000",
                                    "Color": "Yellow"
                                },
                                {
                                    "Name": "Touring-1000 Yellow, 54",
                                    "SellStartDate": "2013-05-30 00:00:00.000",
                                    "Color": "Yellow"
                                },
                                {
                                    "Name": "Touring-1000 Yellow, 60",
                                    "SellStartDate": "2013-05-30 00:00:00.000",
                                    "Color": "Yellow"
                                },
                                {
                                    "Name": "Road-350-W Yellow, 40",
                                    "SellStartDate": "2013-05-30 00:00:00.000",
                                    "Color": "Yellow"
                                },
                                {
                                    "Name": "Road-350-W Yellow, 42",
                                    "SellStartDate": "2013-05-30 00:00:00.000",
                                    "Color": "Yellow"
                                },
                                {
                                    "Name": "Road-350-W Yellow, 44",
                                    "SellStartDate": "2013-05-30 00:00:00.000",
                                    "Color": "Yellow"
                                },
                                {
                                    "Name": "Road-350-W Yellow, 48",
                                    "SellStartDate": "2013-05-30 00:00:00.000",
                                    "Color": "Yellow"
                                },
                                {
                                    "Name": "Touring-3000 Yellow, 44",
                                    "SellStartDate": "2013-05-30 00:00:00.000",
                                    "Color": "Yellow"
                                },
                                {
                                    "Name": "Touring-3000 Yellow, 50",
                                    "SellStartDate": "2013-05-30 00:00:00.000",
                                    "Color": "Yellow"
                                },
                                {
                                    "Name": "Touring-3000 Yellow, 54",
                                    "SellStartDate": "2013-05-30 00:00:00.000",
                                    "Color": "Yellow"
                                },
                                {
                                    "Name": "Touring-3000 Yellow, 58",
                                    "SellStartDate": "2013-05-30 00:00:00.000",
                                    "Color": "Yellow"
                                },
                                {
                                    "Name": "Touring-3000 Yellow, 62",
                                    "SellStartDate": "2013-05-30 00:00:00.000",
                                    "Color": "Yellow"
                                }
                            ]
                        },
                        "text/html": [
                            "<table>",
                            "<tr><th>Name</th><th>SellStartDate</th><th>Color</th></tr>",
                            "<tr><td>LL Crankarm</td><td>2008-04-30 00:00:00.000</td><td>Black</td></tr>",
                            "<tr><td>ML Crankarm</td><td>2008-04-30 00:00:00.000</td><td>Black</td></tr>",
                            "<tr><td>HL Crankarm</td><td>2008-04-30 00:00:00.000</td><td>Black</td></tr>",
                            "<tr><td>Chainring</td><td>2008-04-30 00:00:00.000</td><td>Black</td></tr>",
                            "<tr><td>HL Road Frame - Black, 58</td><td>2008-04-30 00:00:00.000</td><td>Black</td></tr>",
                            "<tr><td>Sport-100 Helmet, Black</td><td>2011-05-31 00:00:00.000</td><td>Black</td></tr>",
                            "<tr><td>LL Road Frame - Black, 58</td><td>2011-05-31 00:00:00.000</td><td>Black</td></tr>",
                            "<tr><td>LL Road Frame - Black, 60</td><td>2011-05-31 00:00:00.000</td><td>Black</td></tr>",
                            "<tr><td>LL Road Frame - Black, 62</td><td>2011-05-31 00:00:00.000</td><td>Black</td></tr>",
                            "<tr><td>LL Road Frame - Black, 44</td><td>2011-05-31 00:00:00.000</td><td>Black</td></tr>",
                            "<tr><td>LL Road Frame - Black, 48</td><td>2011-05-31 00:00:00.000</td><td>Black</td></tr>",
                            "<tr><td>LL Road Frame - Black, 52</td><td>2011-05-31 00:00:00.000</td><td>Black</td></tr>",
                            "<tr><td>Road-650 Black, 58</td><td>2011-05-31 00:00:00.000</td><td>Black</td></tr>",
                            "<tr><td>Road-650 Black, 60</td><td>2011-05-31 00:00:00.000</td><td>Black</td></tr>",
                            "<tr><td>Road-650 Black, 62</td><td>2011-05-31 00:00:00.000</td><td>Black</td></tr>",
                            "<tr><td>Road-650 Black, 44</td><td>2011-05-31 00:00:00.000</td><td>Black</td></tr>",
                            "<tr><td>Road-650 Black, 48</td><td>2011-05-31 00:00:00.000</td><td>Black</td></tr>",
                            "<tr><td>Road-650 Black, 52</td><td>2011-05-31 00:00:00.000</td><td>Black</td></tr>",
                            "<tr><td>Mountain-200 Black, 38</td><td>2012-05-30 00:00:00.000</td><td>Black</td></tr>",
                            "<tr><td>Mountain-200 Black, 42</td><td>2012-05-30 00:00:00.000</td><td>Black</td></tr>",
                            "<tr><td>Mountain-200 Black, 46</td><td>2012-05-30 00:00:00.000</td><td>Black</td></tr>",
                            "<tr><td>Mountain-300 Black, 38</td><td>2012-05-30 00:00:00.000</td><td>Black</td></tr>",
                            "<tr><td>Mountain-300 Black, 40</td><td>2012-05-30 00:00:00.000</td><td>Black</td></tr>",
                            "<tr><td>Mountain-300 Black, 44</td><td>2012-05-30 00:00:00.000</td><td>Black</td></tr>",
                            "<tr><td>Mountain-300 Black, 48</td><td>2012-05-30 00:00:00.000</td><td>Black</td></tr>",
                            "<tr><td>Road-250 Black, 44</td><td>2012-05-30 00:00:00.000</td><td>Black</td></tr>",
                            "<tr><td>Road-250 Black, 48</td><td>2012-05-30 00:00:00.000</td><td>Black</td></tr>",
                            "<tr><td>Road-250 Black, 52</td><td>2012-05-30 00:00:00.000</td><td>Black</td></tr>",
                            "<tr><td>Road-250 Black, 58</td><td>2012-05-30 00:00:00.000</td><td>Black</td></tr>",
                            "<tr><td>HL Mountain Frame - Black, 42</td><td>2011-05-31 00:00:00.000</td><td>Black</td></tr>",
                            "<tr><td>HL Mountain Frame - Black, 44</td><td>2011-05-31 00:00:00.000</td><td>Black</td></tr>",
                            "<tr><td>HL Mountain Frame - Black, 48</td><td>2011-05-31 00:00:00.000</td><td>Black</td></tr>",
                            "<tr><td>HL Mountain Frame - Black, 46</td><td>2011-05-31 00:00:00.000</td><td>Black</td></tr>",
                            "<tr><td>HL Mountain Frame - Black, 38</td><td>2011-05-31 00:00:00.000</td><td>Black</td></tr>",
                            "<tr><td>Mountain-100 Black, 38</td><td>2011-05-31 00:00:00.000</td><td>Black</td></tr>",
                            "<tr><td>Mountain-100 Black, 42</td><td>2011-05-31 00:00:00.000</td><td>Black</td></tr>",
                            "<tr><td>Mountain-100 Black, 44</td><td>2011-05-31 00:00:00.000</td><td>Black</td></tr>",
                            "<tr><td>Mountain-100 Black, 48</td><td>2011-05-31 00:00:00.000</td><td>Black</td></tr>",
                            "<tr><td>ML Mountain Frame - Black, 38</td><td>2012-05-30 00:00:00.000</td><td>Black</td></tr>",
                            "<tr><td>LL Mountain Front Wheel</td><td>2012-05-30 00:00:00.000</td><td>Black</td></tr>",
                            "<tr><td>ML Mountain Front Wheel</td><td>2012-05-30 00:00:00.000</td><td>Black</td></tr>",
                            "<tr><td>HL Mountain Front Wheel</td><td>2012-05-30 00:00:00.000</td><td>Black</td></tr>",
                            "<tr><td>LL Road Front Wheel</td><td>2012-05-30 00:00:00.000</td><td>Black</td></tr>",
                            "<tr><td>ML Road Front Wheel</td><td>2012-05-30 00:00:00.000</td><td>Black</td></tr>",
                            "<tr><td>HL Road Front Wheel</td><td>2012-05-30 00:00:00.000</td><td>Black</td></tr>",
                            "<tr><td>Touring Front Wheel</td><td>2012-05-30 00:00:00.000</td><td>Black</td></tr>",
                            "<tr><td>LL Mountain Rear Wheel</td><td>2012-05-30 00:00:00.000</td><td>Black</td></tr>",
                            "<tr><td>ML Mountain Rear Wheel</td><td>2012-05-30 00:00:00.000</td><td>Black</td></tr>",
                            "<tr><td>HL Mountain Rear Wheel</td><td>2012-05-30 00:00:00.000</td><td>Black</td></tr>",
                            "<tr><td>LL Road Rear Wheel</td><td>2012-05-30 00:00:00.000</td><td>Black</td></tr>",
                            "<tr><td>ML Road Rear Wheel</td><td>2012-05-30 00:00:00.000</td><td>Black</td></tr>",
                            "<tr><td>HL Road Rear Wheel</td><td>2012-05-30 00:00:00.000</td><td>Black</td></tr>",
                            "<tr><td>Touring Rear Wheel</td><td>2012-05-30 00:00:00.000</td><td>Black</td></tr>",
                            "<tr><td>ML Mountain Frame - Black, 40</td><td>2012-05-30 00:00:00.000</td><td>Black</td></tr>",
                            "<tr><td>ML Mountain Frame - Black, 44</td><td>2012-05-30 00:00:00.000</td><td>Black</td></tr>",
                            "<tr><td>ML Mountain Frame - Black, 48</td><td>2012-05-30 00:00:00.000</td><td>Black</td></tr>",
                            "<tr><td>Men&#39;s Sports Shorts, M</td><td>2012-05-30 00:00:00.000</td><td>Black</td></tr>",
                            "<tr><td>Men&#39;s Sports Shorts, L</td><td>2012-05-30 00:00:00.000</td><td>Black</td></tr>",
                            "<tr><td>Men&#39;s Sports Shorts, XL</td><td>2012-05-30 00:00:00.000</td><td>Black</td></tr>",
                            "<tr><td>Women&#39;s Tights, S</td><td>2012-05-30 00:00:00.000</td><td>Black</td></tr>",
                            "<tr><td>Women&#39;s Tights, M</td><td>2012-05-30 00:00:00.000</td><td>Black</td></tr>",
                            "<tr><td>Women&#39;s Tights, L</td><td>2012-05-30 00:00:00.000</td><td>Black</td></tr>",
                            "<tr><td>Half-Finger Gloves, S</td><td>2012-05-30 00:00:00.000</td><td>Black</td></tr>",
                            "<tr><td>Half-Finger Gloves, M</td><td>2012-05-30 00:00:00.000</td><td>Black</td></tr>",
                            "<tr><td>Half-Finger Gloves, L</td><td>2012-05-30 00:00:00.000</td><td>Black</td></tr>",
                            "<tr><td>Full-Finger Gloves, S</td><td>2012-05-30 00:00:00.000</td><td>Black</td></tr>",
                            "<tr><td>Full-Finger Gloves, M</td><td>2012-05-30 00:00:00.000</td><td>Black</td></tr>",
                            "<tr><td>Full-Finger Gloves, L</td><td>2012-05-30 00:00:00.000</td><td>Black</td></tr>",
                            "<tr><td>HL Road Frame - Black, 62</td><td>2012-05-30 00:00:00.000</td><td>Black</td></tr>",
                            "<tr><td>HL Road Frame - Black, 44</td><td>2012-05-30 00:00:00.000</td><td>Black</td></tr>",
                            "<tr><td>HL Road Frame - Black, 48</td><td>2012-05-30 00:00:00.000</td><td>Black</td></tr>",
                            "<tr><td>HL Road Frame - Black, 52</td><td>2012-05-30 00:00:00.000</td><td>Black</td></tr>",
                            "<tr><td>Men&#39;s Sports Shorts, S</td><td>2012-05-30 00:00:00.000</td><td>Black</td></tr>",
                            "<tr><td>Women&#39;s Mountain Shorts, S</td><td>2013-05-30 00:00:00.000</td><td>Black</td></tr>",
                            "<tr><td>Women&#39;s Mountain Shorts, M</td><td>2013-05-30 00:00:00.000</td><td>Black</td></tr>",
                            "<tr><td>Women&#39;s Mountain Shorts, L</td><td>2013-05-30 00:00:00.000</td><td>Black</td></tr>",
                            "<tr><td>LL Mountain Frame - Black, 42</td><td>2013-05-30 00:00:00.000</td><td>Black</td></tr>",
                            "<tr><td>LL Mountain Frame - Black, 44</td><td>2013-05-30 00:00:00.000</td><td>Black</td></tr>",
                            "<tr><td>LL Mountain Frame - Black, 48</td><td>2013-05-30 00:00:00.000</td><td>Black</td></tr>",
                            "<tr><td>LL Mountain Frame - Black, 52</td><td>2013-05-30 00:00:00.000</td><td>Black</td></tr>",
                            "<tr><td>LL Mountain Frame - Black, 40</td><td>2013-05-30 00:00:00.000</td><td>Black</td></tr>",
                            "<tr><td>LL Crankset</td><td>2013-05-30 00:00:00.000</td><td>Black</td></tr>",
                            "<tr><td>ML Crankset</td><td>2013-05-30 00:00:00.000</td><td>Black</td></tr>",
                            "<tr><td>HL Crankset</td><td>2013-05-30 00:00:00.000</td><td>Black</td></tr>",
                            "<tr><td>Road-750 Black, 58</td><td>2013-05-30 00:00:00.000</td><td>Black</td></tr>",
                            "<tr><td>Mountain-500 Black, 40</td><td>2013-05-30 00:00:00.000</td><td>Black</td></tr>",
                            "<tr><td>Mountain-500 Black, 42</td><td>2013-05-30 00:00:00.000</td><td>Black</td></tr>",
                            "<tr><td>Mountain-500 Black, 44</td><td>2013-05-30 00:00:00.000</td><td>Black</td></tr>",
                            "<tr><td>Mountain-500 Black, 48</td><td>2013-05-30 00:00:00.000</td><td>Black</td></tr>",
                            "<tr><td>Mountain-500 Black, 52</td><td>2013-05-30 00:00:00.000</td><td>Black</td></tr>",
                            "<tr><td>Road-750 Black, 44</td><td>2013-05-30 00:00:00.000</td><td>Black</td></tr>",
                            "<tr><td>Road-750 Black, 48</td><td>2013-05-30 00:00:00.000</td><td>Black</td></tr>",
                            "<tr><td>Road-750 Black, 52</td><td>2013-05-30 00:00:00.000</td><td>Black</td></tr>",
                            "<tr><td>Touring-3000 Blue, 44</td><td>2013-05-30 00:00:00.000</td><td>Blue</td></tr>",
                            "<tr><td>Touring-3000 Blue, 50</td><td>2013-05-30 00:00:00.000</td><td>Blue</td></tr>",
                            "<tr><td>Touring-2000 Blue, 60</td><td>2013-05-30 00:00:00.000</td><td>Blue</td></tr>",
                            "<tr><td>HL Touring Frame - Blue, 46</td><td>2013-05-30 00:00:00.000</td><td>Blue</td></tr>",
                            "<tr><td>HL Touring Frame - Blue, 50</td><td>2013-05-30 00:00:00.000</td><td>Blue</td></tr>",
                            "<tr><td>HL Touring Frame - Blue, 54</td><td>2013-05-30 00:00:00.000</td><td>Blue</td></tr>",
                            "<tr><td>HL Touring Frame - Blue, 60</td><td>2013-05-30 00:00:00.000</td><td>Blue</td></tr>",
                            "<tr><td>Touring-3000 Blue, 54</td><td>2013-05-30 00:00:00.000</td><td>Blue</td></tr>",
                            "<tr><td>Touring-3000 Blue, 58</td><td>2013-05-30 00:00:00.000</td><td>Blue</td></tr>",
                            "<tr><td>Touring-3000 Blue, 62</td><td>2013-05-30 00:00:00.000</td><td>Blue</td></tr>",
                            "<tr><td>Touring-1000 Blue, 46</td><td>2013-05-30 00:00:00.000</td><td>Blue</td></tr>",
                            "<tr><td>Touring-1000 Blue, 50</td><td>2013-05-30 00:00:00.000</td><td>Blue</td></tr>",
                            "<tr><td>Touring-1000 Blue, 54</td><td>2013-05-30 00:00:00.000</td><td>Blue</td></tr>",
                            "<tr><td>Touring-1000 Blue, 60</td><td>2013-05-30 00:00:00.000</td><td>Blue</td></tr>",
                            "<tr><td>Touring-2000 Blue, 46</td><td>2013-05-30 00:00:00.000</td><td>Blue</td></tr>",
                            "<tr><td>Touring-2000 Blue, 50</td><td>2013-05-30 00:00:00.000</td><td>Blue</td></tr>",
                            "<tr><td>Touring-2000 Blue, 54</td><td>2013-05-30 00:00:00.000</td><td>Blue</td></tr>",
                            "<tr><td>LL Touring Frame - Blue, 44</td><td>2013-05-30 00:00:00.000</td><td>Blue</td></tr>",
                            "<tr><td>LL Touring Frame - Blue, 50</td><td>2013-05-30 00:00:00.000</td><td>Blue</td></tr>",
                            "<tr><td>LL Touring Frame - Blue, 54</td><td>2013-05-30 00:00:00.000</td><td>Blue</td></tr>",
                            "<tr><td>LL Touring Frame - Blue, 58</td><td>2013-05-30 00:00:00.000</td><td>Blue</td></tr>",
                            "<tr><td>LL Touring Frame - Blue, 62</td><td>2013-05-30 00:00:00.000</td><td>Blue</td></tr>",
                            "<tr><td>Classic Vest, S</td><td>2013-05-30 00:00:00.000</td><td>Blue</td></tr>",
                            "<tr><td>Classic Vest, M</td><td>2013-05-30 00:00:00.000</td><td>Blue</td></tr>",
                            "<tr><td>Classic Vest, L</td><td>2013-05-30 00:00:00.000</td><td>Blue</td></tr>",
                            "<tr><td>Sport-100 Helmet, Blue</td><td>2011-05-31 00:00:00.000</td><td>Blue</td></tr>",
                            "<tr><td>Touring-Panniers, Large</td><td>2012-05-30 00:00:00.000</td><td>Grey</td></tr>",
                            "<tr><td>Men&#39;s Bib-Shorts, S</td><td>2012-05-30 00:00:00.000</td><td>Multi</td></tr>",
                            "<tr><td>Men&#39;s Bib-Shorts, M</td><td>2012-05-30 00:00:00.000</td><td>Multi</td></tr>",
                            "<tr><td>Men&#39;s Bib-Shorts, L</td><td>2012-05-30 00:00:00.000</td><td>Multi</td></tr>",
                            "<tr><td>AWC Logo Cap</td><td>2011-05-31 00:00:00.000</td><td>Multi</td></tr>",
                            "<tr><td>Long-Sleeve Logo Jersey, S</td><td>2011-05-31 00:00:00.000</td><td>Multi</td></tr>",
                            "<tr><td>Long-Sleeve Logo Jersey, M</td><td>2011-05-31 00:00:00.000</td><td>Multi</td></tr>",
                            "<tr><td>Long-Sleeve Logo Jersey, L</td><td>2011-05-31 00:00:00.000</td><td>Multi</td></tr>",
                            "<tr><td>Long-Sleeve Logo Jersey, XL</td><td>2011-05-31 00:00:00.000</td><td>Multi</td></tr>",
                            "<tr><td>Freewheel</td><td>2008-04-30 00:00:00.000</td><td>Silver</td></tr>",
                            "<tr><td>Front Derailleur Cage</td><td>2008-04-30 00:00:00.000</td><td>Silver</td></tr>",
                            "<tr><td>Front Derailleur Linkage</td><td>2008-04-30 00:00:00.000</td><td>Silver</td></tr>",
                            "<tr><td>Lock Ring</td><td>2008-04-30 00:00:00.000</td><td>Silver</td></tr>",
                            "<tr><td>Rear Derailleur Cage</td><td>2008-04-30 00:00:00.000</td><td>Silver</td></tr>",
                            "<tr><td>Chainring Bolts</td><td>2008-04-30 00:00:00.000</td><td>Silver</td></tr>",
                            "<tr><td>Chainring Nut</td><td>2008-04-30 00:00:00.000</td><td>Silver</td></tr>",
                            "<tr><td>Mountain-100 Silver, 38</td><td>2011-05-31 00:00:00.000</td><td>Silver</td></tr>",
                            "<tr><td>Mountain-100 Silver, 42</td><td>2011-05-31 00:00:00.000</td><td>Silver</td></tr>",
                            "<tr><td>Mountain-100 Silver, 44</td><td>2011-05-31 00:00:00.000</td><td>Silver</td></tr>",
                            "<tr><td>Mountain-100 Silver, 48</td><td>2011-05-31 00:00:00.000</td><td>Silver</td></tr>",
                            "<tr><td>HL Mountain Frame - Silver, 42</td><td>2011-05-31 00:00:00.000</td><td>Silver</td></tr>",
                            "<tr><td>HL Mountain Frame - Silver, 44</td><td>2011-05-31 00:00:00.000</td><td>Silver</td></tr>",
                            "<tr><td>HL Mountain Frame - Silver, 48</td><td>2011-05-31 00:00:00.000</td><td>Silver</td></tr>",
                            "<tr><td>HL Mountain Frame - Silver, 46</td><td>2011-05-31 00:00:00.000</td><td>Silver</td></tr>",
                            "<tr><td>Mountain-200 Silver, 38</td><td>2012-05-30 00:00:00.000</td><td>Silver</td></tr>",
                            "<tr><td>Mountain-200 Silver, 42</td><td>2012-05-30 00:00:00.000</td><td>Silver</td></tr>",
                            "<tr><td>Mountain-200 Silver, 46</td><td>2012-05-30 00:00:00.000</td><td>Silver</td></tr>",
                            "<tr><td>HL Mountain Frame - Silver, 38</td><td>2011-05-31 00:00:00.000</td><td>Silver</td></tr>",
                            "<tr><td>Hydration Pack - 70 oz.</td><td>2013-05-30 00:00:00.000</td><td>Silver</td></tr>",
                            "<tr><td>ML Mountain Frame-W - Silver, 40</td><td>2013-05-30 00:00:00.000</td><td>Silver</td></tr>",
                            "<tr><td>ML Mountain Frame-W - Silver, 42</td><td>2013-05-30 00:00:00.000</td><td>Silver</td></tr>",
                            "<tr><td>ML Mountain Frame-W - Silver, 46</td><td>2013-05-30 00:00:00.000</td><td>Silver</td></tr>",
                            "<tr><td>Rear Brakes</td><td>2013-05-30 00:00:00.000</td><td>Silver</td></tr>",
                            "<tr><td>LL Mountain Frame - Silver, 42</td><td>2013-05-30 00:00:00.000</td><td>Silver</td></tr>",
                            "<tr><td>LL Mountain Frame - Silver, 44</td><td>2013-05-30 00:00:00.000</td><td>Silver</td></tr>",
                            "<tr><td>LL Mountain Frame - Silver, 48</td><td>2013-05-30 00:00:00.000</td><td>Silver</td></tr>",
                            "<tr><td>LL Mountain Frame - Silver, 52</td><td>2013-05-30 00:00:00.000</td><td>Silver</td></tr>",
                            "<tr><td>Rear Derailleur</td><td>2013-05-30 00:00:00.000</td><td>Silver</td></tr>",
                            "<tr><td>LL Mountain Frame - Silver, 40</td><td>2013-05-30 00:00:00.000</td><td>Silver</td></tr>",
                            "<tr><td>Front Derailleur</td><td>2013-05-30 00:00:00.000</td><td>Silver</td></tr>",
                            "<tr><td>Front Brakes</td><td>2013-05-30 00:00:00.000</td><td>Silver</td></tr>",
                            "<tr><td>Chain</td><td>2013-05-30 00:00:00.000</td><td>Silver</td></tr>",
                            "<tr><td>Mountain-400-W Silver, 38</td><td>2013-05-30 00:00:00.000</td><td>Silver</td></tr>",
                            "<tr><td>Mountain-400-W Silver, 40</td><td>2013-05-30 00:00:00.000</td><td>Silver</td></tr>",
                            "<tr><td>Mountain-400-W Silver, 42</td><td>2013-05-30 00:00:00.000</td><td>Silver</td></tr>",
                            "<tr><td>Mountain-400-W Silver, 46</td><td>2013-05-30 00:00:00.000</td><td>Silver</td></tr>",
                            "<tr><td>Mountain-500 Silver, 40</td><td>2013-05-30 00:00:00.000</td><td>Silver</td></tr>",
                            "<tr><td>Mountain-500 Silver, 42</td><td>2013-05-30 00:00:00.000</td><td>Silver</td></tr>",
                            "<tr><td>Mountain-500 Silver, 44</td><td>2013-05-30 00:00:00.000</td><td>Silver</td></tr>",
                            "<tr><td>Mountain-500 Silver, 48</td><td>2013-05-30 00:00:00.000</td><td>Silver</td></tr>",
                            "<tr><td>Mountain-500 Silver, 52</td><td>2013-05-30 00:00:00.000</td><td>Silver</td></tr>",
                            "<tr><td>ML Mountain Frame-W - Silver, 38</td><td>2013-05-30 00:00:00.000</td><td>Silver</td></tr>",
                            "<tr><td>LL Mountain Pedal</td><td>2013-05-30 00:00:00.000</td><td>Silver/Black</td></tr>",
                            "<tr><td>ML Mountain Pedal</td><td>2013-05-30 00:00:00.000</td><td>Silver/Black</td></tr>",
                            "<tr><td>HL Mountain Pedal</td><td>2013-05-30 00:00:00.000</td><td>Silver/Black</td></tr>",
                            "<tr><td>LL Road Pedal</td><td>2013-05-30 00:00:00.000</td><td>Silver/Black</td></tr>",
                            "<tr><td>ML Road Pedal</td><td>2013-05-30 00:00:00.000</td><td>Silver/Black</td></tr>",
                            "<tr><td>HL Road Pedal</td><td>2013-05-30 00:00:00.000</td><td>Silver/Black</td></tr>",
                            "<tr><td>Touring Pedal</td><td>2013-05-30 00:00:00.000</td><td>Silver/Black</td></tr>",
                            "<tr><td>Racing Socks, M</td><td>2013-05-30 00:00:00.000</td><td>White</td></tr>",
                            "<tr><td>Racing Socks, L</td><td>2013-05-30 00:00:00.000</td><td>White</td></tr>",
                            "<tr><td>Mountain Bike Socks, M</td><td>2011-05-31 00:00:00.000</td><td>White</td></tr>",
                            "<tr><td>Mountain Bike Socks, L</td><td>2011-05-31 00:00:00.000</td><td>White</td></tr>",
                            "<tr><td>ML Road Frame-W - Yellow, 38</td><td>2012-05-30 00:00:00.000</td><td>Yellow</td></tr>",
                            "<tr><td>Road-550-W Yellow, 38</td><td>2012-05-30 00:00:00.000</td><td>Yellow</td></tr>",
                            "<tr><td>Road-550-W Yellow, 40</td><td>2012-05-30 00:00:00.000</td><td>Yellow</td></tr>",
                            "<tr><td>Road-550-W Yellow, 42</td><td>2012-05-30 00:00:00.000</td><td>Yellow</td></tr>",
                            "<tr><td>Road-550-W Yellow, 44</td><td>2012-05-30 00:00:00.000</td><td>Yellow</td></tr>",
                            "<tr><td>Road-550-W Yellow, 48</td><td>2012-05-30 00:00:00.000</td><td>Yellow</td></tr>",
                            "<tr><td>ML Road Frame-W - Yellow, 40</td><td>2012-05-30 00:00:00.000</td><td>Yellow</td></tr>",
                            "<tr><td>ML Road Frame-W - Yellow, 42</td><td>2012-05-30 00:00:00.000</td><td>Yellow</td></tr>",
                            "<tr><td>ML Road Frame-W - Yellow, 44</td><td>2012-05-30 00:00:00.000</td><td>Yellow</td></tr>",
                            "<tr><td>ML Road Frame-W - Yellow, 48</td><td>2012-05-30 00:00:00.000</td><td>Yellow</td></tr>",
                            "<tr><td>Short-Sleeve Classic Jersey, S</td><td>2013-05-30 00:00:00.000</td><td>Yellow</td></tr>",
                            "<tr><td>Short-Sleeve Classic Jersey, M</td><td>2013-05-30 00:00:00.000</td><td>Yellow</td></tr>",
                            "<tr><td>Short-Sleeve Classic Jersey, L</td><td>2013-05-30 00:00:00.000</td><td>Yellow</td></tr>",
                            "<tr><td>Short-Sleeve Classic Jersey, XL</td><td>2013-05-30 00:00:00.000</td><td>Yellow</td></tr>",
                            "<tr><td>HL Touring Frame - Yellow, 60</td><td>2013-05-30 00:00:00.000</td><td>Yellow</td></tr>",
                            "<tr><td>LL Touring Frame - Yellow, 62</td><td>2013-05-30 00:00:00.000</td><td>Yellow</td></tr>",
                            "<tr><td>HL Touring Frame - Yellow, 46</td><td>2013-05-30 00:00:00.000</td><td>Yellow</td></tr>",
                            "<tr><td>HL Touring Frame - Yellow, 50</td><td>2013-05-30 00:00:00.000</td><td>Yellow</td></tr>",
                            "<tr><td>HL Touring Frame - Yellow, 54</td><td>2013-05-30 00:00:00.000</td><td>Yellow</td></tr>",
                            "<tr><td>LL Touring Frame - Yellow, 44</td><td>2013-05-30 00:00:00.000</td><td>Yellow</td></tr>",
                            "<tr><td>LL Touring Frame - Yellow, 50</td><td>2013-05-30 00:00:00.000</td><td>Yellow</td></tr>",
                            "<tr><td>LL Touring Frame - Yellow, 54</td><td>2013-05-30 00:00:00.000</td><td>Yellow</td></tr>",
                            "<tr><td>LL Touring Frame - Yellow, 58</td><td>2013-05-30 00:00:00.000</td><td>Yellow</td></tr>",
                            "<tr><td>Touring-1000 Yellow, 46</td><td>2013-05-30 00:00:00.000</td><td>Yellow</td></tr>",
                            "<tr><td>Touring-1000 Yellow, 50</td><td>2013-05-30 00:00:00.000</td><td>Yellow</td></tr>",
                            "<tr><td>Touring-1000 Yellow, 54</td><td>2013-05-30 00:00:00.000</td><td>Yellow</td></tr>",
                            "<tr><td>Touring-1000 Yellow, 60</td><td>2013-05-30 00:00:00.000</td><td>Yellow</td></tr>",
                            "<tr><td>Road-350-W Yellow, 40</td><td>2013-05-30 00:00:00.000</td><td>Yellow</td></tr>",
                            "<tr><td>Road-350-W Yellow, 42</td><td>2013-05-30 00:00:00.000</td><td>Yellow</td></tr>",
                            "<tr><td>Road-350-W Yellow, 44</td><td>2013-05-30 00:00:00.000</td><td>Yellow</td></tr>",
                            "<tr><td>Road-350-W Yellow, 48</td><td>2013-05-30 00:00:00.000</td><td>Yellow</td></tr>",
                            "<tr><td>Touring-3000 Yellow, 44</td><td>2013-05-30 00:00:00.000</td><td>Yellow</td></tr>",
                            "<tr><td>Touring-3000 Yellow, 50</td><td>2013-05-30 00:00:00.000</td><td>Yellow</td></tr>",
                            "<tr><td>Touring-3000 Yellow, 54</td><td>2013-05-30 00:00:00.000</td><td>Yellow</td></tr>",
                            "<tr><td>Touring-3000 Yellow, 58</td><td>2013-05-30 00:00:00.000</td><td>Yellow</td></tr>",
                            "<tr><td>Touring-3000 Yellow, 62</td><td>2013-05-30 00:00:00.000</td><td>Yellow</td></tr>",
                            "</table>"
                        ]
                    }
                }
            ],
            "execution_count": 6
        },
        {
            "cell_type": "markdown",
            "source": [
                "**19.** lista todos los productos ordenados por nombre que contengan la letra A al principio"
            ],
            "metadata": {
                "language": "sql",
                "azdata_cell_guid": "6cca0c95-5ceb-4b15-ad48-e557da736564"
            },
            "attachments": {}
        },
        {
            "cell_type": "code",
            "source": [
                "SELECT        Name\r\n",
                "FROM          Production.Product\r\n",
                "WHERE         Name LIKE 'A%'\r\n",
                "ORDER BY Name"
            ],
            "metadata": {
                "language": "sql",
                "azdata_cell_guid": "2782ce40-3a2e-4aff-bca5-29de9517321d"
            },
            "outputs": [
                {
                    "output_type": "display_data",
                    "data": {
                        "text/html": "(3 rows affected)"
                    },
                    "metadata": {}
                },
                {
                    "output_type": "display_data",
                    "data": {
                        "text/html": "Total execution time: 00:00:00.004"
                    },
                    "metadata": {}
                },
                {
                    "output_type": "execute_result",
                    "metadata": {},
                    "execution_count": 8,
                    "data": {
                        "application/vnd.dataresource+json": {
                            "schema": {
                                "fields": [
                                    {
                                        "name": "Name"
                                    }
                                ]
                            },
                            "data": [
                                {
                                    "Name": "Adjustable Race"
                                },
                                {
                                    "Name": "All-Purpose Bike Stand"
                                },
                                {
                                    "Name": "AWC Logo Cap"
                                }
                            ]
                        },
                        "text/html": [
                            "<table>",
                            "<tr><th>Name</th></tr>",
                            "<tr><td>Adjustable Race</td></tr>",
                            "<tr><td>All-Purpose Bike Stand</td></tr>",
                            "<tr><td>AWC Logo Cap</td></tr>",
                            "</table>"
                        ]
                    }
                }
            ],
            "execution_count": 8
        },
        {
            "cell_type": "code",
            "source": [
                "SELECT        Name, SellStartDate\r\n",
                "FROM          Production.Product"
            ],
            "metadata": {
                "language": "sql",
                "azdata_cell_guid": "7c32d98d-6b8a-4ca5-86da-44ac58c6baf6"
            },
            "outputs": [
                {
                    "output_type": "display_data",
                    "data": {
                        "text/html": "(504 rows affected)"
                    },
                    "metadata": {}
                },
                {
                    "output_type": "display_data",
                    "data": {
                        "text/html": "Total execution time: 00:00:00.089"
                    },
                    "metadata": {}
                },
                {
                    "output_type": "execute_result",
                    "metadata": {},
                    "execution_count": 11,
                    "data": {
                        "application/vnd.dataresource+json": {
                            "schema": {
                                "fields": [
                                    {
                                        "name": "Name"
                                    },
                                    {
                                        "name": "SellStartDate"
                                    }
                                ]
                            },
                            "data": [
                                {
                                    "Name": "Adjustable Race",
                                    "SellStartDate": "2008-04-30 00:00:00.000"
                                },
                                {
                                    "Name": "Bearing Ball",
                                    "SellStartDate": "2008-04-30 00:00:00.000"
                                },
                                {
                                    "Name": "BB Ball Bearing",
                                    "SellStartDate": "2008-04-30 00:00:00.000"
                                },
                                {
                                    "Name": "Headset Ball Bearings",
                                    "SellStartDate": "2008-04-30 00:00:00.000"
                                },
                                {
                                    "Name": "Blade",
                                    "SellStartDate": "2008-04-30 00:00:00.000"
                                },
                                {
                                    "Name": "LL Crankarm",
                                    "SellStartDate": "2008-04-30 00:00:00.000"
                                },
                                {
                                    "Name": "ML Crankarm",
                                    "SellStartDate": "2008-04-30 00:00:00.000"
                                },
                                {
                                    "Name": "HL Crankarm",
                                    "SellStartDate": "2008-04-30 00:00:00.000"
                                },
                                {
                                    "Name": "Chainring Bolts",
                                    "SellStartDate": "2008-04-30 00:00:00.000"
                                },
                                {
                                    "Name": "Chainring Nut",
                                    "SellStartDate": "2008-04-30 00:00:00.000"
                                },
                                {
                                    "Name": "Chainring",
                                    "SellStartDate": "2008-04-30 00:00:00.000"
                                },
                                {
                                    "Name": "Crown Race",
                                    "SellStartDate": "2008-04-30 00:00:00.000"
                                },
                                {
                                    "Name": "Chain Stays",
                                    "SellStartDate": "2008-04-30 00:00:00.000"
                                },
                                {
                                    "Name": "Decal 1",
                                    "SellStartDate": "2008-04-30 00:00:00.000"
                                },
                                {
                                    "Name": "Decal 2",
                                    "SellStartDate": "2008-04-30 00:00:00.000"
                                },
                                {
                                    "Name": "Down Tube",
                                    "SellStartDate": "2008-04-30 00:00:00.000"
                                },
                                {
                                    "Name": "Mountain End Caps",
                                    "SellStartDate": "2008-04-30 00:00:00.000"
                                },
                                {
                                    "Name": "Road End Caps",
                                    "SellStartDate": "2008-04-30 00:00:00.000"
                                },
                                {
                                    "Name": "Touring End Caps",
                                    "SellStartDate": "2008-04-30 00:00:00.000"
                                },
                                {
                                    "Name": "Fork End",
                                    "SellStartDate": "2008-04-30 00:00:00.000"
                                },
                                {
                                    "Name": "Freewheel",
                                    "SellStartDate": "2008-04-30 00:00:00.000"
                                },
                                {
                                    "Name": "Flat Washer 1",
                                    "SellStartDate": "2008-04-30 00:00:00.000"
                                },
                                {
                                    "Name": "Flat Washer 6",
                                    "SellStartDate": "2008-04-30 00:00:00.000"
                                },
                                {
                                    "Name": "Flat Washer 2",
                                    "SellStartDate": "2008-04-30 00:00:00.000"
                                },
                                {
                                    "Name": "Flat Washer 9",
                                    "SellStartDate": "2008-04-30 00:00:00.000"
                                },
                                {
                                    "Name": "Flat Washer 4",
                                    "SellStartDate": "2008-04-30 00:00:00.000"
                                },
                                {
                                    "Name": "Flat Washer 3",
                                    "SellStartDate": "2008-04-30 00:00:00.000"
                                },
                                {
                                    "Name": "Flat Washer 8",
                                    "SellStartDate": "2008-04-30 00:00:00.000"
                                },
                                {
                                    "Name": "Flat Washer 5",
                                    "SellStartDate": "2008-04-30 00:00:00.000"
                                },
                                {
                                    "Name": "Flat Washer 7",
                                    "SellStartDate": "2008-04-30 00:00:00.000"
                                },
                                {
                                    "Name": "Fork Crown",
                                    "SellStartDate": "2008-04-30 00:00:00.000"
                                },
                                {
                                    "Name": "Front Derailleur Cage",
                                    "SellStartDate": "2008-04-30 00:00:00.000"
                                },
                                {
                                    "Name": "Front Derailleur Linkage",
                                    "SellStartDate": "2008-04-30 00:00:00.000"
                                },
                                {
                                    "Name": "Guide Pulley",
                                    "SellStartDate": "2008-04-30 00:00:00.000"
                                },
                                {
                                    "Name": "LL Grip Tape",
                                    "SellStartDate": "2008-04-30 00:00:00.000"
                                },
                                {
                                    "Name": "ML Grip Tape",
                                    "SellStartDate": "2008-04-30 00:00:00.000"
                                },
                                {
                                    "Name": "HL Grip Tape",
                                    "SellStartDate": "2008-04-30 00:00:00.000"
                                },
                                {
                                    "Name": "Thin-Jam Hex Nut 9",
                                    "SellStartDate": "2008-04-30 00:00:00.000"
                                },
                                {
                                    "Name": "Thin-Jam Hex Nut 10",
                                    "SellStartDate": "2008-04-30 00:00:00.000"
                                },
                                {
                                    "Name": "Thin-Jam Hex Nut 1",
                                    "SellStartDate": "2008-04-30 00:00:00.000"
                                },
                                {
                                    "Name": "Thin-Jam Hex Nut 2",
                                    "SellStartDate": "2008-04-30 00:00:00.000"
                                },
                                {
                                    "Name": "Thin-Jam Hex Nut 15",
                                    "SellStartDate": "2008-04-30 00:00:00.000"
                                },
                                {
                                    "Name": "Thin-Jam Hex Nut 16",
                                    "SellStartDate": "2008-04-30 00:00:00.000"
                                },
                                {
                                    "Name": "Thin-Jam Hex Nut 5",
                                    "SellStartDate": "2008-04-30 00:00:00.000"
                                },
                                {
                                    "Name": "Thin-Jam Hex Nut 6",
                                    "SellStartDate": "2008-04-30 00:00:00.000"
                                },
                                {
                                    "Name": "Thin-Jam Hex Nut 3",
                                    "SellStartDate": "2008-04-30 00:00:00.000"
                                },
                                {
                                    "Name": "Thin-Jam Hex Nut 4",
                                    "SellStartDate": "2008-04-30 00:00:00.000"
                                },
                                {
                                    "Name": "Thin-Jam Hex Nut 13",
                                    "SellStartDate": "2008-04-30 00:00:00.000"
                                },
                                {
                                    "Name": "Thin-Jam Hex Nut 14",
                                    "SellStartDate": "2008-04-30 00:00:00.000"
                                },
                                {
                                    "Name": "Thin-Jam Hex Nut 7",
                                    "SellStartDate": "2008-04-30 00:00:00.000"
                                },
                                {
                                    "Name": "Thin-Jam Hex Nut 8",
                                    "SellStartDate": "2008-04-30 00:00:00.000"
                                },
                                {
                                    "Name": "Thin-Jam Hex Nut 12",
                                    "SellStartDate": "2008-04-30 00:00:00.000"
                                },
                                {
                                    "Name": "Thin-Jam Hex Nut 11",
                                    "SellStartDate": "2008-04-30 00:00:00.000"
                                },
                                {
                                    "Name": "Hex Nut 5",
                                    "SellStartDate": "2008-04-30 00:00:00.000"
                                },
                                {
                                    "Name": "Hex Nut 6",
                                    "SellStartDate": "2008-04-30 00:00:00.000"
                                },
                                {
                                    "Name": "Hex Nut 16",
                                    "SellStartDate": "2008-04-30 00:00:00.000"
                                },
                                {
                                    "Name": "Hex Nut 17",
                                    "SellStartDate": "2008-04-30 00:00:00.000"
                                },
                                {
                                    "Name": "Hex Nut 7",
                                    "SellStartDate": "2008-04-30 00:00:00.000"
                                },
                                {
                                    "Name": "Hex Nut 8",
                                    "SellStartDate": "2008-04-30 00:00:00.000"
                                },
                                {
                                    "Name": "Hex Nut 9",
                                    "SellStartDate": "2008-04-30 00:00:00.000"
                                },
                                {
                                    "Name": "Hex Nut 22",
                                    "SellStartDate": "2008-04-30 00:00:00.000"
                                },
                                {
                                    "Name": "Hex Nut 23",
                                    "SellStartDate": "2008-04-30 00:00:00.000"
                                },
                                {
                                    "Name": "Hex Nut 12",
                                    "SellStartDate": "2008-04-30 00:00:00.000"
                                },
                                {
                                    "Name": "Hex Nut 13",
                                    "SellStartDate": "2008-04-30 00:00:00.000"
                                },
                                {
                                    "Name": "Hex Nut 1",
                                    "SellStartDate": "2008-04-30 00:00:00.000"
                                },
                                {
                                    "Name": "Hex Nut 10",
                                    "SellStartDate": "2008-04-30 00:00:00.000"
                                },
                                {
                                    "Name": "Hex Nut 11",
                                    "SellStartDate": "2008-04-30 00:00:00.000"
                                },
                                {
                                    "Name": "Hex Nut 2",
                                    "SellStartDate": "2008-04-30 00:00:00.000"
                                },
                                {
                                    "Name": "Hex Nut 20",
                                    "SellStartDate": "2008-04-30 00:00:00.000"
                                },
                                {
                                    "Name": "Hex Nut 21",
                                    "SellStartDate": "2008-04-30 00:00:00.000"
                                },
                                {
                                    "Name": "Hex Nut 3",
                                    "SellStartDate": "2008-04-30 00:00:00.000"
                                },
                                {
                                    "Name": "Hex Nut 14",
                                    "SellStartDate": "2008-04-30 00:00:00.000"
                                },
                                {
                                    "Name": "Hex Nut 15",
                                    "SellStartDate": "2008-04-30 00:00:00.000"
                                },
                                {
                                    "Name": "Hex Nut 4",
                                    "SellStartDate": "2008-04-30 00:00:00.000"
                                },
                                {
                                    "Name": "Hex Nut 18",
                                    "SellStartDate": "2008-04-30 00:00:00.000"
                                },
                                {
                                    "Name": "Hex Nut 19",
                                    "SellStartDate": "2008-04-30 00:00:00.000"
                                },
                                {
                                    "Name": "Handlebar Tube",
                                    "SellStartDate": "2008-04-30 00:00:00.000"
                                },
                                {
                                    "Name": "Head Tube",
                                    "SellStartDate": "2008-04-30 00:00:00.000"
                                },
                                {
                                    "Name": "LL Hub",
                                    "SellStartDate": "2008-04-30 00:00:00.000"
                                },
                                {
                                    "Name": "HL Hub",
                                    "SellStartDate": "2008-04-30 00:00:00.000"
                                },
                                {
                                    "Name": "Keyed Washer",
                                    "SellStartDate": "2008-04-30 00:00:00.000"
                                },
                                {
                                    "Name": "External Lock Washer 3",
                                    "SellStartDate": "2008-04-30 00:00:00.000"
                                },
                                {
                                    "Name": "External Lock Washer 4",
                                    "SellStartDate": "2008-04-30 00:00:00.000"
                                },
                                {
                                    "Name": "External Lock Washer 9",
                                    "SellStartDate": "2008-04-30 00:00:00.000"
                                },
                                {
                                    "Name": "External Lock Washer 5",
                                    "SellStartDate": "2008-04-30 00:00:00.000"
                                },
                                {
                                    "Name": "External Lock Washer 7",
                                    "SellStartDate": "2008-04-30 00:00:00.000"
                                },
                                {
                                    "Name": "External Lock Washer 6",
                                    "SellStartDate": "2008-04-30 00:00:00.000"
                                },
                                {
                                    "Name": "External Lock Washer 1",
                                    "SellStartDate": "2008-04-30 00:00:00.000"
                                },
                                {
                                    "Name": "External Lock Washer 8",
                                    "SellStartDate": "2008-04-30 00:00:00.000"
                                },
                                {
                                    "Name": "External Lock Washer 2",
                                    "SellStartDate": "2008-04-30 00:00:00.000"
                                },
                                {
                                    "Name": "Internal Lock Washer 3",
                                    "SellStartDate": "2008-04-30 00:00:00.000"
                                },
                                {
                                    "Name": "Internal Lock Washer 4",
                                    "SellStartDate": "2008-04-30 00:00:00.000"
                                },
                                {
                                    "Name": "Internal Lock Washer 9",
                                    "SellStartDate": "2008-04-30 00:00:00.000"
                                },
                                {
                                    "Name": "Internal Lock Washer 5",
                                    "SellStartDate": "2008-04-30 00:00:00.000"
                                },
                                {
                                    "Name": "Internal Lock Washer 7",
                                    "SellStartDate": "2008-04-30 00:00:00.000"
                                },
                                {
                                    "Name": "Internal Lock Washer 6",
                                    "SellStartDate": "2008-04-30 00:00:00.000"
                                },
                                {
                                    "Name": "Internal Lock Washer 10",
                                    "SellStartDate": "2008-04-30 00:00:00.000"
                                },
                                {
                                    "Name": "Internal Lock Washer 1",
                                    "SellStartDate": "2008-04-30 00:00:00.000"
                                },
                                {
                                    "Name": "Internal Lock Washer 8",
                                    "SellStartDate": "2008-04-30 00:00:00.000"
                                },
                                {
                                    "Name": "Internal Lock Washer 2",
                                    "SellStartDate": "2008-04-30 00:00:00.000"
                                },
                                {
                                    "Name": "Thin-Jam Lock Nut 9",
                                    "SellStartDate": "2008-04-30 00:00:00.000"
                                },
                                {
                                    "Name": "Thin-Jam Lock Nut 10",
                                    "SellStartDate": "2008-04-30 00:00:00.000"
                                },
                                {
                                    "Name": "Thin-Jam Lock Nut 1",
                                    "SellStartDate": "2008-04-30 00:00:00.000"
                                },
                                {
                                    "Name": "Thin-Jam Lock Nut 2",
                                    "SellStartDate": "2008-04-30 00:00:00.000"
                                },
                                {
                                    "Name": "Thin-Jam Lock Nut 15",
                                    "SellStartDate": "2008-04-30 00:00:00.000"
                                },
                                {
                                    "Name": "Thin-Jam Lock Nut 16",
                                    "SellStartDate": "2008-04-30 00:00:00.000"
                                },
                                {
                                    "Name": "Thin-Jam Lock Nut 5",
                                    "SellStartDate": "2008-04-30 00:00:00.000"
                                },
                                {
                                    "Name": "Thin-Jam Lock Nut 6",
                                    "SellStartDate": "2008-04-30 00:00:00.000"
                                },
                                {
                                    "Name": "Thin-Jam Lock Nut 3",
                                    "SellStartDate": "2008-04-30 00:00:00.000"
                                },
                                {
                                    "Name": "Thin-Jam Lock Nut 4",
                                    "SellStartDate": "2008-04-30 00:00:00.000"
                                },
                                {
                                    "Name": "Thin-Jam Lock Nut 13",
                                    "SellStartDate": "2008-04-30 00:00:00.000"
                                },
                                {
                                    "Name": "Thin-Jam Lock Nut 14",
                                    "SellStartDate": "2008-04-30 00:00:00.000"
                                },
                                {
                                    "Name": "Thin-Jam Lock Nut 7",
                                    "SellStartDate": "2008-04-30 00:00:00.000"
                                },
                                {
                                    "Name": "Thin-Jam Lock Nut 8",
                                    "SellStartDate": "2008-04-30 00:00:00.000"
                                },
                                {
                                    "Name": "Thin-Jam Lock Nut 12",
                                    "SellStartDate": "2008-04-30 00:00:00.000"
                                },
                                {
                                    "Name": "Thin-Jam Lock Nut 11",
                                    "SellStartDate": "2008-04-30 00:00:00.000"
                                },
                                {
                                    "Name": "Lock Nut 5",
                                    "SellStartDate": "2008-04-30 00:00:00.000"
                                },
                                {
                                    "Name": "Lock Nut 6",
                                    "SellStartDate": "2008-04-30 00:00:00.000"
                                },
                                {
                                    "Name": "Lock Nut 16",
                                    "SellStartDate": "2008-04-30 00:00:00.000"
                                },
                                {
                                    "Name": "Lock Nut 17",
                                    "SellStartDate": "2008-04-30 00:00:00.000"
                                },
                                {
                                    "Name": "Lock Nut 7",
                                    "SellStartDate": "2008-04-30 00:00:00.000"
                                },
                                {
                                    "Name": "Lock Nut 8",
                                    "SellStartDate": "2008-04-30 00:00:00.000"
                                },
                                {
                                    "Name": "Lock Nut 9",
                                    "SellStartDate": "2008-04-30 00:00:00.000"
                                },
                                {
                                    "Name": "Lock Nut 22",
                                    "SellStartDate": "2008-04-30 00:00:00.000"
                                },
                                {
                                    "Name": "Lock Nut 23",
                                    "SellStartDate": "2008-04-30 00:00:00.000"
                                },
                                {
                                    "Name": "Lock Nut 12",
                                    "SellStartDate": "2008-04-30 00:00:00.000"
                                },
                                {
                                    "Name": "Lock Nut 13",
                                    "SellStartDate": "2008-04-30 00:00:00.000"
                                },
                                {
                                    "Name": "Lock Nut 1",
                                    "SellStartDate": "2008-04-30 00:00:00.000"
                                },
                                {
                                    "Name": "Lock Nut 10",
                                    "SellStartDate": "2008-04-30 00:00:00.000"
                                },
                                {
                                    "Name": "Lock Nut 11",
                                    "SellStartDate": "2008-04-30 00:00:00.000"
                                },
                                {
                                    "Name": "Lock Nut 2",
                                    "SellStartDate": "2008-04-30 00:00:00.000"
                                },
                                {
                                    "Name": "Lock Nut 20",
                                    "SellStartDate": "2008-04-30 00:00:00.000"
                                },
                                {
                                    "Name": "Lock Nut 21",
                                    "SellStartDate": "2008-04-30 00:00:00.000"
                                },
                                {
                                    "Name": "Lock Nut 3",
                                    "SellStartDate": "2008-04-30 00:00:00.000"
                                },
                                {
                                    "Name": "Lock Nut 14",
                                    "SellStartDate": "2008-04-30 00:00:00.000"
                                },
                                {
                                    "Name": "Lock Nut 15",
                                    "SellStartDate": "2008-04-30 00:00:00.000"
                                },
                                {
                                    "Name": "Lock Nut 4",
                                    "SellStartDate": "2008-04-30 00:00:00.000"
                                },
                                {
                                    "Name": "Lock Nut 19",
                                    "SellStartDate": "2008-04-30 00:00:00.000"
                                },
                                {
                                    "Name": "Lock Nut 18",
                                    "SellStartDate": "2008-04-30 00:00:00.000"
                                },
                                {
                                    "Name": "Lock Ring",
                                    "SellStartDate": "2008-04-30 00:00:00.000"
                                },
                                {
                                    "Name": "Lower Head Race",
                                    "SellStartDate": "2008-04-30 00:00:00.000"
                                },
                                {
                                    "Name": "Lock Washer 4",
                                    "SellStartDate": "2008-04-30 00:00:00.000"
                                },
                                {
                                    "Name": "Lock Washer 5",
                                    "SellStartDate": "2008-04-30 00:00:00.000"
                                },
                                {
                                    "Name": "Lock Washer 10",
                                    "SellStartDate": "2008-04-30 00:00:00.000"
                                },
                                {
                                    "Name": "Lock Washer 6",
                                    "SellStartDate": "2008-04-30 00:00:00.000"
                                },
                                {
                                    "Name": "Lock Washer 13",
                                    "SellStartDate": "2008-04-30 00:00:00.000"
                                },
                                {
                                    "Name": "Lock Washer 8",
                                    "SellStartDate": "2008-04-30 00:00:00.000"
                                },
                                {
                                    "Name": "Lock Washer 1",
                                    "SellStartDate": "2008-04-30 00:00:00.000"
                                },
                                {
                                    "Name": "Lock Washer 7",
                                    "SellStartDate": "2008-04-30 00:00:00.000"
                                },
                                {
                                    "Name": "Lock Washer 12",
                                    "SellStartDate": "2008-04-30 00:00:00.000"
                                },
                                {
                                    "Name": "Lock Washer 2",
                                    "SellStartDate": "2008-04-30 00:00:00.000"
                                },
                                {
                                    "Name": "Lock Washer 9",
                                    "SellStartDate": "2008-04-30 00:00:00.000"
                                },
                                {
                                    "Name": "Lock Washer 3",
                                    "SellStartDate": "2008-04-30 00:00:00.000"
                                },
                                {
                                    "Name": "Lock Washer 11",
                                    "SellStartDate": "2008-04-30 00:00:00.000"
                                },
                                {
                                    "Name": "Metal Angle",
                                    "SellStartDate": "2008-04-30 00:00:00.000"
                                },
                                {
                                    "Name": "Metal Bar 1",
                                    "SellStartDate": "2008-04-30 00:00:00.000"
                                },
                                {
                                    "Name": "Metal Bar 2",
                                    "SellStartDate": "2008-04-30 00:00:00.000"
                                },
                                {
                                    "Name": "Metal Plate 2",
                                    "SellStartDate": "2008-04-30 00:00:00.000"
                                },
                                {
                                    "Name": "Metal Plate 1",
                                    "SellStartDate": "2008-04-30 00:00:00.000"
                                },
                                {
                                    "Name": "Metal Plate 3",
                                    "SellStartDate": "2008-04-30 00:00:00.000"
                                },
                                {
                                    "Name": "Metal Sheet 2",
                                    "SellStartDate": "2008-04-30 00:00:00.000"
                                },
                                {
                                    "Name": "Metal Sheet 3",
                                    "SellStartDate": "2008-04-30 00:00:00.000"
                                },
                                {
                                    "Name": "Metal Sheet 7",
                                    "SellStartDate": "2008-04-30 00:00:00.000"
                                },
                                {
                                    "Name": "Metal Sheet 4",
                                    "SellStartDate": "2008-04-30 00:00:00.000"
                                },
                                {
                                    "Name": "Metal Sheet 5",
                                    "SellStartDate": "2008-04-30 00:00:00.000"
                                },
                                {
                                    "Name": "Metal Sheet 6",
                                    "SellStartDate": "2008-04-30 00:00:00.000"
                                },
                                {
                                    "Name": "Metal Sheet 1",
                                    "SellStartDate": "2008-04-30 00:00:00.000"
                                },
                                {
                                    "Name": "Metal Tread Plate",
                                    "SellStartDate": "2008-04-30 00:00:00.000"
                                },
                                {
                                    "Name": "LL Nipple",
                                    "SellStartDate": "2008-04-30 00:00:00.000"
                                },
                                {
                                    "Name": "HL Nipple",
                                    "SellStartDate": "2008-04-30 00:00:00.000"
                                },
                                {
                                    "Name": "Paint - Black",
                                    "SellStartDate": "2008-04-30 00:00:00.000"
                                },
                                {
                                    "Name": "Paint - Red",
                                    "SellStartDate": "2008-04-30 00:00:00.000"
                                },
                                {
                                    "Name": "Paint - Silver",
                                    "SellStartDate": "2008-04-30 00:00:00.000"
                                },
                                {
                                    "Name": "Paint - Blue",
                                    "SellStartDate": "2008-04-30 00:00:00.000"
                                },
                                {
                                    "Name": "Paint - Yellow",
                                    "SellStartDate": "2008-04-30 00:00:00.000"
                                },
                                {
                                    "Name": "Pinch Bolt",
                                    "SellStartDate": "2008-04-30 00:00:00.000"
                                },
                                {
                                    "Name": "Cup-Shaped Race",
                                    "SellStartDate": "2008-04-30 00:00:00.000"
                                },
                                {
                                    "Name": "Cone-Shaped Race",
                                    "SellStartDate": "2008-04-30 00:00:00.000"
                                },
                                {
                                    "Name": "Reflector",
                                    "SellStartDate": "2008-04-30 00:00:00.000"
                                },
                                {
                                    "Name": "LL Mountain Rim",
                                    "SellStartDate": "2008-04-30 00:00:00.000"
                                },
                                {
                                    "Name": "ML Mountain Rim",
                                    "SellStartDate": "2008-04-30 00:00:00.000"
                                },
                                {
                                    "Name": "HL Mountain Rim",
                                    "SellStartDate": "2008-04-30 00:00:00.000"
                                },
                                {
                                    "Name": "LL Road Rim",
                                    "SellStartDate": "2008-04-30 00:00:00.000"
                                },
                                {
                                    "Name": "ML Road Rim",
                                    "SellStartDate": "2008-04-30 00:00:00.000"
                                },
                                {
                                    "Name": "HL Road Rim",
                                    "SellStartDate": "2008-04-30 00:00:00.000"
                                },
                                {
                                    "Name": "Touring Rim",
                                    "SellStartDate": "2008-04-30 00:00:00.000"
                                },
                                {
                                    "Name": "LL Mountain Seat Assembly",
                                    "SellStartDate": "2008-04-30 00:00:00.000"
                                },
                                {
                                    "Name": "ML Mountain Seat Assembly",
                                    "SellStartDate": "2008-04-30 00:00:00.000"
                                },
                                {
                                    "Name": "HL Mountain Seat Assembly",
                                    "SellStartDate": "2008-04-30 00:00:00.000"
                                },
                                {
                                    "Name": "LL Road Seat Assembly",
                                    "SellStartDate": "2008-04-30 00:00:00.000"
                                },
                                {
                                    "Name": "ML Road Seat Assembly",
                                    "SellStartDate": "2008-04-30 00:00:00.000"
                                },
                                {
                                    "Name": "HL Road Seat Assembly",
                                    "SellStartDate": "2008-04-30 00:00:00.000"
                                },
                                {
                                    "Name": "LL Touring Seat Assembly",
                                    "SellStartDate": "2008-04-30 00:00:00.000"
                                },
                                {
                                    "Name": "ML Touring Seat Assembly",
                                    "SellStartDate": "2008-04-30 00:00:00.000"
                                },
                                {
                                    "Name": "HL Touring Seat Assembly",
                                    "SellStartDate": "2008-04-30 00:00:00.000"
                                },
                                {
                                    "Name": "LL Spindle/Axle",
                                    "SellStartDate": "2008-04-30 00:00:00.000"
                                },
                                {
                                    "Name": "HL Spindle/Axle",
                                    "SellStartDate": "2008-04-30 00:00:00.000"
                                },
                                {
                                    "Name": "LL Shell",
                                    "SellStartDate": "2008-04-30 00:00:00.000"
                                },
                                {
                                    "Name": "HL Shell",
                                    "SellStartDate": "2008-04-30 00:00:00.000"
                                },
                                {
                                    "Name": "Spokes",
                                    "SellStartDate": "2008-04-30 00:00:00.000"
                                },
                                {
                                    "Name": "Seat Lug",
                                    "SellStartDate": "2008-04-30 00:00:00.000"
                                },
                                {
                                    "Name": "Stem",
                                    "SellStartDate": "2008-04-30 00:00:00.000"
                                },
                                {
                                    "Name": "Seat Post",
                                    "SellStartDate": "2008-04-30 00:00:00.000"
                                },
                                {
                                    "Name": "Steerer",
                                    "SellStartDate": "2008-04-30 00:00:00.000"
                                },
                                {
                                    "Name": "Seat Stays",
                                    "SellStartDate": "2008-04-30 00:00:00.000"
                                },
                                {
                                    "Name": "Seat Tube",
                                    "SellStartDate": "2008-04-30 00:00:00.000"
                                },
                                {
                                    "Name": "Top Tube",
                                    "SellStartDate": "2008-04-30 00:00:00.000"
                                },
                                {
                                    "Name": "Tension Pulley",
                                    "SellStartDate": "2008-04-30 00:00:00.000"
                                },
                                {
                                    "Name": "Rear Derailleur Cage",
                                    "SellStartDate": "2008-04-30 00:00:00.000"
                                },
                                {
                                    "Name": "HL Road Frame - Black, 58",
                                    "SellStartDate": "2008-04-30 00:00:00.000"
                                },
                                {
                                    "Name": "HL Road Frame - Red, 58",
                                    "SellStartDate": "2008-04-30 00:00:00.000"
                                },
                                {
                                    "Name": "Sport-100 Helmet, Red",
                                    "SellStartDate": "2011-05-31 00:00:00.000"
                                },
                                {
                                    "Name": "Sport-100 Helmet, Black",
                                    "SellStartDate": "2011-05-31 00:00:00.000"
                                },
                                {
                                    "Name": "Mountain Bike Socks, M",
                                    "SellStartDate": "2011-05-31 00:00:00.000"
                                },
                                {
                                    "Name": "Mountain Bike Socks, L",
                                    "SellStartDate": "2011-05-31 00:00:00.000"
                                },
                                {
                                    "Name": "Sport-100 Helmet, Blue",
                                    "SellStartDate": "2011-05-31 00:00:00.000"
                                },
                                {
                                    "Name": "AWC Logo Cap",
                                    "SellStartDate": "2011-05-31 00:00:00.000"
                                },
                                {
                                    "Name": "Long-Sleeve Logo Jersey, S",
                                    "SellStartDate": "2011-05-31 00:00:00.000"
                                },
                                {
                                    "Name": "Long-Sleeve Logo Jersey, M",
                                    "SellStartDate": "2011-05-31 00:00:00.000"
                                },
                                {
                                    "Name": "Long-Sleeve Logo Jersey, L",
                                    "SellStartDate": "2011-05-31 00:00:00.000"
                                },
                                {
                                    "Name": "Long-Sleeve Logo Jersey, XL",
                                    "SellStartDate": "2011-05-31 00:00:00.000"
                                },
                                {
                                    "Name": "HL Road Frame - Red, 62",
                                    "SellStartDate": "2011-05-31 00:00:00.000"
                                },
                                {
                                    "Name": "HL Road Frame - Red, 44",
                                    "SellStartDate": "2011-05-31 00:00:00.000"
                                },
                                {
                                    "Name": "HL Road Frame - Red, 48",
                                    "SellStartDate": "2011-05-31 00:00:00.000"
                                },
                                {
                                    "Name": "HL Road Frame - Red, 52",
                                    "SellStartDate": "2011-05-31 00:00:00.000"
                                },
                                {
                                    "Name": "HL Road Frame - Red, 56",
                                    "SellStartDate": "2011-05-31 00:00:00.000"
                                },
                                {
                                    "Name": "LL Road Frame - Black, 58",
                                    "SellStartDate": "2011-05-31 00:00:00.000"
                                },
                                {
                                    "Name": "LL Road Frame - Black, 60",
                                    "SellStartDate": "2011-05-31 00:00:00.000"
                                },
                                {
                                    "Name": "LL Road Frame - Black, 62",
                                    "SellStartDate": "2011-05-31 00:00:00.000"
                                },
                                {
                                    "Name": "LL Road Frame - Red, 44",
                                    "SellStartDate": "2011-05-31 00:00:00.000"
                                },
                                {
                                    "Name": "LL Road Frame - Red, 48",
                                    "SellStartDate": "2011-05-31 00:00:00.000"
                                },
                                {
                                    "Name": "LL Road Frame - Red, 52",
                                    "SellStartDate": "2011-05-31 00:00:00.000"
                                },
                                {
                                    "Name": "LL Road Frame - Red, 58",
                                    "SellStartDate": "2011-05-31 00:00:00.000"
                                },
                                {
                                    "Name": "LL Road Frame - Red, 60",
                                    "SellStartDate": "2011-05-31 00:00:00.000"
                                },
                                {
                                    "Name": "LL Road Frame - Red, 62",
                                    "SellStartDate": "2011-05-31 00:00:00.000"
                                },
                                {
                                    "Name": "ML Road Frame - Red, 44",
                                    "SellStartDate": "2011-05-31 00:00:00.000"
                                },
                                {
                                    "Name": "ML Road Frame - Red, 48",
                                    "SellStartDate": "2011-05-31 00:00:00.000"
                                },
                                {
                                    "Name": "ML Road Frame - Red, 52",
                                    "SellStartDate": "2011-05-31 00:00:00.000"
                                },
                                {
                                    "Name": "ML Road Frame - Red, 58",
                                    "SellStartDate": "2011-05-31 00:00:00.000"
                                },
                                {
                                    "Name": "ML Road Frame - Red, 60",
                                    "SellStartDate": "2011-05-31 00:00:00.000"
                                },
                                {
                                    "Name": "LL Road Frame - Black, 44",
                                    "SellStartDate": "2011-05-31 00:00:00.000"
                                },
                                {
                                    "Name": "LL Road Frame - Black, 48",
                                    "SellStartDate": "2011-05-31 00:00:00.000"
                                },
                                {
                                    "Name": "LL Road Frame - Black, 52",
                                    "SellStartDate": "2011-05-31 00:00:00.000"
                                },
                                {
                                    "Name": "HL Mountain Frame - Silver, 42",
                                    "SellStartDate": "2011-05-31 00:00:00.000"
                                },
                                {
                                    "Name": "HL Mountain Frame - Silver, 44",
                                    "SellStartDate": "2011-05-31 00:00:00.000"
                                },
                                {
                                    "Name": "HL Mountain Frame - Silver, 48",
                                    "SellStartDate": "2011-05-31 00:00:00.000"
                                },
                                {
                                    "Name": "HL Mountain Frame - Silver, 46",
                                    "SellStartDate": "2011-05-31 00:00:00.000"
                                },
                                {
                                    "Name": "HL Mountain Frame - Black, 42",
                                    "SellStartDate": "2011-05-31 00:00:00.000"
                                },
                                {
                                    "Name": "HL Mountain Frame - Black, 44",
                                    "SellStartDate": "2011-05-31 00:00:00.000"
                                },
                                {
                                    "Name": "HL Mountain Frame - Black, 48",
                                    "SellStartDate": "2011-05-31 00:00:00.000"
                                },
                                {
                                    "Name": "HL Mountain Frame - Black, 46",
                                    "SellStartDate": "2011-05-31 00:00:00.000"
                                },
                                {
                                    "Name": "HL Mountain Frame - Black, 38",
                                    "SellStartDate": "2011-05-31 00:00:00.000"
                                },
                                {
                                    "Name": "HL Mountain Frame - Silver, 38",
                                    "SellStartDate": "2011-05-31 00:00:00.000"
                                },
                                {
                                    "Name": "Road-150 Red, 62",
                                    "SellStartDate": "2011-05-31 00:00:00.000"
                                },
                                {
                                    "Name": "Road-150 Red, 44",
                                    "SellStartDate": "2011-05-31 00:00:00.000"
                                },
                                {
                                    "Name": "Road-150 Red, 48",
                                    "SellStartDate": "2011-05-31 00:00:00.000"
                                },
                                {
                                    "Name": "Road-150 Red, 52",
                                    "SellStartDate": "2011-05-31 00:00:00.000"
                                },
                                {
                                    "Name": "Road-150 Red, 56",
                                    "SellStartDate": "2011-05-31 00:00:00.000"
                                },
                                {
                                    "Name": "Road-450 Red, 58",
                                    "SellStartDate": "2011-05-31 00:00:00.000"
                                },
                                {
                                    "Name": "Road-450 Red, 60",
                                    "SellStartDate": "2011-05-31 00:00:00.000"
                                },
                                {
                                    "Name": "Road-450 Red, 44",
                                    "SellStartDate": "2011-05-31 00:00:00.000"
                                },
                                {
                                    "Name": "Road-450 Red, 48",
                                    "SellStartDate": "2011-05-31 00:00:00.000"
                                },
                                {
                                    "Name": "Road-450 Red, 52",
                                    "SellStartDate": "2011-05-31 00:00:00.000"
                                },
                                {
                                    "Name": "Road-650 Red, 58",
                                    "SellStartDate": "2011-05-31 00:00:00.000"
                                },
                                {
                                    "Name": "Road-650 Red, 60",
                                    "SellStartDate": "2011-05-31 00:00:00.000"
                                },
                                {
                                    "Name": "Road-650 Red, 62",
                                    "SellStartDate": "2011-05-31 00:00:00.000"
                                },
                                {
                                    "Name": "Road-650 Red, 44",
                                    "SellStartDate": "2011-05-31 00:00:00.000"
                                },
                                {
                                    "Name": "Road-650 Red, 48",
                                    "SellStartDate": "2011-05-31 00:00:00.000"
                                },
                                {
                                    "Name": "Road-650 Red, 52",
                                    "SellStartDate": "2011-05-31 00:00:00.000"
                                },
                                {
                                    "Name": "Road-650 Black, 58",
                                    "SellStartDate": "2011-05-31 00:00:00.000"
                                },
                                {
                                    "Name": "Road-650 Black, 60",
                                    "SellStartDate": "2011-05-31 00:00:00.000"
                                },
                                {
                                    "Name": "Road-650 Black, 62",
                                    "SellStartDate": "2011-05-31 00:00:00.000"
                                },
                                {
                                    "Name": "Road-650 Black, 44",
                                    "SellStartDate": "2011-05-31 00:00:00.000"
                                },
                                {
                                    "Name": "Road-650 Black, 48",
                                    "SellStartDate": "2011-05-31 00:00:00.000"
                                },
                                {
                                    "Name": "Road-650 Black, 52",
                                    "SellStartDate": "2011-05-31 00:00:00.000"
                                },
                                {
                                    "Name": "Mountain-100 Silver, 38",
                                    "SellStartDate": "2011-05-31 00:00:00.000"
                                },
                                {
                                    "Name": "Mountain-100 Silver, 42",
                                    "SellStartDate": "2011-05-31 00:00:00.000"
                                },
                                {
                                    "Name": "Mountain-100 Silver, 44",
                                    "SellStartDate": "2011-05-31 00:00:00.000"
                                },
                                {
                                    "Name": "Mountain-100 Silver, 48",
                                    "SellStartDate": "2011-05-31 00:00:00.000"
                                },
                                {
                                    "Name": "Mountain-100 Black, 38",
                                    "SellStartDate": "2011-05-31 00:00:00.000"
                                },
                                {
                                    "Name": "Mountain-100 Black, 42",
                                    "SellStartDate": "2011-05-31 00:00:00.000"
                                },
                                {
                                    "Name": "Mountain-100 Black, 44",
                                    "SellStartDate": "2011-05-31 00:00:00.000"
                                },
                                {
                                    "Name": "Mountain-100 Black, 48",
                                    "SellStartDate": "2011-05-31 00:00:00.000"
                                },
                                {
                                    "Name": "Mountain-200 Silver, 38",
                                    "SellStartDate": "2012-05-30 00:00:00.000"
                                },
                                {
                                    "Name": "Mountain-200 Silver, 42",
                                    "SellStartDate": "2012-05-30 00:00:00.000"
                                },
                                {
                                    "Name": "Mountain-200 Silver, 46",
                                    "SellStartDate": "2012-05-30 00:00:00.000"
                                },
                                {
                                    "Name": "Mountain-200 Black, 38",
                                    "SellStartDate": "2012-05-30 00:00:00.000"
                                },
                                {
                                    "Name": "Mountain-200 Black, 42",
                                    "SellStartDate": "2012-05-30 00:00:00.000"
                                },
                                {
                                    "Name": "Mountain-200 Black, 46",
                                    "SellStartDate": "2012-05-30 00:00:00.000"
                                },
                                {
                                    "Name": "Mountain-300 Black, 38",
                                    "SellStartDate": "2012-05-30 00:00:00.000"
                                },
                                {
                                    "Name": "Mountain-300 Black, 40",
                                    "SellStartDate": "2012-05-30 00:00:00.000"
                                },
                                {
                                    "Name": "Mountain-300 Black, 44",
                                    "SellStartDate": "2012-05-30 00:00:00.000"
                                },
                                {
                                    "Name": "Mountain-300 Black, 48",
                                    "SellStartDate": "2012-05-30 00:00:00.000"
                                },
                                {
                                    "Name": "Road-250 Red, 44",
                                    "SellStartDate": "2012-05-30 00:00:00.000"
                                },
                                {
                                    "Name": "Road-250 Red, 48",
                                    "SellStartDate": "2012-05-30 00:00:00.000"
                                },
                                {
                                    "Name": "Road-250 Red, 52",
                                    "SellStartDate": "2012-05-30 00:00:00.000"
                                },
                                {
                                    "Name": "Road-250 Red, 58",
                                    "SellStartDate": "2012-05-30 00:00:00.000"
                                },
                                {
                                    "Name": "Road-250 Black, 44",
                                    "SellStartDate": "2012-05-30 00:00:00.000"
                                },
                                {
                                    "Name": "Road-250 Black, 48",
                                    "SellStartDate": "2012-05-30 00:00:00.000"
                                },
                                {
                                    "Name": "Road-250 Black, 52",
                                    "SellStartDate": "2012-05-30 00:00:00.000"
                                },
                                {
                                    "Name": "Road-250 Black, 58",
                                    "SellStartDate": "2012-05-30 00:00:00.000"
                                },
                                {
                                    "Name": "Road-550-W Yellow, 38",
                                    "SellStartDate": "2012-05-30 00:00:00.000"
                                },
                                {
                                    "Name": "Road-550-W Yellow, 40",
                                    "SellStartDate": "2012-05-30 00:00:00.000"
                                },
                                {
                                    "Name": "Road-550-W Yellow, 42",
                                    "SellStartDate": "2012-05-30 00:00:00.000"
                                },
                                {
                                    "Name": "Road-550-W Yellow, 44",
                                    "SellStartDate": "2012-05-30 00:00:00.000"
                                },
                                {
                                    "Name": "Road-550-W Yellow, 48",
                                    "SellStartDate": "2012-05-30 00:00:00.000"
                                },
                                {
                                    "Name": "LL Fork",
                                    "SellStartDate": "2012-05-30 00:00:00.000"
                                },
                                {
                                    "Name": "ML Fork",
                                    "SellStartDate": "2012-05-30 00:00:00.000"
                                },
                                {
                                    "Name": "HL Fork",
                                    "SellStartDate": "2012-05-30 00:00:00.000"
                                },
                                {
                                    "Name": "LL Headset",
                                    "SellStartDate": "2012-05-30 00:00:00.000"
                                },
                                {
                                    "Name": "ML Headset",
                                    "SellStartDate": "2012-05-30 00:00:00.000"
                                },
                                {
                                    "Name": "HL Headset",
                                    "SellStartDate": "2012-05-30 00:00:00.000"
                                },
                                {
                                    "Name": "LL Mountain Handlebars",
                                    "SellStartDate": "2012-05-30 00:00:00.000"
                                },
                                {
                                    "Name": "ML Mountain Handlebars",
                                    "SellStartDate": "2012-05-30 00:00:00.000"
                                },
                                {
                                    "Name": "HL Mountain Handlebars",
                                    "SellStartDate": "2012-05-30 00:00:00.000"
                                },
                                {
                                    "Name": "LL Road Handlebars",
                                    "SellStartDate": "2012-05-30 00:00:00.000"
                                },
                                {
                                    "Name": "ML Road Handlebars",
                                    "SellStartDate": "2012-05-30 00:00:00.000"
                                },
                                {
                                    "Name": "HL Road Handlebars",
                                    "SellStartDate": "2012-05-30 00:00:00.000"
                                },
                                {
                                    "Name": "ML Mountain Frame - Black, 38",
                                    "SellStartDate": "2012-05-30 00:00:00.000"
                                },
                                {
                                    "Name": "LL Mountain Front Wheel",
                                    "SellStartDate": "2012-05-30 00:00:00.000"
                                },
                                {
                                    "Name": "ML Mountain Front Wheel",
                                    "SellStartDate": "2012-05-30 00:00:00.000"
                                },
                                {
                                    "Name": "HL Mountain Front Wheel",
                                    "SellStartDate": "2012-05-30 00:00:00.000"
                                },
                                {
                                    "Name": "LL Road Front Wheel",
                                    "SellStartDate": "2012-05-30 00:00:00.000"
                                },
                                {
                                    "Name": "ML Road Front Wheel",
                                    "SellStartDate": "2012-05-30 00:00:00.000"
                                },
                                {
                                    "Name": "HL Road Front Wheel",
                                    "SellStartDate": "2012-05-30 00:00:00.000"
                                },
                                {
                                    "Name": "Touring Front Wheel",
                                    "SellStartDate": "2012-05-30 00:00:00.000"
                                },
                                {
                                    "Name": "ML Road Frame-W - Yellow, 38",
                                    "SellStartDate": "2012-05-30 00:00:00.000"
                                },
                                {
                                    "Name": "LL Mountain Rear Wheel",
                                    "SellStartDate": "2012-05-30 00:00:00.000"
                                },
                                {
                                    "Name": "ML Mountain Rear Wheel",
                                    "SellStartDate": "2012-05-30 00:00:00.000"
                                },
                                {
                                    "Name": "HL Mountain Rear Wheel",
                                    "SellStartDate": "2012-05-30 00:00:00.000"
                                },
                                {
                                    "Name": "LL Road Rear Wheel",
                                    "SellStartDate": "2012-05-30 00:00:00.000"
                                },
                                {
                                    "Name": "ML Road Rear Wheel",
                                    "SellStartDate": "2012-05-30 00:00:00.000"
                                },
                                {
                                    "Name": "HL Road Rear Wheel",
                                    "SellStartDate": "2012-05-30 00:00:00.000"
                                },
                                {
                                    "Name": "Touring Rear Wheel",
                                    "SellStartDate": "2012-05-30 00:00:00.000"
                                },
                                {
                                    "Name": "ML Mountain Frame - Black, 40",
                                    "SellStartDate": "2012-05-30 00:00:00.000"
                                },
                                {
                                    "Name": "ML Mountain Frame - Black, 44",
                                    "SellStartDate": "2012-05-30 00:00:00.000"
                                },
                                {
                                    "Name": "ML Mountain Frame - Black, 48",
                                    "SellStartDate": "2012-05-30 00:00:00.000"
                                },
                                {
                                    "Name": "ML Road Frame-W - Yellow, 40",
                                    "SellStartDate": "2012-05-30 00:00:00.000"
                                },
                                {
                                    "Name": "ML Road Frame-W - Yellow, 42",
                                    "SellStartDate": "2012-05-30 00:00:00.000"
                                },
                                {
                                    "Name": "ML Road Frame-W - Yellow, 44",
                                    "SellStartDate": "2012-05-30 00:00:00.000"
                                },
                                {
                                    "Name": "ML Road Frame-W - Yellow, 48",
                                    "SellStartDate": "2012-05-30 00:00:00.000"
                                },
                                {
                                    "Name": "HL Road Frame - Black, 62",
                                    "SellStartDate": "2012-05-30 00:00:00.000"
                                },
                                {
                                    "Name": "HL Road Frame - Black, 44",
                                    "SellStartDate": "2012-05-30 00:00:00.000"
                                },
                                {
                                    "Name": "HL Road Frame - Black, 48",
                                    "SellStartDate": "2012-05-30 00:00:00.000"
                                },
                                {
                                    "Name": "HL Road Frame - Black, 52",
                                    "SellStartDate": "2012-05-30 00:00:00.000"
                                },
                                {
                                    "Name": "Men's Sports Shorts, S",
                                    "SellStartDate": "2012-05-30 00:00:00.000"
                                },
                                {
                                    "Name": "Touring-Panniers, Large",
                                    "SellStartDate": "2012-05-30 00:00:00.000"
                                },
                                {
                                    "Name": "Cable Lock",
                                    "SellStartDate": "2012-05-30 00:00:00.000"
                                },
                                {
                                    "Name": "Minipump",
                                    "SellStartDate": "2012-05-30 00:00:00.000"
                                },
                                {
                                    "Name": "Mountain Pump",
                                    "SellStartDate": "2012-05-30 00:00:00.000"
                                },
                                {
                                    "Name": "Taillights - Battery-Powered",
                                    "SellStartDate": "2012-05-30 00:00:00.000"
                                },
                                {
                                    "Name": "Headlights - Dual-Beam",
                                    "SellStartDate": "2012-05-30 00:00:00.000"
                                },
                                {
                                    "Name": "Headlights - Weatherproof",
                                    "SellStartDate": "2012-05-30 00:00:00.000"
                                },
                                {
                                    "Name": "Men's Sports Shorts, M",
                                    "SellStartDate": "2012-05-30 00:00:00.000"
                                },
                                {
                                    "Name": "Men's Sports Shorts, L",
                                    "SellStartDate": "2012-05-30 00:00:00.000"
                                },
                                {
                                    "Name": "Men's Sports Shorts, XL",
                                    "SellStartDate": "2012-05-30 00:00:00.000"
                                },
                                {
                                    "Name": "Women's Tights, S",
                                    "SellStartDate": "2012-05-30 00:00:00.000"
                                },
                                {
                                    "Name": "Women's Tights, M",
                                    "SellStartDate": "2012-05-30 00:00:00.000"
                                },
                                {
                                    "Name": "Women's Tights, L",
                                    "SellStartDate": "2012-05-30 00:00:00.000"
                                },
                                {
                                    "Name": "Men's Bib-Shorts, S",
                                    "SellStartDate": "2012-05-30 00:00:00.000"
                                },
                                {
                                    "Name": "Men's Bib-Shorts, M",
                                    "SellStartDate": "2012-05-30 00:00:00.000"
                                },
                                {
                                    "Name": "Men's Bib-Shorts, L",
                                    "SellStartDate": "2012-05-30 00:00:00.000"
                                },
                                {
                                    "Name": "Half-Finger Gloves, S",
                                    "SellStartDate": "2012-05-30 00:00:00.000"
                                },
                                {
                                    "Name": "Half-Finger Gloves, M",
                                    "SellStartDate": "2012-05-30 00:00:00.000"
                                },
                                {
                                    "Name": "Half-Finger Gloves, L",
                                    "SellStartDate": "2012-05-30 00:00:00.000"
                                },
                                {
                                    "Name": "Full-Finger Gloves, S",
                                    "SellStartDate": "2012-05-30 00:00:00.000"
                                },
                                {
                                    "Name": "Full-Finger Gloves, M",
                                    "SellStartDate": "2012-05-30 00:00:00.000"
                                },
                                {
                                    "Name": "Full-Finger Gloves, L",
                                    "SellStartDate": "2012-05-30 00:00:00.000"
                                },
                                {
                                    "Name": "Classic Vest, S",
                                    "SellStartDate": "2013-05-30 00:00:00.000"
                                },
                                {
                                    "Name": "Classic Vest, M",
                                    "SellStartDate": "2013-05-30 00:00:00.000"
                                },
                                {
                                    "Name": "Classic Vest, L",
                                    "SellStartDate": "2013-05-30 00:00:00.000"
                                },
                                {
                                    "Name": "Women's Mountain Shorts, S",
                                    "SellStartDate": "2013-05-30 00:00:00.000"
                                },
                                {
                                    "Name": "Women's Mountain Shorts, M",
                                    "SellStartDate": "2013-05-30 00:00:00.000"
                                },
                                {
                                    "Name": "Women's Mountain Shorts, L",
                                    "SellStartDate": "2013-05-30 00:00:00.000"
                                },
                                {
                                    "Name": "Water Bottle - 30 oz.",
                                    "SellStartDate": "2013-05-30 00:00:00.000"
                                },
                                {
                                    "Name": "Mountain Bottle Cage",
                                    "SellStartDate": "2013-05-30 00:00:00.000"
                                },
                                {
                                    "Name": "Road Bottle Cage",
                                    "SellStartDate": "2013-05-30 00:00:00.000"
                                },
                                {
                                    "Name": "Patch Kit/8 Patches",
                                    "SellStartDate": "2013-05-30 00:00:00.000"
                                },
                                {
                                    "Name": "Racing Socks, M",
                                    "SellStartDate": "2013-05-30 00:00:00.000"
                                },
                                {
                                    "Name": "Racing Socks, L",
                                    "SellStartDate": "2013-05-30 00:00:00.000"
                                },
                                {
                                    "Name": "Hitch Rack - 4-Bike",
                                    "SellStartDate": "2013-05-30 00:00:00.000"
                                },
                                {
                                    "Name": "Bike Wash - Dissolver",
                                    "SellStartDate": "2013-05-30 00:00:00.000"
                                },
                                {
                                    "Name": "Fender Set - Mountain",
                                    "SellStartDate": "2013-05-30 00:00:00.000"
                                },
                                {
                                    "Name": "All-Purpose Bike Stand",
                                    "SellStartDate": "2013-05-30 00:00:00.000"
                                },
                                {
                                    "Name": "Hydration Pack - 70 oz.",
                                    "SellStartDate": "2013-05-30 00:00:00.000"
                                },
                                {
                                    "Name": "Short-Sleeve Classic Jersey, S",
                                    "SellStartDate": "2013-05-30 00:00:00.000"
                                },
                                {
                                    "Name": "Short-Sleeve Classic Jersey, M",
                                    "SellStartDate": "2013-05-30 00:00:00.000"
                                },
                                {
                                    "Name": "Short-Sleeve Classic Jersey, L",
                                    "SellStartDate": "2013-05-30 00:00:00.000"
                                },
                                {
                                    "Name": "Short-Sleeve Classic Jersey, XL",
                                    "SellStartDate": "2013-05-30 00:00:00.000"
                                },
                                {
                                    "Name": "HL Touring Frame - Yellow, 60",
                                    "SellStartDate": "2013-05-30 00:00:00.000"
                                },
                                {
                                    "Name": "LL Touring Frame - Yellow, 62",
                                    "SellStartDate": "2013-05-30 00:00:00.000"
                                },
                                {
                                    "Name": "HL Touring Frame - Yellow, 46",
                                    "SellStartDate": "2013-05-30 00:00:00.000"
                                },
                                {
                                    "Name": "HL Touring Frame - Yellow, 50",
                                    "SellStartDate": "2013-05-30 00:00:00.000"
                                },
                                {
                                    "Name": "HL Touring Frame - Yellow, 54",
                                    "SellStartDate": "2013-05-30 00:00:00.000"
                                },
                                {
                                    "Name": "HL Touring Frame - Blue, 46",
                                    "SellStartDate": "2013-05-30 00:00:00.000"
                                },
                                {
                                    "Name": "HL Touring Frame - Blue, 50",
                                    "SellStartDate": "2013-05-30 00:00:00.000"
                                },
                                {
                                    "Name": "HL Touring Frame - Blue, 54",
                                    "SellStartDate": "2013-05-30 00:00:00.000"
                                },
                                {
                                    "Name": "HL Touring Frame - Blue, 60",
                                    "SellStartDate": "2013-05-30 00:00:00.000"
                                },
                                {
                                    "Name": "Rear Derailleur",
                                    "SellStartDate": "2013-05-30 00:00:00.000"
                                },
                                {
                                    "Name": "LL Touring Frame - Blue, 50",
                                    "SellStartDate": "2013-05-30 00:00:00.000"
                                },
                                {
                                    "Name": "LL Touring Frame - Blue, 54",
                                    "SellStartDate": "2013-05-30 00:00:00.000"
                                },
                                {
                                    "Name": "LL Touring Frame - Blue, 58",
                                    "SellStartDate": "2013-05-30 00:00:00.000"
                                },
                                {
                                    "Name": "LL Touring Frame - Blue, 62",
                                    "SellStartDate": "2013-05-30 00:00:00.000"
                                },
                                {
                                    "Name": "LL Touring Frame - Yellow, 44",
                                    "SellStartDate": "2013-05-30 00:00:00.000"
                                },
                                {
                                    "Name": "LL Touring Frame - Yellow, 50",
                                    "SellStartDate": "2013-05-30 00:00:00.000"
                                },
                                {
                                    "Name": "LL Touring Frame - Yellow, 54",
                                    "SellStartDate": "2013-05-30 00:00:00.000"
                                },
                                {
                                    "Name": "LL Touring Frame - Yellow, 58",
                                    "SellStartDate": "2013-05-30 00:00:00.000"
                                },
                                {
                                    "Name": "LL Touring Frame - Blue, 44",
                                    "SellStartDate": "2013-05-30 00:00:00.000"
                                },
                                {
                                    "Name": "ML Mountain Frame-W - Silver, 40",
                                    "SellStartDate": "2013-05-30 00:00:00.000"
                                },
                                {
                                    "Name": "ML Mountain Frame-W - Silver, 42",
                                    "SellStartDate": "2013-05-30 00:00:00.000"
                                },
                                {
                                    "Name": "ML Mountain Frame-W - Silver, 46",
                                    "SellStartDate": "2013-05-30 00:00:00.000"
                                },
                                {
                                    "Name": "Rear Brakes",
                                    "SellStartDate": "2013-05-30 00:00:00.000"
                                },
                                {
                                    "Name": "LL Mountain Seat/Saddle",
                                    "SellStartDate": "2013-05-30 00:00:00.000"
                                },
                                {
                                    "Name": "ML Mountain Seat/Saddle",
                                    "SellStartDate": "2013-05-30 00:00:00.000"
                                },
                                {
                                    "Name": "HL Mountain Seat/Saddle",
                                    "SellStartDate": "2013-05-30 00:00:00.000"
                                },
                                {
                                    "Name": "LL Road Seat/Saddle",
                                    "SellStartDate": "2013-05-30 00:00:00.000"
                                },
                                {
                                    "Name": "ML Road Seat/Saddle",
                                    "SellStartDate": "2013-05-30 00:00:00.000"
                                },
                                {
                                    "Name": "HL Road Seat/Saddle",
                                    "SellStartDate": "2013-05-30 00:00:00.000"
                                },
                                {
                                    "Name": "LL Touring Seat/Saddle",
                                    "SellStartDate": "2013-05-30 00:00:00.000"
                                },
                                {
                                    "Name": "ML Touring Seat/Saddle",
                                    "SellStartDate": "2013-05-30 00:00:00.000"
                                },
                                {
                                    "Name": "HL Touring Seat/Saddle",
                                    "SellStartDate": "2013-05-30 00:00:00.000"
                                },
                                {
                                    "Name": "LL Mountain Frame - Silver, 42",
                                    "SellStartDate": "2013-05-30 00:00:00.000"
                                },
                                {
                                    "Name": "LL Mountain Frame - Silver, 44",
                                    "SellStartDate": "2013-05-30 00:00:00.000"
                                },
                                {
                                    "Name": "LL Mountain Frame - Silver, 48",
                                    "SellStartDate": "2013-05-30 00:00:00.000"
                                },
                                {
                                    "Name": "LL Mountain Frame - Silver, 52",
                                    "SellStartDate": "2013-05-30 00:00:00.000"
                                },
                                {
                                    "Name": "Mountain Tire Tube",
                                    "SellStartDate": "2013-05-30 00:00:00.000"
                                },
                                {
                                    "Name": "Road Tire Tube",
                                    "SellStartDate": "2013-05-30 00:00:00.000"
                                },
                                {
                                    "Name": "Touring Tire Tube",
                                    "SellStartDate": "2013-05-30 00:00:00.000"
                                },
                                {
                                    "Name": "LL Mountain Frame - Black, 42",
                                    "SellStartDate": "2013-05-30 00:00:00.000"
                                },
                                {
                                    "Name": "LL Mountain Frame - Black, 44",
                                    "SellStartDate": "2013-05-30 00:00:00.000"
                                },
                                {
                                    "Name": "LL Mountain Frame - Black, 48",
                                    "SellStartDate": "2013-05-30 00:00:00.000"
                                },
                                {
                                    "Name": "LL Mountain Frame - Black, 52",
                                    "SellStartDate": "2013-05-30 00:00:00.000"
                                },
                                {
                                    "Name": "LL Mountain Tire",
                                    "SellStartDate": "2013-05-30 00:00:00.000"
                                },
                                {
                                    "Name": "ML Mountain Tire",
                                    "SellStartDate": "2013-05-30 00:00:00.000"
                                },
                                {
                                    "Name": "HL Mountain Tire",
                                    "SellStartDate": "2013-05-30 00:00:00.000"
                                },
                                {
                                    "Name": "LL Road Tire",
                                    "SellStartDate": "2013-05-30 00:00:00.000"
                                },
                                {
                                    "Name": "ML Road Tire",
                                    "SellStartDate": "2013-05-30 00:00:00.000"
                                },
                                {
                                    "Name": "HL Road Tire",
                                    "SellStartDate": "2013-05-30 00:00:00.000"
                                },
                                {
                                    "Name": "Touring Tire",
                                    "SellStartDate": "2013-05-30 00:00:00.000"
                                },
                                {
                                    "Name": "LL Mountain Pedal",
                                    "SellStartDate": "2013-05-30 00:00:00.000"
                                },
                                {
                                    "Name": "ML Mountain Pedal",
                                    "SellStartDate": "2013-05-30 00:00:00.000"
                                },
                                {
                                    "Name": "HL Mountain Pedal",
                                    "SellStartDate": "2013-05-30 00:00:00.000"
                                },
                                {
                                    "Name": "LL Road Pedal",
                                    "SellStartDate": "2013-05-30 00:00:00.000"
                                },
                                {
                                    "Name": "ML Road Pedal",
                                    "SellStartDate": "2013-05-30 00:00:00.000"
                                },
                                {
                                    "Name": "HL Road Pedal",
                                    "SellStartDate": "2013-05-30 00:00:00.000"
                                },
                                {
                                    "Name": "Touring Pedal",
                                    "SellStartDate": "2013-05-30 00:00:00.000"
                                },
                                {
                                    "Name": "ML Mountain Frame-W - Silver, 38",
                                    "SellStartDate": "2013-05-30 00:00:00.000"
                                },
                                {
                                    "Name": "LL Mountain Frame - Black, 40",
                                    "SellStartDate": "2013-05-30 00:00:00.000"
                                },
                                {
                                    "Name": "LL Mountain Frame - Silver, 40",
                                    "SellStartDate": "2013-05-30 00:00:00.000"
                                },
                                {
                                    "Name": "Front Derailleur",
                                    "SellStartDate": "2013-05-30 00:00:00.000"
                                },
                                {
                                    "Name": "LL Touring Handlebars",
                                    "SellStartDate": "2013-05-30 00:00:00.000"
                                },
                                {
                                    "Name": "HL Touring Handlebars",
                                    "SellStartDate": "2013-05-30 00:00:00.000"
                                },
                                {
                                    "Name": "Front Brakes",
                                    "SellStartDate": "2013-05-30 00:00:00.000"
                                },
                                {
                                    "Name": "LL Crankset",
                                    "SellStartDate": "2013-05-30 00:00:00.000"
                                },
                                {
                                    "Name": "ML Crankset",
                                    "SellStartDate": "2013-05-30 00:00:00.000"
                                },
                                {
                                    "Name": "HL Crankset",
                                    "SellStartDate": "2013-05-30 00:00:00.000"
                                },
                                {
                                    "Name": "Chain",
                                    "SellStartDate": "2013-05-30 00:00:00.000"
                                },
                                {
                                    "Name": "Touring-2000 Blue, 60",
                                    "SellStartDate": "2013-05-30 00:00:00.000"
                                },
                                {
                                    "Name": "Touring-1000 Yellow, 46",
                                    "SellStartDate": "2013-05-30 00:00:00.000"
                                },
                                {
                                    "Name": "Touring-1000 Yellow, 50",
                                    "SellStartDate": "2013-05-30 00:00:00.000"
                                },
                                {
                                    "Name": "Touring-1000 Yellow, 54",
                                    "SellStartDate": "2013-05-30 00:00:00.000"
                                },
                                {
                                    "Name": "Touring-1000 Yellow, 60",
                                    "SellStartDate": "2013-05-30 00:00:00.000"
                                },
                                {
                                    "Name": "Touring-3000 Blue, 54",
                                    "SellStartDate": "2013-05-30 00:00:00.000"
                                },
                                {
                                    "Name": "Touring-3000 Blue, 58",
                                    "SellStartDate": "2013-05-30 00:00:00.000"
                                },
                                {
                                    "Name": "Touring-3000 Blue, 62",
                                    "SellStartDate": "2013-05-30 00:00:00.000"
                                },
                                {
                                    "Name": "Touring-3000 Yellow, 44",
                                    "SellStartDate": "2013-05-30 00:00:00.000"
                                },
                                {
                                    "Name": "Touring-3000 Yellow, 50",
                                    "SellStartDate": "2013-05-30 00:00:00.000"
                                },
                                {
                                    "Name": "Touring-3000 Yellow, 54",
                                    "SellStartDate": "2013-05-30 00:00:00.000"
                                },
                                {
                                    "Name": "Touring-3000 Yellow, 58",
                                    "SellStartDate": "2013-05-30 00:00:00.000"
                                },
                                {
                                    "Name": "Touring-3000 Yellow, 62",
                                    "SellStartDate": "2013-05-30 00:00:00.000"
                                },
                                {
                                    "Name": "Touring-1000 Blue, 46",
                                    "SellStartDate": "2013-05-30 00:00:00.000"
                                },
                                {
                                    "Name": "Touring-1000 Blue, 50",
                                    "SellStartDate": "2013-05-30 00:00:00.000"
                                },
                                {
                                    "Name": "Touring-1000 Blue, 54",
                                    "SellStartDate": "2013-05-30 00:00:00.000"
                                },
                                {
                                    "Name": "Touring-1000 Blue, 60",
                                    "SellStartDate": "2013-05-30 00:00:00.000"
                                },
                                {
                                    "Name": "Touring-2000 Blue, 46",
                                    "SellStartDate": "2013-05-30 00:00:00.000"
                                },
                                {
                                    "Name": "Touring-2000 Blue, 50",
                                    "SellStartDate": "2013-05-30 00:00:00.000"
                                },
                                {
                                    "Name": "Touring-2000 Blue, 54",
                                    "SellStartDate": "2013-05-30 00:00:00.000"
                                },
                                {
                                    "Name": "Road-350-W Yellow, 40",
                                    "SellStartDate": "2013-05-30 00:00:00.000"
                                },
                                {
                                    "Name": "Road-350-W Yellow, 42",
                                    "SellStartDate": "2013-05-30 00:00:00.000"
                                },
                                {
                                    "Name": "Road-350-W Yellow, 44",
                                    "SellStartDate": "2013-05-30 00:00:00.000"
                                },
                                {
                                    "Name": "Road-350-W Yellow, 48",
                                    "SellStartDate": "2013-05-30 00:00:00.000"
                                },
                                {
                                    "Name": "Road-750 Black, 58",
                                    "SellStartDate": "2013-05-30 00:00:00.000"
                                },
                                {
                                    "Name": "Touring-3000 Blue, 44",
                                    "SellStartDate": "2013-05-30 00:00:00.000"
                                },
                                {
                                    "Name": "Touring-3000 Blue, 50",
                                    "SellStartDate": "2013-05-30 00:00:00.000"
                                },
                                {
                                    "Name": "Mountain-400-W Silver, 38",
                                    "SellStartDate": "2013-05-30 00:00:00.000"
                                },
                                {
                                    "Name": "Mountain-400-W Silver, 40",
                                    "SellStartDate": "2013-05-30 00:00:00.000"
                                },
                                {
                                    "Name": "Mountain-400-W Silver, 42",
                                    "SellStartDate": "2013-05-30 00:00:00.000"
                                },
                                {
                                    "Name": "Mountain-400-W Silver, 46",
                                    "SellStartDate": "2013-05-30 00:00:00.000"
                                },
                                {
                                    "Name": "Mountain-500 Silver, 40",
                                    "SellStartDate": "2013-05-30 00:00:00.000"
                                },
                                {
                                    "Name": "Mountain-500 Silver, 42",
                                    "SellStartDate": "2013-05-30 00:00:00.000"
                                },
                                {
                                    "Name": "Mountain-500 Silver, 44",
                                    "SellStartDate": "2013-05-30 00:00:00.000"
                                },
                                {
                                    "Name": "Mountain-500 Silver, 48",
                                    "SellStartDate": "2013-05-30 00:00:00.000"
                                },
                                {
                                    "Name": "Mountain-500 Silver, 52",
                                    "SellStartDate": "2013-05-30 00:00:00.000"
                                },
                                {
                                    "Name": "Mountain-500 Black, 40",
                                    "SellStartDate": "2013-05-30 00:00:00.000"
                                },
                                {
                                    "Name": "Mountain-500 Black, 42",
                                    "SellStartDate": "2013-05-30 00:00:00.000"
                                },
                                {
                                    "Name": "Mountain-500 Black, 44",
                                    "SellStartDate": "2013-05-30 00:00:00.000"
                                },
                                {
                                    "Name": "Mountain-500 Black, 48",
                                    "SellStartDate": "2013-05-30 00:00:00.000"
                                },
                                {
                                    "Name": "Mountain-500 Black, 52",
                                    "SellStartDate": "2013-05-30 00:00:00.000"
                                },
                                {
                                    "Name": "LL Bottom Bracket",
                                    "SellStartDate": "2013-05-30 00:00:00.000"
                                },
                                {
                                    "Name": "ML Bottom Bracket",
                                    "SellStartDate": "2013-05-30 00:00:00.000"
                                },
                                {
                                    "Name": "HL Bottom Bracket",
                                    "SellStartDate": "2013-05-30 00:00:00.000"
                                },
                                {
                                    "Name": "Road-750 Black, 44",
                                    "SellStartDate": "2013-05-30 00:00:00.000"
                                },
                                {
                                    "Name": "Road-750 Black, 48",
                                    "SellStartDate": "2013-05-30 00:00:00.000"
                                },
                                {
                                    "Name": "Road-750 Black, 52",
                                    "SellStartDate": "2013-05-30 00:00:00.000"
                                }
                            ]
                        },
                        "text/html": [
                            "<table>",
                            "<tr><th>Name</th><th>SellStartDate</th></tr>",
                            "<tr><td>Adjustable Race</td><td>2008-04-30 00:00:00.000</td></tr>",
                            "<tr><td>Bearing Ball</td><td>2008-04-30 00:00:00.000</td></tr>",
                            "<tr><td>BB Ball Bearing</td><td>2008-04-30 00:00:00.000</td></tr>",
                            "<tr><td>Headset Ball Bearings</td><td>2008-04-30 00:00:00.000</td></tr>",
                            "<tr><td>Blade</td><td>2008-04-30 00:00:00.000</td></tr>",
                            "<tr><td>LL Crankarm</td><td>2008-04-30 00:00:00.000</td></tr>",
                            "<tr><td>ML Crankarm</td><td>2008-04-30 00:00:00.000</td></tr>",
                            "<tr><td>HL Crankarm</td><td>2008-04-30 00:00:00.000</td></tr>",
                            "<tr><td>Chainring Bolts</td><td>2008-04-30 00:00:00.000</td></tr>",
                            "<tr><td>Chainring Nut</td><td>2008-04-30 00:00:00.000</td></tr>",
                            "<tr><td>Chainring</td><td>2008-04-30 00:00:00.000</td></tr>",
                            "<tr><td>Crown Race</td><td>2008-04-30 00:00:00.000</td></tr>",
                            "<tr><td>Chain Stays</td><td>2008-04-30 00:00:00.000</td></tr>",
                            "<tr><td>Decal 1</td><td>2008-04-30 00:00:00.000</td></tr>",
                            "<tr><td>Decal 2</td><td>2008-04-30 00:00:00.000</td></tr>",
                            "<tr><td>Down Tube</td><td>2008-04-30 00:00:00.000</td></tr>",
                            "<tr><td>Mountain End Caps</td><td>2008-04-30 00:00:00.000</td></tr>",
                            "<tr><td>Road End Caps</td><td>2008-04-30 00:00:00.000</td></tr>",
                            "<tr><td>Touring End Caps</td><td>2008-04-30 00:00:00.000</td></tr>",
                            "<tr><td>Fork End</td><td>2008-04-30 00:00:00.000</td></tr>",
                            "<tr><td>Freewheel</td><td>2008-04-30 00:00:00.000</td></tr>",
                            "<tr><td>Flat Washer 1</td><td>2008-04-30 00:00:00.000</td></tr>",
                            "<tr><td>Flat Washer 6</td><td>2008-04-30 00:00:00.000</td></tr>",
                            "<tr><td>Flat Washer 2</td><td>2008-04-30 00:00:00.000</td></tr>",
                            "<tr><td>Flat Washer 9</td><td>2008-04-30 00:00:00.000</td></tr>",
                            "<tr><td>Flat Washer 4</td><td>2008-04-30 00:00:00.000</td></tr>",
                            "<tr><td>Flat Washer 3</td><td>2008-04-30 00:00:00.000</td></tr>",
                            "<tr><td>Flat Washer 8</td><td>2008-04-30 00:00:00.000</td></tr>",
                            "<tr><td>Flat Washer 5</td><td>2008-04-30 00:00:00.000</td></tr>",
                            "<tr><td>Flat Washer 7</td><td>2008-04-30 00:00:00.000</td></tr>",
                            "<tr><td>Fork Crown</td><td>2008-04-30 00:00:00.000</td></tr>",
                            "<tr><td>Front Derailleur Cage</td><td>2008-04-30 00:00:00.000</td></tr>",
                            "<tr><td>Front Derailleur Linkage</td><td>2008-04-30 00:00:00.000</td></tr>",
                            "<tr><td>Guide Pulley</td><td>2008-04-30 00:00:00.000</td></tr>",
                            "<tr><td>LL Grip Tape</td><td>2008-04-30 00:00:00.000</td></tr>",
                            "<tr><td>ML Grip Tape</td><td>2008-04-30 00:00:00.000</td></tr>",
                            "<tr><td>HL Grip Tape</td><td>2008-04-30 00:00:00.000</td></tr>",
                            "<tr><td>Thin-Jam Hex Nut 9</td><td>2008-04-30 00:00:00.000</td></tr>",
                            "<tr><td>Thin-Jam Hex Nut 10</td><td>2008-04-30 00:00:00.000</td></tr>",
                            "<tr><td>Thin-Jam Hex Nut 1</td><td>2008-04-30 00:00:00.000</td></tr>",
                            "<tr><td>Thin-Jam Hex Nut 2</td><td>2008-04-30 00:00:00.000</td></tr>",
                            "<tr><td>Thin-Jam Hex Nut 15</td><td>2008-04-30 00:00:00.000</td></tr>",
                            "<tr><td>Thin-Jam Hex Nut 16</td><td>2008-04-30 00:00:00.000</td></tr>",
                            "<tr><td>Thin-Jam Hex Nut 5</td><td>2008-04-30 00:00:00.000</td></tr>",
                            "<tr><td>Thin-Jam Hex Nut 6</td><td>2008-04-30 00:00:00.000</td></tr>",
                            "<tr><td>Thin-Jam Hex Nut 3</td><td>2008-04-30 00:00:00.000</td></tr>",
                            "<tr><td>Thin-Jam Hex Nut 4</td><td>2008-04-30 00:00:00.000</td></tr>",
                            "<tr><td>Thin-Jam Hex Nut 13</td><td>2008-04-30 00:00:00.000</td></tr>",
                            "<tr><td>Thin-Jam Hex Nut 14</td><td>2008-04-30 00:00:00.000</td></tr>",
                            "<tr><td>Thin-Jam Hex Nut 7</td><td>2008-04-30 00:00:00.000</td></tr>",
                            "<tr><td>Thin-Jam Hex Nut 8</td><td>2008-04-30 00:00:00.000</td></tr>",
                            "<tr><td>Thin-Jam Hex Nut 12</td><td>2008-04-30 00:00:00.000</td></tr>",
                            "<tr><td>Thin-Jam Hex Nut 11</td><td>2008-04-30 00:00:00.000</td></tr>",
                            "<tr><td>Hex Nut 5</td><td>2008-04-30 00:00:00.000</td></tr>",
                            "<tr><td>Hex Nut 6</td><td>2008-04-30 00:00:00.000</td></tr>",
                            "<tr><td>Hex Nut 16</td><td>2008-04-30 00:00:00.000</td></tr>",
                            "<tr><td>Hex Nut 17</td><td>2008-04-30 00:00:00.000</td></tr>",
                            "<tr><td>Hex Nut 7</td><td>2008-04-30 00:00:00.000</td></tr>",
                            "<tr><td>Hex Nut 8</td><td>2008-04-30 00:00:00.000</td></tr>",
                            "<tr><td>Hex Nut 9</td><td>2008-04-30 00:00:00.000</td></tr>",
                            "<tr><td>Hex Nut 22</td><td>2008-04-30 00:00:00.000</td></tr>",
                            "<tr><td>Hex Nut 23</td><td>2008-04-30 00:00:00.000</td></tr>",
                            "<tr><td>Hex Nut 12</td><td>2008-04-30 00:00:00.000</td></tr>",
                            "<tr><td>Hex Nut 13</td><td>2008-04-30 00:00:00.000</td></tr>",
                            "<tr><td>Hex Nut 1</td><td>2008-04-30 00:00:00.000</td></tr>",
                            "<tr><td>Hex Nut 10</td><td>2008-04-30 00:00:00.000</td></tr>",
                            "<tr><td>Hex Nut 11</td><td>2008-04-30 00:00:00.000</td></tr>",
                            "<tr><td>Hex Nut 2</td><td>2008-04-30 00:00:00.000</td></tr>",
                            "<tr><td>Hex Nut 20</td><td>2008-04-30 00:00:00.000</td></tr>",
                            "<tr><td>Hex Nut 21</td><td>2008-04-30 00:00:00.000</td></tr>",
                            "<tr><td>Hex Nut 3</td><td>2008-04-30 00:00:00.000</td></tr>",
                            "<tr><td>Hex Nut 14</td><td>2008-04-30 00:00:00.000</td></tr>",
                            "<tr><td>Hex Nut 15</td><td>2008-04-30 00:00:00.000</td></tr>",
                            "<tr><td>Hex Nut 4</td><td>2008-04-30 00:00:00.000</td></tr>",
                            "<tr><td>Hex Nut 18</td><td>2008-04-30 00:00:00.000</td></tr>",
                            "<tr><td>Hex Nut 19</td><td>2008-04-30 00:00:00.000</td></tr>",
                            "<tr><td>Handlebar Tube</td><td>2008-04-30 00:00:00.000</td></tr>",
                            "<tr><td>Head Tube</td><td>2008-04-30 00:00:00.000</td></tr>",
                            "<tr><td>LL Hub</td><td>2008-04-30 00:00:00.000</td></tr>",
                            "<tr><td>HL Hub</td><td>2008-04-30 00:00:00.000</td></tr>",
                            "<tr><td>Keyed Washer</td><td>2008-04-30 00:00:00.000</td></tr>",
                            "<tr><td>External Lock Washer 3</td><td>2008-04-30 00:00:00.000</td></tr>",
                            "<tr><td>External Lock Washer 4</td><td>2008-04-30 00:00:00.000</td></tr>",
                            "<tr><td>External Lock Washer 9</td><td>2008-04-30 00:00:00.000</td></tr>",
                            "<tr><td>External Lock Washer 5</td><td>2008-04-30 00:00:00.000</td></tr>",
                            "<tr><td>External Lock Washer 7</td><td>2008-04-30 00:00:00.000</td></tr>",
                            "<tr><td>External Lock Washer 6</td><td>2008-04-30 00:00:00.000</td></tr>",
                            "<tr><td>External Lock Washer 1</td><td>2008-04-30 00:00:00.000</td></tr>",
                            "<tr><td>External Lock Washer 8</td><td>2008-04-30 00:00:00.000</td></tr>",
                            "<tr><td>External Lock Washer 2</td><td>2008-04-30 00:00:00.000</td></tr>",
                            "<tr><td>Internal Lock Washer 3</td><td>2008-04-30 00:00:00.000</td></tr>",
                            "<tr><td>Internal Lock Washer 4</td><td>2008-04-30 00:00:00.000</td></tr>",
                            "<tr><td>Internal Lock Washer 9</td><td>2008-04-30 00:00:00.000</td></tr>",
                            "<tr><td>Internal Lock Washer 5</td><td>2008-04-30 00:00:00.000</td></tr>",
                            "<tr><td>Internal Lock Washer 7</td><td>2008-04-30 00:00:00.000</td></tr>",
                            "<tr><td>Internal Lock Washer 6</td><td>2008-04-30 00:00:00.000</td></tr>",
                            "<tr><td>Internal Lock Washer 10</td><td>2008-04-30 00:00:00.000</td></tr>",
                            "<tr><td>Internal Lock Washer 1</td><td>2008-04-30 00:00:00.000</td></tr>",
                            "<tr><td>Internal Lock Washer 8</td><td>2008-04-30 00:00:00.000</td></tr>",
                            "<tr><td>Internal Lock Washer 2</td><td>2008-04-30 00:00:00.000</td></tr>",
                            "<tr><td>Thin-Jam Lock Nut 9</td><td>2008-04-30 00:00:00.000</td></tr>",
                            "<tr><td>Thin-Jam Lock Nut 10</td><td>2008-04-30 00:00:00.000</td></tr>",
                            "<tr><td>Thin-Jam Lock Nut 1</td><td>2008-04-30 00:00:00.000</td></tr>",
                            "<tr><td>Thin-Jam Lock Nut 2</td><td>2008-04-30 00:00:00.000</td></tr>",
                            "<tr><td>Thin-Jam Lock Nut 15</td><td>2008-04-30 00:00:00.000</td></tr>",
                            "<tr><td>Thin-Jam Lock Nut 16</td><td>2008-04-30 00:00:00.000</td></tr>",
                            "<tr><td>Thin-Jam Lock Nut 5</td><td>2008-04-30 00:00:00.000</td></tr>",
                            "<tr><td>Thin-Jam Lock Nut 6</td><td>2008-04-30 00:00:00.000</td></tr>",
                            "<tr><td>Thin-Jam Lock Nut 3</td><td>2008-04-30 00:00:00.000</td></tr>",
                            "<tr><td>Thin-Jam Lock Nut 4</td><td>2008-04-30 00:00:00.000</td></tr>",
                            "<tr><td>Thin-Jam Lock Nut 13</td><td>2008-04-30 00:00:00.000</td></tr>",
                            "<tr><td>Thin-Jam Lock Nut 14</td><td>2008-04-30 00:00:00.000</td></tr>",
                            "<tr><td>Thin-Jam Lock Nut 7</td><td>2008-04-30 00:00:00.000</td></tr>",
                            "<tr><td>Thin-Jam Lock Nut 8</td><td>2008-04-30 00:00:00.000</td></tr>",
                            "<tr><td>Thin-Jam Lock Nut 12</td><td>2008-04-30 00:00:00.000</td></tr>",
                            "<tr><td>Thin-Jam Lock Nut 11</td><td>2008-04-30 00:00:00.000</td></tr>",
                            "<tr><td>Lock Nut 5</td><td>2008-04-30 00:00:00.000</td></tr>",
                            "<tr><td>Lock Nut 6</td><td>2008-04-30 00:00:00.000</td></tr>",
                            "<tr><td>Lock Nut 16</td><td>2008-04-30 00:00:00.000</td></tr>",
                            "<tr><td>Lock Nut 17</td><td>2008-04-30 00:00:00.000</td></tr>",
                            "<tr><td>Lock Nut 7</td><td>2008-04-30 00:00:00.000</td></tr>",
                            "<tr><td>Lock Nut 8</td><td>2008-04-30 00:00:00.000</td></tr>",
                            "<tr><td>Lock Nut 9</td><td>2008-04-30 00:00:00.000</td></tr>",
                            "<tr><td>Lock Nut 22</td><td>2008-04-30 00:00:00.000</td></tr>",
                            "<tr><td>Lock Nut 23</td><td>2008-04-30 00:00:00.000</td></tr>",
                            "<tr><td>Lock Nut 12</td><td>2008-04-30 00:00:00.000</td></tr>",
                            "<tr><td>Lock Nut 13</td><td>2008-04-30 00:00:00.000</td></tr>",
                            "<tr><td>Lock Nut 1</td><td>2008-04-30 00:00:00.000</td></tr>",
                            "<tr><td>Lock Nut 10</td><td>2008-04-30 00:00:00.000</td></tr>",
                            "<tr><td>Lock Nut 11</td><td>2008-04-30 00:00:00.000</td></tr>",
                            "<tr><td>Lock Nut 2</td><td>2008-04-30 00:00:00.000</td></tr>",
                            "<tr><td>Lock Nut 20</td><td>2008-04-30 00:00:00.000</td></tr>",
                            "<tr><td>Lock Nut 21</td><td>2008-04-30 00:00:00.000</td></tr>",
                            "<tr><td>Lock Nut 3</td><td>2008-04-30 00:00:00.000</td></tr>",
                            "<tr><td>Lock Nut 14</td><td>2008-04-30 00:00:00.000</td></tr>",
                            "<tr><td>Lock Nut 15</td><td>2008-04-30 00:00:00.000</td></tr>",
                            "<tr><td>Lock Nut 4</td><td>2008-04-30 00:00:00.000</td></tr>",
                            "<tr><td>Lock Nut 19</td><td>2008-04-30 00:00:00.000</td></tr>",
                            "<tr><td>Lock Nut 18</td><td>2008-04-30 00:00:00.000</td></tr>",
                            "<tr><td>Lock Ring</td><td>2008-04-30 00:00:00.000</td></tr>",
                            "<tr><td>Lower Head Race</td><td>2008-04-30 00:00:00.000</td></tr>",
                            "<tr><td>Lock Washer 4</td><td>2008-04-30 00:00:00.000</td></tr>",
                            "<tr><td>Lock Washer 5</td><td>2008-04-30 00:00:00.000</td></tr>",
                            "<tr><td>Lock Washer 10</td><td>2008-04-30 00:00:00.000</td></tr>",
                            "<tr><td>Lock Washer 6</td><td>2008-04-30 00:00:00.000</td></tr>",
                            "<tr><td>Lock Washer 13</td><td>2008-04-30 00:00:00.000</td></tr>",
                            "<tr><td>Lock Washer 8</td><td>2008-04-30 00:00:00.000</td></tr>",
                            "<tr><td>Lock Washer 1</td><td>2008-04-30 00:00:00.000</td></tr>",
                            "<tr><td>Lock Washer 7</td><td>2008-04-30 00:00:00.000</td></tr>",
                            "<tr><td>Lock Washer 12</td><td>2008-04-30 00:00:00.000</td></tr>",
                            "<tr><td>Lock Washer 2</td><td>2008-04-30 00:00:00.000</td></tr>",
                            "<tr><td>Lock Washer 9</td><td>2008-04-30 00:00:00.000</td></tr>",
                            "<tr><td>Lock Washer 3</td><td>2008-04-30 00:00:00.000</td></tr>",
                            "<tr><td>Lock Washer 11</td><td>2008-04-30 00:00:00.000</td></tr>",
                            "<tr><td>Metal Angle</td><td>2008-04-30 00:00:00.000</td></tr>",
                            "<tr><td>Metal Bar 1</td><td>2008-04-30 00:00:00.000</td></tr>",
                            "<tr><td>Metal Bar 2</td><td>2008-04-30 00:00:00.000</td></tr>",
                            "<tr><td>Metal Plate 2</td><td>2008-04-30 00:00:00.000</td></tr>",
                            "<tr><td>Metal Plate 1</td><td>2008-04-30 00:00:00.000</td></tr>",
                            "<tr><td>Metal Plate 3</td><td>2008-04-30 00:00:00.000</td></tr>",
                            "<tr><td>Metal Sheet 2</td><td>2008-04-30 00:00:00.000</td></tr>",
                            "<tr><td>Metal Sheet 3</td><td>2008-04-30 00:00:00.000</td></tr>",
                            "<tr><td>Metal Sheet 7</td><td>2008-04-30 00:00:00.000</td></tr>",
                            "<tr><td>Metal Sheet 4</td><td>2008-04-30 00:00:00.000</td></tr>",
                            "<tr><td>Metal Sheet 5</td><td>2008-04-30 00:00:00.000</td></tr>",
                            "<tr><td>Metal Sheet 6</td><td>2008-04-30 00:00:00.000</td></tr>",
                            "<tr><td>Metal Sheet 1</td><td>2008-04-30 00:00:00.000</td></tr>",
                            "<tr><td>Metal Tread Plate</td><td>2008-04-30 00:00:00.000</td></tr>",
                            "<tr><td>LL Nipple</td><td>2008-04-30 00:00:00.000</td></tr>",
                            "<tr><td>HL Nipple</td><td>2008-04-30 00:00:00.000</td></tr>",
                            "<tr><td>Paint - Black</td><td>2008-04-30 00:00:00.000</td></tr>",
                            "<tr><td>Paint - Red</td><td>2008-04-30 00:00:00.000</td></tr>",
                            "<tr><td>Paint - Silver</td><td>2008-04-30 00:00:00.000</td></tr>",
                            "<tr><td>Paint - Blue</td><td>2008-04-30 00:00:00.000</td></tr>",
                            "<tr><td>Paint - Yellow</td><td>2008-04-30 00:00:00.000</td></tr>",
                            "<tr><td>Pinch Bolt</td><td>2008-04-30 00:00:00.000</td></tr>",
                            "<tr><td>Cup-Shaped Race</td><td>2008-04-30 00:00:00.000</td></tr>",
                            "<tr><td>Cone-Shaped Race</td><td>2008-04-30 00:00:00.000</td></tr>",
                            "<tr><td>Reflector</td><td>2008-04-30 00:00:00.000</td></tr>",
                            "<tr><td>LL Mountain Rim</td><td>2008-04-30 00:00:00.000</td></tr>",
                            "<tr><td>ML Mountain Rim</td><td>2008-04-30 00:00:00.000</td></tr>",
                            "<tr><td>HL Mountain Rim</td><td>2008-04-30 00:00:00.000</td></tr>",
                            "<tr><td>LL Road Rim</td><td>2008-04-30 00:00:00.000</td></tr>",
                            "<tr><td>ML Road Rim</td><td>2008-04-30 00:00:00.000</td></tr>",
                            "<tr><td>HL Road Rim</td><td>2008-04-30 00:00:00.000</td></tr>",
                            "<tr><td>Touring Rim</td><td>2008-04-30 00:00:00.000</td></tr>",
                            "<tr><td>LL Mountain Seat Assembly</td><td>2008-04-30 00:00:00.000</td></tr>",
                            "<tr><td>ML Mountain Seat Assembly</td><td>2008-04-30 00:00:00.000</td></tr>",
                            "<tr><td>HL Mountain Seat Assembly</td><td>2008-04-30 00:00:00.000</td></tr>",
                            "<tr><td>LL Road Seat Assembly</td><td>2008-04-30 00:00:00.000</td></tr>",
                            "<tr><td>ML Road Seat Assembly</td><td>2008-04-30 00:00:00.000</td></tr>",
                            "<tr><td>HL Road Seat Assembly</td><td>2008-04-30 00:00:00.000</td></tr>",
                            "<tr><td>LL Touring Seat Assembly</td><td>2008-04-30 00:00:00.000</td></tr>",
                            "<tr><td>ML Touring Seat Assembly</td><td>2008-04-30 00:00:00.000</td></tr>",
                            "<tr><td>HL Touring Seat Assembly</td><td>2008-04-30 00:00:00.000</td></tr>",
                            "<tr><td>LL Spindle/Axle</td><td>2008-04-30 00:00:00.000</td></tr>",
                            "<tr><td>HL Spindle/Axle</td><td>2008-04-30 00:00:00.000</td></tr>",
                            "<tr><td>LL Shell</td><td>2008-04-30 00:00:00.000</td></tr>",
                            "<tr><td>HL Shell</td><td>2008-04-30 00:00:00.000</td></tr>",
                            "<tr><td>Spokes</td><td>2008-04-30 00:00:00.000</td></tr>",
                            "<tr><td>Seat Lug</td><td>2008-04-30 00:00:00.000</td></tr>",
                            "<tr><td>Stem</td><td>2008-04-30 00:00:00.000</td></tr>",
                            "<tr><td>Seat Post</td><td>2008-04-30 00:00:00.000</td></tr>",
                            "<tr><td>Steerer</td><td>2008-04-30 00:00:00.000</td></tr>",
                            "<tr><td>Seat Stays</td><td>2008-04-30 00:00:00.000</td></tr>",
                            "<tr><td>Seat Tube</td><td>2008-04-30 00:00:00.000</td></tr>",
                            "<tr><td>Top Tube</td><td>2008-04-30 00:00:00.000</td></tr>",
                            "<tr><td>Tension Pulley</td><td>2008-04-30 00:00:00.000</td></tr>",
                            "<tr><td>Rear Derailleur Cage</td><td>2008-04-30 00:00:00.000</td></tr>",
                            "<tr><td>HL Road Frame - Black, 58</td><td>2008-04-30 00:00:00.000</td></tr>",
                            "<tr><td>HL Road Frame - Red, 58</td><td>2008-04-30 00:00:00.000</td></tr>",
                            "<tr><td>Sport-100 Helmet, Red</td><td>2011-05-31 00:00:00.000</td></tr>",
                            "<tr><td>Sport-100 Helmet, Black</td><td>2011-05-31 00:00:00.000</td></tr>",
                            "<tr><td>Mountain Bike Socks, M</td><td>2011-05-31 00:00:00.000</td></tr>",
                            "<tr><td>Mountain Bike Socks, L</td><td>2011-05-31 00:00:00.000</td></tr>",
                            "<tr><td>Sport-100 Helmet, Blue</td><td>2011-05-31 00:00:00.000</td></tr>",
                            "<tr><td>AWC Logo Cap</td><td>2011-05-31 00:00:00.000</td></tr>",
                            "<tr><td>Long-Sleeve Logo Jersey, S</td><td>2011-05-31 00:00:00.000</td></tr>",
                            "<tr><td>Long-Sleeve Logo Jersey, M</td><td>2011-05-31 00:00:00.000</td></tr>",
                            "<tr><td>Long-Sleeve Logo Jersey, L</td><td>2011-05-31 00:00:00.000</td></tr>",
                            "<tr><td>Long-Sleeve Logo Jersey, XL</td><td>2011-05-31 00:00:00.000</td></tr>",
                            "<tr><td>HL Road Frame - Red, 62</td><td>2011-05-31 00:00:00.000</td></tr>",
                            "<tr><td>HL Road Frame - Red, 44</td><td>2011-05-31 00:00:00.000</td></tr>",
                            "<tr><td>HL Road Frame - Red, 48</td><td>2011-05-31 00:00:00.000</td></tr>",
                            "<tr><td>HL Road Frame - Red, 52</td><td>2011-05-31 00:00:00.000</td></tr>",
                            "<tr><td>HL Road Frame - Red, 56</td><td>2011-05-31 00:00:00.000</td></tr>",
                            "<tr><td>LL Road Frame - Black, 58</td><td>2011-05-31 00:00:00.000</td></tr>",
                            "<tr><td>LL Road Frame - Black, 60</td><td>2011-05-31 00:00:00.000</td></tr>",
                            "<tr><td>LL Road Frame - Black, 62</td><td>2011-05-31 00:00:00.000</td></tr>",
                            "<tr><td>LL Road Frame - Red, 44</td><td>2011-05-31 00:00:00.000</td></tr>",
                            "<tr><td>LL Road Frame - Red, 48</td><td>2011-05-31 00:00:00.000</td></tr>",
                            "<tr><td>LL Road Frame - Red, 52</td><td>2011-05-31 00:00:00.000</td></tr>",
                            "<tr><td>LL Road Frame - Red, 58</td><td>2011-05-31 00:00:00.000</td></tr>",
                            "<tr><td>LL Road Frame - Red, 60</td><td>2011-05-31 00:00:00.000</td></tr>",
                            "<tr><td>LL Road Frame - Red, 62</td><td>2011-05-31 00:00:00.000</td></tr>",
                            "<tr><td>ML Road Frame - Red, 44</td><td>2011-05-31 00:00:00.000</td></tr>",
                            "<tr><td>ML Road Frame - Red, 48</td><td>2011-05-31 00:00:00.000</td></tr>",
                            "<tr><td>ML Road Frame - Red, 52</td><td>2011-05-31 00:00:00.000</td></tr>",
                            "<tr><td>ML Road Frame - Red, 58</td><td>2011-05-31 00:00:00.000</td></tr>",
                            "<tr><td>ML Road Frame - Red, 60</td><td>2011-05-31 00:00:00.000</td></tr>",
                            "<tr><td>LL Road Frame - Black, 44</td><td>2011-05-31 00:00:00.000</td></tr>",
                            "<tr><td>LL Road Frame - Black, 48</td><td>2011-05-31 00:00:00.000</td></tr>",
                            "<tr><td>LL Road Frame - Black, 52</td><td>2011-05-31 00:00:00.000</td></tr>",
                            "<tr><td>HL Mountain Frame - Silver, 42</td><td>2011-05-31 00:00:00.000</td></tr>",
                            "<tr><td>HL Mountain Frame - Silver, 44</td><td>2011-05-31 00:00:00.000</td></tr>",
                            "<tr><td>HL Mountain Frame - Silver, 48</td><td>2011-05-31 00:00:00.000</td></tr>",
                            "<tr><td>HL Mountain Frame - Silver, 46</td><td>2011-05-31 00:00:00.000</td></tr>",
                            "<tr><td>HL Mountain Frame - Black, 42</td><td>2011-05-31 00:00:00.000</td></tr>",
                            "<tr><td>HL Mountain Frame - Black, 44</td><td>2011-05-31 00:00:00.000</td></tr>",
                            "<tr><td>HL Mountain Frame - Black, 48</td><td>2011-05-31 00:00:00.000</td></tr>",
                            "<tr><td>HL Mountain Frame - Black, 46</td><td>2011-05-31 00:00:00.000</td></tr>",
                            "<tr><td>HL Mountain Frame - Black, 38</td><td>2011-05-31 00:00:00.000</td></tr>",
                            "<tr><td>HL Mountain Frame - Silver, 38</td><td>2011-05-31 00:00:00.000</td></tr>",
                            "<tr><td>Road-150 Red, 62</td><td>2011-05-31 00:00:00.000</td></tr>",
                            "<tr><td>Road-150 Red, 44</td><td>2011-05-31 00:00:00.000</td></tr>",
                            "<tr><td>Road-150 Red, 48</td><td>2011-05-31 00:00:00.000</td></tr>",
                            "<tr><td>Road-150 Red, 52</td><td>2011-05-31 00:00:00.000</td></tr>",
                            "<tr><td>Road-150 Red, 56</td><td>2011-05-31 00:00:00.000</td></tr>",
                            "<tr><td>Road-450 Red, 58</td><td>2011-05-31 00:00:00.000</td></tr>",
                            "<tr><td>Road-450 Red, 60</td><td>2011-05-31 00:00:00.000</td></tr>",
                            "<tr><td>Road-450 Red, 44</td><td>2011-05-31 00:00:00.000</td></tr>",
                            "<tr><td>Road-450 Red, 48</td><td>2011-05-31 00:00:00.000</td></tr>",
                            "<tr><td>Road-450 Red, 52</td><td>2011-05-31 00:00:00.000</td></tr>",
                            "<tr><td>Road-650 Red, 58</td><td>2011-05-31 00:00:00.000</td></tr>",
                            "<tr><td>Road-650 Red, 60</td><td>2011-05-31 00:00:00.000</td></tr>",
                            "<tr><td>Road-650 Red, 62</td><td>2011-05-31 00:00:00.000</td></tr>",
                            "<tr><td>Road-650 Red, 44</td><td>2011-05-31 00:00:00.000</td></tr>",
                            "<tr><td>Road-650 Red, 48</td><td>2011-05-31 00:00:00.000</td></tr>",
                            "<tr><td>Road-650 Red, 52</td><td>2011-05-31 00:00:00.000</td></tr>",
                            "<tr><td>Road-650 Black, 58</td><td>2011-05-31 00:00:00.000</td></tr>",
                            "<tr><td>Road-650 Black, 60</td><td>2011-05-31 00:00:00.000</td></tr>",
                            "<tr><td>Road-650 Black, 62</td><td>2011-05-31 00:00:00.000</td></tr>",
                            "<tr><td>Road-650 Black, 44</td><td>2011-05-31 00:00:00.000</td></tr>",
                            "<tr><td>Road-650 Black, 48</td><td>2011-05-31 00:00:00.000</td></tr>",
                            "<tr><td>Road-650 Black, 52</td><td>2011-05-31 00:00:00.000</td></tr>",
                            "<tr><td>Mountain-100 Silver, 38</td><td>2011-05-31 00:00:00.000</td></tr>",
                            "<tr><td>Mountain-100 Silver, 42</td><td>2011-05-31 00:00:00.000</td></tr>",
                            "<tr><td>Mountain-100 Silver, 44</td><td>2011-05-31 00:00:00.000</td></tr>",
                            "<tr><td>Mountain-100 Silver, 48</td><td>2011-05-31 00:00:00.000</td></tr>",
                            "<tr><td>Mountain-100 Black, 38</td><td>2011-05-31 00:00:00.000</td></tr>",
                            "<tr><td>Mountain-100 Black, 42</td><td>2011-05-31 00:00:00.000</td></tr>",
                            "<tr><td>Mountain-100 Black, 44</td><td>2011-05-31 00:00:00.000</td></tr>",
                            "<tr><td>Mountain-100 Black, 48</td><td>2011-05-31 00:00:00.000</td></tr>",
                            "<tr><td>Mountain-200 Silver, 38</td><td>2012-05-30 00:00:00.000</td></tr>",
                            "<tr><td>Mountain-200 Silver, 42</td><td>2012-05-30 00:00:00.000</td></tr>",
                            "<tr><td>Mountain-200 Silver, 46</td><td>2012-05-30 00:00:00.000</td></tr>",
                            "<tr><td>Mountain-200 Black, 38</td><td>2012-05-30 00:00:00.000</td></tr>",
                            "<tr><td>Mountain-200 Black, 42</td><td>2012-05-30 00:00:00.000</td></tr>",
                            "<tr><td>Mountain-200 Black, 46</td><td>2012-05-30 00:00:00.000</td></tr>",
                            "<tr><td>Mountain-300 Black, 38</td><td>2012-05-30 00:00:00.000</td></tr>",
                            "<tr><td>Mountain-300 Black, 40</td><td>2012-05-30 00:00:00.000</td></tr>",
                            "<tr><td>Mountain-300 Black, 44</td><td>2012-05-30 00:00:00.000</td></tr>",
                            "<tr><td>Mountain-300 Black, 48</td><td>2012-05-30 00:00:00.000</td></tr>",
                            "<tr><td>Road-250 Red, 44</td><td>2012-05-30 00:00:00.000</td></tr>",
                            "<tr><td>Road-250 Red, 48</td><td>2012-05-30 00:00:00.000</td></tr>",
                            "<tr><td>Road-250 Red, 52</td><td>2012-05-30 00:00:00.000</td></tr>",
                            "<tr><td>Road-250 Red, 58</td><td>2012-05-30 00:00:00.000</td></tr>",
                            "<tr><td>Road-250 Black, 44</td><td>2012-05-30 00:00:00.000</td></tr>",
                            "<tr><td>Road-250 Black, 48</td><td>2012-05-30 00:00:00.000</td></tr>",
                            "<tr><td>Road-250 Black, 52</td><td>2012-05-30 00:00:00.000</td></tr>",
                            "<tr><td>Road-250 Black, 58</td><td>2012-05-30 00:00:00.000</td></tr>",
                            "<tr><td>Road-550-W Yellow, 38</td><td>2012-05-30 00:00:00.000</td></tr>",
                            "<tr><td>Road-550-W Yellow, 40</td><td>2012-05-30 00:00:00.000</td></tr>",
                            "<tr><td>Road-550-W Yellow, 42</td><td>2012-05-30 00:00:00.000</td></tr>",
                            "<tr><td>Road-550-W Yellow, 44</td><td>2012-05-30 00:00:00.000</td></tr>",
                            "<tr><td>Road-550-W Yellow, 48</td><td>2012-05-30 00:00:00.000</td></tr>",
                            "<tr><td>LL Fork</td><td>2012-05-30 00:00:00.000</td></tr>",
                            "<tr><td>ML Fork</td><td>2012-05-30 00:00:00.000</td></tr>",
                            "<tr><td>HL Fork</td><td>2012-05-30 00:00:00.000</td></tr>",
                            "<tr><td>LL Headset</td><td>2012-05-30 00:00:00.000</td></tr>",
                            "<tr><td>ML Headset</td><td>2012-05-30 00:00:00.000</td></tr>",
                            "<tr><td>HL Headset</td><td>2012-05-30 00:00:00.000</td></tr>",
                            "<tr><td>LL Mountain Handlebars</td><td>2012-05-30 00:00:00.000</td></tr>",
                            "<tr><td>ML Mountain Handlebars</td><td>2012-05-30 00:00:00.000</td></tr>",
                            "<tr><td>HL Mountain Handlebars</td><td>2012-05-30 00:00:00.000</td></tr>",
                            "<tr><td>LL Road Handlebars</td><td>2012-05-30 00:00:00.000</td></tr>",
                            "<tr><td>ML Road Handlebars</td><td>2012-05-30 00:00:00.000</td></tr>",
                            "<tr><td>HL Road Handlebars</td><td>2012-05-30 00:00:00.000</td></tr>",
                            "<tr><td>ML Mountain Frame - Black, 38</td><td>2012-05-30 00:00:00.000</td></tr>",
                            "<tr><td>LL Mountain Front Wheel</td><td>2012-05-30 00:00:00.000</td></tr>",
                            "<tr><td>ML Mountain Front Wheel</td><td>2012-05-30 00:00:00.000</td></tr>",
                            "<tr><td>HL Mountain Front Wheel</td><td>2012-05-30 00:00:00.000</td></tr>",
                            "<tr><td>LL Road Front Wheel</td><td>2012-05-30 00:00:00.000</td></tr>",
                            "<tr><td>ML Road Front Wheel</td><td>2012-05-30 00:00:00.000</td></tr>",
                            "<tr><td>HL Road Front Wheel</td><td>2012-05-30 00:00:00.000</td></tr>",
                            "<tr><td>Touring Front Wheel</td><td>2012-05-30 00:00:00.000</td></tr>",
                            "<tr><td>ML Road Frame-W - Yellow, 38</td><td>2012-05-30 00:00:00.000</td></tr>",
                            "<tr><td>LL Mountain Rear Wheel</td><td>2012-05-30 00:00:00.000</td></tr>",
                            "<tr><td>ML Mountain Rear Wheel</td><td>2012-05-30 00:00:00.000</td></tr>",
                            "<tr><td>HL Mountain Rear Wheel</td><td>2012-05-30 00:00:00.000</td></tr>",
                            "<tr><td>LL Road Rear Wheel</td><td>2012-05-30 00:00:00.000</td></tr>",
                            "<tr><td>ML Road Rear Wheel</td><td>2012-05-30 00:00:00.000</td></tr>",
                            "<tr><td>HL Road Rear Wheel</td><td>2012-05-30 00:00:00.000</td></tr>",
                            "<tr><td>Touring Rear Wheel</td><td>2012-05-30 00:00:00.000</td></tr>",
                            "<tr><td>ML Mountain Frame - Black, 40</td><td>2012-05-30 00:00:00.000</td></tr>",
                            "<tr><td>ML Mountain Frame - Black, 44</td><td>2012-05-30 00:00:00.000</td></tr>",
                            "<tr><td>ML Mountain Frame - Black, 48</td><td>2012-05-30 00:00:00.000</td></tr>",
                            "<tr><td>ML Road Frame-W - Yellow, 40</td><td>2012-05-30 00:00:00.000</td></tr>",
                            "<tr><td>ML Road Frame-W - Yellow, 42</td><td>2012-05-30 00:00:00.000</td></tr>",
                            "<tr><td>ML Road Frame-W - Yellow, 44</td><td>2012-05-30 00:00:00.000</td></tr>",
                            "<tr><td>ML Road Frame-W - Yellow, 48</td><td>2012-05-30 00:00:00.000</td></tr>",
                            "<tr><td>HL Road Frame - Black, 62</td><td>2012-05-30 00:00:00.000</td></tr>",
                            "<tr><td>HL Road Frame - Black, 44</td><td>2012-05-30 00:00:00.000</td></tr>",
                            "<tr><td>HL Road Frame - Black, 48</td><td>2012-05-30 00:00:00.000</td></tr>",
                            "<tr><td>HL Road Frame - Black, 52</td><td>2012-05-30 00:00:00.000</td></tr>",
                            "<tr><td>Men&#39;s Sports Shorts, S</td><td>2012-05-30 00:00:00.000</td></tr>",
                            "<tr><td>Touring-Panniers, Large</td><td>2012-05-30 00:00:00.000</td></tr>",
                            "<tr><td>Cable Lock</td><td>2012-05-30 00:00:00.000</td></tr>",
                            "<tr><td>Minipump</td><td>2012-05-30 00:00:00.000</td></tr>",
                            "<tr><td>Mountain Pump</td><td>2012-05-30 00:00:00.000</td></tr>",
                            "<tr><td>Taillights - Battery-Powered</td><td>2012-05-30 00:00:00.000</td></tr>",
                            "<tr><td>Headlights - Dual-Beam</td><td>2012-05-30 00:00:00.000</td></tr>",
                            "<tr><td>Headlights - Weatherproof</td><td>2012-05-30 00:00:00.000</td></tr>",
                            "<tr><td>Men&#39;s Sports Shorts, M</td><td>2012-05-30 00:00:00.000</td></tr>",
                            "<tr><td>Men&#39;s Sports Shorts, L</td><td>2012-05-30 00:00:00.000</td></tr>",
                            "<tr><td>Men&#39;s Sports Shorts, XL</td><td>2012-05-30 00:00:00.000</td></tr>",
                            "<tr><td>Women&#39;s Tights, S</td><td>2012-05-30 00:00:00.000</td></tr>",
                            "<tr><td>Women&#39;s Tights, M</td><td>2012-05-30 00:00:00.000</td></tr>",
                            "<tr><td>Women&#39;s Tights, L</td><td>2012-05-30 00:00:00.000</td></tr>",
                            "<tr><td>Men&#39;s Bib-Shorts, S</td><td>2012-05-30 00:00:00.000</td></tr>",
                            "<tr><td>Men&#39;s Bib-Shorts, M</td><td>2012-05-30 00:00:00.000</td></tr>",
                            "<tr><td>Men&#39;s Bib-Shorts, L</td><td>2012-05-30 00:00:00.000</td></tr>",
                            "<tr><td>Half-Finger Gloves, S</td><td>2012-05-30 00:00:00.000</td></tr>",
                            "<tr><td>Half-Finger Gloves, M</td><td>2012-05-30 00:00:00.000</td></tr>",
                            "<tr><td>Half-Finger Gloves, L</td><td>2012-05-30 00:00:00.000</td></tr>",
                            "<tr><td>Full-Finger Gloves, S</td><td>2012-05-30 00:00:00.000</td></tr>",
                            "<tr><td>Full-Finger Gloves, M</td><td>2012-05-30 00:00:00.000</td></tr>",
                            "<tr><td>Full-Finger Gloves, L</td><td>2012-05-30 00:00:00.000</td></tr>",
                            "<tr><td>Classic Vest, S</td><td>2013-05-30 00:00:00.000</td></tr>",
                            "<tr><td>Classic Vest, M</td><td>2013-05-30 00:00:00.000</td></tr>",
                            "<tr><td>Classic Vest, L</td><td>2013-05-30 00:00:00.000</td></tr>",
                            "<tr><td>Women&#39;s Mountain Shorts, S</td><td>2013-05-30 00:00:00.000</td></tr>",
                            "<tr><td>Women&#39;s Mountain Shorts, M</td><td>2013-05-30 00:00:00.000</td></tr>",
                            "<tr><td>Women&#39;s Mountain Shorts, L</td><td>2013-05-30 00:00:00.000</td></tr>",
                            "<tr><td>Water Bottle - 30 oz.</td><td>2013-05-30 00:00:00.000</td></tr>",
                            "<tr><td>Mountain Bottle Cage</td><td>2013-05-30 00:00:00.000</td></tr>",
                            "<tr><td>Road Bottle Cage</td><td>2013-05-30 00:00:00.000</td></tr>",
                            "<tr><td>Patch Kit/8 Patches</td><td>2013-05-30 00:00:00.000</td></tr>",
                            "<tr><td>Racing Socks, M</td><td>2013-05-30 00:00:00.000</td></tr>",
                            "<tr><td>Racing Socks, L</td><td>2013-05-30 00:00:00.000</td></tr>",
                            "<tr><td>Hitch Rack - 4-Bike</td><td>2013-05-30 00:00:00.000</td></tr>",
                            "<tr><td>Bike Wash - Dissolver</td><td>2013-05-30 00:00:00.000</td></tr>",
                            "<tr><td>Fender Set - Mountain</td><td>2013-05-30 00:00:00.000</td></tr>",
                            "<tr><td>All-Purpose Bike Stand</td><td>2013-05-30 00:00:00.000</td></tr>",
                            "<tr><td>Hydration Pack - 70 oz.</td><td>2013-05-30 00:00:00.000</td></tr>",
                            "<tr><td>Short-Sleeve Classic Jersey, S</td><td>2013-05-30 00:00:00.000</td></tr>",
                            "<tr><td>Short-Sleeve Classic Jersey, M</td><td>2013-05-30 00:00:00.000</td></tr>",
                            "<tr><td>Short-Sleeve Classic Jersey, L</td><td>2013-05-30 00:00:00.000</td></tr>",
                            "<tr><td>Short-Sleeve Classic Jersey, XL</td><td>2013-05-30 00:00:00.000</td></tr>",
                            "<tr><td>HL Touring Frame - Yellow, 60</td><td>2013-05-30 00:00:00.000</td></tr>",
                            "<tr><td>LL Touring Frame - Yellow, 62</td><td>2013-05-30 00:00:00.000</td></tr>",
                            "<tr><td>HL Touring Frame - Yellow, 46</td><td>2013-05-30 00:00:00.000</td></tr>",
                            "<tr><td>HL Touring Frame - Yellow, 50</td><td>2013-05-30 00:00:00.000</td></tr>",
                            "<tr><td>HL Touring Frame - Yellow, 54</td><td>2013-05-30 00:00:00.000</td></tr>",
                            "<tr><td>HL Touring Frame - Blue, 46</td><td>2013-05-30 00:00:00.000</td></tr>",
                            "<tr><td>HL Touring Frame - Blue, 50</td><td>2013-05-30 00:00:00.000</td></tr>",
                            "<tr><td>HL Touring Frame - Blue, 54</td><td>2013-05-30 00:00:00.000</td></tr>",
                            "<tr><td>HL Touring Frame - Blue, 60</td><td>2013-05-30 00:00:00.000</td></tr>",
                            "<tr><td>Rear Derailleur</td><td>2013-05-30 00:00:00.000</td></tr>",
                            "<tr><td>LL Touring Frame - Blue, 50</td><td>2013-05-30 00:00:00.000</td></tr>",
                            "<tr><td>LL Touring Frame - Blue, 54</td><td>2013-05-30 00:00:00.000</td></tr>",
                            "<tr><td>LL Touring Frame - Blue, 58</td><td>2013-05-30 00:00:00.000</td></tr>",
                            "<tr><td>LL Touring Frame - Blue, 62</td><td>2013-05-30 00:00:00.000</td></tr>",
                            "<tr><td>LL Touring Frame - Yellow, 44</td><td>2013-05-30 00:00:00.000</td></tr>",
                            "<tr><td>LL Touring Frame - Yellow, 50</td><td>2013-05-30 00:00:00.000</td></tr>",
                            "<tr><td>LL Touring Frame - Yellow, 54</td><td>2013-05-30 00:00:00.000</td></tr>",
                            "<tr><td>LL Touring Frame - Yellow, 58</td><td>2013-05-30 00:00:00.000</td></tr>",
                            "<tr><td>LL Touring Frame - Blue, 44</td><td>2013-05-30 00:00:00.000</td></tr>",
                            "<tr><td>ML Mountain Frame-W - Silver, 40</td><td>2013-05-30 00:00:00.000</td></tr>",
                            "<tr><td>ML Mountain Frame-W - Silver, 42</td><td>2013-05-30 00:00:00.000</td></tr>",
                            "<tr><td>ML Mountain Frame-W - Silver, 46</td><td>2013-05-30 00:00:00.000</td></tr>",
                            "<tr><td>Rear Brakes</td><td>2013-05-30 00:00:00.000</td></tr>",
                            "<tr><td>LL Mountain Seat/Saddle</td><td>2013-05-30 00:00:00.000</td></tr>",
                            "<tr><td>ML Mountain Seat/Saddle</td><td>2013-05-30 00:00:00.000</td></tr>",
                            "<tr><td>HL Mountain Seat/Saddle</td><td>2013-05-30 00:00:00.000</td></tr>",
                            "<tr><td>LL Road Seat/Saddle</td><td>2013-05-30 00:00:00.000</td></tr>",
                            "<tr><td>ML Road Seat/Saddle</td><td>2013-05-30 00:00:00.000</td></tr>",
                            "<tr><td>HL Road Seat/Saddle</td><td>2013-05-30 00:00:00.000</td></tr>",
                            "<tr><td>LL Touring Seat/Saddle</td><td>2013-05-30 00:00:00.000</td></tr>",
                            "<tr><td>ML Touring Seat/Saddle</td><td>2013-05-30 00:00:00.000</td></tr>",
                            "<tr><td>HL Touring Seat/Saddle</td><td>2013-05-30 00:00:00.000</td></tr>",
                            "<tr><td>LL Mountain Frame - Silver, 42</td><td>2013-05-30 00:00:00.000</td></tr>",
                            "<tr><td>LL Mountain Frame - Silver, 44</td><td>2013-05-30 00:00:00.000</td></tr>",
                            "<tr><td>LL Mountain Frame - Silver, 48</td><td>2013-05-30 00:00:00.000</td></tr>",
                            "<tr><td>LL Mountain Frame - Silver, 52</td><td>2013-05-30 00:00:00.000</td></tr>",
                            "<tr><td>Mountain Tire Tube</td><td>2013-05-30 00:00:00.000</td></tr>",
                            "<tr><td>Road Tire Tube</td><td>2013-05-30 00:00:00.000</td></tr>",
                            "<tr><td>Touring Tire Tube</td><td>2013-05-30 00:00:00.000</td></tr>",
                            "<tr><td>LL Mountain Frame - Black, 42</td><td>2013-05-30 00:00:00.000</td></tr>",
                            "<tr><td>LL Mountain Frame - Black, 44</td><td>2013-05-30 00:00:00.000</td></tr>",
                            "<tr><td>LL Mountain Frame - Black, 48</td><td>2013-05-30 00:00:00.000</td></tr>",
                            "<tr><td>LL Mountain Frame - Black, 52</td><td>2013-05-30 00:00:00.000</td></tr>",
                            "<tr><td>LL Mountain Tire</td><td>2013-05-30 00:00:00.000</td></tr>",
                            "<tr><td>ML Mountain Tire</td><td>2013-05-30 00:00:00.000</td></tr>",
                            "<tr><td>HL Mountain Tire</td><td>2013-05-30 00:00:00.000</td></tr>",
                            "<tr><td>LL Road Tire</td><td>2013-05-30 00:00:00.000</td></tr>",
                            "<tr><td>ML Road Tire</td><td>2013-05-30 00:00:00.000</td></tr>",
                            "<tr><td>HL Road Tire</td><td>2013-05-30 00:00:00.000</td></tr>",
                            "<tr><td>Touring Tire</td><td>2013-05-30 00:00:00.000</td></tr>",
                            "<tr><td>LL Mountain Pedal</td><td>2013-05-30 00:00:00.000</td></tr>",
                            "<tr><td>ML Mountain Pedal</td><td>2013-05-30 00:00:00.000</td></tr>",
                            "<tr><td>HL Mountain Pedal</td><td>2013-05-30 00:00:00.000</td></tr>",
                            "<tr><td>LL Road Pedal</td><td>2013-05-30 00:00:00.000</td></tr>",
                            "<tr><td>ML Road Pedal</td><td>2013-05-30 00:00:00.000</td></tr>",
                            "<tr><td>HL Road Pedal</td><td>2013-05-30 00:00:00.000</td></tr>",
                            "<tr><td>Touring Pedal</td><td>2013-05-30 00:00:00.000</td></tr>",
                            "<tr><td>ML Mountain Frame-W - Silver, 38</td><td>2013-05-30 00:00:00.000</td></tr>",
                            "<tr><td>LL Mountain Frame - Black, 40</td><td>2013-05-30 00:00:00.000</td></tr>",
                            "<tr><td>LL Mountain Frame - Silver, 40</td><td>2013-05-30 00:00:00.000</td></tr>",
                            "<tr><td>Front Derailleur</td><td>2013-05-30 00:00:00.000</td></tr>",
                            "<tr><td>LL Touring Handlebars</td><td>2013-05-30 00:00:00.000</td></tr>",
                            "<tr><td>HL Touring Handlebars</td><td>2013-05-30 00:00:00.000</td></tr>",
                            "<tr><td>Front Brakes</td><td>2013-05-30 00:00:00.000</td></tr>",
                            "<tr><td>LL Crankset</td><td>2013-05-30 00:00:00.000</td></tr>",
                            "<tr><td>ML Crankset</td><td>2013-05-30 00:00:00.000</td></tr>",
                            "<tr><td>HL Crankset</td><td>2013-05-30 00:00:00.000</td></tr>",
                            "<tr><td>Chain</td><td>2013-05-30 00:00:00.000</td></tr>",
                            "<tr><td>Touring-2000 Blue, 60</td><td>2013-05-30 00:00:00.000</td></tr>",
                            "<tr><td>Touring-1000 Yellow, 46</td><td>2013-05-30 00:00:00.000</td></tr>",
                            "<tr><td>Touring-1000 Yellow, 50</td><td>2013-05-30 00:00:00.000</td></tr>",
                            "<tr><td>Touring-1000 Yellow, 54</td><td>2013-05-30 00:00:00.000</td></tr>",
                            "<tr><td>Touring-1000 Yellow, 60</td><td>2013-05-30 00:00:00.000</td></tr>",
                            "<tr><td>Touring-3000 Blue, 54</td><td>2013-05-30 00:00:00.000</td></tr>",
                            "<tr><td>Touring-3000 Blue, 58</td><td>2013-05-30 00:00:00.000</td></tr>",
                            "<tr><td>Touring-3000 Blue, 62</td><td>2013-05-30 00:00:00.000</td></tr>",
                            "<tr><td>Touring-3000 Yellow, 44</td><td>2013-05-30 00:00:00.000</td></tr>",
                            "<tr><td>Touring-3000 Yellow, 50</td><td>2013-05-30 00:00:00.000</td></tr>",
                            "<tr><td>Touring-3000 Yellow, 54</td><td>2013-05-30 00:00:00.000</td></tr>",
                            "<tr><td>Touring-3000 Yellow, 58</td><td>2013-05-30 00:00:00.000</td></tr>",
                            "<tr><td>Touring-3000 Yellow, 62</td><td>2013-05-30 00:00:00.000</td></tr>",
                            "<tr><td>Touring-1000 Blue, 46</td><td>2013-05-30 00:00:00.000</td></tr>",
                            "<tr><td>Touring-1000 Blue, 50</td><td>2013-05-30 00:00:00.000</td></tr>",
                            "<tr><td>Touring-1000 Blue, 54</td><td>2013-05-30 00:00:00.000</td></tr>",
                            "<tr><td>Touring-1000 Blue, 60</td><td>2013-05-30 00:00:00.000</td></tr>",
                            "<tr><td>Touring-2000 Blue, 46</td><td>2013-05-30 00:00:00.000</td></tr>",
                            "<tr><td>Touring-2000 Blue, 50</td><td>2013-05-30 00:00:00.000</td></tr>",
                            "<tr><td>Touring-2000 Blue, 54</td><td>2013-05-30 00:00:00.000</td></tr>",
                            "<tr><td>Road-350-W Yellow, 40</td><td>2013-05-30 00:00:00.000</td></tr>",
                            "<tr><td>Road-350-W Yellow, 42</td><td>2013-05-30 00:00:00.000</td></tr>",
                            "<tr><td>Road-350-W Yellow, 44</td><td>2013-05-30 00:00:00.000</td></tr>",
                            "<tr><td>Road-350-W Yellow, 48</td><td>2013-05-30 00:00:00.000</td></tr>",
                            "<tr><td>Road-750 Black, 58</td><td>2013-05-30 00:00:00.000</td></tr>",
                            "<tr><td>Touring-3000 Blue, 44</td><td>2013-05-30 00:00:00.000</td></tr>",
                            "<tr><td>Touring-3000 Blue, 50</td><td>2013-05-30 00:00:00.000</td></tr>",
                            "<tr><td>Mountain-400-W Silver, 38</td><td>2013-05-30 00:00:00.000</td></tr>",
                            "<tr><td>Mountain-400-W Silver, 40</td><td>2013-05-30 00:00:00.000</td></tr>",
                            "<tr><td>Mountain-400-W Silver, 42</td><td>2013-05-30 00:00:00.000</td></tr>",
                            "<tr><td>Mountain-400-W Silver, 46</td><td>2013-05-30 00:00:00.000</td></tr>",
                            "<tr><td>Mountain-500 Silver, 40</td><td>2013-05-30 00:00:00.000</td></tr>",
                            "<tr><td>Mountain-500 Silver, 42</td><td>2013-05-30 00:00:00.000</td></tr>",
                            "<tr><td>Mountain-500 Silver, 44</td><td>2013-05-30 00:00:00.000</td></tr>",
                            "<tr><td>Mountain-500 Silver, 48</td><td>2013-05-30 00:00:00.000</td></tr>",
                            "<tr><td>Mountain-500 Silver, 52</td><td>2013-05-30 00:00:00.000</td></tr>",
                            "<tr><td>Mountain-500 Black, 40</td><td>2013-05-30 00:00:00.000</td></tr>",
                            "<tr><td>Mountain-500 Black, 42</td><td>2013-05-30 00:00:00.000</td></tr>",
                            "<tr><td>Mountain-500 Black, 44</td><td>2013-05-30 00:00:00.000</td></tr>",
                            "<tr><td>Mountain-500 Black, 48</td><td>2013-05-30 00:00:00.000</td></tr>",
                            "<tr><td>Mountain-500 Black, 52</td><td>2013-05-30 00:00:00.000</td></tr>",
                            "<tr><td>LL Bottom Bracket</td><td>2013-05-30 00:00:00.000</td></tr>",
                            "<tr><td>ML Bottom Bracket</td><td>2013-05-30 00:00:00.000</td></tr>",
                            "<tr><td>HL Bottom Bracket</td><td>2013-05-30 00:00:00.000</td></tr>",
                            "<tr><td>Road-750 Black, 44</td><td>2013-05-30 00:00:00.000</td></tr>",
                            "<tr><td>Road-750 Black, 48</td><td>2013-05-30 00:00:00.000</td></tr>",
                            "<tr><td>Road-750 Black, 52</td><td>2013-05-30 00:00:00.000</td></tr>",
                            "</table>"
                        ]
                    }
                }
            ],
            "execution_count": 11
        }
    ]
}