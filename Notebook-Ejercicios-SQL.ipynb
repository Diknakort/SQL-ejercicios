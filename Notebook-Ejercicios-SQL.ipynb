{
    "metadata": {
        "kernelspec": {
            "name": "SQL",
            "display_name": "SQL",
            "language": "sql"
        },
        "language_info": {
            "name": "sql",
            "version": ""
        }
    },
    "nbformat_minor": 2,
    "nbformat": 4,
    "cells": [
        {
            "cell_type": "markdown",
            "source": [
                "# Ejercicios SQL\r\n",
                "## 2024 05 03 \r\n",
                ""
            ],
            "metadata": {
                "azdata_cell_guid": "c61e0da8-f39e-478a-8eec-a05c1686acc1"
            },
            "attachments": {}
        },
        {
            "cell_type": "markdown",
            "source": [
                "1\\. Mostrar todos los ingredientes ordenados por precio gramo de forma descendente."
            ],
            "metadata": {
                "azdata_cell_guid": "178e4131-540e-4f0e-9192-ba73335b9a5a"
            },
            "attachments": {}
        },
        {
            "cell_type": "code",
            "source": [
                "SELECT Name FROM dbo.INGREDIENTES\r\n",
                ""
            ],
            "metadata": {
                "azdata_cell_guid": "86553c7d-0d28-4d34-9b22-6706a208f28a",
                "language": "sql"
            },
            "outputs": [],
            "execution_count": null
        },
        {
            "cell_type": "markdown",
            "source": [
                "2\\. Mostrar todos los ingredientes que comiencen por A,B o C"
            ],
            "metadata": {
                "azdata_cell_guid": "4fc78126-4263-40f6-9778-0eb88501b67d"
            },
            "attachments": {}
        },
        {
            "cell_type": "code",
            "source": [
                ""
            ],
            "metadata": {
                "azdata_cell_guid": "d2500d5e-d44f-4ff9-8aa5-0e55c54d2854",
                "language": "sql"
            },
            "outputs": [],
            "execution_count": null
        },
        {
            "cell_type": "markdown",
            "source": [
                "3\\. Mostrar todos los ingredientes cuyo pais sea NULL."
            ],
            "metadata": {
                "azdata_cell_guid": "dcfd1ae9-12b6-46a6-8150-bebbaf0a8fa2"
            },
            "attachments": {}
        },
        {
            "cell_type": "code",
            "source": [
                ""
            ],
            "metadata": {
                "azdata_cell_guid": "a1166039-04fa-4f60-a011-90dcc3f58f03",
                "language": "sql"
            },
            "outputs": [],
            "execution_count": null
        },
        {
            "cell_type": "markdown",
            "source": [
                "4\\. Mostrar todos los ingredientes ordenados por nombre de aquellos cuyo precio esté entre 10 y 40"
            ],
            "metadata": {
                "azdata_cell_guid": "ed01e799-3379-4638-96a6-1374aa8c7253"
            },
            "attachments": {}
        },
        {
            "cell_type": "code",
            "source": [
                ""
            ],
            "metadata": {
                "azdata_cell_guid": "68c17ece-23eb-427d-bbee-3655c797697f",
                "language": "sql"
            },
            "outputs": [],
            "execution_count": null
        },
        {
            "cell_type": "markdown",
            "source": [
                "5\\. Mostrar todas las recetas, cuyo año de la fecha de creación sea inferior a 2016."
            ],
            "metadata": {
                "azdata_cell_guid": "748e8938-32c4-4595-9141-a4a20b108322"
            },
            "attachments": {}
        },
        {
            "cell_type": "code",
            "source": [
                ""
            ],
            "metadata": {
                "azdata_cell_guid": "4c8c62b5-4de8-49b9-b265-960cad947c1a",
                "language": "sql"
            },
            "outputs": [],
            "execution_count": null
        },
        {
            "cell_type": "markdown",
            "source": [
                "6\\. Mostrar todas las recetas, cuyo año de la fecha de creación esté entre 2010 y 2016."
            ],
            "metadata": {
                "azdata_cell_guid": "80cafa71-92a6-4079-ba52-3eb46d9d999c"
            },
            "attachments": {}
        },
        {
            "cell_type": "code",
            "source": [
                ""
            ],
            "metadata": {
                "azdata_cell_guid": "fb15e2bf-3f3b-4f74-aec1-29e216dddb44",
                "language": "sql"
            },
            "outputs": [],
            "execution_count": null
        },
        {
            "cell_type": "markdown",
            "source": [
                "7\\. Mostrar todas las recetas, ordenadas por nombre, cuyo año de creación esté entre 2010 y 2016."
            ],
            "metadata": {
                "azdata_cell_guid": "8f183ec0-2d44-473c-ad11-e5f1fb19cdd0"
            },
            "attachments": {}
        },
        {
            "cell_type": "code",
            "source": [
                ""
            ],
            "metadata": {
                "azdata_cell_guid": "2eb9ff58-7a6a-4727-884f-f6c13febf33d",
                "language": "sql"
            },
            "outputs": [],
            "execution_count": null
        },
        {
            "cell_type": "markdown",
            "source": [
                "8\\. Mostrar todas las recetas que sean de un determinado pais, ordenado primero por nombre de pais y luego por nombre de receta."
            ],
            "metadata": {
                "azdata_cell_guid": "f2eda279-4bcb-4ce6-9a6a-46a4d1e99d33"
            },
            "attachments": {}
        },
        {
            "cell_type": "code",
            "source": [
                ""
            ],
            "metadata": {
                "azdata_cell_guid": "e1972f77-c8a0-4c6a-be79-02968b9ffd5e",
                "language": "sql"
            },
            "outputs": [],
            "execution_count": null
        },
        {
            "cell_type": "markdown",
            "source": [
                "9\\. Determinar para cada pais que cantidad de recetas tenemos."
            ],
            "metadata": {
                "azdata_cell_guid": "66a5761a-396c-4f06-bcc1-99229f1bcd49"
            },
            "attachments": {}
        },
        {
            "cell_type": "code",
            "source": [
                ""
            ],
            "metadata": {
                "azdata_cell_guid": "2f593214-43ff-4ec7-850d-786bc11752f0",
                "language": "sql"
            },
            "outputs": [],
            "execution_count": null
        },
        {
            "cell_type": "markdown",
            "source": [
                "10\\. Calcular de que pais hay más recetas."
            ],
            "metadata": {
                "azdata_cell_guid": "f65654db-47f3-4567-a292-d4f4b9f40f31"
            },
            "attachments": {}
        },
        {
            "cell_type": "code",
            "source": [
                ""
            ],
            "metadata": {
                "azdata_cell_guid": "8a546dd8-2c7d-4fb8-909d-ab46c0906420",
                "language": "sql"
            },
            "outputs": [],
            "execution_count": null
        },
        {
            "cell_type": "markdown",
            "source": [
                "11\\. Calcular de que pais hay menos recetas."
            ],
            "metadata": {
                "azdata_cell_guid": "b1a80e95-c09f-4f49-a693-61ce08fb6520"
            },
            "attachments": {}
        },
        {
            "cell_type": "code",
            "source": [
                ""
            ],
            "metadata": {
                "azdata_cell_guid": "d702fd48-94bf-4810-a3eb-148937e1d826",
                "language": "sql"
            },
            "outputs": [],
            "execution_count": null
        },
        {
            "cell_type": "markdown",
            "source": [
                "12\\. Calcular la media de recetas por pais."
            ],
            "metadata": {
                "azdata_cell_guid": "4822c743-d977-420b-b6a8-85ca75dd62a6"
            },
            "attachments": {}
        },
        {
            "cell_type": "code",
            "source": [
                ""
            ],
            "metadata": {
                "azdata_cell_guid": "c39e2a46-8a18-4975-874c-6aa727702e15",
                "language": "sql"
            },
            "outputs": [],
            "execution_count": null
        },
        {
            "cell_type": "markdown",
            "source": [
                "13\\. Mostrar todos los ingredientes de cada receta, ordenando primero por nombre de receta y luego por cantidad."
            ],
            "metadata": {
                "azdata_cell_guid": "ed1831ba-cf63-4dbe-bf76-4d6f6899ea17"
            },
            "attachments": {}
        },
        {
            "cell_type": "code",
            "source": [
                ""
            ],
            "metadata": {
                "azdata_cell_guid": "fef3c54a-10c3-4089-9c8a-a32ceeb3d240",
                "language": "sql"
            },
            "outputs": [],
            "execution_count": null
        },
        {
            "cell_type": "markdown",
            "source": [
                "14\\. Mostrar todos los ingredientes de cada receta, ordenando primero por nombre de receta y luego por orden."
            ],
            "metadata": {
                "azdata_cell_guid": "36395e02-8f64-49cd-8804-f7d10770989d"
            },
            "attachments": {}
        },
        {
            "cell_type": "code",
            "source": [
                ""
            ],
            "metadata": {
                "azdata_cell_guid": "6368aa3e-54de-48ec-a7dc-c73c3a8750a2",
                "language": "sql"
            },
            "outputs": [],
            "execution_count": null
        },
        {
            "cell_type": "markdown",
            "source": [
                "15\\. Calcular cual es el coste de cada una de las recetas calculandolo por el precio del gramo y la cantidad."
            ],
            "metadata": {
                "azdata_cell_guid": "e57e31b1-40c3-4b5e-8074-3ea6769351d3"
            },
            "attachments": {}
        },
        {
            "cell_type": "code",
            "source": [
                ""
            ],
            "metadata": {
                "azdata_cell_guid": "8282f7e8-eb1b-44e3-97b3-1d95a8e982f4",
                "language": "sql"
            },
            "outputs": [],
            "execution_count": null
        },
        {
            "cell_type": "markdown",
            "source": [
                "16\\. Mirar a ver cuantos ingredientes hay de un pais."
            ],
            "metadata": {
                "azdata_cell_guid": "8487b4df-a1ec-4b4a-b810-b9ea4a506f51"
            },
            "attachments": {}
        },
        {
            "cell_type": "code",
            "source": [
                ""
            ],
            "metadata": {
                "azdata_cell_guid": "fb01f7f4-0a66-4389-bbad-0b3336e0b669",
                "language": "sql"
            },
            "outputs": [],
            "execution_count": null
        },
        {
            "cell_type": "markdown",
            "source": [
                "17\\. Determinar cual es pais para el cual hay más ingredientes."
            ],
            "metadata": {
                "azdata_cell_guid": "5133146f-59ed-4f69-946c-69433fe8dd27"
            },
            "attachments": {}
        },
        {
            "cell_type": "code",
            "source": [
                ""
            ],
            "metadata": {
                "azdata_cell_guid": "0cf4983a-1b01-4e15-9ca9-2646c7befe7b",
                "language": "sql"
            },
            "outputs": [],
            "execution_count": null
        },
        {
            "cell_type": "markdown",
            "source": [
                "18\\. Determinar cual es la receta más cara por pais."
            ],
            "metadata": {
                "azdata_cell_guid": "c0a70d36-0ba5-426e-8b7f-a463480cfdba"
            },
            "attachments": {}
        },
        {
            "cell_type": "code",
            "source": [
                ""
            ],
            "metadata": {
                "azdata_cell_guid": "2f0816fd-3507-454d-a59f-0d0fb7317198",
                "language": "sql"
            },
            "outputs": [],
            "execution_count": null
        },
        {
            "cell_type": "markdown",
            "source": [
                "19\\. Determinar cual es la receta más barata por pais."
            ],
            "metadata": {
                "azdata_cell_guid": "bb404f01-efc8-440e-9d97-5a0102089ba2"
            },
            "attachments": {}
        },
        {
            "cell_type": "code",
            "source": [
                ""
            ],
            "metadata": {
                "azdata_cell_guid": "95dba452-a1f6-4f86-b850-966662193ce8",
                "language": "sql"
            },
            "outputs": [],
            "execution_count": null
        },
        {
            "cell_type": "markdown",
            "source": [
                "20\\. Determinar para cada ingrediente, en que receta se ha utilizado, en que cantidad y en que orden."
            ],
            "metadata": {
                "azdata_cell_guid": "fc69a6b1-c03b-4fed-a477-0bef5fac9135"
            },
            "attachments": {}
        },
        {
            "cell_type": "code",
            "source": [
                ""
            ],
            "metadata": {
                "azdata_cell_guid": "66063f7e-62bb-4f36-bd3c-d104a728efd1",
                "language": "sql"
            },
            "outputs": [],
            "execution_count": null
        }
    ]
}